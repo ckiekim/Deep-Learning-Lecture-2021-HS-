{
  "nbformat": 4,
  "nbformat_minor": 0,
  "metadata": {
    "colab": {
      "name": "01_폐암환자생존률.ipynb",
      "provenance": [],
      "collapsed_sections": []
    },
    "kernelspec": {
      "name": "python3",
      "display_name": "Python 3"
    }
  },
  "cells": [
    {
      "cell_type": "markdown",
      "metadata": {
        "id": "bF8S0EStNdh7"
      },
      "source": [
        "# 폐암환자 생존률 예측"
      ]
    },
    {
      "cell_type": "markdown",
      "metadata": {
        "id": "y6HYf9F5OjZQ"
      },
      "source": [
        "### 파일 업로드"
      ]
    },
    {
      "cell_type": "code",
      "metadata": {
        "colab": {
          "base_uri": "https://localhost:8080/"
        },
        "id": "mEMfxFrsNLO-",
        "outputId": "1528a95a-8d29-44c7-ec6b-3bd28b376066"
      },
      "source": [
        "!unzip dataset.zip -d dataset"
      ],
      "execution_count": 3,
      "outputs": [
        {
          "output_type": "stream",
          "text": [
            "Archive:  dataset.zip\n",
            "  inflating: dataset/housing.csv     \n",
            "  inflating: dataset/iris.csv        \n",
            "  inflating: dataset/pima-indians-diabetes.csv  \n",
            "  inflating: dataset/sonar.csv       \n",
            "  inflating: dataset/ThoraricSurgery.csv  \n",
            "  inflating: dataset/wine.csv        \n"
          ],
          "name": "stdout"
        }
      ]
    },
    {
      "cell_type": "code",
      "metadata": {
        "colab": {
          "base_uri": "https://localhost:8080/"
        },
        "id": "vQ2aLYphOC0e",
        "outputId": "ef49babe-076b-40f4-86e4-aa8e10685bee"
      },
      "source": [
        "!ls"
      ],
      "execution_count": 4,
      "outputs": [
        {
          "output_type": "stream",
          "text": [
            "dataset  dataset.zip  sample_data\n"
          ],
          "name": "stdout"
        }
      ]
    },
    {
      "cell_type": "code",
      "metadata": {
        "colab": {
          "base_uri": "https://localhost:8080/"
        },
        "id": "zlWydaXMOHyo",
        "outputId": "c301e1c7-47fc-4122-8d55-2ea5fc50f945"
      },
      "source": [
        "!ls -l dataset"
      ],
      "execution_count": 6,
      "outputs": [
        {
          "output_type": "stream",
          "text": [
            "total 548\n",
            "-rw-r--r-- 1 root root  49082 Dec  8  2019 housing.csv\n",
            "-rw-r--r-- 1 root root   4551 Dec  8  2019 iris.csv\n",
            "-rw-r--r-- 1 root root  23279 Dec  8  2019 pima-indians-diabetes.csv\n",
            "-rw-r--r-- 1 root root  87776 Dec  8  2019 sonar.csv\n",
            "-rw-r--r-- 1 root root  21257 Dec  8  2019 ThoraricSurgery.csv\n",
            "-rw-r--r-- 1 root root 361279 Dec  8  2019 wine.csv\n"
          ],
          "name": "stdout"
        }
      ]
    },
    {
      "cell_type": "markdown",
      "metadata": {
        "id": "fFWtuciHVCWz"
      },
      "source": [
        "### 데이터 탐색"
      ]
    },
    {
      "cell_type": "code",
      "metadata": {
        "id": "o7KjFonYOV_3"
      },
      "source": [
        "import numpy as np\r\n",
        "import pandas as pd"
      ],
      "execution_count": 7,
      "outputs": []
    },
    {
      "cell_type": "code",
      "metadata": {
        "colab": {
          "base_uri": "https://localhost:8080/",
          "height": 142
        },
        "id": "L0kVfM2OVUoc",
        "outputId": "024aac26-d4f7-4100-d992-d5406b382e11"
      },
      "source": [
        "df = pd.read_csv('dataset/ThoraricSurgery.csv', header=None)\r\n",
        "df.head(3)"
      ],
      "execution_count": 9,
      "outputs": [
        {
          "output_type": "execute_result",
          "data": {
            "text/html": [
              "<div>\n",
              "<style scoped>\n",
              "    .dataframe tbody tr th:only-of-type {\n",
              "        vertical-align: middle;\n",
              "    }\n",
              "\n",
              "    .dataframe tbody tr th {\n",
              "        vertical-align: top;\n",
              "    }\n",
              "\n",
              "    .dataframe thead th {\n",
              "        text-align: right;\n",
              "    }\n",
              "</style>\n",
              "<table border=\"1\" class=\"dataframe\">\n",
              "  <thead>\n",
              "    <tr style=\"text-align: right;\">\n",
              "      <th></th>\n",
              "      <th>0</th>\n",
              "      <th>1</th>\n",
              "      <th>2</th>\n",
              "      <th>3</th>\n",
              "      <th>4</th>\n",
              "      <th>5</th>\n",
              "      <th>6</th>\n",
              "      <th>7</th>\n",
              "      <th>8</th>\n",
              "      <th>9</th>\n",
              "      <th>10</th>\n",
              "      <th>11</th>\n",
              "      <th>12</th>\n",
              "      <th>13</th>\n",
              "      <th>14</th>\n",
              "      <th>15</th>\n",
              "      <th>16</th>\n",
              "      <th>17</th>\n",
              "    </tr>\n",
              "  </thead>\n",
              "  <tbody>\n",
              "    <tr>\n",
              "      <th>0</th>\n",
              "      <td>293</td>\n",
              "      <td>1</td>\n",
              "      <td>3.80</td>\n",
              "      <td>2.80</td>\n",
              "      <td>0</td>\n",
              "      <td>0</td>\n",
              "      <td>0</td>\n",
              "      <td>0</td>\n",
              "      <td>0</td>\n",
              "      <td>0</td>\n",
              "      <td>12</td>\n",
              "      <td>0</td>\n",
              "      <td>0</td>\n",
              "      <td>0</td>\n",
              "      <td>1</td>\n",
              "      <td>0</td>\n",
              "      <td>62</td>\n",
              "      <td>0</td>\n",
              "    </tr>\n",
              "    <tr>\n",
              "      <th>1</th>\n",
              "      <td>1</td>\n",
              "      <td>2</td>\n",
              "      <td>2.88</td>\n",
              "      <td>2.16</td>\n",
              "      <td>1</td>\n",
              "      <td>0</td>\n",
              "      <td>0</td>\n",
              "      <td>0</td>\n",
              "      <td>1</td>\n",
              "      <td>1</td>\n",
              "      <td>14</td>\n",
              "      <td>0</td>\n",
              "      <td>0</td>\n",
              "      <td>0</td>\n",
              "      <td>1</td>\n",
              "      <td>0</td>\n",
              "      <td>60</td>\n",
              "      <td>0</td>\n",
              "    </tr>\n",
              "    <tr>\n",
              "      <th>2</th>\n",
              "      <td>8</td>\n",
              "      <td>2</td>\n",
              "      <td>3.19</td>\n",
              "      <td>2.50</td>\n",
              "      <td>1</td>\n",
              "      <td>0</td>\n",
              "      <td>0</td>\n",
              "      <td>0</td>\n",
              "      <td>1</td>\n",
              "      <td>0</td>\n",
              "      <td>11</td>\n",
              "      <td>0</td>\n",
              "      <td>0</td>\n",
              "      <td>1</td>\n",
              "      <td>1</td>\n",
              "      <td>0</td>\n",
              "      <td>66</td>\n",
              "      <td>1</td>\n",
              "    </tr>\n",
              "  </tbody>\n",
              "</table>\n",
              "</div>"
            ],
            "text/plain": [
              "    0   1     2     3   4   5   6   7   8   9   10  11  12  13  14  15  16  17\n",
              "0  293   1  3.80  2.80   0   0   0   0   0   0  12   0   0   0   1   0  62   0\n",
              "1    1   2  2.88  2.16   1   0   0   0   1   1  14   0   0   0   1   0  60   0\n",
              "2    8   2  3.19  2.50   1   0   0   0   1   0  11   0   0   1   1   0  66   1"
            ]
          },
          "metadata": {
            "tags": []
          },
          "execution_count": 9
        }
      ]
    },
    {
      "cell_type": "code",
      "metadata": {
        "colab": {
          "base_uri": "https://localhost:8080/"
        },
        "id": "d9v-iEFZVfj7",
        "outputId": "55d044a8-e4ea-492d-c779-f05963abe8f7"
      },
      "source": [
        "df.info()"
      ],
      "execution_count": 10,
      "outputs": [
        {
          "output_type": "stream",
          "text": [
            "<class 'pandas.core.frame.DataFrame'>\n",
            "RangeIndex: 470 entries, 0 to 469\n",
            "Data columns (total 18 columns):\n",
            " #   Column  Non-Null Count  Dtype  \n",
            "---  ------  --------------  -----  \n",
            " 0   0       470 non-null    int64  \n",
            " 1   1       470 non-null    int64  \n",
            " 2   2       470 non-null    float64\n",
            " 3   3       470 non-null    float64\n",
            " 4   4       470 non-null    int64  \n",
            " 5   5       470 non-null    int64  \n",
            " 6   6       470 non-null    int64  \n",
            " 7   7       470 non-null    int64  \n",
            " 8   8       470 non-null    int64  \n",
            " 9   9       470 non-null    int64  \n",
            " 10  10      470 non-null    int64  \n",
            " 11  11      470 non-null    int64  \n",
            " 12  12      470 non-null    int64  \n",
            " 13  13      470 non-null    int64  \n",
            " 14  14      470 non-null    int64  \n",
            " 15  15      470 non-null    int64  \n",
            " 16  16      470 non-null    int64  \n",
            " 17  17      470 non-null    int64  \n",
            "dtypes: float64(2), int64(16)\n",
            "memory usage: 66.2 KB\n"
          ],
          "name": "stdout"
        }
      ]
    },
    {
      "cell_type": "code",
      "metadata": {
        "colab": {
          "base_uri": "https://localhost:8080/",
          "height": 317
        },
        "id": "A_xpbdGnVvrM",
        "outputId": "f73d836a-2674-4895-bd63-595309b75396"
      },
      "source": [
        "df.describe()"
      ],
      "execution_count": 11,
      "outputs": [
        {
          "output_type": "execute_result",
          "data": {
            "text/html": [
              "<div>\n",
              "<style scoped>\n",
              "    .dataframe tbody tr th:only-of-type {\n",
              "        vertical-align: middle;\n",
              "    }\n",
              "\n",
              "    .dataframe tbody tr th {\n",
              "        vertical-align: top;\n",
              "    }\n",
              "\n",
              "    .dataframe thead th {\n",
              "        text-align: right;\n",
              "    }\n",
              "</style>\n",
              "<table border=\"1\" class=\"dataframe\">\n",
              "  <thead>\n",
              "    <tr style=\"text-align: right;\">\n",
              "      <th></th>\n",
              "      <th>0</th>\n",
              "      <th>1</th>\n",
              "      <th>2</th>\n",
              "      <th>3</th>\n",
              "      <th>4</th>\n",
              "      <th>5</th>\n",
              "      <th>6</th>\n",
              "      <th>7</th>\n",
              "      <th>8</th>\n",
              "      <th>9</th>\n",
              "      <th>10</th>\n",
              "      <th>11</th>\n",
              "      <th>12</th>\n",
              "      <th>13</th>\n",
              "      <th>14</th>\n",
              "      <th>15</th>\n",
              "      <th>16</th>\n",
              "      <th>17</th>\n",
              "    </tr>\n",
              "  </thead>\n",
              "  <tbody>\n",
              "    <tr>\n",
              "      <th>count</th>\n",
              "      <td>470.000000</td>\n",
              "      <td>470.000000</td>\n",
              "      <td>470.000000</td>\n",
              "      <td>470.000000</td>\n",
              "      <td>470.000000</td>\n",
              "      <td>470.000000</td>\n",
              "      <td>470.000000</td>\n",
              "      <td>470.000000</td>\n",
              "      <td>470.000000</td>\n",
              "      <td>470.000000</td>\n",
              "      <td>470.000000</td>\n",
              "      <td>470.000000</td>\n",
              "      <td>470.000000</td>\n",
              "      <td>470.000000</td>\n",
              "      <td>470.000000</td>\n",
              "      <td>470.000000</td>\n",
              "      <td>470.000000</td>\n",
              "      <td>470.000000</td>\n",
              "    </tr>\n",
              "    <tr>\n",
              "      <th>mean</th>\n",
              "      <td>235.500000</td>\n",
              "      <td>3.095745</td>\n",
              "      <td>3.281638</td>\n",
              "      <td>4.568702</td>\n",
              "      <td>0.780851</td>\n",
              "      <td>0.065957</td>\n",
              "      <td>0.144681</td>\n",
              "      <td>0.065957</td>\n",
              "      <td>0.687234</td>\n",
              "      <td>0.165957</td>\n",
              "      <td>11.736170</td>\n",
              "      <td>0.074468</td>\n",
              "      <td>0.004255</td>\n",
              "      <td>0.017021</td>\n",
              "      <td>0.821277</td>\n",
              "      <td>0.004255</td>\n",
              "      <td>62.534043</td>\n",
              "      <td>0.148936</td>\n",
              "    </tr>\n",
              "    <tr>\n",
              "      <th>std</th>\n",
              "      <td>135.821574</td>\n",
              "      <td>0.722309</td>\n",
              "      <td>0.871395</td>\n",
              "      <td>11.767857</td>\n",
              "      <td>0.535375</td>\n",
              "      <td>0.248472</td>\n",
              "      <td>0.352154</td>\n",
              "      <td>0.248472</td>\n",
              "      <td>0.464114</td>\n",
              "      <td>0.372439</td>\n",
              "      <td>0.702243</td>\n",
              "      <td>0.262811</td>\n",
              "      <td>0.065163</td>\n",
              "      <td>0.129488</td>\n",
              "      <td>0.383529</td>\n",
              "      <td>0.065163</td>\n",
              "      <td>8.706902</td>\n",
              "      <td>0.356405</td>\n",
              "    </tr>\n",
              "    <tr>\n",
              "      <th>min</th>\n",
              "      <td>1.000000</td>\n",
              "      <td>1.000000</td>\n",
              "      <td>1.440000</td>\n",
              "      <td>0.960000</td>\n",
              "      <td>0.000000</td>\n",
              "      <td>0.000000</td>\n",
              "      <td>0.000000</td>\n",
              "      <td>0.000000</td>\n",
              "      <td>0.000000</td>\n",
              "      <td>0.000000</td>\n",
              "      <td>11.000000</td>\n",
              "      <td>0.000000</td>\n",
              "      <td>0.000000</td>\n",
              "      <td>0.000000</td>\n",
              "      <td>0.000000</td>\n",
              "      <td>0.000000</td>\n",
              "      <td>21.000000</td>\n",
              "      <td>0.000000</td>\n",
              "    </tr>\n",
              "    <tr>\n",
              "      <th>25%</th>\n",
              "      <td>118.250000</td>\n",
              "      <td>3.000000</td>\n",
              "      <td>2.600000</td>\n",
              "      <td>1.960000</td>\n",
              "      <td>0.000000</td>\n",
              "      <td>0.000000</td>\n",
              "      <td>0.000000</td>\n",
              "      <td>0.000000</td>\n",
              "      <td>0.000000</td>\n",
              "      <td>0.000000</td>\n",
              "      <td>11.000000</td>\n",
              "      <td>0.000000</td>\n",
              "      <td>0.000000</td>\n",
              "      <td>0.000000</td>\n",
              "      <td>1.000000</td>\n",
              "      <td>0.000000</td>\n",
              "      <td>57.000000</td>\n",
              "      <td>0.000000</td>\n",
              "    </tr>\n",
              "    <tr>\n",
              "      <th>50%</th>\n",
              "      <td>235.500000</td>\n",
              "      <td>3.000000</td>\n",
              "      <td>3.160000</td>\n",
              "      <td>2.400000</td>\n",
              "      <td>1.000000</td>\n",
              "      <td>0.000000</td>\n",
              "      <td>0.000000</td>\n",
              "      <td>0.000000</td>\n",
              "      <td>1.000000</td>\n",
              "      <td>0.000000</td>\n",
              "      <td>12.000000</td>\n",
              "      <td>0.000000</td>\n",
              "      <td>0.000000</td>\n",
              "      <td>0.000000</td>\n",
              "      <td>1.000000</td>\n",
              "      <td>0.000000</td>\n",
              "      <td>62.000000</td>\n",
              "      <td>0.000000</td>\n",
              "    </tr>\n",
              "    <tr>\n",
              "      <th>75%</th>\n",
              "      <td>352.750000</td>\n",
              "      <td>3.000000</td>\n",
              "      <td>3.807500</td>\n",
              "      <td>3.080000</td>\n",
              "      <td>1.000000</td>\n",
              "      <td>0.000000</td>\n",
              "      <td>0.000000</td>\n",
              "      <td>0.000000</td>\n",
              "      <td>1.000000</td>\n",
              "      <td>0.000000</td>\n",
              "      <td>12.000000</td>\n",
              "      <td>0.000000</td>\n",
              "      <td>0.000000</td>\n",
              "      <td>0.000000</td>\n",
              "      <td>1.000000</td>\n",
              "      <td>0.000000</td>\n",
              "      <td>69.000000</td>\n",
              "      <td>0.000000</td>\n",
              "    </tr>\n",
              "    <tr>\n",
              "      <th>max</th>\n",
              "      <td>470.000000</td>\n",
              "      <td>8.000000</td>\n",
              "      <td>6.300000</td>\n",
              "      <td>86.300000</td>\n",
              "      <td>2.000000</td>\n",
              "      <td>1.000000</td>\n",
              "      <td>1.000000</td>\n",
              "      <td>1.000000</td>\n",
              "      <td>1.000000</td>\n",
              "      <td>1.000000</td>\n",
              "      <td>14.000000</td>\n",
              "      <td>1.000000</td>\n",
              "      <td>1.000000</td>\n",
              "      <td>1.000000</td>\n",
              "      <td>1.000000</td>\n",
              "      <td>1.000000</td>\n",
              "      <td>87.000000</td>\n",
              "      <td>1.000000</td>\n",
              "    </tr>\n",
              "  </tbody>\n",
              "</table>\n",
              "</div>"
            ],
            "text/plain": [
              "               0           1           2   ...          15          16          17\n",
              "count  470.000000  470.000000  470.000000  ...  470.000000  470.000000  470.000000\n",
              "mean   235.500000    3.095745    3.281638  ...    0.004255   62.534043    0.148936\n",
              "std    135.821574    0.722309    0.871395  ...    0.065163    8.706902    0.356405\n",
              "min      1.000000    1.000000    1.440000  ...    0.000000   21.000000    0.000000\n",
              "25%    118.250000    3.000000    2.600000  ...    0.000000   57.000000    0.000000\n",
              "50%    235.500000    3.000000    3.160000  ...    0.000000   62.000000    0.000000\n",
              "75%    352.750000    3.000000    3.807500  ...    0.000000   69.000000    0.000000\n",
              "max    470.000000    8.000000    6.300000  ...    1.000000   87.000000    1.000000\n",
              "\n",
              "[8 rows x 18 columns]"
            ]
          },
          "metadata": {
            "tags": []
          },
          "execution_count": 11
        }
      ]
    },
    {
      "cell_type": "markdown",
      "metadata": {
        "id": "6mUxDOrKV9mz"
      },
      "source": [
        "### 데이터셋 만들기"
      ]
    },
    {
      "cell_type": "code",
      "metadata": {
        "id": "T2UAgy-WWb0b"
      },
      "source": [
        "from sklearn.model_selection import train_test_split\r\n",
        "import tensorflow as tf"
      ],
      "execution_count": 12,
      "outputs": []
    },
    {
      "cell_type": "code",
      "metadata": {
        "id": "FGa5XDbxWseb"
      },
      "source": [
        "# 실행할 때마다 같은 결과를 출력하기 위한 seed 값 설정\r\n",
        "seed = 2021\r\n",
        "np.random.seed(seed)\r\n",
        "tf.random.set_seed(seed)"
      ],
      "execution_count": 13,
      "outputs": []
    },
    {
      "cell_type": "code",
      "metadata": {
        "colab": {
          "base_uri": "https://localhost:8080/"
        },
        "id": "iwseNOgHWC5a",
        "outputId": "0a7828e4-05c6-40e5-88f2-b774baab21c5"
      },
      "source": [
        "X_train, X_test, y_train, y_test = train_test_split(\r\n",
        "    df.iloc[:, :-1].values, df.iloc[:, -1].values, stratify=df.iloc[:, -1].values,\r\n",
        "    random_state=seed\r\n",
        ")\r\n",
        "X_train.shape, X_test.shape"
      ],
      "execution_count": 14,
      "outputs": [
        {
          "output_type": "execute_result",
          "data": {
            "text/plain": [
              "((352, 17), (118, 17))"
            ]
          },
          "metadata": {
            "tags": []
          },
          "execution_count": 14
        }
      ]
    },
    {
      "cell_type": "markdown",
      "metadata": {
        "id": "pSotKDo2Xm0k"
      },
      "source": [
        "### 모델 정의"
      ]
    },
    {
      "cell_type": "code",
      "metadata": {
        "id": "m6kqcJudVzxz"
      },
      "source": [
        "from tensorflow.keras.models import Sequential\r\n",
        "from tensorflow.keras.layers import Dense"
      ],
      "execution_count": 15,
      "outputs": []
    },
    {
      "cell_type": "code",
      "metadata": {
        "colab": {
          "base_uri": "https://localhost:8080/"
        },
        "id": "aRCZzyz2X4mk",
        "outputId": "ca196d50-6801-41fc-b598-1b45e455432b"
      },
      "source": [
        "model = Sequential()\r\n",
        "model.add(Dense(30, input_shape=(17,), activation='relu'))\r\n",
        "model.add(Dense(1, activation='sigmoid'))\r\n",
        "model.summary()"
      ],
      "execution_count": 16,
      "outputs": [
        {
          "output_type": "stream",
          "text": [
            "Model: \"sequential\"\n",
            "_________________________________________________________________\n",
            "Layer (type)                 Output Shape              Param #   \n",
            "=================================================================\n",
            "dense (Dense)                (None, 30)                540       \n",
            "_________________________________________________________________\n",
            "dense_1 (Dense)              (None, 1)                 31        \n",
            "=================================================================\n",
            "Total params: 571\n",
            "Trainable params: 571\n",
            "Non-trainable params: 0\n",
            "_________________________________________________________________\n"
          ],
          "name": "stdout"
        }
      ]
    },
    {
      "cell_type": "markdown",
      "metadata": {
        "id": "sk_0-Hidb5n4"
      },
      "source": [
        "### 모델 컴파일(실행환경 설정)"
      ]
    },
    {
      "cell_type": "code",
      "metadata": {
        "id": "oNcJm8Eibvcg"
      },
      "source": [
        "model.compile(loss='binary_crossentropy',\r\n",
        "              optimizer='adam',\r\n",
        "              metrics=['accuracy'])"
      ],
      "execution_count": 17,
      "outputs": []
    },
    {
      "cell_type": "markdown",
      "metadata": {
        "id": "4EOgy0VicVFO"
      },
      "source": [
        "### 모델 학습"
      ]
    },
    {
      "cell_type": "code",
      "metadata": {
        "colab": {
          "base_uri": "https://localhost:8080/"
        },
        "id": "242sPknPcYDG",
        "outputId": "2a991d30-fdeb-40f3-9357-f62bc1e2899b"
      },
      "source": [
        "model.fit(X_train, y_train, validation_split=0.2, epochs=30, batch_size=10)"
      ],
      "execution_count": 18,
      "outputs": [
        {
          "output_type": "stream",
          "text": [
            "Epoch 1/30\n",
            "29/29 [==============================] - 1s 17ms/step - loss: 6.7828 - accuracy: 0.3405 - val_loss: 2.6058 - val_accuracy: 0.7042\n",
            "Epoch 2/30\n",
            "29/29 [==============================] - 0s 3ms/step - loss: 1.2124 - accuracy: 0.8427 - val_loss: 0.9057 - val_accuracy: 0.7183\n",
            "Epoch 3/30\n",
            "29/29 [==============================] - 0s 2ms/step - loss: 0.5119 - accuracy: 0.8287 - val_loss: 0.6953 - val_accuracy: 0.7606\n",
            "Epoch 4/30\n",
            "29/29 [==============================] - 0s 2ms/step - loss: 0.5265 - accuracy: 0.8299 - val_loss: 0.6481 - val_accuracy: 0.7324\n",
            "Epoch 5/30\n",
            "29/29 [==============================] - 0s 3ms/step - loss: 0.4364 - accuracy: 0.8542 - val_loss: 0.6261 - val_accuracy: 0.7606\n",
            "Epoch 6/30\n",
            "29/29 [==============================] - 0s 3ms/step - loss: 0.3771 - accuracy: 0.8919 - val_loss: 0.6137 - val_accuracy: 0.7746\n",
            "Epoch 7/30\n",
            "29/29 [==============================] - 0s 3ms/step - loss: 0.4348 - accuracy: 0.8544 - val_loss: 0.7721 - val_accuracy: 0.7746\n",
            "Epoch 8/30\n",
            "29/29 [==============================] - 0s 2ms/step - loss: 0.5564 - accuracy: 0.8435 - val_loss: 0.6081 - val_accuracy: 0.7746\n",
            "Epoch 9/30\n",
            "29/29 [==============================] - 0s 3ms/step - loss: 0.4327 - accuracy: 0.8901 - val_loss: 0.9665 - val_accuracy: 0.7887\n",
            "Epoch 10/30\n",
            "29/29 [==============================] - 0s 3ms/step - loss: 0.4553 - accuracy: 0.8799 - val_loss: 0.5844 - val_accuracy: 0.7746\n",
            "Epoch 11/30\n",
            "29/29 [==============================] - 0s 2ms/step - loss: 0.4049 - accuracy: 0.8602 - val_loss: 0.5881 - val_accuracy: 0.7746\n",
            "Epoch 12/30\n",
            "29/29 [==============================] - 0s 2ms/step - loss: 0.4129 - accuracy: 0.8654 - val_loss: 0.7195 - val_accuracy: 0.7887\n",
            "Epoch 13/30\n",
            "29/29 [==============================] - 0s 3ms/step - loss: 0.5356 - accuracy: 0.8368 - val_loss: 0.6925 - val_accuracy: 0.7887\n",
            "Epoch 14/30\n",
            "29/29 [==============================] - 0s 3ms/step - loss: 0.4089 - accuracy: 0.8749 - val_loss: 0.6129 - val_accuracy: 0.7887\n",
            "Epoch 15/30\n",
            "29/29 [==============================] - 0s 3ms/step - loss: 0.4601 - accuracy: 0.8630 - val_loss: 0.6310 - val_accuracy: 0.7887\n",
            "Epoch 16/30\n",
            "29/29 [==============================] - 0s 3ms/step - loss: 0.4259 - accuracy: 0.8619 - val_loss: 0.6748 - val_accuracy: 0.7887\n",
            "Epoch 17/30\n",
            "29/29 [==============================] - 0s 3ms/step - loss: 0.5316 - accuracy: 0.8282 - val_loss: 0.8401 - val_accuracy: 0.7887\n",
            "Epoch 18/30\n",
            "29/29 [==============================] - 0s 3ms/step - loss: 0.3950 - accuracy: 0.8802 - val_loss: 0.5982 - val_accuracy: 0.7887\n",
            "Epoch 19/30\n",
            "29/29 [==============================] - 0s 3ms/step - loss: 0.4395 - accuracy: 0.8472 - val_loss: 0.6581 - val_accuracy: 0.7887\n",
            "Epoch 20/30\n",
            "29/29 [==============================] - 0s 3ms/step - loss: 0.3970 - accuracy: 0.8726 - val_loss: 0.5901 - val_accuracy: 0.7887\n",
            "Epoch 21/30\n",
            "29/29 [==============================] - 0s 3ms/step - loss: 0.3825 - accuracy: 0.8675 - val_loss: 0.8233 - val_accuracy: 0.7887\n",
            "Epoch 22/30\n",
            "29/29 [==============================] - 0s 3ms/step - loss: 0.4241 - accuracy: 0.8649 - val_loss: 0.6124 - val_accuracy: 0.7887\n",
            "Epoch 23/30\n",
            "29/29 [==============================] - 0s 3ms/step - loss: 0.3916 - accuracy: 0.8509 - val_loss: 1.2505 - val_accuracy: 0.3803\n",
            "Epoch 24/30\n",
            "29/29 [==============================] - 0s 3ms/step - loss: 0.9819 - accuracy: 0.6189 - val_loss: 0.6031 - val_accuracy: 0.7465\n",
            "Epoch 25/30\n",
            "29/29 [==============================] - 0s 3ms/step - loss: 0.3763 - accuracy: 0.8870 - val_loss: 0.6962 - val_accuracy: 0.7887\n",
            "Epoch 26/30\n",
            "29/29 [==============================] - 0s 3ms/step - loss: 0.3809 - accuracy: 0.8572 - val_loss: 0.6511 - val_accuracy: 0.7887\n",
            "Epoch 27/30\n",
            "29/29 [==============================] - 0s 8ms/step - loss: 0.3348 - accuracy: 0.8996 - val_loss: 0.5990 - val_accuracy: 0.7887\n",
            "Epoch 28/30\n",
            "29/29 [==============================] - 0s 3ms/step - loss: 0.3944 - accuracy: 0.8594 - val_loss: 0.6281 - val_accuracy: 0.7887\n",
            "Epoch 29/30\n",
            "29/29 [==============================] - 0s 3ms/step - loss: 0.3366 - accuracy: 0.8821 - val_loss: 0.6793 - val_accuracy: 0.7887\n",
            "Epoch 30/30\n",
            "29/29 [==============================] - 0s 3ms/step - loss: 0.3833 - accuracy: 0.8716 - val_loss: 0.6085 - val_accuracy: 0.7887\n"
          ],
          "name": "stdout"
        },
        {
          "output_type": "execute_result",
          "data": {
            "text/plain": [
              "<tensorflow.python.keras.callbacks.History at 0x7fc205c6f630>"
            ]
          },
          "metadata": {
            "tags": []
          },
          "execution_count": 18
        }
      ]
    },
    {
      "cell_type": "markdown",
      "metadata": {
        "id": "G0TzrHvvdPh2"
      },
      "source": [
        "### 정확도 평가"
      ]
    },
    {
      "cell_type": "code",
      "metadata": {
        "colab": {
          "base_uri": "https://localhost:8080/"
        },
        "id": "nQrBtZ9Tc4Lz",
        "outputId": "fabfc48e-7b4f-4c85-a6ad-b6b3ca9b1bcf"
      },
      "source": [
        "acc = model.evaluate(X_test, y_test)\r\n",
        "acc"
      ],
      "execution_count": 19,
      "outputs": [
        {
          "output_type": "stream",
          "text": [
            "4/4 [==============================] - 0s 3ms/step - loss: 0.4661 - accuracy: 0.8475\n"
          ],
          "name": "stdout"
        },
        {
          "output_type": "execute_result",
          "data": {
            "text/plain": [
              "[0.46611106395721436, 0.8474576473236084]"
            ]
          },
          "metadata": {
            "tags": []
          },
          "execution_count": 19
        }
      ]
    },
    {
      "cell_type": "code",
      "metadata": {
        "colab": {
          "base_uri": "https://localhost:8080/"
        },
        "id": "dTFmPBDPdZ_P",
        "outputId": "87ed56aa-a42d-42f2-dc57-4b40c9d4e0a2"
      },
      "source": [
        "print(f'Accuracy: {acc[1]:.4f}')"
      ],
      "execution_count": 21,
      "outputs": [
        {
          "output_type": "stream",
          "text": [
            "Accuracy: 0.8475\n"
          ],
          "name": "stdout"
        }
      ]
    },
    {
      "cell_type": "code",
      "metadata": {
        "id": "F4of1lgWdlxn"
      },
      "source": [
        ""
      ],
      "execution_count": null,
      "outputs": []
    }
  ]
}