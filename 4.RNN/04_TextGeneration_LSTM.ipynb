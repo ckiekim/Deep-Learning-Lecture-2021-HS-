{
  "nbformat": 4,
  "nbformat_minor": 0,
  "metadata": {
    "colab": {
      "name": "04_TextGeneration-LSTM.ipynb",
      "provenance": [],
      "collapsed_sections": []
    },
    "kernelspec": {
      "name": "python3",
      "display_name": "Python 3"
    },
    "accelerator": "GPU"
  },
  "cells": [
    {
      "cell_type": "markdown",
      "metadata": {
        "id": "K4mMtV3ehi2Z"
      },
      "source": [
        "# LSTM을 이용한 텍스트 생성\r\n",
        "- 데이터 다운로드: 캐글 [New York Times Comments](https://www.kaggle.com/aashita/nyt-comments)\r\n",
        "- ArticlesApril2018.csv"
      ]
    },
    {
      "cell_type": "code",
      "metadata": {
        "id": "irmCvy42nlfI"
      },
      "source": [
        "import numpy as np\r\n",
        "import tensorflow as tf\r\n",
        "from tensorflow.keras.preprocessing.text import Tokenizer\r\n",
        "from tensorflow.keras.preprocessing.sequence import pad_sequences\r\n",
        "from tensorflow.keras.utils import to_categorical"
      ],
      "execution_count": 1,
      "outputs": []
    },
    {
      "cell_type": "code",
      "metadata": {
        "id": "TaOOqrRonlJg"
      },
      "source": [
        "seed = 2021\r\n",
        "np.random.seed(seed)\r\n",
        "tf.random.set_seed(seed)"
      ],
      "execution_count": 2,
      "outputs": []
    },
    {
      "cell_type": "markdown",
      "metadata": {
        "id": "HdhI1I9HjIwf"
      },
      "source": [
        "### 파일 업로드"
      ]
    },
    {
      "cell_type": "code",
      "metadata": {
        "colab": {
          "resources": {
            "http://localhost:8080/nbextensions/google.colab/files.js": {
              "data": "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",
              "ok": true,
              "headers": [
                [
                  "content-type",
                  "application/javascript"
                ]
              ],
              "status": 200,
              "status_text": ""
            }
          },
          "base_uri": "https://localhost:8080/",
          "height": 77
        },
        "id": "DJgAnAJfhpen",
        "outputId": "4e21108b-e164-459f-a718-c3f02b9f0651"
      },
      "source": [
        "from google.colab import files\r\n",
        "\r\n",
        "uploaded = files.upload()\r\n",
        "filename = list(uploaded.keys())[0]"
      ],
      "execution_count": 3,
      "outputs": [
        {
          "output_type": "display_data",
          "data": {
            "text/html": [
              "\n",
              "     <input type=\"file\" id=\"files-68d2c292-27c5-4fae-bca1-402a73deaaa4\" name=\"files[]\" multiple disabled\n",
              "        style=\"border:none\" />\n",
              "     <output id=\"result-68d2c292-27c5-4fae-bca1-402a73deaaa4\">\n",
              "      Upload widget is only available when the cell has been executed in the\n",
              "      current browser session. Please rerun this cell to enable.\n",
              "      </output>\n",
              "      <script src=\"/nbextensions/google.colab/files.js\"></script> "
            ],
            "text/plain": [
              "<IPython.core.display.HTML object>"
            ]
          },
          "metadata": {
            "tags": []
          }
        },
        {
          "output_type": "stream",
          "text": [
            "Saving ArticlesApril2018.csv to ArticlesApril2018.csv\n"
          ],
          "name": "stdout"
        }
      ]
    },
    {
      "cell_type": "markdown",
      "metadata": {
        "id": "3gTp1v2DjLgn"
      },
      "source": [
        "### 데이터 전처리"
      ]
    },
    {
      "cell_type": "code",
      "metadata": {
        "colab": {
          "base_uri": "https://localhost:8080/",
          "height": 321
        },
        "id": "rd_zH6GpilCu",
        "outputId": "21928638-99e2-4643-b9a0-f894b9d068e3"
      },
      "source": [
        "import pandas as pd\r\n",
        "\r\n",
        "df = pd.read_csv(filename, encoding='latin1')\r\n",
        "df.head(2)"
      ],
      "execution_count": 4,
      "outputs": [
        {
          "output_type": "execute_result",
          "data": {
            "text/html": [
              "<div>\n",
              "<style scoped>\n",
              "    .dataframe tbody tr th:only-of-type {\n",
              "        vertical-align: middle;\n",
              "    }\n",
              "\n",
              "    .dataframe tbody tr th {\n",
              "        vertical-align: top;\n",
              "    }\n",
              "\n",
              "    .dataframe thead th {\n",
              "        text-align: right;\n",
              "    }\n",
              "</style>\n",
              "<table border=\"1\" class=\"dataframe\">\n",
              "  <thead>\n",
              "    <tr style=\"text-align: right;\">\n",
              "      <th></th>\n",
              "      <th>articleID</th>\n",
              "      <th>articleWordCount</th>\n",
              "      <th>byline</th>\n",
              "      <th>documentType</th>\n",
              "      <th>headline</th>\n",
              "      <th>keywords</th>\n",
              "      <th>multimedia</th>\n",
              "      <th>newDesk</th>\n",
              "      <th>printPage</th>\n",
              "      <th>pubDate</th>\n",
              "      <th>sectionName</th>\n",
              "      <th>snippet</th>\n",
              "      <th>source</th>\n",
              "      <th>typeOfMaterial</th>\n",
              "      <th>webURL</th>\n",
              "    </tr>\n",
              "  </thead>\n",
              "  <tbody>\n",
              "    <tr>\n",
              "      <th>0</th>\n",
              "      <td>5adf6684068401528a2aa69b</td>\n",
              "      <td>781</td>\n",
              "      <td>By JOHN BRANCH</td>\n",
              "      <td>article</td>\n",
              "      <td>Former N.F.L. Cheerleadersâ Settlement Offer...</td>\n",
              "      <td>['Workplace Hazards and Violations', 'Football...</td>\n",
              "      <td>68</td>\n",
              "      <td>Sports</td>\n",
              "      <td>0</td>\n",
              "      <td>2018-04-24 17:16:49</td>\n",
              "      <td>Pro Football</td>\n",
              "      <td>âI understand that they could meet with us, ...</td>\n",
              "      <td>The New York Times</td>\n",
              "      <td>News</td>\n",
              "      <td>https://www.nytimes.com/2018/04/24/sports/foot...</td>\n",
              "    </tr>\n",
              "    <tr>\n",
              "      <th>1</th>\n",
              "      <td>5adf653f068401528a2aa697</td>\n",
              "      <td>656</td>\n",
              "      <td>By LISA FRIEDMAN</td>\n",
              "      <td>article</td>\n",
              "      <td>E.P.A. to Unveil a New Rule. Its Effect: Less ...</td>\n",
              "      <td>['Environmental Protection Agency', 'Pruitt, S...</td>\n",
              "      <td>68</td>\n",
              "      <td>Climate</td>\n",
              "      <td>0</td>\n",
              "      <td>2018-04-24 17:11:21</td>\n",
              "      <td>Unknown</td>\n",
              "      <td>The agency plans to publish a new regulation T...</td>\n",
              "      <td>The New York Times</td>\n",
              "      <td>News</td>\n",
              "      <td>https://www.nytimes.com/2018/04/24/climate/epa...</td>\n",
              "    </tr>\n",
              "  </tbody>\n",
              "</table>\n",
              "</div>"
            ],
            "text/plain": [
              "                  articleID  ...                                             webURL\n",
              "0  5adf6684068401528a2aa69b  ...  https://www.nytimes.com/2018/04/24/sports/foot...\n",
              "1  5adf653f068401528a2aa697  ...  https://www.nytimes.com/2018/04/24/climate/epa...\n",
              "\n",
              "[2 rows x 15 columns]"
            ]
          },
          "metadata": {
            "tags": []
          },
          "execution_count": 4
        }
      ]
    },
    {
      "cell_type": "code",
      "metadata": {
        "colab": {
          "base_uri": "https://localhost:8080/"
        },
        "id": "88ZpIN6Visjv",
        "outputId": "c933f830-c39f-4832-bb3e-b94a174fe87f"
      },
      "source": [
        "print('열의 개수: ', len(df.columns))\r\n",
        "print(df.columns)"
      ],
      "execution_count": 5,
      "outputs": [
        {
          "output_type": "stream",
          "text": [
            "열의 개수:  15\n",
            "Index(['articleID', 'articleWordCount', 'byline', 'documentType', 'headline',\n",
            "       'keywords', 'multimedia', 'newDesk', 'printPage', 'pubDate',\n",
            "       'sectionName', 'snippet', 'source', 'typeOfMaterial', 'webURL'],\n",
            "      dtype='object')\n"
          ],
          "name": "stdout"
        }
      ]
    },
    {
      "cell_type": "code",
      "metadata": {
        "colab": {
          "base_uri": "https://localhost:8080/"
        },
        "id": "Dh3lqqzzjaUn",
        "outputId": "8db86a9a-4851-4d31-b1ca-8bd423118f49"
      },
      "source": [
        "# headline 열의 데이터만 사용, Null 검사\r\n",
        "df['headline'].isnull().values.any()"
      ],
      "execution_count": 6,
      "outputs": [
        {
          "output_type": "execute_result",
          "data": {
            "text/plain": [
              "False"
            ]
          },
          "metadata": {
            "tags": []
          },
          "execution_count": 6
        }
      ]
    },
    {
      "cell_type": "code",
      "metadata": {
        "colab": {
          "base_uri": "https://localhost:8080/"
        },
        "id": "Le-FyE3FjqFY",
        "outputId": "6ee55f28-9dc3-419f-cec7-b593d23e7f83"
      },
      "source": [
        "# headline 열의 데이터로 리스트 생성\r\n",
        "headline = [text for text in df.headline.values]\r\n",
        "headline[:5]"
      ],
      "execution_count": 7,
      "outputs": [
        {
          "output_type": "execute_result",
          "data": {
            "text/plain": [
              "['Former N.F.L. Cheerleadersâ\\x80\\x99 Settlement Offer: $1 and a Meeting With Goodell',\n",
              " 'E.P.A. to Unveil a New Rule. Its Effect: Less Science in Policymaking.',\n",
              " 'The New Noma, Explained',\n",
              " 'Unknown',\n",
              " 'Unknown']"
            ]
          },
          "metadata": {
            "tags": []
          },
          "execution_count": 7
        }
      ]
    },
    {
      "cell_type": "code",
      "metadata": {
        "colab": {
          "base_uri": "https://localhost:8080/"
        },
        "id": "3NgoZ9toj9PZ",
        "outputId": "44c15ed9-2685-4fb9-ecf4-37b3c29d6298"
      },
      "source": [
        "len(headline)"
      ],
      "execution_count": 8,
      "outputs": [
        {
          "output_type": "execute_result",
          "data": {
            "text/plain": [
              "1324"
            ]
          },
          "metadata": {
            "tags": []
          },
          "execution_count": 8
        }
      ]
    },
    {
      "cell_type": "code",
      "metadata": {
        "colab": {
          "base_uri": "https://localhost:8080/"
        },
        "id": "8UJCJf9NkHYf",
        "outputId": "c955de5b-ebf0-485f-daae-a4e0e8b9bc6f"
      },
      "source": [
        "# 노이즈 데이터('Unknown') 제거\r\n",
        "headline = [text for text in headline if text != 'Unknown']\r\n",
        "len(headline)"
      ],
      "execution_count": 9,
      "outputs": [
        {
          "output_type": "execute_result",
          "data": {
            "text/plain": [
              "1214"
            ]
          },
          "metadata": {
            "tags": []
          },
          "execution_count": 9
        }
      ]
    },
    {
      "cell_type": "code",
      "metadata": {
        "colab": {
          "base_uri": "https://localhost:8080/",
          "height": 36
        },
        "id": "gek0DhTTkdvN",
        "outputId": "1df62021-9090-489c-d263-25d386e511f6"
      },
      "source": [
        "from string import punctuation\r\n",
        "punctuation"
      ],
      "execution_count": 10,
      "outputs": [
        {
          "output_type": "execute_result",
          "data": {
            "application/vnd.google.colaboratory.intrinsic+json": {
              "type": "string"
            },
            "text/plain": [
              "'!\"#$%&\\'()*+,-./:;<=>?@[\\\\]^_`{|}~'"
            ]
          },
          "metadata": {
            "tags": []
          },
          "execution_count": 10
        }
      ]
    },
    {
      "cell_type": "code",
      "metadata": {
        "id": "Q15Pvm_Ikf6P"
      },
      "source": [
        "# 구두점 제거와 소문자화를 위한 함수\r\n",
        "def preprocessing(s):\r\n",
        "    s=s.encode(\"utf8\").decode(\"ascii\", 'ignore')\r\n",
        "    return ''.join(c for c in s if c not in punctuation).lower() "
      ],
      "execution_count": 11,
      "outputs": []
    },
    {
      "cell_type": "code",
      "metadata": {
        "colab": {
          "base_uri": "https://localhost:8080/"
        },
        "id": "pPkvjDKZk1F_",
        "outputId": "88a01e62-2ffa-4f62-fefc-2130a6cc6468"
      },
      "source": [
        "headlines = [preprocessing(x) for x in headline]\r\n",
        "headlines[:5]"
      ],
      "execution_count": 12,
      "outputs": [
        {
          "output_type": "execute_result",
          "data": {
            "text/plain": [
              "['former nfl cheerleaders settlement offer 1 and a meeting with goodell',\n",
              " 'epa to unveil a new rule its effect less science in policymaking',\n",
              " 'the new noma explained',\n",
              " 'how a bag of texas dirt  became a times tradition',\n",
              " 'is school a place for selfexpression']"
            ]
          },
          "metadata": {
            "tags": []
          },
          "execution_count": 12
        }
      ]
    },
    {
      "cell_type": "code",
      "metadata": {
        "colab": {
          "base_uri": "https://localhost:8080/"
        },
        "id": "Iw9AlOb7k3af",
        "outputId": "ebcd86f8-a471-48aa-e45a-9fc7ec280cfb"
      },
      "source": [
        "# 단어 집합(vocabulary)을 만들고 크기를 확인\r\n",
        "t = Tokenizer()\r\n",
        "t.fit_on_texts(headlines)\r\n",
        "vocab_size = len(t.word_index) + 1\r\n",
        "print('단어 집합의 크기 : %d' % vocab_size)"
      ],
      "execution_count": 13,
      "outputs": [
        {
          "output_type": "stream",
          "text": [
            "단어 집합의 크기 : 3494\n"
          ],
          "name": "stdout"
        }
      ]
    },
    {
      "cell_type": "code",
      "metadata": {
        "colab": {
          "base_uri": "https://localhost:8080/"
        },
        "id": "mTD9JnBNomdv",
        "outputId": "e6297de9-b571-4ee3-e0fb-1330c0976a9a"
      },
      "source": [
        "sequences = []\r\n",
        "for line in headlines: # 1,214 개의 샘플에 대해서 샘플을 1개씩 가져온다.\r\n",
        "    encoded = t.texts_to_sequences([line])[0] # 각 샘플에 대한 정수 인코딩\r\n",
        "    for i in range(1, len(encoded)):\r\n",
        "        sequence = encoded[:i+1]\r\n",
        "        sequences.append(sequence)\r\n",
        "\r\n",
        "sequences[:11] # 11개의 샘플 출력"
      ],
      "execution_count": 14,
      "outputs": [
        {
          "output_type": "execute_result",
          "data": {
            "text/plain": [
              "[[99, 269],\n",
              " [99, 269, 371],\n",
              " [99, 269, 371, 1115],\n",
              " [99, 269, 371, 1115, 582],\n",
              " [99, 269, 371, 1115, 582, 52],\n",
              " [99, 269, 371, 1115, 582, 52, 7],\n",
              " [99, 269, 371, 1115, 582, 52, 7, 2],\n",
              " [99, 269, 371, 1115, 582, 52, 7, 2, 372],\n",
              " [99, 269, 371, 1115, 582, 52, 7, 2, 372, 10],\n",
              " [99, 269, 371, 1115, 582, 52, 7, 2, 372, 10, 1116],\n",
              " [100, 3]]"
            ]
          },
          "metadata": {
            "tags": []
          },
          "execution_count": 14
        }
      ]
    },
    {
      "cell_type": "code",
      "metadata": {
        "colab": {
          "base_uri": "https://localhost:8080/"
        },
        "id": "3s7eDRhxp3dK",
        "outputId": "c0bc87af-bd08-41d8-e3b8-74928e97899a"
      },
      "source": [
        "index_to_word = {}\r\n",
        "for key, value in t.word_index.items(): # 인덱스를 단어로 바꾸기 위해 index_to_word를 생성\r\n",
        "    index_to_word[value] = key\r\n",
        "\r\n",
        "print('빈도수 상위 1번 단어 :', index_to_word[1])\r\n",
        "print('빈도수 상위 582번 단어 :', index_to_word[582]) "
      ],
      "execution_count": 15,
      "outputs": [
        {
          "output_type": "stream",
          "text": [
            "빈도수 상위 1번 단어 : the\n",
            "빈도수 상위 582번 단어 : offer\n"
          ],
          "name": "stdout"
        }
      ]
    },
    {
      "cell_type": "code",
      "metadata": {
        "colab": {
          "base_uri": "https://localhost:8080/"
        },
        "id": "C6IMBSI1qQ7P",
        "outputId": "d9b8fee4-69af-458b-e556-5a5f65480969"
      },
      "source": [
        "max_len = max(len(s) for s in sequences)\r\n",
        "print('샘플의 최대 길이 :', max_len) "
      ],
      "execution_count": 16,
      "outputs": [
        {
          "output_type": "stream",
          "text": [
            "샘플의 최대 길이 : 24\n"
          ],
          "name": "stdout"
        }
      ]
    },
    {
      "cell_type": "code",
      "metadata": {
        "colab": {
          "base_uri": "https://localhost:8080/"
        },
        "id": "LBgdkBOxqecP",
        "outputId": "dec32b43-54e1-4480-ca67-fb87fcf9c387"
      },
      "source": [
        "# 전체 샘플의 길이를 24(가장 긴 샘플의 길이)로 패딩\r\n",
        "# 'pre' 옵션을 주면 앞을 0으로 패딩\r\n",
        "sequences = pad_sequences(sequences, maxlen=max_len, padding='pre')\r\n",
        "print(sequences[:3])"
      ],
      "execution_count": 17,
      "outputs": [
        {
          "output_type": "stream",
          "text": [
            "[[   0    0    0    0    0    0    0    0    0    0    0    0    0    0\n",
            "     0    0    0    0    0    0    0    0   99  269]\n",
            " [   0    0    0    0    0    0    0    0    0    0    0    0    0    0\n",
            "     0    0    0    0    0    0    0   99  269  371]\n",
            " [   0    0    0    0    0    0    0    0    0    0    0    0    0    0\n",
            "     0    0    0    0    0    0   99  269  371 1115]]\n"
          ],
          "name": "stdout"
        }
      ]
    },
    {
      "cell_type": "code",
      "metadata": {
        "id": "XNoa6xJGqnqn"
      },
      "source": [
        "X = sequences[:,:-1]\r\n",
        "y = sequences[:,-1]"
      ],
      "execution_count": 18,
      "outputs": []
    },
    {
      "cell_type": "code",
      "metadata": {
        "id": "1O2rH2fLqtuf"
      },
      "source": [
        "Y = to_categorical(y, num_classes=vocab_size)"
      ],
      "execution_count": 19,
      "outputs": []
    },
    {
      "cell_type": "code",
      "metadata": {
        "colab": {
          "base_uri": "https://localhost:8080/"
        },
        "id": "fDV2b9dWqwOd",
        "outputId": "f74b8d40-604c-429e-d202-f0e392f05836"
      },
      "source": [
        "X.shape, Y.shape"
      ],
      "execution_count": 20,
      "outputs": [
        {
          "output_type": "execute_result",
          "data": {
            "text/plain": [
              "((7803, 23), (7803, 3494))"
            ]
          },
          "metadata": {
            "tags": []
          },
          "execution_count": 20
        }
      ]
    },
    {
      "cell_type": "markdown",
      "metadata": {
        "id": "l6Vk4qjhrIHo"
      },
      "source": [
        "### 모델 정의/설정/학습"
      ]
    },
    {
      "cell_type": "code",
      "metadata": {
        "id": "-XnFWcHSqzC4"
      },
      "source": [
        "from tensorflow.keras.models import Sequential\r\n",
        "from tensorflow.keras.layers import Embedding, Dense, LSTM"
      ],
      "execution_count": 21,
      "outputs": []
    },
    {
      "cell_type": "code",
      "metadata": {
        "colab": {
          "base_uri": "https://localhost:8080/"
        },
        "id": "oXWwlfLvrHcf",
        "outputId": "05265bab-e279-4490-d64f-624b8e168940"
      },
      "source": [
        "# 임베딩 벡터는 10차원, LSTM 노드 크기는 128\r\n",
        "model = Sequential()\r\n",
        "model.add(Embedding(vocab_size, 10, input_length=max_len-1, \r\n",
        "                    name=\"Embedding_Layer\"))\r\n",
        "model.add(LSTM(128, name=\"LSTM_Layer\"))\r\n",
        "model.add(Dense(vocab_size, activation='softmax', name=\"Output_Layer\"))\r\n",
        "model.summary()"
      ],
      "execution_count": 22,
      "outputs": [
        {
          "output_type": "stream",
          "text": [
            "Model: \"sequential\"\n",
            "_________________________________________________________________\n",
            "Layer (type)                 Output Shape              Param #   \n",
            "=================================================================\n",
            "Embedding_Layer (Embedding)  (None, 23, 10)            34940     \n",
            "_________________________________________________________________\n",
            "LSTM_Layer (LSTM)            (None, 128)               71168     \n",
            "_________________________________________________________________\n",
            "Output_Layer (Dense)         (None, 3494)              450726    \n",
            "=================================================================\n",
            "Total params: 556,834\n",
            "Trainable params: 556,834\n",
            "Non-trainable params: 0\n",
            "_________________________________________________________________\n"
          ],
          "name": "stdout"
        }
      ]
    },
    {
      "cell_type": "code",
      "metadata": {
        "id": "WTLGwqwUrmoh"
      },
      "source": [
        "model.compile(loss='categorical_crossentropy', \r\n",
        "              optimizer='adam', metrics=['accuracy'])"
      ],
      "execution_count": 23,
      "outputs": []
    },
    {
      "cell_type": "code",
      "metadata": {
        "colab": {
          "base_uri": "https://localhost:8080/"
        },
        "id": "wuIAL3Syrr7I",
        "outputId": "d1f67b80-24dc-41f0-a5bd-870e3db6a790"
      },
      "source": [
        "history = model.fit(X, Y, epochs=200, verbose=2)"
      ],
      "execution_count": 24,
      "outputs": [
        {
          "output_type": "stream",
          "text": [
            "Epoch 1/200\n",
            "244/244 - 9s - loss: 7.6493 - accuracy: 0.0300\n",
            "Epoch 2/200\n",
            "244/244 - 1s - loss: 7.1262 - accuracy: 0.0302\n",
            "Epoch 3/200\n",
            "244/244 - 1s - loss: 6.9862 - accuracy: 0.0313\n",
            "Epoch 4/200\n",
            "244/244 - 1s - loss: 6.8683 - accuracy: 0.0414\n",
            "Epoch 5/200\n",
            "244/244 - 1s - loss: 6.7320 - accuracy: 0.0437\n",
            "Epoch 6/200\n",
            "244/244 - 1s - loss: 6.5834 - accuracy: 0.0473\n",
            "Epoch 7/200\n",
            "244/244 - 1s - loss: 6.4172 - accuracy: 0.0470\n",
            "Epoch 8/200\n",
            "244/244 - 1s - loss: 6.2377 - accuracy: 0.0536\n",
            "Epoch 9/200\n",
            "244/244 - 1s - loss: 6.0490 - accuracy: 0.0578\n",
            "Epoch 10/200\n",
            "244/244 - 1s - loss: 5.8634 - accuracy: 0.0633\n",
            "Epoch 11/200\n",
            "244/244 - 1s - loss: 5.6900 - accuracy: 0.0686\n",
            "Epoch 12/200\n",
            "244/244 - 1s - loss: 5.5270 - accuracy: 0.0729\n",
            "Epoch 13/200\n",
            "244/244 - 1s - loss: 5.3665 - accuracy: 0.0787\n",
            "Epoch 14/200\n",
            "244/244 - 1s - loss: 5.2182 - accuracy: 0.0848\n",
            "Epoch 15/200\n",
            "244/244 - 1s - loss: 5.0705 - accuracy: 0.0948\n",
            "Epoch 16/200\n",
            "244/244 - 1s - loss: 4.9297 - accuracy: 0.1032\n",
            "Epoch 17/200\n",
            "244/244 - 1s - loss: 4.7957 - accuracy: 0.1116\n",
            "Epoch 18/200\n",
            "244/244 - 1s - loss: 4.6631 - accuracy: 0.1271\n",
            "Epoch 19/200\n",
            "244/244 - 1s - loss: 4.5390 - accuracy: 0.1332\n",
            "Epoch 20/200\n",
            "244/244 - 1s - loss: 4.4181 - accuracy: 0.1520\n",
            "Epoch 21/200\n",
            "244/244 - 1s - loss: 4.2991 - accuracy: 0.1640\n",
            "Epoch 22/200\n",
            "244/244 - 1s - loss: 4.1833 - accuracy: 0.1879\n",
            "Epoch 23/200\n",
            "244/244 - 1s - loss: 4.0760 - accuracy: 0.1980\n",
            "Epoch 24/200\n",
            "244/244 - 1s - loss: 3.9695 - accuracy: 0.2184\n",
            "Epoch 25/200\n",
            "244/244 - 1s - loss: 3.8610 - accuracy: 0.2343\n",
            "Epoch 26/200\n",
            "244/244 - 1s - loss: 3.7580 - accuracy: 0.2507\n",
            "Epoch 27/200\n",
            "244/244 - 1s - loss: 3.6602 - accuracy: 0.2723\n",
            "Epoch 28/200\n",
            "244/244 - 1s - loss: 3.5646 - accuracy: 0.2864\n",
            "Epoch 29/200\n",
            "244/244 - 1s - loss: 3.4723 - accuracy: 0.3027\n",
            "Epoch 30/200\n",
            "244/244 - 1s - loss: 3.3839 - accuracy: 0.3186\n",
            "Epoch 31/200\n",
            "244/244 - 1s - loss: 3.2962 - accuracy: 0.3312\n",
            "Epoch 32/200\n",
            "244/244 - 1s - loss: 3.2140 - accuracy: 0.3488\n",
            "Epoch 33/200\n",
            "244/244 - 1s - loss: 3.1315 - accuracy: 0.3683\n",
            "Epoch 34/200\n",
            "244/244 - 1s - loss: 3.0537 - accuracy: 0.3773\n",
            "Epoch 35/200\n",
            "244/244 - 1s - loss: 2.9786 - accuracy: 0.3950\n",
            "Epoch 36/200\n",
            "244/244 - 1s - loss: 2.9035 - accuracy: 0.4080\n",
            "Epoch 37/200\n",
            "244/244 - 1s - loss: 2.8334 - accuracy: 0.4192\n",
            "Epoch 38/200\n",
            "244/244 - 1s - loss: 2.7640 - accuracy: 0.4355\n",
            "Epoch 39/200\n",
            "244/244 - 1s - loss: 2.6988 - accuracy: 0.4427\n",
            "Epoch 40/200\n",
            "244/244 - 1s - loss: 2.6342 - accuracy: 0.4557\n",
            "Epoch 41/200\n",
            "244/244 - 1s - loss: 2.5686 - accuracy: 0.4723\n",
            "Epoch 42/200\n",
            "244/244 - 1s - loss: 2.5081 - accuracy: 0.4797\n",
            "Epoch 43/200\n",
            "244/244 - 1s - loss: 2.4505 - accuracy: 0.4944\n",
            "Epoch 44/200\n",
            "244/244 - 1s - loss: 2.3910 - accuracy: 0.5057\n",
            "Epoch 45/200\n",
            "244/244 - 1s - loss: 2.3344 - accuracy: 0.5174\n",
            "Epoch 46/200\n",
            "244/244 - 1s - loss: 2.2790 - accuracy: 0.5294\n",
            "Epoch 47/200\n",
            "244/244 - 1s - loss: 2.2242 - accuracy: 0.5443\n",
            "Epoch 48/200\n",
            "244/244 - 1s - loss: 2.1721 - accuracy: 0.5518\n",
            "Epoch 49/200\n",
            "244/244 - 1s - loss: 2.1213 - accuracy: 0.5652\n",
            "Epoch 50/200\n",
            "244/244 - 1s - loss: 2.0727 - accuracy: 0.5709\n",
            "Epoch 51/200\n",
            "244/244 - 1s - loss: 2.0224 - accuracy: 0.5837\n",
            "Epoch 52/200\n",
            "244/244 - 1s - loss: 1.9785 - accuracy: 0.5928\n",
            "Epoch 53/200\n",
            "244/244 - 1s - loss: 1.9299 - accuracy: 0.6021\n",
            "Epoch 54/200\n",
            "244/244 - 1s - loss: 1.8862 - accuracy: 0.6127\n",
            "Epoch 55/200\n",
            "244/244 - 1s - loss: 1.8419 - accuracy: 0.6194\n",
            "Epoch 56/200\n",
            "244/244 - 1s - loss: 1.7977 - accuracy: 0.6316\n",
            "Epoch 57/200\n",
            "244/244 - 1s - loss: 1.7560 - accuracy: 0.6392\n",
            "Epoch 58/200\n",
            "244/244 - 1s - loss: 1.7135 - accuracy: 0.6496\n",
            "Epoch 59/200\n",
            "244/244 - 1s - loss: 1.6727 - accuracy: 0.6562\n",
            "Epoch 60/200\n",
            "244/244 - 1s - loss: 1.6342 - accuracy: 0.6674\n",
            "Epoch 61/200\n",
            "244/244 - 1s - loss: 1.5965 - accuracy: 0.6778\n",
            "Epoch 62/200\n",
            "244/244 - 1s - loss: 1.5563 - accuracy: 0.6877\n",
            "Epoch 63/200\n",
            "244/244 - 1s - loss: 1.5206 - accuracy: 0.6928\n",
            "Epoch 64/200\n",
            "244/244 - 1s - loss: 1.4864 - accuracy: 0.6995\n",
            "Epoch 65/200\n",
            "244/244 - 1s - loss: 1.4485 - accuracy: 0.7077\n",
            "Epoch 66/200\n",
            "244/244 - 1s - loss: 1.4147 - accuracy: 0.7181\n",
            "Epoch 67/200\n",
            "244/244 - 1s - loss: 1.3794 - accuracy: 0.7225\n",
            "Epoch 68/200\n",
            "244/244 - 1s - loss: 1.3491 - accuracy: 0.7301\n",
            "Epoch 69/200\n",
            "244/244 - 1s - loss: 1.3192 - accuracy: 0.7359\n",
            "Epoch 70/200\n",
            "244/244 - 1s - loss: 1.2866 - accuracy: 0.7434\n",
            "Epoch 71/200\n",
            "244/244 - 1s - loss: 1.2557 - accuracy: 0.7530\n",
            "Epoch 72/200\n",
            "244/244 - 1s - loss: 1.2235 - accuracy: 0.7595\n",
            "Epoch 73/200\n",
            "244/244 - 1s - loss: 1.1975 - accuracy: 0.7655\n",
            "Epoch 74/200\n",
            "244/244 - 1s - loss: 1.1681 - accuracy: 0.7660\n",
            "Epoch 75/200\n",
            "244/244 - 1s - loss: 1.1400 - accuracy: 0.7762\n",
            "Epoch 76/200\n",
            "244/244 - 1s - loss: 1.1147 - accuracy: 0.7803\n",
            "Epoch 77/200\n",
            "244/244 - 1s - loss: 1.0889 - accuracy: 0.7837\n",
            "Epoch 78/200\n",
            "244/244 - 1s - loss: 1.0640 - accuracy: 0.7894\n",
            "Epoch 79/200\n",
            "244/244 - 1s - loss: 1.0366 - accuracy: 0.7965\n",
            "Epoch 80/200\n",
            "244/244 - 1s - loss: 1.0122 - accuracy: 0.7997\n",
            "Epoch 81/200\n",
            "244/244 - 1s - loss: 0.9893 - accuracy: 0.8055\n",
            "Epoch 82/200\n",
            "244/244 - 1s - loss: 0.9669 - accuracy: 0.8092\n",
            "Epoch 83/200\n",
            "244/244 - 1s - loss: 0.9432 - accuracy: 0.8129\n",
            "Epoch 84/200\n",
            "244/244 - 1s - loss: 0.9241 - accuracy: 0.8167\n",
            "Epoch 85/200\n",
            "244/244 - 1s - loss: 0.9011 - accuracy: 0.8222\n",
            "Epoch 86/200\n",
            "244/244 - 1s - loss: 0.8800 - accuracy: 0.8261\n",
            "Epoch 87/200\n",
            "244/244 - 1s - loss: 0.8581 - accuracy: 0.8313\n",
            "Epoch 88/200\n",
            "244/244 - 1s - loss: 0.8388 - accuracy: 0.8317\n",
            "Epoch 89/200\n",
            "244/244 - 1s - loss: 0.8203 - accuracy: 0.8356\n",
            "Epoch 90/200\n",
            "244/244 - 1s - loss: 0.8019 - accuracy: 0.8413\n",
            "Epoch 91/200\n",
            "244/244 - 1s - loss: 0.7835 - accuracy: 0.8463\n",
            "Epoch 92/200\n",
            "244/244 - 1s - loss: 0.7651 - accuracy: 0.8494\n",
            "Epoch 93/200\n",
            "244/244 - 1s - loss: 0.7494 - accuracy: 0.8495\n",
            "Epoch 94/200\n",
            "244/244 - 1s - loss: 0.7318 - accuracy: 0.8544\n",
            "Epoch 95/200\n",
            "244/244 - 1s - loss: 0.7137 - accuracy: 0.8597\n",
            "Epoch 96/200\n",
            "244/244 - 1s - loss: 0.6970 - accuracy: 0.8634\n",
            "Epoch 97/200\n",
            "244/244 - 1s - loss: 0.6826 - accuracy: 0.8662\n",
            "Epoch 98/200\n",
            "244/244 - 1s - loss: 0.6678 - accuracy: 0.8666\n",
            "Epoch 99/200\n",
            "244/244 - 1s - loss: 0.6550 - accuracy: 0.8711\n",
            "Epoch 100/200\n",
            "244/244 - 1s - loss: 0.6398 - accuracy: 0.8744\n",
            "Epoch 101/200\n",
            "244/244 - 1s - loss: 0.6252 - accuracy: 0.8795\n",
            "Epoch 102/200\n",
            "244/244 - 1s - loss: 0.6115 - accuracy: 0.8775\n",
            "Epoch 103/200\n",
            "244/244 - 1s - loss: 0.5990 - accuracy: 0.8833\n",
            "Epoch 104/200\n",
            "244/244 - 1s - loss: 0.5860 - accuracy: 0.8834\n",
            "Epoch 105/200\n",
            "244/244 - 1s - loss: 0.5720 - accuracy: 0.8857\n",
            "Epoch 106/200\n",
            "244/244 - 1s - loss: 0.5604 - accuracy: 0.8889\n",
            "Epoch 107/200\n",
            "244/244 - 1s - loss: 0.5496 - accuracy: 0.8908\n",
            "Epoch 108/200\n",
            "244/244 - 1s - loss: 0.5407 - accuracy: 0.8903\n",
            "Epoch 109/200\n",
            "244/244 - 1s - loss: 0.5284 - accuracy: 0.8948\n",
            "Epoch 110/200\n",
            "244/244 - 1s - loss: 0.5180 - accuracy: 0.8954\n",
            "Epoch 111/200\n",
            "244/244 - 1s - loss: 0.5068 - accuracy: 0.8986\n",
            "Epoch 112/200\n",
            "244/244 - 1s - loss: 0.4987 - accuracy: 0.8976\n",
            "Epoch 113/200\n",
            "244/244 - 1s - loss: 0.4886 - accuracy: 0.9004\n",
            "Epoch 114/200\n",
            "244/244 - 1s - loss: 0.4804 - accuracy: 0.9021\n",
            "Epoch 115/200\n",
            "244/244 - 1s - loss: 0.4730 - accuracy: 0.9025\n",
            "Epoch 116/200\n",
            "244/244 - 1s - loss: 0.4643 - accuracy: 0.9035\n",
            "Epoch 117/200\n",
            "244/244 - 1s - loss: 0.4560 - accuracy: 0.9038\n",
            "Epoch 118/200\n",
            "244/244 - 1s - loss: 0.4447 - accuracy: 0.9043\n",
            "Epoch 119/200\n",
            "244/244 - 1s - loss: 0.4359 - accuracy: 0.9066\n",
            "Epoch 120/200\n",
            "244/244 - 1s - loss: 0.4299 - accuracy: 0.9072\n",
            "Epoch 121/200\n",
            "244/244 - 1s - loss: 0.4224 - accuracy: 0.9094\n",
            "Epoch 122/200\n",
            "244/244 - 1s - loss: 0.4153 - accuracy: 0.9093\n",
            "Epoch 123/200\n",
            "244/244 - 1s - loss: 0.4087 - accuracy: 0.9100\n",
            "Epoch 124/200\n",
            "244/244 - 1s - loss: 0.4036 - accuracy: 0.9103\n",
            "Epoch 125/200\n",
            "244/244 - 1s - loss: 0.3969 - accuracy: 0.9109\n",
            "Epoch 126/200\n",
            "244/244 - 1s - loss: 0.3932 - accuracy: 0.9127\n",
            "Epoch 127/200\n",
            "244/244 - 1s - loss: 0.3881 - accuracy: 0.9122\n",
            "Epoch 128/200\n",
            "244/244 - 1s - loss: 0.3806 - accuracy: 0.9136\n",
            "Epoch 129/200\n",
            "244/244 - 1s - loss: 0.3771 - accuracy: 0.9134\n",
            "Epoch 130/200\n",
            "244/244 - 1s - loss: 0.3699 - accuracy: 0.9153\n",
            "Epoch 131/200\n",
            "244/244 - 1s - loss: 0.3628 - accuracy: 0.9146\n",
            "Epoch 132/200\n",
            "244/244 - 1s - loss: 0.3593 - accuracy: 0.9140\n",
            "Epoch 133/200\n",
            "244/244 - 1s - loss: 0.3583 - accuracy: 0.9152\n",
            "Epoch 134/200\n",
            "244/244 - 1s - loss: 0.3950 - accuracy: 0.9091\n",
            "Epoch 135/200\n",
            "244/244 - 1s - loss: 0.3512 - accuracy: 0.9146\n",
            "Epoch 136/200\n",
            "244/244 - 1s - loss: 0.3420 - accuracy: 0.9161\n",
            "Epoch 137/200\n",
            "244/244 - 1s - loss: 0.3374 - accuracy: 0.9159\n",
            "Epoch 138/200\n",
            "244/244 - 1s - loss: 0.3335 - accuracy: 0.9158\n",
            "Epoch 139/200\n",
            "244/244 - 1s - loss: 0.3304 - accuracy: 0.9153\n",
            "Epoch 140/200\n",
            "244/244 - 1s - loss: 0.3292 - accuracy: 0.9170\n",
            "Epoch 141/200\n",
            "244/244 - 1s - loss: 0.3249 - accuracy: 0.9168\n",
            "Epoch 142/200\n",
            "244/244 - 1s - loss: 0.3233 - accuracy: 0.9166\n",
            "Epoch 143/200\n",
            "244/244 - 1s - loss: 0.3202 - accuracy: 0.9166\n",
            "Epoch 144/200\n",
            "244/244 - 1s - loss: 0.3172 - accuracy: 0.9171\n",
            "Epoch 145/200\n",
            "244/244 - 1s - loss: 0.3151 - accuracy: 0.9168\n",
            "Epoch 146/200\n",
            "244/244 - 1s - loss: 0.3142 - accuracy: 0.9167\n",
            "Epoch 147/200\n",
            "244/244 - 1s - loss: 0.3124 - accuracy: 0.9149\n",
            "Epoch 148/200\n",
            "244/244 - 1s - loss: 0.3084 - accuracy: 0.9175\n",
            "Epoch 149/200\n",
            "244/244 - 1s - loss: 0.3075 - accuracy: 0.9162\n",
            "Epoch 150/200\n",
            "244/244 - 1s - loss: 0.3048 - accuracy: 0.9173\n",
            "Epoch 151/200\n",
            "244/244 - 1s - loss: 0.3015 - accuracy: 0.9182\n",
            "Epoch 152/200\n",
            "244/244 - 1s - loss: 0.3007 - accuracy: 0.9153\n",
            "Epoch 153/200\n",
            "244/244 - 1s - loss: 0.2997 - accuracy: 0.9187\n",
            "Epoch 154/200\n",
            "244/244 - 1s - loss: 0.3006 - accuracy: 0.9159\n",
            "Epoch 155/200\n",
            "244/244 - 1s - loss: 0.2975 - accuracy: 0.9176\n",
            "Epoch 156/200\n",
            "244/244 - 1s - loss: 0.2962 - accuracy: 0.9159\n",
            "Epoch 157/200\n",
            "244/244 - 1s - loss: 0.2914 - accuracy: 0.9171\n",
            "Epoch 158/200\n",
            "244/244 - 1s - loss: 0.2904 - accuracy: 0.9176\n",
            "Epoch 159/200\n",
            "244/244 - 1s - loss: 0.2897 - accuracy: 0.9164\n",
            "Epoch 160/200\n",
            "244/244 - 1s - loss: 0.2908 - accuracy: 0.9177\n",
            "Epoch 161/200\n",
            "244/244 - 1s - loss: 0.2888 - accuracy: 0.9144\n",
            "Epoch 162/200\n",
            "244/244 - 1s - loss: 0.2861 - accuracy: 0.9164\n",
            "Epoch 163/200\n",
            "244/244 - 1s - loss: 0.2843 - accuracy: 0.9155\n",
            "Epoch 164/200\n",
            "244/244 - 1s - loss: 0.2820 - accuracy: 0.9179\n",
            "Epoch 165/200\n",
            "244/244 - 1s - loss: 0.2818 - accuracy: 0.9166\n",
            "Epoch 166/200\n",
            "244/244 - 1s - loss: 0.2843 - accuracy: 0.9158\n",
            "Epoch 167/200\n",
            "244/244 - 1s - loss: 0.2861 - accuracy: 0.9143\n",
            "Epoch 168/200\n",
            "244/244 - 1s - loss: 0.2815 - accuracy: 0.9175\n",
            "Epoch 169/200\n",
            "244/244 - 1s - loss: 0.2779 - accuracy: 0.9158\n",
            "Epoch 170/200\n",
            "244/244 - 1s - loss: 0.2789 - accuracy: 0.9161\n",
            "Epoch 171/200\n",
            "244/244 - 1s - loss: 0.2769 - accuracy: 0.9176\n",
            "Epoch 172/200\n",
            "244/244 - 1s - loss: 0.2763 - accuracy: 0.9161\n",
            "Epoch 173/200\n",
            "244/244 - 1s - loss: 0.2922 - accuracy: 0.9161\n",
            "Epoch 174/200\n",
            "244/244 - 1s - loss: 0.2887 - accuracy: 0.9141\n",
            "Epoch 175/200\n",
            "244/244 - 1s - loss: 0.2759 - accuracy: 0.9170\n",
            "Epoch 176/200\n",
            "244/244 - 1s - loss: 0.2762 - accuracy: 0.9150\n",
            "Epoch 177/200\n",
            "244/244 - 1s - loss: 0.2714 - accuracy: 0.9172\n",
            "Epoch 178/200\n",
            "244/244 - 1s - loss: 0.2717 - accuracy: 0.9163\n",
            "Epoch 179/200\n",
            "244/244 - 1s - loss: 0.2714 - accuracy: 0.9166\n",
            "Epoch 180/200\n",
            "244/244 - 1s - loss: 0.2707 - accuracy: 0.9161\n",
            "Epoch 181/200\n",
            "244/244 - 1s - loss: 0.2740 - accuracy: 0.9143\n",
            "Epoch 182/200\n",
            "244/244 - 1s - loss: 0.2745 - accuracy: 0.9175\n",
            "Epoch 183/200\n",
            "244/244 - 1s - loss: 0.2690 - accuracy: 0.9163\n",
            "Epoch 184/200\n",
            "244/244 - 1s - loss: 0.2694 - accuracy: 0.9166\n",
            "Epoch 185/200\n",
            "244/244 - 1s - loss: 0.2677 - accuracy: 0.9153\n",
            "Epoch 186/200\n",
            "244/244 - 1s - loss: 0.2707 - accuracy: 0.9172\n",
            "Epoch 187/200\n",
            "244/244 - 1s - loss: 0.2692 - accuracy: 0.9163\n",
            "Epoch 188/200\n",
            "244/244 - 1s - loss: 0.2677 - accuracy: 0.9166\n",
            "Epoch 189/200\n",
            "244/244 - 1s - loss: 0.2671 - accuracy: 0.9155\n",
            "Epoch 190/200\n",
            "244/244 - 1s - loss: 0.2660 - accuracy: 0.9171\n",
            "Epoch 191/200\n",
            "244/244 - 1s - loss: 0.2659 - accuracy: 0.9176\n",
            "Epoch 192/200\n",
            "244/244 - 1s - loss: 0.2691 - accuracy: 0.9155\n",
            "Epoch 193/200\n",
            "244/244 - 1s - loss: 0.2716 - accuracy: 0.9143\n",
            "Epoch 194/200\n",
            "244/244 - 1s - loss: 0.2661 - accuracy: 0.9171\n",
            "Epoch 195/200\n",
            "244/244 - 1s - loss: 0.2642 - accuracy: 0.9162\n",
            "Epoch 196/200\n",
            "244/244 - 1s - loss: 0.2634 - accuracy: 0.9166\n",
            "Epoch 197/200\n",
            "244/244 - 1s - loss: 0.2643 - accuracy: 0.9158\n",
            "Epoch 198/200\n",
            "244/244 - 1s - loss: 0.2641 - accuracy: 0.9176\n",
            "Epoch 199/200\n",
            "244/244 - 1s - loss: 0.2666 - accuracy: 0.9157\n",
            "Epoch 200/200\n",
            "244/244 - 1s - loss: 0.2639 - accuracy: 0.9167\n"
          ],
          "name": "stdout"
        }
      ]
    },
    {
      "cell_type": "markdown",
      "metadata": {
        "id": "YO6e7ka3tkty"
      },
      "source": [
        "### 모델 검증"
      ]
    },
    {
      "cell_type": "code",
      "metadata": {
        "id": "O5dcxEYhrw6T"
      },
      "source": [
        "def sentence_generation(model, t, current_word, n): # 모델, 토크나이저, 현재 단어, 반복할 횟수\r\n",
        "    init_word = current_word # 처음 들어온 단어도 마지막에 같이 출력하기위해 저장\r\n",
        "    sentence = ''\r\n",
        "    for _ in range(n): # n번 반복\r\n",
        "        encoded = t.texts_to_sequences([current_word])[0] # 현재 단어에 대한 정수 인코딩\r\n",
        "        encoded = pad_sequences([encoded], maxlen=23, padding='pre') # 데이터에 대한 패딩\r\n",
        "        result = np.argmax(model.predict(encoded), axis=-1)\r\n",
        "          # 입력한 X(현재 단어)에 대해서 y를 예측하고 y(예측한 단어)를 result에 저장.\r\n",
        "        for word, index in t.word_index.items(): \r\n",
        "            if index == result: # 만약 예측한 단어와 인덱스와 동일한 단어가 있다면\r\n",
        "                break # 해당 단어가 예측 단어이므로 break\r\n",
        "        current_word = current_word + ' '  + word # 현재 단어 + ' ' + 예측 단어를 현재 단어로 변경\r\n",
        "        sentence = sentence + ' ' + word # 예측 단어를 문장에 저장\r\n",
        "\r\n",
        "    sentence = init_word + sentence\r\n",
        "    return sentence"
      ],
      "execution_count": 27,
      "outputs": []
    },
    {
      "cell_type": "code",
      "metadata": {
        "colab": {
          "base_uri": "https://localhost:8080/"
        },
        "id": "sb59wQiottxR",
        "outputId": "334e2fd5-a0f8-4006-a858-ea009a11c810"
      },
      "source": [
        "print(sentence_generation(model, t, 'i', 10))\r\n",
        "print(sentence_generation(model, t, 'how', 10))\r\n",
        "print(sentence_generation(model, t, 'former', 10))"
      ],
      "execution_count": 30,
      "outputs": [
        {
          "output_type": "stream",
          "text": [
            "i want to be rich and im not sorry case of\n",
            "how to prevent a racist hoodie no than a death and\n",
            "former nfl cheerleaders settlement offer 1 and a meeting with goodell\n"
          ],
          "name": "stdout"
        }
      ]
    },
    {
      "cell_type": "code",
      "metadata": {
        "id": "R4h2WtRTtvM_"
      },
      "source": [
        ""
      ],
      "execution_count": null,
      "outputs": []
    }
  ]
}