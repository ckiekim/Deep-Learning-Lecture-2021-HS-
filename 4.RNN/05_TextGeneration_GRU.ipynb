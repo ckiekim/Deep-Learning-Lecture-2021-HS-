{
  "nbformat": 4,
  "nbformat_minor": 0,
  "metadata": {
    "colab": {
      "name": "05_TextGeneration-GRU.ipynb",
      "provenance": [],
      "collapsed_sections": []
    },
    "kernelspec": {
      "name": "python3",
      "display_name": "Python 3"
    },
    "accelerator": "GPU"
  },
  "cells": [
    {
      "cell_type": "markdown",
      "metadata": {
        "id": "K4mMtV3ehi2Z"
      },
      "source": [
        "# LSTM을 이용한 텍스트 생성\r\n",
        "- 데이터 다운로드: 캐글 [New York Times Comments](https://www.kaggle.com/aashita/nyt-comments)\r\n",
        "- ArticlesApril2018.csv"
      ]
    },
    {
      "cell_type": "code",
      "metadata": {
        "id": "irmCvy42nlfI"
      },
      "source": [
        "import numpy as np\r\n",
        "import tensorflow as tf\r\n",
        "from tensorflow.keras.preprocessing.text import Tokenizer\r\n",
        "from tensorflow.keras.preprocessing.sequence import pad_sequences\r\n",
        "from tensorflow.keras.utils import to_categorical"
      ],
      "execution_count": 1,
      "outputs": []
    },
    {
      "cell_type": "code",
      "metadata": {
        "id": "TaOOqrRonlJg"
      },
      "source": [
        "seed = 2021\r\n",
        "np.random.seed(seed)\r\n",
        "tf.random.set_seed(seed)"
      ],
      "execution_count": 2,
      "outputs": []
    },
    {
      "cell_type": "markdown",
      "metadata": {
        "id": "HdhI1I9HjIwf"
      },
      "source": [
        "### 파일 업로드"
      ]
    },
    {
      "cell_type": "code",
      "metadata": {
        "colab": {
          "resources": {
            "http://localhost:8080/nbextensions/google.colab/files.js": {
              "data": "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",
              "ok": true,
              "headers": [
                [
                  "content-type",
                  "application/javascript"
                ]
              ],
              "status": 200,
              "status_text": ""
            }
          },
          "base_uri": "https://localhost:8080/",
          "height": 77
        },
        "id": "DJgAnAJfhpen",
        "outputId": "bdcdf0d7-4bbc-4527-ad71-03ed9d67bc4c"
      },
      "source": [
        "from google.colab import files\r\n",
        "\r\n",
        "uploaded = files.upload()\r\n",
        "filename = list(uploaded.keys())[0]"
      ],
      "execution_count": 3,
      "outputs": [
        {
          "output_type": "display_data",
          "data": {
            "text/html": [
              "\n",
              "     <input type=\"file\" id=\"files-d8122063-e514-4e61-a876-c61b090f5596\" name=\"files[]\" multiple disabled\n",
              "        style=\"border:none\" />\n",
              "     <output id=\"result-d8122063-e514-4e61-a876-c61b090f5596\">\n",
              "      Upload widget is only available when the cell has been executed in the\n",
              "      current browser session. Please rerun this cell to enable.\n",
              "      </output>\n",
              "      <script src=\"/nbextensions/google.colab/files.js\"></script> "
            ],
            "text/plain": [
              "<IPython.core.display.HTML object>"
            ]
          },
          "metadata": {
            "tags": []
          }
        },
        {
          "output_type": "stream",
          "text": [
            "Saving ArticlesApril2018.csv to ArticlesApril2018 (1).csv\n"
          ],
          "name": "stdout"
        }
      ]
    },
    {
      "cell_type": "markdown",
      "metadata": {
        "id": "3gTp1v2DjLgn"
      },
      "source": [
        "### 데이터 전처리"
      ]
    },
    {
      "cell_type": "code",
      "metadata": {
        "colab": {
          "base_uri": "https://localhost:8080/",
          "height": 321
        },
        "id": "rd_zH6GpilCu",
        "outputId": "ba9ee3b9-8962-44a3-eef5-97ba21b47c19"
      },
      "source": [
        "import pandas as pd\r\n",
        "\r\n",
        "df = pd.read_csv(filename, encoding='latin1')\r\n",
        "df.head(2)"
      ],
      "execution_count": 4,
      "outputs": [
        {
          "output_type": "execute_result",
          "data": {
            "text/html": [
              "<div>\n",
              "<style scoped>\n",
              "    .dataframe tbody tr th:only-of-type {\n",
              "        vertical-align: middle;\n",
              "    }\n",
              "\n",
              "    .dataframe tbody tr th {\n",
              "        vertical-align: top;\n",
              "    }\n",
              "\n",
              "    .dataframe thead th {\n",
              "        text-align: right;\n",
              "    }\n",
              "</style>\n",
              "<table border=\"1\" class=\"dataframe\">\n",
              "  <thead>\n",
              "    <tr style=\"text-align: right;\">\n",
              "      <th></th>\n",
              "      <th>articleID</th>\n",
              "      <th>articleWordCount</th>\n",
              "      <th>byline</th>\n",
              "      <th>documentType</th>\n",
              "      <th>headline</th>\n",
              "      <th>keywords</th>\n",
              "      <th>multimedia</th>\n",
              "      <th>newDesk</th>\n",
              "      <th>printPage</th>\n",
              "      <th>pubDate</th>\n",
              "      <th>sectionName</th>\n",
              "      <th>snippet</th>\n",
              "      <th>source</th>\n",
              "      <th>typeOfMaterial</th>\n",
              "      <th>webURL</th>\n",
              "    </tr>\n",
              "  </thead>\n",
              "  <tbody>\n",
              "    <tr>\n",
              "      <th>0</th>\n",
              "      <td>5adf6684068401528a2aa69b</td>\n",
              "      <td>781</td>\n",
              "      <td>By JOHN BRANCH</td>\n",
              "      <td>article</td>\n",
              "      <td>Former N.F.L. Cheerleadersâ Settlement Offer...</td>\n",
              "      <td>['Workplace Hazards and Violations', 'Football...</td>\n",
              "      <td>68</td>\n",
              "      <td>Sports</td>\n",
              "      <td>0</td>\n",
              "      <td>2018-04-24 17:16:49</td>\n",
              "      <td>Pro Football</td>\n",
              "      <td>âI understand that they could meet with us, ...</td>\n",
              "      <td>The New York Times</td>\n",
              "      <td>News</td>\n",
              "      <td>https://www.nytimes.com/2018/04/24/sports/foot...</td>\n",
              "    </tr>\n",
              "    <tr>\n",
              "      <th>1</th>\n",
              "      <td>5adf653f068401528a2aa697</td>\n",
              "      <td>656</td>\n",
              "      <td>By LISA FRIEDMAN</td>\n",
              "      <td>article</td>\n",
              "      <td>E.P.A. to Unveil a New Rule. Its Effect: Less ...</td>\n",
              "      <td>['Environmental Protection Agency', 'Pruitt, S...</td>\n",
              "      <td>68</td>\n",
              "      <td>Climate</td>\n",
              "      <td>0</td>\n",
              "      <td>2018-04-24 17:11:21</td>\n",
              "      <td>Unknown</td>\n",
              "      <td>The agency plans to publish a new regulation T...</td>\n",
              "      <td>The New York Times</td>\n",
              "      <td>News</td>\n",
              "      <td>https://www.nytimes.com/2018/04/24/climate/epa...</td>\n",
              "    </tr>\n",
              "  </tbody>\n",
              "</table>\n",
              "</div>"
            ],
            "text/plain": [
              "                  articleID  ...                                             webURL\n",
              "0  5adf6684068401528a2aa69b  ...  https://www.nytimes.com/2018/04/24/sports/foot...\n",
              "1  5adf653f068401528a2aa697  ...  https://www.nytimes.com/2018/04/24/climate/epa...\n",
              "\n",
              "[2 rows x 15 columns]"
            ]
          },
          "metadata": {
            "tags": []
          },
          "execution_count": 4
        }
      ]
    },
    {
      "cell_type": "code",
      "metadata": {
        "colab": {
          "base_uri": "https://localhost:8080/"
        },
        "id": "88ZpIN6Visjv",
        "outputId": "e6460778-38ad-4d95-bb32-31eaf9b44002"
      },
      "source": [
        "print('열의 개수: ', len(df.columns))\r\n",
        "print(df.columns)"
      ],
      "execution_count": 5,
      "outputs": [
        {
          "output_type": "stream",
          "text": [
            "열의 개수:  15\n",
            "Index(['articleID', 'articleWordCount', 'byline', 'documentType', 'headline',\n",
            "       'keywords', 'multimedia', 'newDesk', 'printPage', 'pubDate',\n",
            "       'sectionName', 'snippet', 'source', 'typeOfMaterial', 'webURL'],\n",
            "      dtype='object')\n"
          ],
          "name": "stdout"
        }
      ]
    },
    {
      "cell_type": "code",
      "metadata": {
        "colab": {
          "base_uri": "https://localhost:8080/"
        },
        "id": "Dh3lqqzzjaUn",
        "outputId": "61db07a5-0589-45f8-89a2-01159c554c6c"
      },
      "source": [
        "# headline 열의 데이터만 사용, Null 검사\r\n",
        "df['headline'].isnull().values.any()"
      ],
      "execution_count": 6,
      "outputs": [
        {
          "output_type": "execute_result",
          "data": {
            "text/plain": [
              "False"
            ]
          },
          "metadata": {
            "tags": []
          },
          "execution_count": 6
        }
      ]
    },
    {
      "cell_type": "code",
      "metadata": {
        "colab": {
          "base_uri": "https://localhost:8080/"
        },
        "id": "Le-FyE3FjqFY",
        "outputId": "981c63cf-a336-469c-ae85-6a82b0b2b77e"
      },
      "source": [
        "# headline 열의 데이터로 리스트 생성\r\n",
        "headline = [text for text in df.headline.values]\r\n",
        "headline[:5]"
      ],
      "execution_count": 7,
      "outputs": [
        {
          "output_type": "execute_result",
          "data": {
            "text/plain": [
              "['Former N.F.L. Cheerleadersâ\\x80\\x99 Settlement Offer: $1 and a Meeting With Goodell',\n",
              " 'E.P.A. to Unveil a New Rule. Its Effect: Less Science in Policymaking.',\n",
              " 'The New Noma, Explained',\n",
              " 'Unknown',\n",
              " 'Unknown']"
            ]
          },
          "metadata": {
            "tags": []
          },
          "execution_count": 7
        }
      ]
    },
    {
      "cell_type": "code",
      "metadata": {
        "colab": {
          "base_uri": "https://localhost:8080/"
        },
        "id": "3NgoZ9toj9PZ",
        "outputId": "04537f30-6bbf-44d9-fa6e-6576e7e6ca5d"
      },
      "source": [
        "len(headline)"
      ],
      "execution_count": 8,
      "outputs": [
        {
          "output_type": "execute_result",
          "data": {
            "text/plain": [
              "1324"
            ]
          },
          "metadata": {
            "tags": []
          },
          "execution_count": 8
        }
      ]
    },
    {
      "cell_type": "code",
      "metadata": {
        "colab": {
          "base_uri": "https://localhost:8080/"
        },
        "id": "8UJCJf9NkHYf",
        "outputId": "dba347ce-8e91-4fd7-ee56-5e06846bbbfb"
      },
      "source": [
        "# 노이즈 데이터('Unknown') 제거\r\n",
        "headline = [text for text in headline if text != 'Unknown']\r\n",
        "len(headline)"
      ],
      "execution_count": 9,
      "outputs": [
        {
          "output_type": "execute_result",
          "data": {
            "text/plain": [
              "1214"
            ]
          },
          "metadata": {
            "tags": []
          },
          "execution_count": 9
        }
      ]
    },
    {
      "cell_type": "code",
      "metadata": {
        "colab": {
          "base_uri": "https://localhost:8080/",
          "height": 36
        },
        "id": "gek0DhTTkdvN",
        "outputId": "f94afa67-3c59-445d-804f-36a97890e6d3"
      },
      "source": [
        "from string import punctuation\r\n",
        "punctuation"
      ],
      "execution_count": 10,
      "outputs": [
        {
          "output_type": "execute_result",
          "data": {
            "application/vnd.google.colaboratory.intrinsic+json": {
              "type": "string"
            },
            "text/plain": [
              "'!\"#$%&\\'()*+,-./:;<=>?@[\\\\]^_`{|}~'"
            ]
          },
          "metadata": {
            "tags": []
          },
          "execution_count": 10
        }
      ]
    },
    {
      "cell_type": "code",
      "metadata": {
        "id": "Q15Pvm_Ikf6P"
      },
      "source": [
        "# 구두점 제거와 소문자화를 위한 함수\r\n",
        "def preprocessing(s):\r\n",
        "    s=s.encode(\"utf8\").decode(\"ascii\", 'ignore')\r\n",
        "    return ''.join(c for c in s if c not in punctuation).lower() "
      ],
      "execution_count": 11,
      "outputs": []
    },
    {
      "cell_type": "code",
      "metadata": {
        "colab": {
          "base_uri": "https://localhost:8080/"
        },
        "id": "pPkvjDKZk1F_",
        "outputId": "81e64b73-969f-4d06-ec03-6666b4f3bdf6"
      },
      "source": [
        "headlines = [preprocessing(x) for x in headline]\r\n",
        "headlines[:5]"
      ],
      "execution_count": 12,
      "outputs": [
        {
          "output_type": "execute_result",
          "data": {
            "text/plain": [
              "['former nfl cheerleaders settlement offer 1 and a meeting with goodell',\n",
              " 'epa to unveil a new rule its effect less science in policymaking',\n",
              " 'the new noma explained',\n",
              " 'how a bag of texas dirt  became a times tradition',\n",
              " 'is school a place for selfexpression']"
            ]
          },
          "metadata": {
            "tags": []
          },
          "execution_count": 12
        }
      ]
    },
    {
      "cell_type": "code",
      "metadata": {
        "colab": {
          "base_uri": "https://localhost:8080/"
        },
        "id": "Iw9AlOb7k3af",
        "outputId": "cac97c08-0149-4456-ed4c-1bd4ed748256"
      },
      "source": [
        "# 단어 집합(vocabulary)을 만들고 크기를 확인\r\n",
        "t = Tokenizer()\r\n",
        "t.fit_on_texts(headlines)\r\n",
        "vocab_size = len(t.word_index) + 1\r\n",
        "print('단어 집합의 크기 : %d' % vocab_size)"
      ],
      "execution_count": 13,
      "outputs": [
        {
          "output_type": "stream",
          "text": [
            "단어 집합의 크기 : 3494\n"
          ],
          "name": "stdout"
        }
      ]
    },
    {
      "cell_type": "code",
      "metadata": {
        "colab": {
          "base_uri": "https://localhost:8080/"
        },
        "id": "mTD9JnBNomdv",
        "outputId": "2636a47e-9220-47b2-8d60-5144eaabc4c2"
      },
      "source": [
        "sequences = []\r\n",
        "for line in headlines: # 1,214 개의 샘플에 대해서 샘플을 1개씩 가져온다.\r\n",
        "    encoded = t.texts_to_sequences([line])[0] # 각 샘플에 대한 정수 인코딩\r\n",
        "    for i in range(1, len(encoded)):\r\n",
        "        sequence = encoded[:i+1]\r\n",
        "        sequences.append(sequence)\r\n",
        "\r\n",
        "sequences[:11] # 11개의 샘플 출력"
      ],
      "execution_count": 14,
      "outputs": [
        {
          "output_type": "execute_result",
          "data": {
            "text/plain": [
              "[[99, 269],\n",
              " [99, 269, 371],\n",
              " [99, 269, 371, 1115],\n",
              " [99, 269, 371, 1115, 582],\n",
              " [99, 269, 371, 1115, 582, 52],\n",
              " [99, 269, 371, 1115, 582, 52, 7],\n",
              " [99, 269, 371, 1115, 582, 52, 7, 2],\n",
              " [99, 269, 371, 1115, 582, 52, 7, 2, 372],\n",
              " [99, 269, 371, 1115, 582, 52, 7, 2, 372, 10],\n",
              " [99, 269, 371, 1115, 582, 52, 7, 2, 372, 10, 1116],\n",
              " [100, 3]]"
            ]
          },
          "metadata": {
            "tags": []
          },
          "execution_count": 14
        }
      ]
    },
    {
      "cell_type": "code",
      "metadata": {
        "colab": {
          "base_uri": "https://localhost:8080/"
        },
        "id": "3s7eDRhxp3dK",
        "outputId": "004c4897-a82f-4ca9-879d-78fdba357321"
      },
      "source": [
        "index_to_word = {}\r\n",
        "for key, value in t.word_index.items(): # 인덱스를 단어로 바꾸기 위해 index_to_word를 생성\r\n",
        "    index_to_word[value] = key\r\n",
        "\r\n",
        "print('빈도수 상위 1번 단어 :', index_to_word[1])\r\n",
        "print('빈도수 상위 582번 단어 :', index_to_word[582]) "
      ],
      "execution_count": 15,
      "outputs": [
        {
          "output_type": "stream",
          "text": [
            "빈도수 상위 1번 단어 : the\n",
            "빈도수 상위 582번 단어 : offer\n"
          ],
          "name": "stdout"
        }
      ]
    },
    {
      "cell_type": "code",
      "metadata": {
        "colab": {
          "base_uri": "https://localhost:8080/"
        },
        "id": "C6IMBSI1qQ7P",
        "outputId": "bc26721f-665c-4f90-8991-62b1709f928a"
      },
      "source": [
        "max_len = max(len(s) for s in sequences)\r\n",
        "print('샘플의 최대 길이 :', max_len) "
      ],
      "execution_count": 16,
      "outputs": [
        {
          "output_type": "stream",
          "text": [
            "샘플의 최대 길이 : 24\n"
          ],
          "name": "stdout"
        }
      ]
    },
    {
      "cell_type": "code",
      "metadata": {
        "colab": {
          "base_uri": "https://localhost:8080/"
        },
        "id": "LBgdkBOxqecP",
        "outputId": "6c25383d-5bd1-4f22-92a3-56441cb2d6e3"
      },
      "source": [
        "# 전체 샘플의 길이를 24(가장 긴 샘플의 길이)로 패딩\r\n",
        "# 'pre' 옵션을 주면 앞을 0으로 패딩\r\n",
        "sequences = pad_sequences(sequences, maxlen=max_len, padding='pre')\r\n",
        "print(sequences[:3])"
      ],
      "execution_count": 17,
      "outputs": [
        {
          "output_type": "stream",
          "text": [
            "[[   0    0    0    0    0    0    0    0    0    0    0    0    0    0\n",
            "     0    0    0    0    0    0    0    0   99  269]\n",
            " [   0    0    0    0    0    0    0    0    0    0    0    0    0    0\n",
            "     0    0    0    0    0    0    0   99  269  371]\n",
            " [   0    0    0    0    0    0    0    0    0    0    0    0    0    0\n",
            "     0    0    0    0    0    0   99  269  371 1115]]\n"
          ],
          "name": "stdout"
        }
      ]
    },
    {
      "cell_type": "code",
      "metadata": {
        "id": "XNoa6xJGqnqn"
      },
      "source": [
        "X = sequences[:,:-1]\r\n",
        "y = sequences[:,-1]"
      ],
      "execution_count": 18,
      "outputs": []
    },
    {
      "cell_type": "code",
      "metadata": {
        "id": "1O2rH2fLqtuf"
      },
      "source": [
        "Y = to_categorical(y, num_classes=vocab_size)"
      ],
      "execution_count": 19,
      "outputs": []
    },
    {
      "cell_type": "code",
      "metadata": {
        "colab": {
          "base_uri": "https://localhost:8080/"
        },
        "id": "fDV2b9dWqwOd",
        "outputId": "610bc450-3b9d-4135-e537-a4b2712b0329"
      },
      "source": [
        "X.shape, Y.shape"
      ],
      "execution_count": 20,
      "outputs": [
        {
          "output_type": "execute_result",
          "data": {
            "text/plain": [
              "((7803, 23), (7803, 3494))"
            ]
          },
          "metadata": {
            "tags": []
          },
          "execution_count": 20
        }
      ]
    },
    {
      "cell_type": "markdown",
      "metadata": {
        "id": "l6Vk4qjhrIHo"
      },
      "source": [
        "### 모델 정의/설정/학습"
      ]
    },
    {
      "cell_type": "code",
      "metadata": {
        "id": "-XnFWcHSqzC4"
      },
      "source": [
        "from tensorflow.keras.models import Sequential\r\n",
        "from tensorflow.keras.layers import Embedding, Dense, GRU"
      ],
      "execution_count": 24,
      "outputs": []
    },
    {
      "cell_type": "code",
      "metadata": {
        "colab": {
          "base_uri": "https://localhost:8080/"
        },
        "id": "oXWwlfLvrHcf",
        "outputId": "b0e4d3c7-8f97-4e2c-c78f-a4d5f51a5a77"
      },
      "source": [
        "# 임베딩 벡터는 10차원, LSTM 노드 크기는 128\r\n",
        "model = Sequential()\r\n",
        "model.add(Embedding(vocab_size, 10, input_length=max_len-1, \r\n",
        "                    name=\"Embedding_Layer\"))\r\n",
        "model.add(GRU(128, name=\"GRU_Layer\"))\r\n",
        "model.add(Dense(vocab_size, activation='softmax', name=\"Output_Layer\"))\r\n",
        "model.summary()"
      ],
      "execution_count": 25,
      "outputs": [
        {
          "output_type": "stream",
          "text": [
            "Model: \"sequential_2\"\n",
            "_________________________________________________________________\n",
            "Layer (type)                 Output Shape              Param #   \n",
            "=================================================================\n",
            "Embedding_Layer (Embedding)  (None, 23, 10)            34940     \n",
            "_________________________________________________________________\n",
            "GRU_Layer (GRU)              (None, 128)               53760     \n",
            "_________________________________________________________________\n",
            "Output_Layer (Dense)         (None, 3494)              450726    \n",
            "=================================================================\n",
            "Total params: 539,426\n",
            "Trainable params: 539,426\n",
            "Non-trainable params: 0\n",
            "_________________________________________________________________\n"
          ],
          "name": "stdout"
        }
      ]
    },
    {
      "cell_type": "code",
      "metadata": {
        "id": "WTLGwqwUrmoh"
      },
      "source": [
        "model.compile(loss='categorical_crossentropy', \r\n",
        "              optimizer='adam', metrics=['accuracy'])"
      ],
      "execution_count": 26,
      "outputs": []
    },
    {
      "cell_type": "code",
      "metadata": {
        "colab": {
          "base_uri": "https://localhost:8080/"
        },
        "id": "wuIAL3Syrr7I",
        "outputId": "68a3250f-d04b-4a67-acab-782c6c8a6c78"
      },
      "source": [
        "history = model.fit(X, Y, epochs=200, verbose=2)"
      ],
      "execution_count": 27,
      "outputs": [
        {
          "output_type": "stream",
          "text": [
            "Epoch 1/200\n",
            "244/244 - 4s - loss: 7.6963 - accuracy: 0.0288\n",
            "Epoch 2/200\n",
            "244/244 - 1s - loss: 7.1272 - accuracy: 0.0318\n",
            "Epoch 3/200\n",
            "244/244 - 1s - loss: 6.9187 - accuracy: 0.0441\n",
            "Epoch 4/200\n",
            "244/244 - 1s - loss: 6.7014 - accuracy: 0.0497\n",
            "Epoch 5/200\n",
            "244/244 - 1s - loss: 6.4632 - accuracy: 0.0545\n",
            "Epoch 6/200\n",
            "244/244 - 1s - loss: 6.1952 - accuracy: 0.0583\n",
            "Epoch 7/200\n",
            "244/244 - 1s - loss: 5.9197 - accuracy: 0.0648\n",
            "Epoch 8/200\n",
            "244/244 - 1s - loss: 5.6420 - accuracy: 0.0692\n",
            "Epoch 9/200\n",
            "244/244 - 1s - loss: 5.3744 - accuracy: 0.0754\n",
            "Epoch 10/200\n",
            "244/244 - 1s - loss: 5.1197 - accuracy: 0.0883\n",
            "Epoch 11/200\n",
            "244/244 - 1s - loss: 4.8795 - accuracy: 0.0989\n",
            "Epoch 12/200\n",
            "244/244 - 1s - loss: 4.6526 - accuracy: 0.1191\n",
            "Epoch 13/200\n",
            "244/244 - 1s - loss: 4.4382 - accuracy: 0.1466\n",
            "Epoch 14/200\n",
            "244/244 - 1s - loss: 4.2355 - accuracy: 0.1794\n",
            "Epoch 15/200\n",
            "244/244 - 1s - loss: 4.0407 - accuracy: 0.2070\n",
            "Epoch 16/200\n",
            "244/244 - 1s - loss: 3.8581 - accuracy: 0.2404\n",
            "Epoch 17/200\n",
            "244/244 - 1s - loss: 3.6865 - accuracy: 0.2677\n",
            "Epoch 18/200\n",
            "244/244 - 1s - loss: 3.5208 - accuracy: 0.2940\n",
            "Epoch 19/200\n",
            "244/244 - 1s - loss: 3.3689 - accuracy: 0.3244\n",
            "Epoch 20/200\n",
            "244/244 - 1s - loss: 3.2228 - accuracy: 0.3504\n",
            "Epoch 21/200\n",
            "244/244 - 1s - loss: 3.0846 - accuracy: 0.3738\n",
            "Epoch 22/200\n",
            "244/244 - 1s - loss: 2.9530 - accuracy: 0.3975\n",
            "Epoch 23/200\n",
            "244/244 - 1s - loss: 2.8324 - accuracy: 0.4234\n",
            "Epoch 24/200\n",
            "244/244 - 1s - loss: 2.7176 - accuracy: 0.4461\n",
            "Epoch 25/200\n",
            "244/244 - 1s - loss: 2.6070 - accuracy: 0.4669\n",
            "Epoch 26/200\n",
            "244/244 - 1s - loss: 2.5016 - accuracy: 0.4866\n",
            "Epoch 27/200\n",
            "244/244 - 1s - loss: 2.4033 - accuracy: 0.5079\n",
            "Epoch 28/200\n",
            "244/244 - 1s - loss: 2.3095 - accuracy: 0.5279\n",
            "Epoch 29/200\n",
            "244/244 - 1s - loss: 2.2196 - accuracy: 0.5425\n",
            "Epoch 30/200\n",
            "244/244 - 1s - loss: 2.1359 - accuracy: 0.5595\n",
            "Epoch 31/200\n",
            "244/244 - 1s - loss: 2.0528 - accuracy: 0.5759\n",
            "Epoch 32/200\n",
            "244/244 - 1s - loss: 1.9765 - accuracy: 0.5964\n",
            "Epoch 33/200\n",
            "244/244 - 1s - loss: 1.9014 - accuracy: 0.6126\n",
            "Epoch 34/200\n",
            "244/244 - 1s - loss: 1.8295 - accuracy: 0.6228\n",
            "Epoch 35/200\n",
            "244/244 - 1s - loss: 1.7621 - accuracy: 0.6422\n",
            "Epoch 36/200\n",
            "244/244 - 1s - loss: 1.6945 - accuracy: 0.6521\n",
            "Epoch 37/200\n",
            "244/244 - 1s - loss: 1.6259 - accuracy: 0.6695\n",
            "Epoch 38/200\n",
            "244/244 - 1s - loss: 1.5683 - accuracy: 0.6788\n",
            "Epoch 39/200\n",
            "244/244 - 1s - loss: 1.5128 - accuracy: 0.6943\n",
            "Epoch 40/200\n",
            "244/244 - 1s - loss: 1.4544 - accuracy: 0.7042\n",
            "Epoch 41/200\n",
            "244/244 - 1s - loss: 1.3973 - accuracy: 0.7215\n",
            "Epoch 42/200\n",
            "244/244 - 1s - loss: 1.3517 - accuracy: 0.7263\n",
            "Epoch 43/200\n",
            "244/244 - 1s - loss: 1.2941 - accuracy: 0.7406\n",
            "Epoch 44/200\n",
            "244/244 - 1s - loss: 1.2431 - accuracy: 0.7506\n",
            "Epoch 45/200\n",
            "244/244 - 1s - loss: 1.1978 - accuracy: 0.7651\n",
            "Epoch 46/200\n",
            "244/244 - 1s - loss: 1.1512 - accuracy: 0.7703\n",
            "Epoch 47/200\n",
            "244/244 - 1s - loss: 1.1058 - accuracy: 0.7794\n",
            "Epoch 48/200\n",
            "244/244 - 1s - loss: 1.0648 - accuracy: 0.7885\n",
            "Epoch 49/200\n",
            "244/244 - 1s - loss: 1.0255 - accuracy: 0.7948\n",
            "Epoch 50/200\n",
            "244/244 - 1s - loss: 0.9864 - accuracy: 0.8044\n",
            "Epoch 51/200\n",
            "244/244 - 1s - loss: 0.9497 - accuracy: 0.8085\n",
            "Epoch 52/200\n",
            "244/244 - 1s - loss: 0.9131 - accuracy: 0.8144\n",
            "Epoch 53/200\n",
            "244/244 - 1s - loss: 0.8811 - accuracy: 0.8249\n",
            "Epoch 54/200\n",
            "244/244 - 1s - loss: 0.8494 - accuracy: 0.8310\n",
            "Epoch 55/200\n",
            "244/244 - 1s - loss: 0.8190 - accuracy: 0.8366\n",
            "Epoch 56/200\n",
            "244/244 - 1s - loss: 0.7885 - accuracy: 0.8398\n",
            "Epoch 57/200\n",
            "244/244 - 1s - loss: 0.7619 - accuracy: 0.8478\n",
            "Epoch 58/200\n",
            "244/244 - 1s - loss: 0.7360 - accuracy: 0.8533\n",
            "Epoch 59/200\n",
            "244/244 - 1s - loss: 0.7079 - accuracy: 0.8549\n",
            "Epoch 60/200\n",
            "244/244 - 1s - loss: 0.6834 - accuracy: 0.8608\n",
            "Epoch 61/200\n",
            "244/244 - 1s - loss: 0.6638 - accuracy: 0.8667\n",
            "Epoch 62/200\n",
            "244/244 - 1s - loss: 0.6437 - accuracy: 0.8683\n",
            "Epoch 63/200\n",
            "244/244 - 1s - loss: 0.6140 - accuracy: 0.8727\n",
            "Epoch 64/200\n",
            "244/244 - 1s - loss: 0.5955 - accuracy: 0.8786\n",
            "Epoch 65/200\n",
            "244/244 - 1s - loss: 0.5764 - accuracy: 0.8809\n",
            "Epoch 66/200\n",
            "244/244 - 1s - loss: 0.5610 - accuracy: 0.8822\n",
            "Epoch 67/200\n",
            "244/244 - 1s - loss: 0.5404 - accuracy: 0.8877\n",
            "Epoch 68/200\n",
            "244/244 - 1s - loss: 0.5306 - accuracy: 0.8894\n",
            "Epoch 69/200\n",
            "244/244 - 1s - loss: 0.5127 - accuracy: 0.8923\n",
            "Epoch 70/200\n",
            "244/244 - 1s - loss: 0.5055 - accuracy: 0.8931\n",
            "Epoch 71/200\n",
            "244/244 - 1s - loss: 0.4839 - accuracy: 0.8950\n",
            "Epoch 72/200\n",
            "244/244 - 1s - loss: 0.4668 - accuracy: 0.8986\n",
            "Epoch 73/200\n",
            "244/244 - 1s - loss: 0.4623 - accuracy: 0.8997\n",
            "Epoch 74/200\n",
            "244/244 - 1s - loss: 0.4490 - accuracy: 0.9011\n",
            "Epoch 75/200\n",
            "244/244 - 1s - loss: 0.4537 - accuracy: 0.9006\n",
            "Epoch 76/200\n",
            "244/244 - 1s - loss: 0.4354 - accuracy: 0.9013\n",
            "Epoch 77/200\n",
            "244/244 - 1s - loss: 0.4175 - accuracy: 0.9079\n",
            "Epoch 78/200\n",
            "244/244 - 1s - loss: 0.4070 - accuracy: 0.9066\n",
            "Epoch 79/200\n",
            "244/244 - 1s - loss: 0.3984 - accuracy: 0.9088\n",
            "Epoch 80/200\n",
            "244/244 - 1s - loss: 0.3897 - accuracy: 0.9090\n",
            "Epoch 81/200\n",
            "244/244 - 1s - loss: 0.3807 - accuracy: 0.9095\n",
            "Epoch 82/200\n",
            "244/244 - 1s - loss: 0.3774 - accuracy: 0.9099\n",
            "Epoch 83/200\n",
            "244/244 - 1s - loss: 0.3711 - accuracy: 0.9117\n",
            "Epoch 84/200\n",
            "244/244 - 1s - loss: 0.3664 - accuracy: 0.9117\n",
            "Epoch 85/200\n",
            "244/244 - 1s - loss: 0.3780 - accuracy: 0.9095\n",
            "Epoch 86/200\n",
            "244/244 - 1s - loss: 0.3710 - accuracy: 0.9091\n",
            "Epoch 87/200\n",
            "244/244 - 1s - loss: 0.3757 - accuracy: 0.9102\n",
            "Epoch 88/200\n",
            "244/244 - 1s - loss: 0.3557 - accuracy: 0.9097\n",
            "Epoch 89/200\n",
            "244/244 - 1s - loss: 0.3441 - accuracy: 0.9116\n",
            "Epoch 90/200\n",
            "244/244 - 1s - loss: 0.3374 - accuracy: 0.9135\n",
            "Epoch 91/200\n",
            "244/244 - 1s - loss: 0.3309 - accuracy: 0.9146\n",
            "Epoch 92/200\n",
            "244/244 - 1s - loss: 0.3287 - accuracy: 0.9136\n",
            "Epoch 93/200\n",
            "244/244 - 1s - loss: 0.3254 - accuracy: 0.9135\n",
            "Epoch 94/200\n",
            "244/244 - 1s - loss: 0.3248 - accuracy: 0.9139\n",
            "Epoch 95/200\n",
            "244/244 - 1s - loss: 0.3200 - accuracy: 0.9162\n",
            "Epoch 96/200\n",
            "244/244 - 1s - loss: 0.3221 - accuracy: 0.9136\n",
            "Epoch 97/200\n",
            "244/244 - 1s - loss: 0.3512 - accuracy: 0.9097\n",
            "Epoch 98/200\n",
            "244/244 - 1s - loss: 0.3793 - accuracy: 0.9039\n",
            "Epoch 99/200\n",
            "244/244 - 1s - loss: 0.3457 - accuracy: 0.9111\n",
            "Epoch 100/200\n",
            "244/244 - 1s - loss: 0.3161 - accuracy: 0.9144\n",
            "Epoch 101/200\n",
            "244/244 - 1s - loss: 0.3085 - accuracy: 0.9148\n",
            "Epoch 102/200\n",
            "244/244 - 1s - loss: 0.3061 - accuracy: 0.9152\n",
            "Epoch 103/200\n",
            "244/244 - 1s - loss: 0.3050 - accuracy: 0.9150\n",
            "Epoch 104/200\n",
            "244/244 - 1s - loss: 0.3037 - accuracy: 0.9157\n",
            "Epoch 105/200\n",
            "244/244 - 1s - loss: 0.3014 - accuracy: 0.9167\n",
            "Epoch 106/200\n",
            "244/244 - 1s - loss: 0.3018 - accuracy: 0.9146\n",
            "Epoch 107/200\n",
            "244/244 - 1s - loss: 0.3026 - accuracy: 0.9141\n",
            "Epoch 108/200\n",
            "244/244 - 1s - loss: 0.3003 - accuracy: 0.9149\n",
            "Epoch 109/200\n",
            "244/244 - 1s - loss: 0.3040 - accuracy: 0.9140\n",
            "Epoch 110/200\n",
            "244/244 - 1s - loss: 0.3409 - accuracy: 0.9091\n",
            "Epoch 111/200\n",
            "244/244 - 1s - loss: 0.3477 - accuracy: 0.9079\n",
            "Epoch 112/200\n",
            "244/244 - 1s - loss: 0.3328 - accuracy: 0.9104\n",
            "Epoch 113/200\n",
            "244/244 - 1s - loss: 0.3068 - accuracy: 0.9130\n",
            "Epoch 114/200\n",
            "244/244 - 1s - loss: 0.2995 - accuracy: 0.9150\n",
            "Epoch 115/200\n",
            "244/244 - 1s - loss: 0.2944 - accuracy: 0.9144\n",
            "Epoch 116/200\n",
            "244/244 - 1s - loss: 0.2926 - accuracy: 0.9153\n",
            "Epoch 117/200\n",
            "244/244 - 1s - loss: 0.2918 - accuracy: 0.9154\n",
            "Epoch 118/200\n",
            "244/244 - 1s - loss: 0.2917 - accuracy: 0.9145\n",
            "Epoch 119/200\n",
            "244/244 - 1s - loss: 0.2918 - accuracy: 0.9144\n",
            "Epoch 120/200\n",
            "244/244 - 1s - loss: 0.2904 - accuracy: 0.9140\n",
            "Epoch 121/200\n",
            "244/244 - 1s - loss: 0.2893 - accuracy: 0.9146\n",
            "Epoch 122/200\n",
            "244/244 - 1s - loss: 0.2896 - accuracy: 0.9145\n",
            "Epoch 123/200\n",
            "244/244 - 1s - loss: 0.2930 - accuracy: 0.9145\n",
            "Epoch 124/200\n",
            "244/244 - 1s - loss: 0.2948 - accuracy: 0.9141\n",
            "Epoch 125/200\n",
            "244/244 - 1s - loss: 0.2925 - accuracy: 0.9132\n",
            "Epoch 126/200\n",
            "244/244 - 1s - loss: 0.2994 - accuracy: 0.9130\n",
            "Epoch 127/200\n",
            "244/244 - 1s - loss: 0.3066 - accuracy: 0.9129\n",
            "Epoch 128/200\n",
            "244/244 - 1s - loss: 0.3059 - accuracy: 0.9118\n",
            "Epoch 129/200\n",
            "244/244 - 1s - loss: 0.3027 - accuracy: 0.9120\n",
            "Epoch 130/200\n",
            "244/244 - 1s - loss: 0.2933 - accuracy: 0.9164\n",
            "Epoch 131/200\n",
            "244/244 - 1s - loss: 0.2861 - accuracy: 0.9155\n",
            "Epoch 132/200\n",
            "244/244 - 1s - loss: 0.2841 - accuracy: 0.9166\n",
            "Epoch 133/200\n",
            "244/244 - 1s - loss: 0.2840 - accuracy: 0.9159\n",
            "Epoch 134/200\n",
            "244/244 - 1s - loss: 0.2845 - accuracy: 0.9158\n",
            "Epoch 135/200\n",
            "244/244 - 1s - loss: 0.2842 - accuracy: 0.9146\n",
            "Epoch 136/200\n",
            "244/244 - 1s - loss: 0.2839 - accuracy: 0.9158\n",
            "Epoch 137/200\n",
            "244/244 - 1s - loss: 0.2830 - accuracy: 0.9145\n",
            "Epoch 138/200\n",
            "244/244 - 1s - loss: 0.2829 - accuracy: 0.9157\n",
            "Epoch 139/200\n",
            "244/244 - 1s - loss: 0.2903 - accuracy: 0.9139\n",
            "Epoch 140/200\n",
            "244/244 - 1s - loss: 0.3837 - accuracy: 0.8934\n",
            "Epoch 141/200\n",
            "244/244 - 1s - loss: 0.3815 - accuracy: 0.8953\n",
            "Epoch 142/200\n",
            "244/244 - 1s - loss: 0.2984 - accuracy: 0.9136\n",
            "Epoch 143/200\n",
            "244/244 - 1s - loss: 0.2841 - accuracy: 0.9167\n",
            "Epoch 144/200\n",
            "244/244 - 1s - loss: 0.2812 - accuracy: 0.9162\n",
            "Epoch 145/200\n",
            "244/244 - 1s - loss: 0.2812 - accuracy: 0.9145\n",
            "Epoch 146/200\n",
            "244/244 - 1s - loss: 0.2810 - accuracy: 0.9152\n",
            "Epoch 147/200\n",
            "244/244 - 1s - loss: 0.2811 - accuracy: 0.9158\n",
            "Epoch 148/200\n",
            "244/244 - 1s - loss: 0.2797 - accuracy: 0.9153\n",
            "Epoch 149/200\n",
            "244/244 - 1s - loss: 0.2796 - accuracy: 0.9153\n",
            "Epoch 150/200\n",
            "244/244 - 1s - loss: 0.2799 - accuracy: 0.9158\n",
            "Epoch 151/200\n",
            "244/244 - 1s - loss: 0.2799 - accuracy: 0.9172\n",
            "Epoch 152/200\n",
            "244/244 - 1s - loss: 0.2802 - accuracy: 0.9154\n",
            "Epoch 153/200\n",
            "244/244 - 1s - loss: 0.2806 - accuracy: 0.9161\n",
            "Epoch 154/200\n",
            "244/244 - 1s - loss: 0.2824 - accuracy: 0.9144\n",
            "Epoch 155/200\n",
            "244/244 - 1s - loss: 0.2805 - accuracy: 0.9154\n",
            "Epoch 156/200\n",
            "244/244 - 1s - loss: 0.2831 - accuracy: 0.9149\n",
            "Epoch 157/200\n",
            "244/244 - 1s - loss: 0.2801 - accuracy: 0.9161\n",
            "Epoch 158/200\n",
            "244/244 - 1s - loss: 0.2830 - accuracy: 0.9159\n",
            "Epoch 159/200\n",
            "244/244 - 1s - loss: 0.2918 - accuracy: 0.9132\n",
            "Epoch 160/200\n",
            "244/244 - 1s - loss: 0.3773 - accuracy: 0.8949\n",
            "Epoch 161/200\n",
            "244/244 - 1s - loss: 0.3324 - accuracy: 0.9052\n",
            "Epoch 162/200\n",
            "244/244 - 1s - loss: 0.2985 - accuracy: 0.9140\n",
            "Epoch 163/200\n",
            "244/244 - 1s - loss: 0.2844 - accuracy: 0.9130\n",
            "Epoch 164/200\n",
            "244/244 - 1s - loss: 0.2778 - accuracy: 0.9164\n",
            "Epoch 165/200\n",
            "244/244 - 1s - loss: 0.2789 - accuracy: 0.9159\n",
            "Epoch 166/200\n",
            "244/244 - 1s - loss: 0.2776 - accuracy: 0.9149\n",
            "Epoch 167/200\n",
            "244/244 - 1s - loss: 0.2784 - accuracy: 0.9141\n",
            "Epoch 168/200\n",
            "244/244 - 1s - loss: 0.2769 - accuracy: 0.9162\n",
            "Epoch 169/200\n",
            "244/244 - 1s - loss: 0.2767 - accuracy: 0.9152\n",
            "Epoch 170/200\n",
            "244/244 - 1s - loss: 0.2789 - accuracy: 0.9148\n",
            "Epoch 171/200\n",
            "244/244 - 1s - loss: 0.2764 - accuracy: 0.9161\n",
            "Epoch 172/200\n",
            "244/244 - 1s - loss: 0.2787 - accuracy: 0.9146\n",
            "Epoch 173/200\n",
            "244/244 - 1s - loss: 0.2815 - accuracy: 0.9168\n",
            "Epoch 174/200\n",
            "244/244 - 1s - loss: 0.2881 - accuracy: 0.9130\n",
            "Epoch 175/200\n",
            "244/244 - 1s - loss: 0.2803 - accuracy: 0.9161\n",
            "Epoch 176/200\n",
            "244/244 - 1s - loss: 0.2796 - accuracy: 0.9157\n",
            "Epoch 177/200\n",
            "244/244 - 1s - loss: 0.2797 - accuracy: 0.9152\n",
            "Epoch 178/200\n",
            "244/244 - 1s - loss: 0.2821 - accuracy: 0.9150\n",
            "Epoch 179/200\n",
            "244/244 - 1s - loss: 0.2797 - accuracy: 0.9144\n",
            "Epoch 180/200\n",
            "244/244 - 1s - loss: 0.2805 - accuracy: 0.9145\n",
            "Epoch 181/200\n",
            "244/244 - 1s - loss: 0.2800 - accuracy: 0.9144\n",
            "Epoch 182/200\n",
            "244/244 - 1s - loss: 0.2769 - accuracy: 0.9166\n",
            "Epoch 183/200\n",
            "244/244 - 1s - loss: 0.2784 - accuracy: 0.9135\n",
            "Epoch 184/200\n",
            "244/244 - 1s - loss: 0.2794 - accuracy: 0.9152\n",
            "Epoch 185/200\n",
            "244/244 - 1s - loss: 0.2778 - accuracy: 0.9157\n",
            "Epoch 186/200\n",
            "244/244 - 1s - loss: 0.2787 - accuracy: 0.9153\n",
            "Epoch 187/200\n",
            "244/244 - 1s - loss: 0.2773 - accuracy: 0.9150\n",
            "Epoch 188/200\n",
            "244/244 - 1s - loss: 0.3036 - accuracy: 0.9111\n",
            "Epoch 189/200\n",
            "244/244 - 1s - loss: 0.3826 - accuracy: 0.8903\n",
            "Epoch 190/200\n",
            "244/244 - 1s - loss: 0.3116 - accuracy: 0.9093\n",
            "Epoch 191/200\n",
            "244/244 - 1s - loss: 0.2883 - accuracy: 0.9157\n",
            "Epoch 192/200\n",
            "244/244 - 1s - loss: 0.2791 - accuracy: 0.9135\n",
            "Epoch 193/200\n",
            "244/244 - 1s - loss: 0.2804 - accuracy: 0.9138\n",
            "Epoch 194/200\n",
            "244/244 - 1s - loss: 0.2763 - accuracy: 0.9168\n",
            "Epoch 195/200\n",
            "244/244 - 1s - loss: 0.2757 - accuracy: 0.9158\n",
            "Epoch 196/200\n",
            "244/244 - 1s - loss: 0.2751 - accuracy: 0.9163\n",
            "Epoch 197/200\n",
            "244/244 - 1s - loss: 0.2772 - accuracy: 0.9138\n",
            "Epoch 198/200\n",
            "244/244 - 1s - loss: 0.2759 - accuracy: 0.9162\n",
            "Epoch 199/200\n",
            "244/244 - 1s - loss: 0.2765 - accuracy: 0.9148\n",
            "Epoch 200/200\n",
            "244/244 - 1s - loss: 0.2757 - accuracy: 0.9170\n"
          ],
          "name": "stdout"
        }
      ]
    },
    {
      "cell_type": "markdown",
      "metadata": {
        "id": "YO6e7ka3tkty"
      },
      "source": [
        "### 모델 검증"
      ]
    },
    {
      "cell_type": "code",
      "metadata": {
        "id": "O5dcxEYhrw6T"
      },
      "source": [
        "def sentence_generation(model, t, current_word, n): # 모델, 토크나이저, 현재 단어, 반복할 횟수\r\n",
        "    init_word = current_word # 처음 들어온 단어도 마지막에 같이 출력하기위해 저장\r\n",
        "    sentence = ''\r\n",
        "    for _ in range(n): # n번 반복\r\n",
        "        encoded = t.texts_to_sequences([current_word])[0] # 현재 단어에 대한 정수 인코딩\r\n",
        "        encoded = pad_sequences([encoded], maxlen=23, padding='pre') # 데이터에 대한 패딩\r\n",
        "        result = np.argmax(model.predict(encoded), axis=-1)\r\n",
        "          # 입력한 X(현재 단어)에 대해서 y를 예측하고 y(예측한 단어)를 result에 저장.\r\n",
        "        for word, index in t.word_index.items(): \r\n",
        "            if index == result: # 만약 예측한 단어와 인덱스와 동일한 단어가 있다면\r\n",
        "                break # 해당 단어가 예측 단어이므로 break\r\n",
        "        current_word = current_word + ' '  + word # 현재 단어 + ' ' + 예측 단어를 현재 단어로 변경\r\n",
        "        sentence = sentence + ' ' + word # 예측 단어를 문장에 저장\r\n",
        "\r\n",
        "    sentence = init_word + sentence\r\n",
        "    return sentence"
      ],
      "execution_count": 28,
      "outputs": []
    },
    {
      "cell_type": "code",
      "metadata": {
        "colab": {
          "base_uri": "https://localhost:8080/"
        },
        "id": "sb59wQiottxR",
        "outputId": "a0cdc1bc-f35f-40e9-bc78-781959851d14"
      },
      "source": [
        "print(sentence_generation(model, t, 'i', 10))\r\n",
        "print(sentence_generation(model, t, 'how', 10))\r\n",
        "print(sentence_generation(model, t, 'former', 10))"
      ],
      "execution_count": 29,
      "outputs": [
        {
          "output_type": "stream",
          "text": [
            "i want to be rich and im not sorry on wells\n",
            "how do you feel about being told to smile up for\n",
            "former nfl cheerleaders settlement offer 1 and a meeting with goodell\n"
          ],
          "name": "stdout"
        }
      ]
    },
    {
      "cell_type": "markdown",
      "metadata": {
        "id": "cegkMJn2wmeE"
      },
      "source": [
        "### SimpleRNN 사용한 경우"
      ]
    },
    {
      "cell_type": "code",
      "metadata": {
        "colab": {
          "base_uri": "https://localhost:8080/"
        },
        "id": "R4h2WtRTtvM_",
        "outputId": "548e8fad-0dc9-4a70-f8a7-b4fc3f0dff57"
      },
      "source": [
        "from tensorflow.keras.layers import SimpleRNN\r\n",
        "model = Sequential()\r\n",
        "model.add(Embedding(vocab_size, 10, input_length=max_len-1, \r\n",
        "                    name=\"Embedding_Layer\"))\r\n",
        "model.add(SimpleRNN(128, name=\"SimpleRNN_Layer\"))\r\n",
        "model.add(Dense(vocab_size, activation='softmax', name=\"Output_Layer\"))\r\n",
        "model.summary()"
      ],
      "execution_count": 30,
      "outputs": [
        {
          "output_type": "stream",
          "text": [
            "Model: \"sequential_3\"\n",
            "_________________________________________________________________\n",
            "Layer (type)                 Output Shape              Param #   \n",
            "=================================================================\n",
            "Embedding_Layer (Embedding)  (None, 23, 10)            34940     \n",
            "_________________________________________________________________\n",
            "SimpleRNN_Layer (SimpleRNN)  (None, 128)               17792     \n",
            "_________________________________________________________________\n",
            "Output_Layer (Dense)         (None, 3494)              450726    \n",
            "=================================================================\n",
            "Total params: 503,458\n",
            "Trainable params: 503,458\n",
            "Non-trainable params: 0\n",
            "_________________________________________________________________\n"
          ],
          "name": "stdout"
        }
      ]
    },
    {
      "cell_type": "code",
      "metadata": {
        "id": "mNvkqMwkw4Rw"
      },
      "source": [
        "model.compile(loss='categorical_crossentropy', \r\n",
        "              optimizer='adam', metrics=['accuracy'])"
      ],
      "execution_count": 31,
      "outputs": []
    },
    {
      "cell_type": "code",
      "metadata": {
        "colab": {
          "base_uri": "https://localhost:8080/"
        },
        "id": "g91o9E1Xw42n",
        "outputId": "9f672d8b-5499-47d2-92f1-c2ede6bbcacd"
      },
      "source": [
        "history = model.fit(X, Y, epochs=200, verbose=2)"
      ],
      "execution_count": 32,
      "outputs": [
        {
          "output_type": "stream",
          "text": [
            "Epoch 1/200\n",
            "244/244 - 4s - loss: 7.6508 - accuracy: 0.0290\n",
            "Epoch 2/200\n",
            "244/244 - 4s - loss: 7.1050 - accuracy: 0.0337\n",
            "Epoch 3/200\n",
            "244/244 - 4s - loss: 6.8902 - accuracy: 0.0438\n",
            "Epoch 4/200\n",
            "244/244 - 4s - loss: 6.5982 - accuracy: 0.0514\n",
            "Epoch 5/200\n",
            "244/244 - 4s - loss: 6.2676 - accuracy: 0.0597\n",
            "Epoch 6/200\n",
            "244/244 - 4s - loss: 5.9537 - accuracy: 0.0651\n",
            "Epoch 7/200\n",
            "244/244 - 4s - loss: 5.6535 - accuracy: 0.0693\n",
            "Epoch 8/200\n",
            "244/244 - 4s - loss: 5.3538 - accuracy: 0.0801\n",
            "Epoch 9/200\n",
            "244/244 - 4s - loss: 5.0782 - accuracy: 0.1005\n",
            "Epoch 10/200\n",
            "244/244 - 4s - loss: 4.8192 - accuracy: 0.1262\n",
            "Epoch 11/200\n",
            "244/244 - 4s - loss: 4.5639 - accuracy: 0.1539\n",
            "Epoch 12/200\n",
            "244/244 - 4s - loss: 4.3252 - accuracy: 0.1938\n",
            "Epoch 13/200\n",
            "244/244 - 4s - loss: 4.0902 - accuracy: 0.2288\n",
            "Epoch 14/200\n",
            "244/244 - 4s - loss: 3.8796 - accuracy: 0.2689\n",
            "Epoch 15/200\n",
            "244/244 - 4s - loss: 3.6725 - accuracy: 0.3039\n",
            "Epoch 16/200\n",
            "244/244 - 4s - loss: 3.4780 - accuracy: 0.3374\n",
            "Epoch 17/200\n",
            "244/244 - 4s - loss: 3.2937 - accuracy: 0.3679\n",
            "Epoch 18/200\n",
            "244/244 - 4s - loss: 3.1227 - accuracy: 0.4000\n",
            "Epoch 19/200\n",
            "244/244 - 4s - loss: 2.9614 - accuracy: 0.4288\n",
            "Epoch 20/200\n",
            "244/244 - 4s - loss: 2.8110 - accuracy: 0.4546\n",
            "Epoch 21/200\n",
            "244/244 - 4s - loss: 2.6714 - accuracy: 0.4830\n",
            "Epoch 22/200\n",
            "244/244 - 4s - loss: 2.5350 - accuracy: 0.5103\n",
            "Epoch 23/200\n",
            "244/244 - 4s - loss: 2.4132 - accuracy: 0.5326\n",
            "Epoch 24/200\n",
            "244/244 - 4s - loss: 2.2890 - accuracy: 0.5588\n",
            "Epoch 25/200\n",
            "244/244 - 4s - loss: 2.1755 - accuracy: 0.5776\n",
            "Epoch 26/200\n",
            "244/244 - 4s - loss: 2.0686 - accuracy: 0.6014\n",
            "Epoch 27/200\n",
            "244/244 - 4s - loss: 1.9696 - accuracy: 0.6180\n",
            "Epoch 28/200\n",
            "244/244 - 4s - loss: 1.8741 - accuracy: 0.6381\n",
            "Epoch 29/200\n",
            "244/244 - 4s - loss: 1.7926 - accuracy: 0.6509\n",
            "Epoch 30/200\n",
            "244/244 - 4s - loss: 1.7059 - accuracy: 0.6690\n",
            "Epoch 31/200\n",
            "244/244 - 5s - loss: 1.6234 - accuracy: 0.6888\n",
            "Epoch 32/200\n",
            "244/244 - 4s - loss: 1.5499 - accuracy: 0.7018\n",
            "Epoch 33/200\n",
            "244/244 - 4s - loss: 1.4831 - accuracy: 0.7168\n",
            "Epoch 34/200\n",
            "244/244 - 4s - loss: 1.4103 - accuracy: 0.7292\n",
            "Epoch 35/200\n",
            "244/244 - 4s - loss: 1.3436 - accuracy: 0.7407\n",
            "Epoch 36/200\n",
            "244/244 - 4s - loss: 1.2835 - accuracy: 0.7575\n",
            "Epoch 37/200\n",
            "244/244 - 4s - loss: 1.2264 - accuracy: 0.7710\n",
            "Epoch 38/200\n",
            "244/244 - 4s - loss: 1.1713 - accuracy: 0.7806\n",
            "Epoch 39/200\n",
            "244/244 - 4s - loss: 1.1167 - accuracy: 0.7923\n",
            "Epoch 40/200\n",
            "244/244 - 4s - loss: 1.0675 - accuracy: 0.8016\n",
            "Epoch 41/200\n",
            "244/244 - 4s - loss: 1.0265 - accuracy: 0.8079\n",
            "Epoch 42/200\n",
            "244/244 - 4s - loss: 0.9769 - accuracy: 0.8199\n",
            "Epoch 43/200\n",
            "244/244 - 4s - loss: 0.9337 - accuracy: 0.8285\n",
            "Epoch 44/200\n",
            "244/244 - 5s - loss: 0.8956 - accuracy: 0.8361\n",
            "Epoch 45/200\n",
            "244/244 - 5s - loss: 0.8520 - accuracy: 0.8448\n",
            "Epoch 46/200\n",
            "244/244 - 4s - loss: 0.8206 - accuracy: 0.8493\n",
            "Epoch 47/200\n",
            "244/244 - 4s - loss: 0.7859 - accuracy: 0.8562\n",
            "Epoch 48/200\n",
            "244/244 - 4s - loss: 0.7561 - accuracy: 0.8616\n",
            "Epoch 49/200\n",
            "244/244 - 4s - loss: 0.7286 - accuracy: 0.8683\n",
            "Epoch 50/200\n",
            "244/244 - 4s - loss: 0.6990 - accuracy: 0.8695\n",
            "Epoch 51/200\n",
            "244/244 - 5s - loss: 0.6658 - accuracy: 0.8759\n",
            "Epoch 52/200\n",
            "244/244 - 4s - loss: 0.6448 - accuracy: 0.8811\n",
            "Epoch 53/200\n",
            "244/244 - 4s - loss: 0.6184 - accuracy: 0.8858\n",
            "Epoch 54/200\n",
            "244/244 - 4s - loss: 0.5938 - accuracy: 0.8876\n",
            "Epoch 55/200\n",
            "244/244 - 4s - loss: 0.5929 - accuracy: 0.8886\n",
            "Epoch 56/200\n",
            "244/244 - 4s - loss: 0.5617 - accuracy: 0.8925\n",
            "Epoch 57/200\n",
            "244/244 - 4s - loss: 0.5376 - accuracy: 0.8959\n",
            "Epoch 58/200\n",
            "244/244 - 4s - loss: 0.5152 - accuracy: 0.8973\n",
            "Epoch 59/200\n",
            "244/244 - 4s - loss: 0.5043 - accuracy: 0.8994\n",
            "Epoch 60/200\n",
            "244/244 - 4s - loss: 0.4894 - accuracy: 0.9023\n",
            "Epoch 61/200\n",
            "244/244 - 4s - loss: 0.4782 - accuracy: 0.9027\n",
            "Epoch 62/200\n",
            "244/244 - 4s - loss: 0.4591 - accuracy: 0.9050\n",
            "Epoch 63/200\n",
            "244/244 - 4s - loss: 0.4508 - accuracy: 0.9036\n",
            "Epoch 64/200\n",
            "244/244 - 4s - loss: 0.5386 - accuracy: 0.8877\n",
            "Epoch 65/200\n",
            "244/244 - 4s - loss: 0.4718 - accuracy: 0.9036\n",
            "Epoch 66/200\n",
            "244/244 - 3s - loss: 0.4215 - accuracy: 0.9084\n",
            "Epoch 67/200\n",
            "244/244 - 4s - loss: 0.4064 - accuracy: 0.9091\n",
            "Epoch 68/200\n",
            "244/244 - 4s - loss: 0.3977 - accuracy: 0.9108\n",
            "Epoch 69/200\n",
            "244/244 - 4s - loss: 0.3901 - accuracy: 0.9116\n",
            "Epoch 70/200\n",
            "244/244 - 4s - loss: 0.3886 - accuracy: 0.9114\n",
            "Epoch 71/200\n",
            "244/244 - 4s - loss: 0.3809 - accuracy: 0.9135\n",
            "Epoch 72/200\n",
            "244/244 - 4s - loss: 0.3736 - accuracy: 0.9129\n",
            "Epoch 73/200\n",
            "244/244 - 4s - loss: 0.3872 - accuracy: 0.9125\n",
            "Epoch 74/200\n",
            "244/244 - 4s - loss: 0.3716 - accuracy: 0.9122\n",
            "Epoch 75/200\n",
            "244/244 - 4s - loss: 0.3591 - accuracy: 0.9132\n",
            "Epoch 76/200\n",
            "244/244 - 4s - loss: 0.3536 - accuracy: 0.9132\n",
            "Epoch 77/200\n",
            "244/244 - 4s - loss: 0.3480 - accuracy: 0.9170\n",
            "Epoch 78/200\n",
            "244/244 - 4s - loss: 0.3528 - accuracy: 0.9141\n",
            "Epoch 79/200\n",
            "244/244 - 5s - loss: 0.3481 - accuracy: 0.9130\n",
            "Epoch 80/200\n",
            "244/244 - 4s - loss: 0.3482 - accuracy: 0.9144\n",
            "Epoch 81/200\n",
            "244/244 - 4s - loss: 0.3477 - accuracy: 0.9140\n",
            "Epoch 82/200\n",
            "244/244 - 4s - loss: 0.3406 - accuracy: 0.9138\n",
            "Epoch 83/200\n",
            "244/244 - 4s - loss: 0.3301 - accuracy: 0.9155\n",
            "Epoch 84/200\n",
            "244/244 - 4s - loss: 0.3311 - accuracy: 0.9135\n",
            "Epoch 85/200\n",
            "244/244 - 4s - loss: 0.3339 - accuracy: 0.9139\n",
            "Epoch 86/200\n",
            "244/244 - 4s - loss: 0.3295 - accuracy: 0.9146\n",
            "Epoch 87/200\n",
            "244/244 - 4s - loss: 0.3277 - accuracy: 0.9152\n",
            "Epoch 88/200\n",
            "244/244 - 4s - loss: 0.3245 - accuracy: 0.9138\n",
            "Epoch 89/200\n",
            "244/244 - 4s - loss: 0.3206 - accuracy: 0.9127\n",
            "Epoch 90/200\n",
            "244/244 - 4s - loss: 0.3485 - accuracy: 0.9088\n",
            "Epoch 91/200\n",
            "244/244 - 4s - loss: 0.3468 - accuracy: 0.9120\n",
            "Epoch 92/200\n",
            "244/244 - 4s - loss: 0.3172 - accuracy: 0.9140\n",
            "Epoch 93/200\n",
            "244/244 - 4s - loss: 0.3087 - accuracy: 0.9149\n",
            "Epoch 94/200\n",
            "244/244 - 4s - loss: 0.3089 - accuracy: 0.9144\n",
            "Epoch 95/200\n",
            "244/244 - 4s - loss: 0.3075 - accuracy: 0.9157\n",
            "Epoch 96/200\n",
            "244/244 - 4s - loss: 0.3067 - accuracy: 0.9159\n",
            "Epoch 97/200\n",
            "244/244 - 4s - loss: 0.3096 - accuracy: 0.9149\n",
            "Epoch 98/200\n",
            "244/244 - 4s - loss: 0.3093 - accuracy: 0.9135\n",
            "Epoch 99/200\n",
            "244/244 - 4s - loss: 0.3042 - accuracy: 0.9154\n",
            "Epoch 100/200\n",
            "244/244 - 4s - loss: 0.3056 - accuracy: 0.9146\n",
            "Epoch 101/200\n",
            "244/244 - 4s - loss: 0.3095 - accuracy: 0.9140\n",
            "Epoch 102/200\n",
            "244/244 - 4s - loss: 0.3036 - accuracy: 0.9157\n",
            "Epoch 103/200\n",
            "244/244 - 4s - loss: 0.3036 - accuracy: 0.9139\n",
            "Epoch 104/200\n",
            "244/244 - 4s - loss: 0.3059 - accuracy: 0.9149\n",
            "Epoch 105/200\n",
            "244/244 - 3s - loss: 0.3036 - accuracy: 0.9152\n",
            "Epoch 106/200\n",
            "244/244 - 4s - loss: 0.3041 - accuracy: 0.9148\n",
            "Epoch 107/200\n",
            "244/244 - 4s - loss: 0.3075 - accuracy: 0.9153\n",
            "Epoch 108/200\n",
            "244/244 - 4s - loss: 0.3052 - accuracy: 0.9145\n",
            "Epoch 109/200\n",
            "244/244 - 5s - loss: 0.2984 - accuracy: 0.9149\n",
            "Epoch 110/200\n",
            "244/244 - 4s - loss: 0.3009 - accuracy: 0.9145\n",
            "Epoch 111/200\n",
            "244/244 - 5s - loss: 0.3040 - accuracy: 0.9159\n",
            "Epoch 112/200\n",
            "244/244 - 4s - loss: 0.3033 - accuracy: 0.9140\n",
            "Epoch 113/200\n",
            "244/244 - 4s - loss: 0.2996 - accuracy: 0.9132\n",
            "Epoch 114/200\n",
            "244/244 - 4s - loss: 0.2983 - accuracy: 0.9158\n",
            "Epoch 115/200\n",
            "244/244 - 4s - loss: 0.2976 - accuracy: 0.9149\n",
            "Epoch 116/200\n",
            "244/244 - 4s - loss: 0.2979 - accuracy: 0.9145\n",
            "Epoch 117/200\n",
            "244/244 - 4s - loss: 0.2974 - accuracy: 0.9153\n",
            "Epoch 118/200\n",
            "244/244 - 4s - loss: 0.2987 - accuracy: 0.9138\n",
            "Epoch 119/200\n",
            "244/244 - 4s - loss: 0.2963 - accuracy: 0.9145\n",
            "Epoch 120/200\n",
            "244/244 - 4s - loss: 0.2960 - accuracy: 0.9132\n",
            "Epoch 121/200\n",
            "244/244 - 4s - loss: 0.2953 - accuracy: 0.9139\n",
            "Epoch 122/200\n",
            "244/244 - 4s - loss: 0.3005 - accuracy: 0.9141\n",
            "Epoch 123/200\n",
            "244/244 - 4s - loss: 0.3555 - accuracy: 0.9030\n",
            "Epoch 124/200\n",
            "244/244 - 3s - loss: 0.2959 - accuracy: 0.9140\n",
            "Epoch 125/200\n",
            "244/244 - 4s - loss: 0.2912 - accuracy: 0.9136\n",
            "Epoch 126/200\n",
            "244/244 - 4s - loss: 0.2905 - accuracy: 0.9143\n",
            "Epoch 127/200\n",
            "244/244 - 4s - loss: 0.2917 - accuracy: 0.9144\n",
            "Epoch 128/200\n",
            "244/244 - 4s - loss: 0.2916 - accuracy: 0.9154\n",
            "Epoch 129/200\n",
            "244/244 - 5s - loss: 0.2914 - accuracy: 0.9148\n",
            "Epoch 130/200\n",
            "244/244 - 4s - loss: 0.2914 - accuracy: 0.9148\n",
            "Epoch 131/200\n",
            "244/244 - 4s - loss: 0.2894 - accuracy: 0.9155\n",
            "Epoch 132/200\n",
            "244/244 - 4s - loss: 0.2898 - accuracy: 0.9152\n",
            "Epoch 133/200\n",
            "244/244 - 4s - loss: 0.2959 - accuracy: 0.9146\n",
            "Epoch 134/200\n",
            "244/244 - 4s - loss: 0.2925 - accuracy: 0.9134\n",
            "Epoch 135/200\n",
            "244/244 - 4s - loss: 0.2966 - accuracy: 0.9157\n",
            "Epoch 136/200\n",
            "244/244 - 4s - loss: 0.2958 - accuracy: 0.9145\n",
            "Epoch 137/200\n",
            "244/244 - 4s - loss: 0.2909 - accuracy: 0.9145\n",
            "Epoch 138/200\n",
            "244/244 - 4s - loss: 0.2915 - accuracy: 0.9150\n",
            "Epoch 139/200\n",
            "244/244 - 4s - loss: 0.2921 - accuracy: 0.9154\n",
            "Epoch 140/200\n",
            "244/244 - 4s - loss: 0.2924 - accuracy: 0.9163\n",
            "Epoch 141/200\n",
            "244/244 - 4s - loss: 0.2956 - accuracy: 0.9143\n",
            "Epoch 142/200\n",
            "244/244 - 4s - loss: 0.2948 - accuracy: 0.9139\n",
            "Epoch 143/200\n",
            "244/244 - 4s - loss: 0.3205 - accuracy: 0.9127\n",
            "Epoch 144/200\n",
            "244/244 - 4s - loss: 0.3003 - accuracy: 0.9136\n",
            "Epoch 145/200\n",
            "244/244 - 4s - loss: 0.2907 - accuracy: 0.9145\n",
            "Epoch 146/200\n",
            "244/244 - 4s - loss: 0.2901 - accuracy: 0.9152\n",
            "Epoch 147/200\n",
            "244/244 - 4s - loss: 0.2889 - accuracy: 0.9148\n",
            "Epoch 148/200\n",
            "244/244 - 4s - loss: 0.2898 - accuracy: 0.9146\n",
            "Epoch 149/200\n",
            "244/244 - 4s - loss: 0.3466 - accuracy: 0.9055\n",
            "Epoch 150/200\n",
            "244/244 - 4s - loss: 0.3267 - accuracy: 0.9098\n",
            "Epoch 151/200\n",
            "244/244 - 4s - loss: 0.2916 - accuracy: 0.9153\n",
            "Epoch 152/200\n",
            "244/244 - 4s - loss: 0.2845 - accuracy: 0.9153\n",
            "Epoch 153/200\n",
            "244/244 - 4s - loss: 0.2871 - accuracy: 0.9144\n",
            "Epoch 154/200\n",
            "244/244 - 4s - loss: 0.2869 - accuracy: 0.9134\n",
            "Epoch 155/200\n",
            "244/244 - 4s - loss: 0.2877 - accuracy: 0.9158\n",
            "Epoch 156/200\n",
            "244/244 - 4s - loss: 0.2883 - accuracy: 0.9138\n",
            "Epoch 157/200\n",
            "244/244 - 5s - loss: 0.2851 - accuracy: 0.9166\n",
            "Epoch 158/200\n",
            "244/244 - 4s - loss: 0.2862 - accuracy: 0.9164\n",
            "Epoch 159/200\n",
            "244/244 - 4s - loss: 0.2885 - accuracy: 0.9159\n",
            "Epoch 160/200\n",
            "244/244 - 4s - loss: 0.2866 - accuracy: 0.9154\n",
            "Epoch 161/200\n",
            "244/244 - 4s - loss: 0.3057 - accuracy: 0.9123\n",
            "Epoch 162/200\n",
            "244/244 - 4s - loss: 0.2913 - accuracy: 0.9138\n",
            "Epoch 163/200\n",
            "244/244 - 4s - loss: 0.2904 - accuracy: 0.9131\n",
            "Epoch 164/200\n",
            "244/244 - 4s - loss: 0.2871 - accuracy: 0.9153\n",
            "Epoch 165/200\n",
            "244/244 - 4s - loss: 0.2891 - accuracy: 0.9161\n",
            "Epoch 166/200\n",
            "244/244 - 4s - loss: 0.2866 - accuracy: 0.9148\n",
            "Epoch 167/200\n",
            "244/244 - 4s - loss: 0.2896 - accuracy: 0.9143\n",
            "Epoch 168/200\n",
            "244/244 - 4s - loss: 0.2878 - accuracy: 0.9158\n",
            "Epoch 169/200\n",
            "244/244 - 4s - loss: 0.2892 - accuracy: 0.9141\n",
            "Epoch 170/200\n",
            "244/244 - 4s - loss: 0.2888 - accuracy: 0.9139\n",
            "Epoch 171/200\n",
            "244/244 - 4s - loss: 0.2859 - accuracy: 0.9161\n",
            "Epoch 172/200\n",
            "244/244 - 4s - loss: 0.2898 - accuracy: 0.9145\n",
            "Epoch 173/200\n",
            "244/244 - 4s - loss: 0.2878 - accuracy: 0.9164\n",
            "Epoch 174/200\n",
            "244/244 - 4s - loss: 0.2884 - accuracy: 0.9134\n",
            "Epoch 175/200\n",
            "244/244 - 4s - loss: 0.2873 - accuracy: 0.9144\n",
            "Epoch 176/200\n",
            "244/244 - 4s - loss: 0.2885 - accuracy: 0.9149\n",
            "Epoch 177/200\n",
            "244/244 - 4s - loss: 0.2884 - accuracy: 0.9155\n",
            "Epoch 178/200\n",
            "244/244 - 4s - loss: 0.2898 - accuracy: 0.9148\n",
            "Epoch 179/200\n",
            "244/244 - 4s - loss: 0.2888 - accuracy: 0.9149\n",
            "Epoch 180/200\n",
            "244/244 - 4s - loss: 0.2897 - accuracy: 0.9141\n",
            "Epoch 181/200\n",
            "244/244 - 4s - loss: 0.2878 - accuracy: 0.9135\n",
            "Epoch 182/200\n",
            "244/244 - 4s - loss: 0.3082 - accuracy: 0.9116\n",
            "Epoch 183/200\n",
            "244/244 - 4s - loss: 0.2931 - accuracy: 0.9136\n",
            "Epoch 184/200\n",
            "244/244 - 4s - loss: 0.2991 - accuracy: 0.9122\n",
            "Epoch 185/200\n",
            "244/244 - 4s - loss: 0.2869 - accuracy: 0.9152\n",
            "Epoch 186/200\n",
            "244/244 - 4s - loss: 0.2920 - accuracy: 0.9132\n",
            "Epoch 187/200\n",
            "244/244 - 4s - loss: 0.2866 - accuracy: 0.9148\n",
            "Epoch 188/200\n",
            "244/244 - 4s - loss: 0.2869 - accuracy: 0.9140\n",
            "Epoch 189/200\n",
            "244/244 - 4s - loss: 0.2878 - accuracy: 0.9150\n",
            "Epoch 190/200\n",
            "244/244 - 4s - loss: 0.2854 - accuracy: 0.9149\n",
            "Epoch 191/200\n",
            "244/244 - 4s - loss: 0.2854 - accuracy: 0.9146\n",
            "Epoch 192/200\n",
            "244/244 - 4s - loss: 0.2878 - accuracy: 0.9149\n",
            "Epoch 193/200\n",
            "244/244 - 4s - loss: 0.2870 - accuracy: 0.9134\n",
            "Epoch 194/200\n",
            "244/244 - 4s - loss: 0.2882 - accuracy: 0.9164\n",
            "Epoch 195/200\n",
            "244/244 - 4s - loss: 0.2861 - accuracy: 0.9146\n",
            "Epoch 196/200\n",
            "244/244 - 5s - loss: 0.2865 - accuracy: 0.9149\n",
            "Epoch 197/200\n",
            "244/244 - 4s - loss: 0.2891 - accuracy: 0.9144\n",
            "Epoch 198/200\n",
            "244/244 - 4s - loss: 0.2869 - accuracy: 0.9154\n",
            "Epoch 199/200\n",
            "244/244 - 4s - loss: 0.2899 - accuracy: 0.9136\n",
            "Epoch 200/200\n",
            "244/244 - 4s - loss: 0.2877 - accuracy: 0.9162\n"
          ],
          "name": "stdout"
        }
      ]
    },
    {
      "cell_type": "code",
      "metadata": {
        "colab": {
          "base_uri": "https://localhost:8080/"
        },
        "id": "j5aY3Xg6w-c_",
        "outputId": "e5cd7016-f1e2-40bd-d47e-b09506c2d2f6"
      },
      "source": [
        "print(sentence_generation(model, t, 'i', 10))\r\n",
        "print(sentence_generation(model, t, 'how', 10))\r\n",
        "print(sentence_generation(model, t, 'former', 10))"
      ],
      "execution_count": 33,
      "outputs": [
        {
          "output_type": "stream",
          "text": [
            "i want to be rich and im not sorry in he\n",
            "how do you feel about being told to smile senate than\n",
            "former nfl cheerleaders settlement offer 1 and a meeting with goodell\n"
          ],
          "name": "stdout"
        }
      ]
    },
    {
      "cell_type": "markdown",
      "metadata": {
        "id": "6wYgwc9-1R1B"
      },
      "source": [
        "### SimpleRNN\r\n",
        "- i want to be rich and im not sorry in he\r\n",
        "- how do you feel about being told to smile senate than\r\n",
        "- former nfl cheerleaders settlement offer 1 and a meeting with goodell"
      ]
    },
    {
      "cell_type": "markdown",
      "metadata": {
        "id": "YHGaJQTJ0M3E"
      },
      "source": [
        "### GRU\r\n",
        "- i want to be rich and im not sorry on wells\r\n",
        "- how do you feel about being told to smile up for\r\n",
        "- former nfl cheerleaders settlement offer 1 and a meeting with goodell"
      ]
    },
    {
      "cell_type": "markdown",
      "metadata": {
        "id": "Yuw9l5Pr0V6Y"
      },
      "source": [
        "### LSTM\r\n",
        "- i want to be rich and im not sorry case of\r\n",
        "- how to prevent a racist hoodie no than a death and\r\n",
        "- former nfl cheerleaders settlement offer 1 and a meeting with goodell"
      ]
    },
    {
      "cell_type": "code",
      "metadata": {
        "id": "NHupXWhn0THu"
      },
      "source": [
        ""
      ],
      "execution_count": null,
      "outputs": []
    }
  ]
}