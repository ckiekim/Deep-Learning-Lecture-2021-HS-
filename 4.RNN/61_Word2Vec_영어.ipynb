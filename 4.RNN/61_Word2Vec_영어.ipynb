{
  "nbformat": 4,
  "nbformat_minor": 0,
  "metadata": {
    "colab": {
      "name": "61_Word2Vec_영어.ipynb",
      "provenance": [],
      "collapsed_sections": []
    },
    "kernelspec": {
      "name": "python3",
      "display_name": "Python 3"
    }
  },
  "cells": [
    {
      "cell_type": "markdown",
      "metadata": {
        "id": "8h4bVYNKx5Tu"
      },
      "source": [
        "# 영어 Word2Vec 만들기\r\n",
        "- 영어로 된 코퍼스를 다운받아 전처리를 수행\r\n",
        "- 전처리한 데이터를 바탕으로 Word2Vec 작업을 진행"
      ]
    },
    {
      "cell_type": "code",
      "metadata": {
        "colab": {
          "base_uri": "https://localhost:8080/"
        },
        "id": "oS96lHMex8Wk",
        "outputId": "1ee07099-52be-42ff-ebe5-353ab0c2c72b"
      },
      "source": [
        "import nltk\r\n",
        "nltk.download('punkt')"
      ],
      "execution_count": 1,
      "outputs": [
        {
          "output_type": "stream",
          "text": [
            "[nltk_data] Downloading package punkt to /root/nltk_data...\n",
            "[nltk_data]   Unzipping tokenizers/punkt.zip.\n"
          ],
          "name": "stdout"
        },
        {
          "output_type": "execute_result",
          "data": {
            "text/plain": [
              "True"
            ]
          },
          "metadata": {
            "tags": []
          },
          "execution_count": 1
        }
      ]
    },
    {
      "cell_type": "code",
      "metadata": {
        "id": "AZoyBEDEySYg"
      },
      "source": [
        "import urllib.request\r\n",
        "import zipfile\r\n",
        "from lxml import etree\r\n",
        "import re\r\n",
        "from nltk.tokenize import word_tokenize, sent_tokenize"
      ],
      "execution_count": 2,
      "outputs": []
    },
    {
      "cell_type": "markdown",
      "metadata": {
        "id": "omsCfX7hybvf"
      },
      "source": [
        "### 훈련 데이터 이해하기"
      ]
    },
    {
      "cell_type": "code",
      "metadata": {
        "colab": {
          "base_uri": "https://localhost:8080/"
        },
        "id": "DguYUgUcyW6k",
        "outputId": "b0ddeb73-5caf-4ca8-c5c6-73c352ba203c"
      },
      "source": [
        "# 데이터 다운로드\r\n",
        "urllib.request.urlretrieve(\"https://raw.githubusercontent.com/GaoleMeng/RNN-and-FFNN-textClassification/master/ted_en-20160408.xml\", filename=\"ted_en-20160408.xml\")"
      ],
      "execution_count": 3,
      "outputs": [
        {
          "output_type": "execute_result",
          "data": {
            "text/plain": [
              "('ted_en-20160408.xml', <http.client.HTTPMessage at 0x7fb9bc6ed310>)"
            ]
          },
          "metadata": {
            "tags": []
          },
          "execution_count": 3
        }
      ]
    },
    {
      "cell_type": "code",
      "metadata": {
        "colab": {
          "base_uri": "https://localhost:8080/"
        },
        "id": "nMyfwI1eiFgh",
        "outputId": "e3ed083b-fb7d-4cee-9904-724f966a897b"
      },
      "source": [
        "!ls -l"
      ],
      "execution_count": 4,
      "outputs": [
        {
          "output_type": "stream",
          "text": [
            "total 72792\n",
            "drwxr-xr-x 1 root root     4096 Feb 22 14:38 sample_data\n",
            "-rw-r--r-- 1 root root 74533638 Feb 24 00:54 ted_en-20160408.xml\n"
          ],
          "name": "stdout"
        }
      ]
    },
    {
      "cell_type": "markdown",
      "metadata": {
        "id": "b-6rAOUhyt-P"
      },
      "source": [
        "### 훈련 데이터 전처리하기\n",
        "- 실질적 데이터는 영어문장으로만 구성된 내용을 담고 있는 &lt;content>와 &lt;/content> 사이의 내용\n",
        "- (Laughter)나 (Applause)와 같은 배경음을 나타내는 단어도 등장하는데 이 또한 제거"
      ]
    },
    {
      "cell_type": "code",
      "metadata": {
        "id": "4flti7I3y-Eh"
      },
      "source": [
        "targetXML = open('ted_en-20160408.xml', 'r', encoding='UTF8')\r\n",
        "target_text = etree.parse(targetXML)\r\n",
        "\r\n",
        "# xml 파일로부터 <content>와 </content> 사이의 내용만 가져옴.\r\n",
        "parse_text = '\\n'.join(target_text.xpath('//content/text()'))"
      ],
      "execution_count": 5,
      "outputs": []
    },
    {
      "cell_type": "code",
      "metadata": {
        "id": "_dB7t5SBzOE9"
      },
      "source": [
        "# 정규 표현식의 sub 모듈을 통해 content 중간에 등장하는 (Audio), (Laughter) 등의 배경음 부분을 제거.\r\n",
        "# 해당 코드는 괄호로 구성된 내용을 제거.\r\n",
        "content_text = re.sub(r'\\([^)]*\\)', '', parse_text)"
      ],
      "execution_count": 6,
      "outputs": []
    },
    {
      "cell_type": "code",
      "metadata": {
        "id": "8qT0FdrVzTiw"
      },
      "source": [
        "# 입력 코퍼스에 대해서 NLTK를 이용하여 문장 토큰화를 수행.\r\n",
        "sent_text = sent_tokenize(content_text)"
      ],
      "execution_count": 7,
      "outputs": []
    },
    {
      "cell_type": "code",
      "metadata": {
        "id": "TxVbdHwszb_d"
      },
      "source": [
        "# 각 문장에 대해서 구두점을 제거하고, 대문자를 소문자로 변환.\r\n",
        "normalized_text = []\r\n",
        "for string in sent_text:\r\n",
        "     tokens = re.sub(r\"[^a-z0-9]+\", \" \", string.lower())\r\n",
        "     normalized_text.append(tokens)"
      ],
      "execution_count": 8,
      "outputs": []
    },
    {
      "cell_type": "code",
      "metadata": {
        "id": "aQAMuTCKzb6U"
      },
      "source": [
        "# 각 문장에 대해서 NLTK를 이용하여 단어 토큰화를 수행.\r\n",
        "result = [word_tokenize(sentence) for sentence in normalized_text]"
      ],
      "execution_count": 9,
      "outputs": []
    },
    {
      "cell_type": "code",
      "metadata": {
        "colab": {
          "base_uri": "https://localhost:8080/"
        },
        "id": "EpE70h-szb2v",
        "outputId": "e704abaa-348e-4b02-cb99-32ee39d26f22"
      },
      "source": [
        "print(f'총 샘플의 개수 : {len(result)}')\r\n",
        "for line in result[:3]:\r\n",
        "    print(line)"
      ],
      "execution_count": 10,
      "outputs": [
        {
          "output_type": "stream",
          "text": [
            "총 샘플의 개수 : 273424\n",
            "['here', 'are', 'two', 'reasons', 'companies', 'fail', 'they', 'only', 'do', 'more', 'of', 'the', 'same', 'or', 'they', 'only', 'do', 'what', 's', 'new']\n",
            "['to', 'me', 'the', 'real', 'real', 'solution', 'to', 'quality', 'growth', 'is', 'figuring', 'out', 'the', 'balance', 'between', 'two', 'activities', 'exploration', 'and', 'exploitation']\n",
            "['both', 'are', 'necessary', 'but', 'it', 'can', 'be', 'too', 'much', 'of', 'a', 'good', 'thing']\n"
          ],
          "name": "stdout"
        }
      ]
    },
    {
      "cell_type": "markdown",
      "metadata": {
        "id": "jTqqx14D0IDj"
      },
      "source": [
        "### Word2Vec 훈련시키기\r\n",
        "- size = 워드 벡터의 특징 값. 즉, 임베딩 된 벡터의 차원.\r\n",
        "- window = 컨텍스트 윈도우 크기\r\n",
        "- min_count = 단어 최소 빈도 수 제한 (빈도가 적은 단어들은 학습하지 않는다.)\r\n",
        "- workers = 학습을 위한 프로세스 수\r\n",
        "- sg = 0은 CBOW, 1은 Skip-gram"
      ]
    },
    {
      "cell_type": "code",
      "metadata": {
        "id": "0THo73iOz_YP"
      },
      "source": [
        "from gensim.models import Word2Vec\r\n",
        "model = Word2Vec(sentences=result, size=100, window=5, min_count=5, workers=4, sg=0)"
      ],
      "execution_count": 11,
      "outputs": []
    },
    {
      "cell_type": "code",
      "metadata": {
        "colab": {
          "base_uri": "https://localhost:8080/"
        },
        "id": "fzJb-Ryq0eT2",
        "outputId": "d28ac257-d9c8-4b2a-e567-d6ab7f91c44c"
      },
      "source": [
        "model_result = model.wv.most_similar(\"man\")\r\n",
        "model_result"
      ],
      "execution_count": 12,
      "outputs": [
        {
          "output_type": "execute_result",
          "data": {
            "text/plain": [
              "[('woman', 0.8554749488830566),\n",
              " ('guy', 0.8134635090827942),\n",
              " ('lady', 0.7732557058334351),\n",
              " ('girl', 0.7537418603897095),\n",
              " ('boy', 0.7471151351928711),\n",
              " ('soldier', 0.7363888621330261),\n",
              " ('kid', 0.7195295095443726),\n",
              " ('gentleman', 0.7117323875427246),\n",
              " ('poet', 0.695116400718689),\n",
              " ('rabbi', 0.6628832221031189)]"
            ]
          },
          "metadata": {
            "tags": []
          },
          "execution_count": 12
        }
      ]
    },
    {
      "cell_type": "code",
      "metadata": {
        "colab": {
          "base_uri": "https://localhost:8080/"
        },
        "id": "RuZitRqqkU__",
        "outputId": "836ecdc7-21c4-4867-c9b3-8e1b5b7e1a05"
      },
      "source": [
        "# man - boy + girl --> woman\r\n",
        "model.wv.most_similar(positive=['man', 'girl'], negative=['boy'], topn=3)"
      ],
      "execution_count": 15,
      "outputs": [
        {
          "output_type": "execute_result",
          "data": {
            "text/plain": [
              "[('woman', 0.8438987135887146),\n",
              " ('lady', 0.7422021627426147),\n",
              " ('guy', 0.7330694198608398)]"
            ]
          },
          "metadata": {
            "tags": []
          },
          "execution_count": 15
        }
      ]
    },
    {
      "cell_type": "markdown",
      "metadata": {
        "id": "6G8iSbnS04fn"
      },
      "source": [
        "### Word2Vec 모델 저장하고 로드하기"
      ]
    },
    {
      "cell_type": "code",
      "metadata": {
        "id": "BRefYhNU0d27"
      },
      "source": [
        "from gensim.models import KeyedVectors\r\n",
        "model.wv.save_word2vec_format('eng_w2v') # 모델 저장"
      ],
      "execution_count": 16,
      "outputs": []
    },
    {
      "cell_type": "code",
      "metadata": {
        "colab": {
          "base_uri": "https://localhost:8080/"
        },
        "id": "GZp_L77V0dPX",
        "outputId": "db8d1124-a843-4632-b0c9-31bb7820b53a"
      },
      "source": [
        "loaded_model = KeyedVectors.load_word2vec_format(\"eng_w2v\") # 모델 로드\r\n",
        "model_result = loaded_model.most_similar(\"man\")\r\n",
        "model_result"
      ],
      "execution_count": 17,
      "outputs": [
        {
          "output_type": "execute_result",
          "data": {
            "text/plain": [
              "[('woman', 0.8554749488830566),\n",
              " ('guy', 0.8134635090827942),\n",
              " ('lady', 0.7732557058334351),\n",
              " ('girl', 0.7537418603897095),\n",
              " ('boy', 0.7471151351928711),\n",
              " ('soldier', 0.7363888621330261),\n",
              " ('kid', 0.7195295095443726),\n",
              " ('gentleman', 0.7117323875427246),\n",
              " ('poet', 0.695116400718689),\n",
              " ('rabbi', 0.6628832221031189)]"
            ]
          },
          "metadata": {
            "tags": []
          },
          "execution_count": 17
        }
      ]
    },
    {
      "cell_type": "code",
      "metadata": {
        "colab": {
          "base_uri": "https://localhost:8080/"
        },
        "id": "tCWhfI641T2J",
        "outputId": "c68ab2ba-f3fc-4076-fd31-ada557ee7ad5"
      },
      "source": [
        "!ls -l"
      ],
      "execution_count": 18,
      "outputs": [
        {
          "output_type": "stream",
          "text": [
            "total 97900\n",
            "-rw-r--r-- 1 root root 25710592 Feb 24 01:09 eng_w2v\n",
            "drwxr-xr-x 1 root root     4096 Feb 22 14:38 sample_data\n",
            "-rw-r--r-- 1 root root 74533638 Feb 24 00:54 ted_en-20160408.xml\n"
          ],
          "name": "stdout"
        }
      ]
    },
    {
      "cell_type": "code",
      "metadata": {
        "id": "2LE_YbPp1VNu"
      },
      "source": [],
      "execution_count": null,
      "outputs": []
    }
  ]
}