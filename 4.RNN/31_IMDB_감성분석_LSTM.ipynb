{
  "nbformat": 4,
  "nbformat_minor": 0,
  "metadata": {
    "colab": {
      "name": "31_IMDB_감성분석_LSTM.ipynb",
      "provenance": [],
      "collapsed_sections": []
    },
    "kernelspec": {
      "name": "python3",
      "display_name": "Python 3"
    },
    "accelerator": "GPU"
  },
  "cells": [
    {
      "cell_type": "markdown",
      "metadata": {
        "id": "TplYV4ZJJisp"
      },
      "source": [
        "# IMDB 영화 리뷰 감성 분류\r\n",
        "- Test data 25,000건중 10,000건은 Validation data로 활용"
      ]
    },
    {
      "cell_type": "code",
      "metadata": {
        "id": "FaxzoQvxJkI1"
      },
      "source": [
        "import numpy as np\r\n",
        "import tensorflow as tf\r\n",
        "from tensorflow.keras.preprocessing.text import Tokenizer\r\n",
        "from tensorflow.keras.preprocessing.sequence import pad_sequences"
      ],
      "execution_count": 1,
      "outputs": []
    },
    {
      "cell_type": "code",
      "metadata": {
        "id": "xdxvm9oyJyPX"
      },
      "source": [
        "seed = 2021\r\n",
        "np.random.seed(seed)\r\n",
        "tf.random.set_seed(seed)"
      ],
      "execution_count": 2,
      "outputs": []
    },
    {
      "cell_type": "code",
      "metadata": {
        "id": "ukgpQhcCJzM3"
      },
      "source": [
        "import matplotlib.pyplot as plt\r\n",
        "%matplotlib inline\r\n",
        "import warnings\r\n",
        "warnings.filterwarnings(\"ignore\", category=np.VisibleDeprecationWarning) "
      ],
      "execution_count": 3,
      "outputs": []
    },
    {
      "cell_type": "code",
      "metadata": {
        "colab": {
          "base_uri": "https://localhost:8080/"
        },
        "id": "7Yd7rsnWJ8XO",
        "outputId": "bb239443-887d-468b-9809-1c4f212d1740"
      },
      "source": [
        "from tensorflow.keras.datasets import imdb\r\n",
        "(X_train, y_train), (X_test, y_test) = imdb.load_data(num_words=None)"
      ],
      "execution_count": 4,
      "outputs": [
        {
          "output_type": "stream",
          "text": [
            "Downloading data from https://storage.googleapis.com/tensorflow/tf-keras-datasets/imdb.npz\n",
            "17465344/17464789 [==============================] - 0s 0us/step\n"
          ],
          "name": "stdout"
        }
      ]
    },
    {
      "cell_type": "code",
      "metadata": {
        "colab": {
          "base_uri": "https://localhost:8080/"
        },
        "id": "YltmZUh_u4Vd",
        "outputId": "2d100794-7505-4ccc-bb56-e0df220a6d7f"
      },
      "source": [
        "index_dict = {}\r\n",
        "for key, value in imdb.get_word_index().items():\r\n",
        "    index_dict[value] = key\r\n",
        "len(index_dict)"
      ],
      "execution_count": 5,
      "outputs": [
        {
          "output_type": "stream",
          "text": [
            "Downloading data from https://storage.googleapis.com/tensorflow/tf-keras-datasets/imdb_word_index.json\n",
            "1646592/1641221 [==============================] - 0s 0us/step\n"
          ],
          "name": "stdout"
        },
        {
          "output_type": "execute_result",
          "data": {
            "text/plain": [
              "88584"
            ]
          },
          "metadata": {
            "tags": []
          },
          "execution_count": 5
        }
      ]
    },
    {
      "cell_type": "code",
      "metadata": {
        "colab": {
          "base_uri": "https://localhost:8080/"
        },
        "id": "NwN2SwY8tIOG",
        "outputId": "a331b30f-86e1-4dbd-997c-1721b4a90904"
      },
      "source": [
        "X_train.shape, X_test.shape"
      ],
      "execution_count": 6,
      "outputs": [
        {
          "output_type": "execute_result",
          "data": {
            "text/plain": [
              "((25000,), (25000,))"
            ]
          },
          "metadata": {
            "tags": []
          },
          "execution_count": 6
        }
      ]
    },
    {
      "cell_type": "code",
      "metadata": {
        "colab": {
          "base_uri": "https://localhost:8080/"
        },
        "id": "fyynEMn6MahG",
        "outputId": "11b9227c-44da-4f2d-abce-eb3ab58869b6"
      },
      "source": [
        "# 리뷰의 길이\r\n",
        "print('리뷰의 최대 길이 :', max(len(l) for l in X_train))\r\n",
        "print('리뷰의 평균 길이 :', sum(map(len, X_train))/len(X_train)) "
      ],
      "execution_count": 7,
      "outputs": [
        {
          "output_type": "stream",
          "text": [
            "리뷰의 최대 길이 : 2494\n",
            "리뷰의 평균 길이 : 238.71364\n"
          ],
          "name": "stdout"
        }
      ]
    },
    {
      "cell_type": "code",
      "metadata": {
        "colab": {
          "base_uri": "https://localhost:8080/",
          "height": 279
        },
        "id": "xAsUj3OPMadV",
        "outputId": "2ed589a1-0c40-494e-8e3b-a31467340834"
      },
      "source": [
        "plt.hist([len(s) for s in X_train], bins=50)\r\n",
        "plt.xlabel('length of samples')\r\n",
        "plt.ylabel('number of samples')\r\n",
        "plt.show()"
      ],
      "execution_count": 8,
      "outputs": [
        {
          "output_type": "display_data",
          "data": {
            "image/png": "[encoded data removed]",
            "text/plain": [
              "<Figure size 432x288 with 1 Axes>"
            ]
          },
          "metadata": {
            "tags": [],
            "needs_background": "light"
          }
        }
      ]
    },
    {
      "cell_type": "code",
      "metadata": {
        "colab": {
          "base_uri": "https://localhost:8080/"
        },
        "id": "NMIKB7Z4tq43",
        "outputId": "24d83e93-d23b-4840-938a-1e8678ab20e0"
      },
      "source": [
        "# 레이블의 분포\r\n",
        "unique_elements, counts_elements = np.unique(y_train, return_counts=True)\r\n",
        "print(\"각 레이블에 대한 빈도수:\")\r\n",
        "print(np.asarray((unique_elements, counts_elements)))"
      ],
      "execution_count": 9,
      "outputs": [
        {
          "output_type": "stream",
          "text": [
            "각 레이블에 대한 빈도수:\n",
            "[[    0     1]\n",
            " [12500 12500]]\n"
          ],
          "name": "stdout"
        }
      ]
    },
    {
      "cell_type": "markdown",
      "metadata": {
        "id": "bdz1vio5O0wf"
      },
      "source": [
        "## LSTM으로 IMDB 리뷰 감성 분류\r\n",
        "- 모든 단어가 아닌 빈도수 5000 까지 (총 단어수: 88,584)\r\n",
        "- 모든 문장이 아니라 500 단어까지 (최대 2,494 단어)\r\n",
        "- Test data 25,000건중 10,000건은 Validation data로 활용"
      ]
    },
    {
      "cell_type": "code",
      "metadata": {
        "id": "jIo3NGCNMaM-"
      },
      "source": [
        "from tensorflow.keras.models import Sequential, load_model\r\n",
        "from tensorflow.keras.layers import Dense, LSTM, Embedding\r\n",
        "from tensorflow.keras.preprocessing.sequence import pad_sequences\r\n",
        "from tensorflow.keras.callbacks import ModelCheckpoint, EarlyStopping"
      ],
      "execution_count": 10,
      "outputs": []
    },
    {
      "cell_type": "code",
      "metadata": {
        "id": "_ApyCQ9OMSLF"
      },
      "source": [
        "# 등장 빈도가 5,000번째까지의 단어들만 사용\r\n",
        "(X_train, y_train), (X_test, y_test) = imdb.load_data(num_words=5000)"
      ],
      "execution_count": 11,
      "outputs": []
    },
    {
      "cell_type": "code",
      "metadata": {
        "id": "VvaC3b-5P6sW"
      },
      "source": [
        "# 모델의 입력으로 사용하는 모든 리뷰의 길이를 동일하게 500으로 맞춤\r\n",
        "max_len = 500\r\n",
        "X_train = pad_sequences(X_train, maxlen=max_len)\r\n",
        "X_test = pad_sequences(X_test, maxlen=max_len)"
      ],
      "execution_count": 12,
      "outputs": []
    },
    {
      "cell_type": "markdown",
      "metadata": {
        "id": "RGHh3AzHuDBa"
      },
      "source": [
        "- Test data set을 검증 셋과 테스트 셋으로 분리"
      ]
    },
    {
      "cell_type": "code",
      "metadata": {
        "id": "xj4LG3R_wmW1"
      },
      "source": [
        "from sklearn.model_selection import train_test_split\r\n",
        "X_val, X_test, y_val, y_test = train_test_split(\r\n",
        "    X_test, y_test, stratify=y_test, test_size=.6, random_state=seed\r\n",
        ")"
      ],
      "execution_count": 13,
      "outputs": []
    },
    {
      "cell_type": "markdown",
      "metadata": {
        "id": "c-1ZGRQCw1N-"
      },
      "source": [
        "### 모델 정의/설정/학습/평가"
      ]
    },
    {
      "cell_type": "code",
      "metadata": {
        "colab": {
          "base_uri": "https://localhost:8080/"
        },
        "id": "0YUhwXvmQUKg",
        "outputId": "78c78a35-b456-4a01-f3c3-ff4fa5051e00"
      },
      "source": [
        "# LSTM 모델\r\n",
        "model = Sequential()\r\n",
        "model.add(Embedding(5000, 120))\r\n",
        "model.add(LSTM(120))\r\n",
        "model.add(Dense(1, activation='sigmoid'))\r\n",
        "model.summary()"
      ],
      "execution_count": 14,
      "outputs": [
        {
          "output_type": "stream",
          "text": [
            "Model: \"sequential\"\n",
            "_________________________________________________________________\n",
            "Layer (type)                 Output Shape              Param #   \n",
            "=================================================================\n",
            "embedding (Embedding)        (None, None, 120)         600000    \n",
            "_________________________________________________________________\n",
            "lstm (LSTM)                  (None, 120)               115680    \n",
            "_________________________________________________________________\n",
            "dense (Dense)                (None, 1)                 121       \n",
            "=================================================================\n",
            "Total params: 715,801\n",
            "Trainable params: 715,801\n",
            "Non-trainable params: 0\n",
            "_________________________________________________________________\n"
          ],
          "name": "stdout"
        }
      ]
    },
    {
      "cell_type": "code",
      "metadata": {
        "id": "W8p67WuYQfsE"
      },
      "source": [
        "# 모델의 컴파일\r\n",
        "model.compile(loss='binary_crossentropy',\r\n",
        "              optimizer='adam',\r\n",
        "              metrics=['accuracy'])"
      ],
      "execution_count": 15,
      "outputs": []
    },
    {
      "cell_type": "code",
      "metadata": {
        "id": "Nb1eU-58Qmc0"
      },
      "source": [
        "# Callback 함수 정의 - Best model, Early stopping\r\n",
        "es = EarlyStopping(monitor='val_loss', verbose=1, patience=10)\r\n",
        "mc = ModelCheckpoint('model/imdb_lstm_best_model.h5', monitor='val_loss', \r\n",
        "                     verbose=1, save_best_only=True)"
      ],
      "execution_count": 16,
      "outputs": []
    },
    {
      "cell_type": "code",
      "metadata": {
        "colab": {
          "base_uri": "https://localhost:8080/"
        },
        "id": "KWQ6IHW5Q4qU",
        "outputId": "d74c86dd-af29-47ed-d4f2-0f4140cd53de"
      },
      "source": [
        "# 모델의 실행\r\n",
        "history = model.fit(X_train, y_train, batch_size=100, epochs=50, \r\n",
        "                    validation_data=(X_val, y_val), verbose=2,\r\n",
        "                    callbacks=[mc, es]) "
      ],
      "execution_count": 18,
      "outputs": [
        {
          "output_type": "stream",
          "text": [
            "Epoch 1/50\n",
            "250/250 - 22s - loss: 0.4557 - accuracy: 0.7804 - val_loss: 0.4012 - val_accuracy: 0.8237\n",
            "\n",
            "Epoch 00001: val_loss improved from inf to 0.40116, saving model to model/imdb_lstm_best_model.h5\n",
            "Epoch 2/50\n",
            "250/250 - 14s - loss: 0.2810 - accuracy: 0.8877 - val_loss: 0.2974 - val_accuracy: 0.8764\n",
            "\n",
            "Epoch 00002: val_loss improved from 0.40116 to 0.29742, saving model to model/imdb_lstm_best_model.h5\n",
            "Epoch 3/50\n",
            "250/250 - 14s - loss: 0.2269 - accuracy: 0.9111 - val_loss: 0.3042 - val_accuracy: 0.8797\n",
            "\n",
            "Epoch 00003: val_loss did not improve from 0.29742\n",
            "Epoch 4/50\n",
            "250/250 - 14s - loss: 0.2152 - accuracy: 0.9155 - val_loss: 0.3470 - val_accuracy: 0.8732\n",
            "\n",
            "Epoch 00004: val_loss did not improve from 0.29742\n",
            "Epoch 5/50\n",
            "250/250 - 14s - loss: 0.1617 - accuracy: 0.9395 - val_loss: 0.3414 - val_accuracy: 0.8711\n",
            "\n",
            "Epoch 00005: val_loss did not improve from 0.29742\n",
            "Epoch 6/50\n",
            "250/250 - 14s - loss: 0.1313 - accuracy: 0.9518 - val_loss: 0.3732 - val_accuracy: 0.8675\n",
            "\n",
            "Epoch 00006: val_loss did not improve from 0.29742\n",
            "Epoch 7/50\n",
            "250/250 - 14s - loss: 0.1323 - accuracy: 0.9515 - val_loss: 0.3923 - val_accuracy: 0.8589\n",
            "\n",
            "Epoch 00007: val_loss did not improve from 0.29742\n",
            "Epoch 8/50\n",
            "250/250 - 14s - loss: 0.1171 - accuracy: 0.9556 - val_loss: 0.5471 - val_accuracy: 0.7763\n",
            "\n",
            "Epoch 00008: val_loss did not improve from 0.29742\n",
            "Epoch 9/50\n",
            "250/250 - 14s - loss: 0.2199 - accuracy: 0.9162 - val_loss: 0.3844 - val_accuracy: 0.8677\n",
            "\n",
            "Epoch 00009: val_loss did not improve from 0.29742\n",
            "Epoch 10/50\n",
            "250/250 - 14s - loss: 0.1092 - accuracy: 0.9605 - val_loss: 0.4498 - val_accuracy: 0.8528\n",
            "\n",
            "Epoch 00010: val_loss did not improve from 0.29742\n",
            "Epoch 11/50\n",
            "250/250 - 14s - loss: 0.1015 - accuracy: 0.9642 - val_loss: 0.4787 - val_accuracy: 0.8674\n",
            "\n",
            "Epoch 00011: val_loss did not improve from 0.29742\n",
            "Epoch 12/50\n",
            "250/250 - 14s - loss: 0.0738 - accuracy: 0.9752 - val_loss: 0.5590 - val_accuracy: 0.8645\n",
            "\n",
            "Epoch 00012: val_loss did not improve from 0.29742\n",
            "Epoch 00012: early stopping\n"
          ],
          "name": "stdout"
        }
      ]
    },
    {
      "cell_type": "code",
      "metadata": {
        "id": "arRpHKMuR2TV"
      },
      "source": [
        "# Best Model 선택\r\n",
        "best_model = load_model('model/imdb_lstm_best_model.h5')"
      ],
      "execution_count": 19,
      "outputs": []
    },
    {
      "cell_type": "code",
      "metadata": {
        "colab": {
          "base_uri": "https://localhost:8080/"
        },
        "id": "mdsM3k7MSUDO",
        "outputId": "7cda9a21-c56a-4f2b-eac0-e00f78126c0b"
      },
      "source": [
        "acc = model.evaluate(X_test, y_test, verbose=2)[1]\r\n",
        "print(f\"\\n 테스트 정확도: {acc:.4f}\")"
      ],
      "execution_count": 21,
      "outputs": [
        {
          "output_type": "stream",
          "text": [
            "469/469 - 5s - loss: 0.5922 - accuracy: 0.8580\n",
            "\n",
            " 테스트 정확도: 0.8580\n"
          ],
          "name": "stdout"
        }
      ]
    },
    {
      "cell_type": "code",
      "metadata": {
        "id": "CeNHAkHuSgDG"
      },
      "source": [
        "# 검증셋\r\n",
        "y_vloss = history.history['val_loss']\r\n",
        "y_vacc = history.history['val_accuracy']\r\n",
        "# 학습셋\r\n",
        "y_loss = history.history['loss']\r\n",
        "y_acc = history.history['accuracy']"
      ],
      "execution_count": 22,
      "outputs": []
    },
    {
      "cell_type": "code",
      "metadata": {
        "colab": {
          "base_uri": "https://localhost:8080/",
          "height": 497
        },
        "id": "Rs8-R4G6SpIG",
        "outputId": "19d0d50d-604d-4b5e-880d-c6d6e54930e0"
      },
      "source": [
        "x_len = np.arange(1, len(y_loss)+1)\r\n",
        "fig, ax0 = plt.subplots(figsize=(10,8))\r\n",
        "ax1 = ax0.twinx()\r\n",
        "ax0.plot(x_len, y_loss, c=\"blue\", label='train set loss')\r\n",
        "ax0.plot(x_len, y_vloss, c=\"red\", label='val set loss')\r\n",
        "ax0.set_ylabel('loss')\r\n",
        "ax1.plot(x_len, y_acc, c=\"darkgreen\", label='train set acc')\r\n",
        "ax1.plot(x_len, y_vacc, c=\"magenta\", label='val set acc')\r\n",
        "ax1.set_ylabel('accuracy')\r\n",
        "ax0.set_xlabel('epoch')\r\n",
        "ax0.legend(loc='lower center')\r\n",
        "ax1.legend(loc='upper center')\r\n",
        "plt.grid()\r\n",
        "plt.show()"
      ],
      "execution_count": 23,
      "outputs": [
        {
          "output_type": "display_data",
          "data": {
            "image/png": "[encoded data removed]",
            "text/plain": [
              "<Figure size 720x576 with 2 Axes>"
            ]
          },
          "metadata": {
            "tags": [],
            "needs_background": "light"
          }
        }
      ]
    },
    {
      "cell_type": "code",
      "metadata": {
        "id": "dhN8IqxeUEZf"
      },
      "source": [
        ""
      ],
      "execution_count": null,
      "outputs": []
    }
  ]
}