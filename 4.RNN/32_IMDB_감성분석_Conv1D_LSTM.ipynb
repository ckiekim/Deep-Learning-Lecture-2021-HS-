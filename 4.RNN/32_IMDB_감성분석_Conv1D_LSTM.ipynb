{
  "nbformat": 4,
  "nbformat_minor": 0,
  "metadata": {
    "colab": {
      "name": "32_IMDB_감성분석_Conv1D-LSTM.ipynb",
      "provenance": [],
      "collapsed_sections": []
    },
    "kernelspec": {
      "name": "python3",
      "display_name": "Python 3"
    },
    "accelerator": "GPU"
  },
  "cells": [
    {
      "cell_type": "markdown",
      "metadata": {
        "id": "TplYV4ZJJisp"
      },
      "source": [
        "# IMDB 영화 리뷰 감성 분류\r\n",
        "- Test data 25,000건중 10,000건은 Validation data로 활용"
      ]
    },
    {
      "cell_type": "code",
      "metadata": {
        "id": "FaxzoQvxJkI1"
      },
      "source": [
        "import numpy as np\r\n",
        "import tensorflow as tf\r\n",
        "from tensorflow.keras.preprocessing.sequence import pad_sequences"
      ],
      "execution_count": 1,
      "outputs": []
    },
    {
      "cell_type": "code",
      "metadata": {
        "id": "xdxvm9oyJyPX"
      },
      "source": [
        "seed = 2021\r\n",
        "np.random.seed(seed)\r\n",
        "tf.random.set_seed(seed)"
      ],
      "execution_count": 2,
      "outputs": []
    },
    {
      "cell_type": "code",
      "metadata": {
        "id": "ukgpQhcCJzM3"
      },
      "source": [
        "import matplotlib.pyplot as plt\r\n",
        "%matplotlib inline\r\n",
        "import warnings\r\n",
        "warnings.filterwarnings(\"ignore\", category=np.VisibleDeprecationWarning) "
      ],
      "execution_count": 3,
      "outputs": []
    },
    {
      "cell_type": "code",
      "metadata": {
        "id": "7Yd7rsnWJ8XO"
      },
      "source": [
        "from tensorflow.keras.datasets import imdb\r\n",
        "(X_train, y_train), (X_test, y_test) = imdb.load_data(num_words=None)"
      ],
      "execution_count": 4,
      "outputs": []
    },
    {
      "cell_type": "code",
      "metadata": {
        "colab": {
          "base_uri": "https://localhost:8080/"
        },
        "id": "YltmZUh_u4Vd",
        "outputId": "68018d59-d9aa-465e-a4cb-b6cff6219755"
      },
      "source": [
        "index_dict = {}\r\n",
        "for key, value in imdb.get_word_index().items():\r\n",
        "    index_dict[value] = key\r\n",
        "len(index_dict)"
      ],
      "execution_count": 5,
      "outputs": [
        {
          "output_type": "execute_result",
          "data": {
            "text/plain": [
              "88584"
            ]
          },
          "metadata": {
            "tags": []
          },
          "execution_count": 5
        }
      ]
    },
    {
      "cell_type": "code",
      "metadata": {
        "colab": {
          "base_uri": "https://localhost:8080/"
        },
        "id": "NwN2SwY8tIOG",
        "outputId": "283a892b-62ea-4863-e6af-29045aaf7d2f"
      },
      "source": [
        "X_train.shape, X_test.shape"
      ],
      "execution_count": 6,
      "outputs": [
        {
          "output_type": "execute_result",
          "data": {
            "text/plain": [
              "((25000,), (25000,))"
            ]
          },
          "metadata": {
            "tags": []
          },
          "execution_count": 6
        }
      ]
    },
    {
      "cell_type": "code",
      "metadata": {
        "colab": {
          "base_uri": "https://localhost:8080/"
        },
        "id": "fyynEMn6MahG",
        "outputId": "86d4279e-527b-4b7b-d381-5fcf421e5f42"
      },
      "source": [
        "# 리뷰의 길이\r\n",
        "print('리뷰의 최대 길이 :', max(len(l) for l in X_train))\r\n",
        "print('리뷰의 평균 길이 :', sum(map(len, X_train))/len(X_train)) "
      ],
      "execution_count": 7,
      "outputs": [
        {
          "output_type": "stream",
          "text": [
            "리뷰의 최대 길이 : 2494\n",
            "리뷰의 평균 길이 : 238.71364\n"
          ],
          "name": "stdout"
        }
      ]
    },
    {
      "cell_type": "code",
      "metadata": {
        "colab": {
          "base_uri": "https://localhost:8080/",
          "height": 279
        },
        "id": "xAsUj3OPMadV",
        "outputId": "d3805361-ca4d-4a9c-e805-ca8bc639dd3b"
      },
      "source": [
        "plt.hist([len(s) for s in X_train], bins=50)\r\n",
        "plt.xlabel('length of samples')\r\n",
        "plt.ylabel('number of samples')\r\n",
        "plt.show()"
      ],
      "execution_count": 8,
      "outputs": [
        {
          "output_type": "display_data",
          "data": {
            "image/png": "[encoded data removed]",
            "text/plain": [
              "<Figure size 432x288 with 1 Axes>"
            ]
          },
          "metadata": {
            "tags": [],
            "needs_background": "light"
          }
        }
      ]
    },
    {
      "cell_type": "code",
      "metadata": {
        "colab": {
          "base_uri": "https://localhost:8080/"
        },
        "id": "NMIKB7Z4tq43",
        "outputId": "d58ee1d3-d075-43ff-8fc0-d3b89ebf4b2b"
      },
      "source": [
        "# 레이블의 분포\r\n",
        "unique_elements, counts_elements = np.unique(y_train, return_counts=True)\r\n",
        "print(\"각 레이블에 대한 빈도수:\")\r\n",
        "print(np.asarray((unique_elements, counts_elements)))"
      ],
      "execution_count": 9,
      "outputs": [
        {
          "output_type": "stream",
          "text": [
            "각 레이블에 대한 빈도수:\n",
            "[[    0     1]\n",
            " [12500 12500]]\n"
          ],
          "name": "stdout"
        }
      ]
    },
    {
      "cell_type": "markdown",
      "metadata": {
        "id": "bdz1vio5O0wf"
      },
      "source": [
        "## Conv1D와 LSTM으로 IMDB 리뷰 감성 분류\r\n",
        "- 모든 단어가 아닌 빈도수 5000 까지 (총 단어수: 88,584)\r\n",
        "- 모든 문장이 아니라 500 단어까지 (최대 2,494 단어)\r\n",
        "- Test data 25,000건중 10,000건은 Validation data로 활용"
      ]
    },
    {
      "cell_type": "code",
      "metadata": {
        "id": "jIo3NGCNMaM-"
      },
      "source": [
        "from tensorflow.keras.models import Sequential, load_model\r\n",
        "from tensorflow.keras.layers import Dense, LSTM, Embedding\r\n",
        "from tensorflow.keras.layers import Dropout, Conv1D, MaxPooling1D\r\n",
        "from tensorflow.keras.preprocessing.sequence import pad_sequences\r\n",
        "from tensorflow.keras.callbacks import ModelCheckpoint, EarlyStopping"
      ],
      "execution_count": 10,
      "outputs": []
    },
    {
      "cell_type": "code",
      "metadata": {
        "id": "_ApyCQ9OMSLF"
      },
      "source": [
        "# 등장 빈도가 5,000번째까지의 단어들만 사용\r\n",
        "(X_train, y_train), (X_test, y_test) = imdb.load_data(num_words=5000)"
      ],
      "execution_count": 11,
      "outputs": []
    },
    {
      "cell_type": "code",
      "metadata": {
        "id": "VvaC3b-5P6sW"
      },
      "source": [
        "# 모델의 입력으로 사용하는 모든 리뷰의 길이를 동일하게 500으로 맞춤\r\n",
        "max_len = 500\r\n",
        "X_train = pad_sequences(X_train, maxlen=max_len)\r\n",
        "X_test = pad_sequences(X_test, maxlen=max_len)"
      ],
      "execution_count": 12,
      "outputs": []
    },
    {
      "cell_type": "markdown",
      "metadata": {
        "id": "RGHh3AzHuDBa"
      },
      "source": [
        "- Test data set을 검증 셋과 테스트 셋으로 분리"
      ]
    },
    {
      "cell_type": "code",
      "metadata": {
        "id": "xj4LG3R_wmW1"
      },
      "source": [
        "from sklearn.model_selection import train_test_split\r\n",
        "X_val, X_test, y_val, y_test = train_test_split(\r\n",
        "    X_test, y_test, stratify=y_test, test_size=.6, random_state=seed\r\n",
        ")"
      ],
      "execution_count": 13,
      "outputs": []
    },
    {
      "cell_type": "markdown",
      "metadata": {
        "id": "c-1ZGRQCw1N-"
      },
      "source": [
        "### 모델 정의/설정/학습/평가"
      ]
    },
    {
      "cell_type": "code",
      "metadata": {
        "colab": {
          "base_uri": "https://localhost:8080/"
        },
        "id": "0YUhwXvmQUKg",
        "outputId": "94d04c89-ce71-4bf1-b67a-38cc6a1ac800"
      },
      "source": [
        "# LSTM 모델\r\n",
        "model = Sequential()\r\n",
        "model.add(Embedding(5000, 120))\r\n",
        "model.add(Dropout(0.5))\r\n",
        "model.add(Conv1D(64, 5, padding='valid', activation='relu'))\r\n",
        "model.add(MaxPooling1D(pool_size=4))\r\n",
        "model.add(LSTM(60))\r\n",
        "model.add(Dense(1, activation='sigmoid'))\r\n",
        "model.summary()"
      ],
      "execution_count": 14,
      "outputs": [
        {
          "output_type": "stream",
          "text": [
            "Model: \"sequential\"\n",
            "_________________________________________________________________\n",
            "Layer (type)                 Output Shape              Param #   \n",
            "=================================================================\n",
            "embedding (Embedding)        (None, None, 120)         600000    \n",
            "_________________________________________________________________\n",
            "dropout (Dropout)            (None, None, 120)         0         \n",
            "_________________________________________________________________\n",
            "conv1d (Conv1D)              (None, None, 64)          38464     \n",
            "_________________________________________________________________\n",
            "max_pooling1d (MaxPooling1D) (None, None, 64)          0         \n",
            "_________________________________________________________________\n",
            "lstm (LSTM)                  (None, 60)                30000     \n",
            "_________________________________________________________________\n",
            "dense (Dense)                (None, 1)                 61        \n",
            "=================================================================\n",
            "Total params: 668,525\n",
            "Trainable params: 668,525\n",
            "Non-trainable params: 0\n",
            "_________________________________________________________________\n"
          ],
          "name": "stdout"
        }
      ]
    },
    {
      "cell_type": "code",
      "metadata": {
        "id": "W8p67WuYQfsE"
      },
      "source": [
        "# 모델의 컴파일\r\n",
        "model.compile(loss='binary_crossentropy',\r\n",
        "              optimizer='adam',\r\n",
        "              metrics=['accuracy'])"
      ],
      "execution_count": 15,
      "outputs": []
    },
    {
      "cell_type": "code",
      "metadata": {
        "id": "Nb1eU-58Qmc0"
      },
      "source": [
        "# Callback 함수 정의 - Best model, Early stopping\r\n",
        "es = EarlyStopping(monitor='val_loss', verbose=1, patience=10)\r\n",
        "mc = ModelCheckpoint('model/imdb_conv1d_lstm_best_model.h5', monitor='val_loss', \r\n",
        "                     verbose=1, save_best_only=True)"
      ],
      "execution_count": 16,
      "outputs": []
    },
    {
      "cell_type": "code",
      "metadata": {
        "colab": {
          "base_uri": "https://localhost:8080/"
        },
        "id": "KWQ6IHW5Q4qU",
        "outputId": "fb7b003e-1c7e-4243-d169-224f8202b9c3"
      },
      "source": [
        "# 모델의 실행\r\n",
        "history = model.fit(X_train, y_train, batch_size=100, epochs=50, \r\n",
        "                    validation_data=(X_val, y_val), verbose=2,\r\n",
        "                    callbacks=[mc, es]) "
      ],
      "execution_count": 17,
      "outputs": [
        {
          "output_type": "stream",
          "text": [
            "Epoch 1/50\n",
            "250/250 - 11s - loss: 0.4009 - accuracy: 0.8015 - val_loss: 0.2997 - val_accuracy: 0.8741\n",
            "\n",
            "Epoch 00001: val_loss improved from inf to 0.29967, saving model to model/imdb_conv1d_lstm_best_model.h5\n",
            "Epoch 2/50\n",
            "250/250 - 8s - loss: 0.2310 - accuracy: 0.9090 - val_loss: 0.2653 - val_accuracy: 0.8922\n",
            "\n",
            "Epoch 00002: val_loss improved from 0.29967 to 0.26529, saving model to model/imdb_conv1d_lstm_best_model.h5\n",
            "Epoch 3/50\n",
            "250/250 - 8s - loss: 0.1902 - accuracy: 0.9276 - val_loss: 0.2768 - val_accuracy: 0.8896\n",
            "\n",
            "Epoch 00003: val_loss did not improve from 0.26529\n",
            "Epoch 4/50\n",
            "250/250 - 7s - loss: 0.1589 - accuracy: 0.9413 - val_loss: 0.3050 - val_accuracy: 0.8830\n",
            "\n",
            "Epoch 00004: val_loss did not improve from 0.26529\n",
            "Epoch 5/50\n",
            "250/250 - 7s - loss: 0.1302 - accuracy: 0.9540 - val_loss: 0.3135 - val_accuracy: 0.8800\n",
            "\n",
            "Epoch 00005: val_loss did not improve from 0.26529\n",
            "Epoch 6/50\n",
            "250/250 - 7s - loss: 0.1132 - accuracy: 0.9612 - val_loss: 0.3102 - val_accuracy: 0.8829\n",
            "\n",
            "Epoch 00006: val_loss did not improve from 0.26529\n",
            "Epoch 7/50\n",
            "250/250 - 7s - loss: 0.0923 - accuracy: 0.9699 - val_loss: 0.3334 - val_accuracy: 0.8802\n",
            "\n",
            "Epoch 00007: val_loss did not improve from 0.26529\n",
            "Epoch 8/50\n",
            "250/250 - 7s - loss: 0.0767 - accuracy: 0.9748 - val_loss: 0.3485 - val_accuracy: 0.8869\n",
            "\n",
            "Epoch 00008: val_loss did not improve from 0.26529\n",
            "Epoch 9/50\n",
            "250/250 - 8s - loss: 0.0648 - accuracy: 0.9773 - val_loss: 0.3591 - val_accuracy: 0.8823\n",
            "\n",
            "Epoch 00009: val_loss did not improve from 0.26529\n",
            "Epoch 10/50\n",
            "250/250 - 7s - loss: 0.0592 - accuracy: 0.9809 - val_loss: 0.4058 - val_accuracy: 0.8752\n",
            "\n",
            "Epoch 00010: val_loss did not improve from 0.26529\n",
            "Epoch 11/50\n",
            "250/250 - 7s - loss: 0.0494 - accuracy: 0.9842 - val_loss: 0.4633 - val_accuracy: 0.8785\n",
            "\n",
            "Epoch 00011: val_loss did not improve from 0.26529\n",
            "Epoch 12/50\n",
            "250/250 - 8s - loss: 0.0470 - accuracy: 0.9851 - val_loss: 0.4108 - val_accuracy: 0.8774\n",
            "\n",
            "Epoch 00012: val_loss did not improve from 0.26529\n",
            "Epoch 00012: early stopping\n"
          ],
          "name": "stdout"
        }
      ]
    },
    {
      "cell_type": "code",
      "metadata": {
        "id": "arRpHKMuR2TV"
      },
      "source": [
        "# Best Model 선택\r\n",
        "best_model = load_model('model/imdb_conv1d_lstm_best_model.h5')"
      ],
      "execution_count": 18,
      "outputs": []
    },
    {
      "cell_type": "code",
      "metadata": {
        "colab": {
          "base_uri": "https://localhost:8080/"
        },
        "id": "mdsM3k7MSUDO",
        "outputId": "bd853202-ae84-4c7e-a933-0c9c0829af58"
      },
      "source": [
        "acc = model.evaluate(X_test, y_test, verbose=2)[1]\r\n",
        "print(f\"\\n 테스트 정확도: {acc:.4f}\")"
      ],
      "execution_count": 19,
      "outputs": [
        {
          "output_type": "stream",
          "text": [
            "469/469 - 3s - loss: 0.4159 - accuracy: 0.8739\n",
            "\n",
            " 테스트 정확도: 0.8739\n"
          ],
          "name": "stdout"
        }
      ]
    },
    {
      "cell_type": "code",
      "metadata": {
        "id": "CeNHAkHuSgDG"
      },
      "source": [
        "# 검증셋\r\n",
        "y_vloss = history.history['val_loss']\r\n",
        "y_vacc = history.history['val_accuracy']\r\n",
        "# 학습셋\r\n",
        "y_loss = history.history['loss']\r\n",
        "y_acc = history.history['accuracy']"
      ],
      "execution_count": 20,
      "outputs": []
    },
    {
      "cell_type": "code",
      "metadata": {
        "colab": {
          "base_uri": "https://localhost:8080/",
          "height": 497
        },
        "id": "Rs8-R4G6SpIG",
        "outputId": "2b12d963-7b21-4911-f58c-f20fe55c2ff4"
      },
      "source": [
        "x_len = np.arange(1, len(y_loss)+1)\r\n",
        "fig, ax0 = plt.subplots(figsize=(10,8))\r\n",
        "ax1 = ax0.twinx()\r\n",
        "ax0.plot(x_len, y_loss, c=\"blue\", label='train set loss')\r\n",
        "ax0.plot(x_len, y_vloss, c=\"red\", label='val set loss')\r\n",
        "ax0.set_ylabel('loss')\r\n",
        "ax1.plot(x_len, y_acc, c=\"darkgreen\", label='train set acc')\r\n",
        "ax1.plot(x_len, y_vacc, c=\"magenta\", label='val set acc')\r\n",
        "ax1.set_ylabel('accuracy')\r\n",
        "ax0.set_xlabel('epoch')\r\n",
        "ax0.legend(loc='lower center')\r\n",
        "ax1.legend(loc='upper center')\r\n",
        "plt.grid()\r\n",
        "plt.show()"
      ],
      "execution_count": 21,
      "outputs": [
        {
          "output_type": "display_data",
          "data": {
            "image/png": "[encoded data removed]",
            "text/plain": [
              "<Figure size 720x576 with 2 Axes>"
            ]
          },
          "metadata": {
            "tags": [],
            "needs_background": "light"
          }
        }
      ]
    },
    {
      "cell_type": "code",
      "metadata": {
        "id": "dhN8IqxeUEZf"
      },
      "source": [
        ""
      ],
      "execution_count": null,
      "outputs": []
    }
  ]
}