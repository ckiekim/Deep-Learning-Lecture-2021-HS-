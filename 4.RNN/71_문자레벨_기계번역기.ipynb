{
  "nbformat": 4,
  "nbformat_minor": 0,
  "metadata": {
    "colab": {
      "name": "61_문자레벨_기계번역기.ipynb",
      "provenance": [],
      "collapsed_sections": []
    },
    "kernelspec": {
      "name": "python3",
      "display_name": "Python 3"
    },
    "accelerator": "GPU"
  },
  "cells": [
    {
      "cell_type": "markdown",
      "metadata": {
        "id": "ZLsBmrJ0dhcR"
      },
      "source": [
        "# 문자 레벨 기계번역기\r\n",
        "### 참조: [sequence-to-sequence 10분만에 이해하기](https://blog.keras.io/a-ten-minute-introduction-to-sequence-to-sequence-learning-in-keras.html)\r\n",
        "### 다운로드: [프랑스-영어 병렬 코퍼스](http://www.manythings.org/anki)"
      ]
    },
    {
      "cell_type": "code",
      "metadata": {
        "id": "1CjYVW69eJjO"
      },
      "source": [
        "import numpy as np\r\n",
        "import tensorflow as tf\r\n",
        "\r\n",
        "seed = 2021\r\n",
        "np.random.seed(seed)\r\n",
        "tf.random.set_seed(seed)"
      ],
      "execution_count": 1,
      "outputs": []
    },
    {
      "cell_type": "markdown",
      "metadata": {
        "id": "NQcEcnhsduKT"
      },
      "source": [
        "## 1. 데이터 확인 및 전처리"
      ]
    },
    {
      "cell_type": "code",
      "metadata": {
        "colab": {
          "resources": {
            "http://localhost:8080/nbextensions/google.colab/files.js": {
              "data": "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",
              "ok": true,
              "headers": [
                [
                  "content-type",
                  "application/javascript"
                ]
              ],
              "status": 200,
              "status_text": ""
            }
          },
          "base_uri": "https://localhost:8080/",
          "height": 76
        },
        "id": "uhHwEBrWd8AS",
        "outputId": "81804df9-abf4-4c0e-ecae-945df322d1be"
      },
      "source": [
        "from google.colab import files\r\n",
        "\r\n",
        "uploaded = files.upload()\r\n",
        "filename = list(uploaded.keys())[0]"
      ],
      "execution_count": 2,
      "outputs": [
        {
          "output_type": "display_data",
          "data": {
            "text/html": [
              "\n",
              "     <input type=\"file\" id=\"files-e1631d33-50d6-4d3f-aae7-5097670cabb7\" name=\"files[]\" multiple disabled\n",
              "        style=\"border:none\" />\n",
              "     <output id=\"result-e1631d33-50d6-4d3f-aae7-5097670cabb7\">\n",
              "      Upload widget is only available when the cell has been executed in the\n",
              "      current browser session. Please rerun this cell to enable.\n",
              "      </output>\n",
              "      <script src=\"/nbextensions/google.colab/files.js\"></script> "
            ],
            "text/plain": [
              "<IPython.core.display.HTML object>"
            ]
          },
          "metadata": {
            "tags": []
          }
        },
        {
          "output_type": "stream",
          "text": [
            "Saving fra.txt to fra.txt\n"
          ],
          "name": "stdout"
        }
      ]
    },
    {
      "cell_type": "code",
      "metadata": {
        "colab": {
          "base_uri": "https://localhost:8080/"
        },
        "id": "rw-05g33ditD",
        "outputId": "5df2de69-0ae3-4b7d-e837-2f1c4822420f"
      },
      "source": [
        "import pandas as pd\r\n",
        "lines = pd.read_csv(filename, names=['src', 'dst', 'desc'], sep='\\t')\r\n",
        "len(lines)"
      ],
      "execution_count": 3,
      "outputs": [
        {
          "output_type": "execute_result",
          "data": {
            "text/plain": [
              "177210"
            ]
          },
          "metadata": {
            "tags": []
          },
          "execution_count": 3
        }
      ]
    },
    {
      "cell_type": "code",
      "metadata": {
        "colab": {
          "base_uri": "https://localhost:8080/",
          "height": 204
        },
        "id": "3Qwj3AmygHTy",
        "outputId": "4a33bf08-a782-4e91-a1c2-9851f5d620a9"
      },
      "source": [
        "# 60,000개의 샘플만 가지고 기계 번역기를 구축\r\n",
        "lines = lines[0:60000] # 6만개만 저장\r\n",
        "lines.sample(5)"
      ],
      "execution_count": 4,
      "outputs": [
        {
          "output_type": "execute_result",
          "data": {
            "text/html": [
              "<div>\n",
              "<style scoped>\n",
              "    .dataframe tbody tr th:only-of-type {\n",
              "        vertical-align: middle;\n",
              "    }\n",
              "\n",
              "    .dataframe tbody tr th {\n",
              "        vertical-align: top;\n",
              "    }\n",
              "\n",
              "    .dataframe thead th {\n",
              "        text-align: right;\n",
              "    }\n",
              "</style>\n",
              "<table border=\"1\" class=\"dataframe\">\n",
              "  <thead>\n",
              "    <tr style=\"text-align: right;\">\n",
              "      <th></th>\n",
              "      <th>src</th>\n",
              "      <th>dst</th>\n",
              "      <th>desc</th>\n",
              "    </tr>\n",
              "  </thead>\n",
              "  <tbody>\n",
              "    <tr>\n",
              "      <th>44844</th>\n",
              "      <td>Tom doesn't live here.</td>\n",
              "      <td>Tom ne vit pas ici.</td>\n",
              "      <td>CC-BY 2.0 (France) Attribution: tatoeba.org #1...</td>\n",
              "    </tr>\n",
              "    <tr>\n",
              "      <th>9069</th>\n",
              "      <td>Tell us a joke.</td>\n",
              "      <td>Raconte-nous une blague.</td>\n",
              "      <td>CC-BY 2.0 (France) Attribution: tatoeba.org #2...</td>\n",
              "    </tr>\n",
              "    <tr>\n",
              "      <th>32067</th>\n",
              "      <td>This is one of mine.</td>\n",
              "      <td>C'est l'une des miennes.</td>\n",
              "      <td>CC-BY 2.0 (France) Attribution: tatoeba.org #2...</td>\n",
              "    </tr>\n",
              "    <tr>\n",
              "      <th>18569</th>\n",
              "      <td>He is just my age.</td>\n",
              "      <td>Il a le même âge que moi.</td>\n",
              "      <td>CC-BY 2.0 (France) Attribution: tatoeba.org #2...</td>\n",
              "    </tr>\n",
              "    <tr>\n",
              "      <th>431</th>\n",
              "      <td>Speak up!</td>\n",
              "      <td>Parlez plus fort !</td>\n",
              "      <td>CC-BY 2.0 (France) Attribution: tatoeba.org #3...</td>\n",
              "    </tr>\n",
              "  </tbody>\n",
              "</table>\n",
              "</div>"
            ],
            "text/plain": [
              "                          src  ...                                               desc\n",
              "44844  Tom doesn't live here.  ...  CC-BY 2.0 (France) Attribution: tatoeba.org #1...\n",
              "9069          Tell us a joke.  ...  CC-BY 2.0 (France) Attribution: tatoeba.org #2...\n",
              "32067    This is one of mine.  ...  CC-BY 2.0 (France) Attribution: tatoeba.org #2...\n",
              "18569      He is just my age.  ...  CC-BY 2.0 (France) Attribution: tatoeba.org #2...\n",
              "431                 Speak up!  ...  CC-BY 2.0 (France) Attribution: tatoeba.org #3...\n",
              "\n",
              "[5 rows x 3 columns]"
            ]
          },
          "metadata": {
            "tags": []
          },
          "execution_count": 4
        }
      ]
    },
    {
      "cell_type": "code",
      "metadata": {
        "id": "I2Mt6f_xgNpZ"
      },
      "source": [
        "# desc 컬럼 삭제\r\n",
        "del lines['desc']"
      ],
      "execution_count": 5,
      "outputs": []
    },
    {
      "cell_type": "code",
      "metadata": {
        "colab": {
          "base_uri": "https://localhost:8080/",
          "height": 204
        },
        "id": "OPKgf8UEgNlf",
        "outputId": "05f664ef-f55e-4850-fd66-0dc045f2e09f"
      },
      "source": [
        "# dst 열에 <sos>로 \\t, <eos>로 \\n 을 추가\r\n",
        "lines.dst = lines.dst.apply(lambda x : '\\t ' + x + ' \\n')\r\n",
        "lines.sample(5)"
      ],
      "execution_count": 6,
      "outputs": [
        {
          "output_type": "execute_result",
          "data": {
            "text/html": [
              "<div>\n",
              "<style scoped>\n",
              "    .dataframe tbody tr th:only-of-type {\n",
              "        vertical-align: middle;\n",
              "    }\n",
              "\n",
              "    .dataframe tbody tr th {\n",
              "        vertical-align: top;\n",
              "    }\n",
              "\n",
              "    .dataframe thead th {\n",
              "        text-align: right;\n",
              "    }\n",
              "</style>\n",
              "<table border=\"1\" class=\"dataframe\">\n",
              "  <thead>\n",
              "    <tr style=\"text-align: right;\">\n",
              "      <th></th>\n",
              "      <th>src</th>\n",
              "      <th>dst</th>\n",
              "    </tr>\n",
              "  </thead>\n",
              "  <tbody>\n",
              "    <tr>\n",
              "      <th>3138</th>\n",
              "      <td>You're nuts!</td>\n",
              "      <td>\\t Tu es fou ! \\n</td>\n",
              "    </tr>\n",
              "    <tr>\n",
              "      <th>22275</th>\n",
              "      <td>You are in my way.</td>\n",
              "      <td>\\t Tu es sur mon chemin. \\n</td>\n",
              "    </tr>\n",
              "    <tr>\n",
              "      <th>32196</th>\n",
              "      <td>Tom helped us a lot.</td>\n",
              "      <td>\\t Tom nous a beaucoup aidés. \\n</td>\n",
              "    </tr>\n",
              "    <tr>\n",
              "      <th>24611</th>\n",
              "      <td>I walked to school.</td>\n",
              "      <td>\\t Je me rendis à pied à l'école. \\n</td>\n",
              "    </tr>\n",
              "    <tr>\n",
              "      <th>43368</th>\n",
              "      <td>It's really cool here.</td>\n",
              "      <td>\\t C'est vraiment détendu, ici. \\n</td>\n",
              "    </tr>\n",
              "  </tbody>\n",
              "</table>\n",
              "</div>"
            ],
            "text/plain": [
              "                          src                                   dst\n",
              "3138             You're nuts!                     \\t Tu es fou ! \\n\n",
              "22275      You are in my way.           \\t Tu es sur mon chemin. \\n\n",
              "32196    Tom helped us a lot.      \\t Tom nous a beaucoup aidés. \\n\n",
              "24611     I walked to school.  \\t Je me rendis à pied à l'école. \\n\n",
              "43368  It's really cool here.    \\t C'est vraiment détendu, ici. \\n"
            ]
          },
          "metadata": {
            "tags": []
          },
          "execution_count": 6
        }
      ]
    },
    {
      "cell_type": "code",
      "metadata": {
        "id": "p3P0piIVgNhC"
      },
      "source": [
        "# 글자 집합 생성 (단어가 아님), 즉 토큰 단위가 단어가 아닌 글자\r\n",
        "src_vocab = set()\r\n",
        "for line in lines.src: # 1줄씩 읽음\r\n",
        "    for char in line: # 1개의 글자씩 읽음\r\n",
        "        src_vocab.add(char)\r\n",
        "\r\n",
        "dst_vocab = set()\r\n",
        "for line in lines.dst:\r\n",
        "    for char in line:\r\n",
        "        dst_vocab.add(char)"
      ],
      "execution_count": 7,
      "outputs": []
    },
    {
      "cell_type": "code",
      "metadata": {
        "colab": {
          "base_uri": "https://localhost:8080/"
        },
        "id": "C6OeZdkEgNbg",
        "outputId": "9e033b1a-f7e1-4193-a5b8-a15a1b51da75"
      },
      "source": [
        "src_vocab_size = len(src_vocab)+1\r\n",
        "dst_vocab_size = len(dst_vocab)+1\r\n",
        "print(src_vocab_size, dst_vocab_size)"
      ],
      "execution_count": 8,
      "outputs": [
        {
          "output_type": "stream",
          "text": [
            "79 105\n"
          ],
          "name": "stdout"
        }
      ]
    },
    {
      "cell_type": "code",
      "metadata": {
        "colab": {
          "base_uri": "https://localhost:8080/"
        },
        "id": "UIFMAEG2gNUy",
        "outputId": "7a8a177d-d31f-4f26-cc06-87f02bfea706"
      },
      "source": [
        "src_vocab = sorted(list(src_vocab))\r\n",
        "dst_vocab = sorted(list(dst_vocab))\r\n",
        "print(src_vocab[45:75])\r\n",
        "print(dst_vocab[45:75])"
      ],
      "execution_count": 9,
      "outputs": [
        {
          "output_type": "stream",
          "text": [
            "['W', 'X', 'Y', 'Z', 'a', 'b', 'c', 'd', 'e', 'f', 'g', 'h', 'i', 'j', 'k', 'l', 'm', 'n', 'o', 'p', 'q', 'r', 's', 't', 'u', 'v', 'w', 'x', 'y', 'z']\n",
            "['U', 'V', 'W', 'X', 'Y', 'Z', 'a', 'b', 'c', 'd', 'e', 'f', 'g', 'h', 'i', 'j', 'k', 'l', 'm', 'n', 'o', 'p', 'q', 'r', 's', 't', 'u', 'v', 'w', 'x']\n"
          ],
          "name": "stdout"
        }
      ]
    },
    {
      "cell_type": "code",
      "metadata": {
        "colab": {
          "base_uri": "https://localhost:8080/"
        },
        "id": "-kWdK8eogNIQ",
        "outputId": "942470ed-b340-4cc7-8519-be23c0f37427"
      },
      "source": [
        "# 각 글자에 인덱스 부여\r\n",
        "src_to_index = dict([(word, i+1) for i, word in enumerate(src_vocab)])\r\n",
        "dst_to_index = dict([(word, i+1) for i, word in enumerate(dst_vocab)])\r\n",
        "print(src_to_index)\r\n",
        "print(dst_to_index)"
      ],
      "execution_count": 10,
      "outputs": [
        {
          "output_type": "stream",
          "text": [
            "{' ': 1, '!': 2, '\"': 3, '$': 4, '%': 5, '&': 6, \"'\": 7, ',': 8, '-': 9, '.': 10, '/': 11, '0': 12, '1': 13, '2': 14, '3': 15, '4': 16, '5': 17, '6': 18, '7': 19, '8': 20, '9': 21, ':': 22, '?': 23, 'A': 24, 'B': 25, 'C': 26, 'D': 27, 'E': 28, 'F': 29, 'G': 30, 'H': 31, 'I': 32, 'J': 33, 'K': 34, 'L': 35, 'M': 36, 'N': 37, 'O': 38, 'P': 39, 'Q': 40, 'R': 41, 'S': 42, 'T': 43, 'U': 44, 'V': 45, 'W': 46, 'X': 47, 'Y': 48, 'Z': 49, 'a': 50, 'b': 51, 'c': 52, 'd': 53, 'e': 54, 'f': 55, 'g': 56, 'h': 57, 'i': 58, 'j': 59, 'k': 60, 'l': 61, 'm': 62, 'n': 63, 'o': 64, 'p': 65, 'q': 66, 'r': 67, 's': 68, 't': 69, 'u': 70, 'v': 71, 'w': 72, 'x': 73, 'y': 74, 'z': 75, 'é': 76, '’': 77, '€': 78}\n",
            "{'\\t': 1, '\\n': 2, ' ': 3, '!': 4, '\"': 5, '%': 6, '&': 7, \"'\": 8, '(': 9, ')': 10, ',': 11, '-': 12, '.': 13, '0': 14, '1': 15, '2': 16, '3': 17, '4': 18, '5': 19, '6': 20, '7': 21, '8': 22, '9': 23, ':': 24, '?': 25, 'A': 26, 'B': 27, 'C': 28, 'D': 29, 'E': 30, 'F': 31, 'G': 32, 'H': 33, 'I': 34, 'J': 35, 'K': 36, 'L': 37, 'M': 38, 'N': 39, 'O': 40, 'P': 41, 'Q': 42, 'R': 43, 'S': 44, 'T': 45, 'U': 46, 'V': 47, 'W': 48, 'X': 49, 'Y': 50, 'Z': 51, 'a': 52, 'b': 53, 'c': 54, 'd': 55, 'e': 56, 'f': 57, 'g': 58, 'h': 59, 'i': 60, 'j': 61, 'k': 62, 'l': 63, 'm': 64, 'n': 65, 'o': 66, 'p': 67, 'q': 68, 'r': 69, 's': 70, 't': 71, 'u': 72, 'v': 73, 'w': 74, 'x': 75, 'y': 76, 'z': 77, '\\xa0': 78, '«': 79, '»': 80, 'À': 81, 'Ç': 82, 'É': 83, 'Ê': 84, 'Ô': 85, 'à': 86, 'â': 87, 'ç': 88, 'è': 89, 'é': 90, 'ê': 91, 'ë': 92, 'î': 93, 'ï': 94, 'ô': 95, 'ù': 96, 'û': 97, 'œ': 98, 'С': 99, '\\u2009': 100, '\\u200b': 101, '‘': 102, '’': 103, '\\u202f': 104}\n"
          ],
          "name": "stdout"
        }
      ]
    },
    {
      "cell_type": "code",
      "metadata": {
        "colab": {
          "base_uri": "https://localhost:8080/"
        },
        "id": "0pn76A85im1Q",
        "outputId": "904b1481-db83-4497-ce66-a5cb79efada6"
      },
      "source": [
        "# 영어 데이터에 대한 정수 인코딩\r\n",
        "encoder_input = []\r\n",
        "for line in lines.src: #입력 데이터에서 1줄씩 문장을 읽음\r\n",
        "    temp_X = []\r\n",
        "    for w in line: #각 줄에서 1개씩 글자를 읽음\r\n",
        "        temp_X.append(src_to_index[w]) # 글자를 해당되는 정수로 변환\r\n",
        "    encoder_input.append(temp_X)\r\n",
        "print(encoder_input[:5])"
      ],
      "execution_count": 11,
      "outputs": [
        {
          "output_type": "stream",
          "text": [
            "[[30, 64, 10], [31, 58, 10], [31, 58, 10], [41, 70, 63, 2], [41, 70, 63, 2]]\n"
          ],
          "name": "stdout"
        }
      ]
    },
    {
      "cell_type": "code",
      "metadata": {
        "colab": {
          "base_uri": "https://localhost:8080/"
        },
        "id": "GJjoHevTirqo",
        "outputId": "a23f6b42-1446-42c9-f1a5-3f541a7797c7"
      },
      "source": [
        "# 프랑스어 데이터에 대한 정수 인코딩\r\n",
        "decoder_input = []\r\n",
        "for line in lines.dst:\r\n",
        "    temp_X = []\r\n",
        "    for w in line:\r\n",
        "        temp_X.append(dst_to_index[w])\r\n",
        "    decoder_input.append(temp_X)\r\n",
        "print(decoder_input[:5])"
      ],
      "execution_count": 12,
      "outputs": [
        {
          "output_type": "stream",
          "text": [
            "[[1, 3, 47, 52, 3, 4, 3, 2], [1, 3, 44, 52, 63, 72, 71, 3, 4, 3, 2], [1, 3, 44, 52, 63, 72, 71, 13, 3, 2], [1, 3, 28, 66, 72, 69, 70, 104, 4, 3, 2], [1, 3, 28, 66, 72, 69, 56, 77, 104, 4, 3, 2]]\n"
          ],
          "name": "stdout"
        }
      ]
    },
    {
      "cell_type": "code",
      "metadata": {
        "colab": {
          "base_uri": "https://localhost:8080/"
        },
        "id": "CT46WgTBivCe",
        "outputId": "4f03e173-6bad-49cf-ba21-e4bcf817e39f"
      },
      "source": [
        "# 디코더의 예측값과 비교하기 위한 실제값\r\n",
        "# 정수 인코딩 과정에서 <sos>를 제거\r\n",
        "decoder_target = []\r\n",
        "for line in lines.dst:\r\n",
        "    t=0\r\n",
        "    temp_X = []\r\n",
        "    for w in line:\r\n",
        "        if t>0:\r\n",
        "            temp_X.append(dst_to_index[w])\r\n",
        "        t=t+1\r\n",
        "    decoder_target.append(temp_X)\r\n",
        "print(decoder_target[:5])"
      ],
      "execution_count": 13,
      "outputs": [
        {
          "output_type": "stream",
          "text": [
            "[[3, 47, 52, 3, 4, 3, 2], [3, 44, 52, 63, 72, 71, 3, 4, 3, 2], [3, 44, 52, 63, 72, 71, 13, 3, 2], [3, 28, 66, 72, 69, 70, 104, 4, 3, 2], [3, 28, 66, 72, 69, 56, 77, 104, 4, 3, 2]]\n"
          ],
          "name": "stdout"
        }
      ]
    },
    {
      "cell_type": "code",
      "metadata": {
        "colab": {
          "base_uri": "https://localhost:8080/"
        },
        "id": "EruI7_-3iu0z",
        "outputId": "051a5d19-ced2-4ccd-88f6-aeef1756bd74"
      },
      "source": [
        "# 패딩을 위해서 영어 문장과 프랑스어 문장 각각에 대해서 가장 길이가 긴 샘플의 길이 확인\r\n",
        "max_src_len = max([len(line) for line in lines.src])\r\n",
        "max_dst_len = max([len(line) for line in lines.dst])\r\n",
        "print(max_src_len, max_dst_len)"
      ],
      "execution_count": 14,
      "outputs": [
        {
          "output_type": "stream",
          "text": [
            "25 76\n"
          ],
          "name": "stdout"
        }
      ]
    },
    {
      "cell_type": "code",
      "metadata": {
        "colab": {
          "base_uri": "https://localhost:8080/"
        },
        "id": "XIVF8PK-iunx",
        "outputId": "e0837e86-fb3f-4449-cc46-9d560cf24bdf"
      },
      "source": [
        "# 평균 샘플 길이\r\n",
        "print('영어 문장의 평균 길이 : {}'.format(sum(map(len, lines.src))/len(lines.src)))\r\n",
        "print('불어 문장의 평균 길이 : {}'.format(sum(map(len, lines.dst))/len(lines.dst)))"
      ],
      "execution_count": 15,
      "outputs": [
        {
          "output_type": "stream",
          "text": [
            "영어 문장의 평균 길이 : 19.27035\n",
            "불어 문장의 평균 길이 : 28.3092\n"
          ],
          "name": "stdout"
        }
      ]
    },
    {
      "cell_type": "code",
      "metadata": {
        "id": "fc_nCBhCiuY3"
      },
      "source": [
        "# 패딩시 사용할 크기\r\n",
        "pad_src_len = 25\r\n",
        "pad_dst_len = 76"
      ],
      "execution_count": 16,
      "outputs": []
    },
    {
      "cell_type": "code",
      "metadata": {
        "id": "MdxEOX61iuNq"
      },
      "source": [
        "# 최대 길이로 패딩\r\n",
        "from tensorflow import keras;\r\n",
        "from keras.preprocessing.sequence import pad_sequences\r\n",
        "\r\n",
        "encoder_input = pad_sequences(encoder_input, maxlen=pad_src_len, padding='post')\r\n",
        "decoder_input = pad_sequences(decoder_input, maxlen=pad_dst_len, padding='post')\r\n",
        "decoder_target = pad_sequences(decoder_target, maxlen=pad_dst_len, padding='post')"
      ],
      "execution_count": 17,
      "outputs": []
    },
    {
      "cell_type": "code",
      "metadata": {
        "id": "pr272lN7iuB7"
      },
      "source": [
        "# 원-핫 인코딩\r\n",
        "from keras.utils import to_categorical\r\n",
        "encoder_input = to_categorical(encoder_input)\r\n",
        "decoder_input = to_categorical(decoder_input)\r\n",
        "decoder_target = to_categorical(decoder_target)"
      ],
      "execution_count": 18,
      "outputs": []
    },
    {
      "cell_type": "markdown",
      "metadata": {
        "id": "ZShAf_q3jeph"
      },
      "source": [
        "## 2. 교사 강요(Teacher forcing)\r\n",
        "- 훈련 과정에서는 이전 시점의 디코더 셀의 출력을 현재 시점의 디코더 셀의 입력으로 넣어주지 않고,\r\n",
        "- 이전 시점의 실제값을 현재 시점의 디코더 셀의 입력값으로 하는 방법을 사용\r\n",
        "- RNN의 모든 시점에 대해서 이전 시점의 예측값 대신 실제값을 입력으로 주는 방법을 교사 강요라고 함"
      ]
    },
    {
      "cell_type": "markdown",
      "metadata": {
        "id": "2wMnkzu2jeZ9"
      },
      "source": [
        "## 3. seq2seq 기계 번역기 훈련시키기"
      ]
    },
    {
      "cell_type": "code",
      "metadata": {
        "id": "AG7HjePjjkXC"
      },
      "source": [
        "from keras.layers import Input, LSTM, Embedding, Dense\r\n",
        "from keras.models import Model"
      ],
      "execution_count": 19,
      "outputs": []
    },
    {
      "cell_type": "code",
      "metadata": {
        "id": "FzAEXmWKjptY"
      },
      "source": [
        "encoder_inputs = Input(shape=(None, src_vocab_size), name='Encoder_Input')\r\n",
        "\r\n",
        "# 인코더의 내부 상태를 디코더로 넘겨주어야 하기 때문에 return_state=True로 설정\r\n",
        "encoder_lstm = LSTM(units=256, return_state=True, name='Encoder_LSTM')\r\n",
        "\r\n",
        "# encoder_outputs도 같이 리턴받기는 했지만 여기서는 필요없으므로 이 값은 버림.\r\n",
        "encoder_outputs, state_h, state_c = encoder_lstm(encoder_inputs)\r\n",
        "\r\n",
        "# LSTM은 바닐라 RNN과는 달리 상태가 두 개. 바로 은닉 상태와 셀 상태.\r\n",
        "# 이겻이 컨텍스트 벡터\r\n",
        "encoder_states = [state_h, state_c]"
      ],
      "execution_count": 38,
      "outputs": []
    },
    {
      "cell_type": "code",
      "metadata": {
        "id": "MXqDpbePjpqY"
      },
      "source": [
        "decoder_inputs = Input(shape=(None, dst_vocab_size), name='Decoder_Input')\r\n",
        "decoder_lstm = LSTM(units=256, return_sequences=True, return_state=True, \r\n",
        "                    name='Decoder_LSTM')\r\n",
        "\r\n",
        "# 디코더의 첫 상태를 인코더의 은닉 상태, 셀 상태로 설정\r\n",
        "decoder_outputs, _, _= decoder_lstm(decoder_inputs, initial_state=encoder_states)"
      ],
      "execution_count": 39,
      "outputs": []
    },
    {
      "cell_type": "code",
      "metadata": {
        "colab": {
          "base_uri": "https://localhost:8080/"
        },
        "id": "pT5Tiwjrjpmq",
        "outputId": "64f9f525-a425-4642-fab8-e90efe6ce87d"
      },
      "source": [
        "decoder_softmax_layer = Dense(dst_vocab_size, activation='softmax')\r\n",
        "decoder_outputs = decoder_softmax_layer(decoder_outputs)\r\n",
        "\r\n",
        "model = Model([encoder_inputs, decoder_inputs], decoder_outputs)\r\n",
        "model.summary()"
      ],
      "execution_count": 40,
      "outputs": [
        {
          "output_type": "stream",
          "text": [
            "Model: \"model_5\"\n",
            "__________________________________________________________________________________________________\n",
            "Layer (type)                    Output Shape         Param #     Connected to                     \n",
            "==================================================================================================\n",
            "Encoder_Input (InputLayer)      [(None, None, 79)]   0                                            \n",
            "__________________________________________________________________________________________________\n",
            "Decoder_Input (InputLayer)      [(None, None, 105)]  0                                            \n",
            "__________________________________________________________________________________________________\n",
            "Encoder_LSTM (LSTM)             [(None, 256), (None, 344064      Encoder_Input[0][0]              \n",
            "__________________________________________________________________________________________________\n",
            "Decoder_LSTM (LSTM)             [(None, None, 256),  370688      Decoder_Input[0][0]              \n",
            "                                                                 Encoder_LSTM[0][1]               \n",
            "                                                                 Encoder_LSTM[0][2]               \n",
            "__________________________________________________________________________________________________\n",
            "dense_2 (Dense)                 (None, None, 105)    26985       Decoder_LSTM[0][0]               \n",
            "==================================================================================================\n",
            "Total params: 741,737\n",
            "Trainable params: 741,737\n",
            "Non-trainable params: 0\n",
            "__________________________________________________________________________________________________\n"
          ],
          "name": "stdout"
        }
      ]
    },
    {
      "cell_type": "code",
      "metadata": {
        "colab": {
          "base_uri": "https://localhost:8080/",
          "height": 369
        },
        "id": "nKh5rIVqjpjl",
        "outputId": "4de68a85-8ca0-4fc4-84a7-4a7e9e95bb07"
      },
      "source": [
        "from keras.utils import plot_model\r\n",
        "plot_model(model)"
      ],
      "execution_count": 41,
      "outputs": [
        {
          "output_type": "execute_result",
          "data": {
            "image/png": "[encoded data removed]",
            "text/plain": [
              "<IPython.core.display.Image object>"
            ]
          },
          "metadata": {
            "tags": []
          },
          "execution_count": 41
        }
      ]
    },
    {
      "cell_type": "code",
      "metadata": {
        "id": "Yaw1A78Djpga"
      },
      "source": [
        "model.compile(optimizer=\"rmsprop\", loss=\"categorical_crossentropy\")"
      ],
      "execution_count": 42,
      "outputs": []
    },
    {
      "cell_type": "code",
      "metadata": {
        "id": "hj3BGEyfjpdM"
      },
      "source": [
        "from keras.callbacks import ModelCheckpoint, EarlyStopping\r\n",
        "modelpath = \"seq2seq-best_model.hdf5\"\r\n",
        "checkpointer = ModelCheckpoint(filepath=modelpath, monitor='val_loss', \r\n",
        "                               verbose=1, save_best_only=True)\r\n",
        "early_stopping = EarlyStopping(monitor='val_loss', patience=5)"
      ],
      "execution_count": 43,
      "outputs": []
    },
    {
      "cell_type": "code",
      "metadata": {
        "colab": {
          "base_uri": "https://localhost:8080/"
        },
        "id": "ZMoa5GE2jpaE",
        "outputId": "f8942b77-34a8-4921-97b9-81f79e3d5b11"
      },
      "source": [
        "history = model.fit(x=[encoder_input, decoder_input], y=decoder_target,\r\n",
        "                    batch_size=64, epochs=50, validation_split=0.2,\r\n",
        "                    callbacks=[checkpointer, early_stopping])"
      ],
      "execution_count": 44,
      "outputs": [
        {
          "output_type": "stream",
          "text": [
            "Epoch 1/50\n",
            "750/750 [==============================] - 13s 15ms/step - loss: 1.0799 - val_loss: 0.6871\n",
            "\n",
            "Epoch 00001: val_loss improved from inf to 0.68707, saving model to seq2seq-best_model.hdf5\n",
            "Epoch 2/50\n",
            "750/750 [==============================] - 11s 14ms/step - loss: 0.5040 - val_loss: 0.5452\n",
            "\n",
            "Epoch 00002: val_loss improved from 0.68707 to 0.54522, saving model to seq2seq-best_model.hdf5\n",
            "Epoch 3/50\n",
            "750/750 [==============================] - 11s 14ms/step - loss: 0.4110 - val_loss: 0.4837\n",
            "\n",
            "Epoch 00003: val_loss improved from 0.54522 to 0.48372, saving model to seq2seq-best_model.hdf5\n",
            "Epoch 4/50\n",
            "750/750 [==============================] - 11s 14ms/step - loss: 0.3593 - val_loss: 0.4485\n",
            "\n",
            "Epoch 00004: val_loss improved from 0.48372 to 0.44852, saving model to seq2seq-best_model.hdf5\n",
            "Epoch 5/50\n",
            "750/750 [==============================] - 11s 14ms/step - loss: 0.3271 - val_loss: 0.4200\n",
            "\n",
            "Epoch 00005: val_loss improved from 0.44852 to 0.42001, saving model to seq2seq-best_model.hdf5\n",
            "Epoch 6/50\n",
            "750/750 [==============================] - 11s 14ms/step - loss: 0.3047 - val_loss: 0.4018\n",
            "\n",
            "Epoch 00006: val_loss improved from 0.42001 to 0.40182, saving model to seq2seq-best_model.hdf5\n",
            "Epoch 7/50\n",
            "750/750 [==============================] - 11s 14ms/step - loss: 0.2858 - val_loss: 0.3902\n",
            "\n",
            "Epoch 00007: val_loss improved from 0.40182 to 0.39015, saving model to seq2seq-best_model.hdf5\n",
            "Epoch 8/50\n",
            "750/750 [==============================] - 11s 14ms/step - loss: 0.2716 - val_loss: 0.3798\n",
            "\n",
            "Epoch 00008: val_loss improved from 0.39015 to 0.37984, saving model to seq2seq-best_model.hdf5\n",
            "Epoch 9/50\n",
            "750/750 [==============================] - 11s 14ms/step - loss: 0.2602 - val_loss: 0.3727\n",
            "\n",
            "Epoch 00009: val_loss improved from 0.37984 to 0.37272, saving model to seq2seq-best_model.hdf5\n",
            "Epoch 10/50\n",
            "750/750 [==============================] - 11s 14ms/step - loss: 0.2511 - val_loss: 0.3669\n",
            "\n",
            "Epoch 00010: val_loss improved from 0.37272 to 0.36690, saving model to seq2seq-best_model.hdf5\n",
            "Epoch 11/50\n",
            "750/750 [==============================] - 11s 14ms/step - loss: 0.2418 - val_loss: 0.3649\n",
            "\n",
            "Epoch 00011: val_loss improved from 0.36690 to 0.36486, saving model to seq2seq-best_model.hdf5\n",
            "Epoch 12/50\n",
            "750/750 [==============================] - 11s 14ms/step - loss: 0.2346 - val_loss: 0.3611\n",
            "\n",
            "Epoch 00012: val_loss improved from 0.36486 to 0.36115, saving model to seq2seq-best_model.hdf5\n",
            "Epoch 13/50\n",
            "750/750 [==============================] - 11s 14ms/step - loss: 0.2265 - val_loss: 0.3577\n",
            "\n",
            "Epoch 00013: val_loss improved from 0.36115 to 0.35768, saving model to seq2seq-best_model.hdf5\n",
            "Epoch 14/50\n",
            "750/750 [==============================] - 11s 14ms/step - loss: 0.2215 - val_loss: 0.3579\n",
            "\n",
            "Epoch 00014: val_loss did not improve from 0.35768\n",
            "Epoch 15/50\n",
            "750/750 [==============================] - 11s 14ms/step - loss: 0.2151 - val_loss: 0.3567\n",
            "\n",
            "Epoch 00015: val_loss improved from 0.35768 to 0.35671, saving model to seq2seq-best_model.hdf5\n",
            "Epoch 16/50\n",
            "750/750 [==============================] - 11s 15ms/step - loss: 0.2103 - val_loss: 0.3556\n",
            "\n",
            "Epoch 00016: val_loss improved from 0.35671 to 0.35560, saving model to seq2seq-best_model.hdf5\n",
            "Epoch 17/50\n",
            "750/750 [==============================] - 11s 14ms/step - loss: 0.2045 - val_loss: 0.3546\n",
            "\n",
            "Epoch 00017: val_loss improved from 0.35560 to 0.35457, saving model to seq2seq-best_model.hdf5\n",
            "Epoch 18/50\n",
            "750/750 [==============================] - 11s 14ms/step - loss: 0.1996 - val_loss: 0.3552\n",
            "\n",
            "Epoch 00018: val_loss did not improve from 0.35457\n",
            "Epoch 19/50\n",
            "750/750 [==============================] - 11s 14ms/step - loss: 0.1953 - val_loss: 0.3572\n",
            "\n",
            "Epoch 00019: val_loss did not improve from 0.35457\n",
            "Epoch 20/50\n",
            "750/750 [==============================] - 11s 14ms/step - loss: 0.1923 - val_loss: 0.3579\n",
            "\n",
            "Epoch 00020: val_loss did not improve from 0.35457\n",
            "Epoch 21/50\n",
            "750/750 [==============================] - 11s 14ms/step - loss: 0.1878 - val_loss: 0.3576\n",
            "\n",
            "Epoch 00021: val_loss did not improve from 0.35457\n",
            "Epoch 22/50\n",
            "750/750 [==============================] - 11s 14ms/step - loss: 0.1847 - val_loss: 0.3595\n",
            "\n",
            "Epoch 00022: val_loss did not improve from 0.35457\n"
          ],
          "name": "stdout"
        }
      ]
    },
    {
      "cell_type": "markdown",
      "metadata": {
        "id": "XQJNH4dTl6PD"
      },
      "source": [
        "## 4. seq2seq 기계 번역기 동작시키기\r\n",
        "- 학습한 최종 모델로"
      ]
    },
    {
      "cell_type": "code",
      "metadata": {
        "id": "LhJL4_TUl-r-"
      },
      "source": [
        "encoder_model = Model(inputs=encoder_inputs, outputs=encoder_states)"
      ],
      "execution_count": 45,
      "outputs": []
    },
    {
      "cell_type": "code",
      "metadata": {
        "id": "nFsNihZ6l-oF"
      },
      "source": [
        "decoder_state_input_h = Input(shape=(256,))\r\n",
        "decoder_state_input_c = Input(shape=(256,))\r\n",
        "decoder_states_inputs = [decoder_state_input_h, decoder_state_input_c]\r\n",
        "\r\n",
        "# 문장의 다음 단어를 예측하기 위해서 초기 상태를 이전 상태로 사용\r\n",
        "decoder_outputs, state_h, state_c = decoder_lstm(decoder_inputs, initial_state=decoder_states_inputs)\r\n",
        "\r\n",
        "# 이번에는 훈련 과정에서와 달리 은닉 상태와 셀 상태인 state_h와 state_c를 버리지 않음.\r\n",
        "decoder_states = [state_h, state_c]\r\n",
        "decoder_outputs = decoder_softmax_layer(decoder_outputs)\r\n",
        "decoder_model = Model(inputs=[decoder_inputs] + decoder_states_inputs, outputs=[decoder_outputs] + decoder_states)"
      ],
      "execution_count": 46,
      "outputs": []
    },
    {
      "cell_type": "code",
      "metadata": {
        "id": "NWOF5woul-i9"
      },
      "source": [
        "index_to_src = dict(\r\n",
        "    (i, char) for char, i in src_to_index.items())\r\n",
        "index_to_dst = dict(\r\n",
        "    (i, char) for char, i in dst_to_index.items())"
      ],
      "execution_count": 47,
      "outputs": []
    },
    {
      "cell_type": "code",
      "metadata": {
        "id": "nzHTVB_kl-ff"
      },
      "source": [
        "def decode_sequence(input_seq):\r\n",
        "    # 입력으로부터 인코더의 상태를 얻음\r\n",
        "    states_value = encoder_model.predict(input_seq)\r\n",
        "    # <SOS>에 해당하는 원-핫 벡터 생성\r\n",
        "    target_seq = np.zeros((1, 1, dst_vocab_size))\r\n",
        "    target_seq[0, 0, dst_to_index['\\t']] = 1.\r\n",
        "\r\n",
        "    stop_condition = False\r\n",
        "    decoded_sentence = \"\"\r\n",
        "    while not stop_condition: #stop_condition이 True가 될 때까지 루프 반복\r\n",
        "        output_tokens, h, c = decoder_model.predict([target_seq] + states_value)\r\n",
        "        sampled_token_index = np.argmax(output_tokens[0, -1, :])\r\n",
        "        sampled_char = index_to_dst[sampled_token_index]\r\n",
        "        decoded_sentence += sampled_char\r\n",
        "\r\n",
        "        # <sos>에 도달하거나 최대 길이를 넘으면 중단.\r\n",
        "        if (sampled_char == '\\n' or\r\n",
        "           len(decoded_sentence) > max_dst_len):\r\n",
        "            stop_condition = True\r\n",
        "\r\n",
        "        # 길이가 1인 타겟 시퀀스를 업데이트 합니다.\r\n",
        "        target_seq = np.zeros((1, 1, dst_vocab_size))\r\n",
        "        target_seq[0, 0, sampled_token_index] = 1.\r\n",
        "\r\n",
        "        # 상태를 업데이트 합니다.\r\n",
        "        states_value = [h, c]\r\n",
        "\r\n",
        "    return decoded_sentence"
      ],
      "execution_count": 48,
      "outputs": []
    },
    {
      "cell_type": "code",
      "metadata": {
        "colab": {
          "base_uri": "https://localhost:8080/"
        },
        "id": "tC-ZXE9ol-bb",
        "outputId": "75c363e1-524e-475d-ca02-ccc643f3cbd4"
      },
      "source": [
        "for seq_index in [3,50,100,300,1001]: # 입력 문장의 인덱스\r\n",
        "    input_seq = encoder_input[seq_index: seq_index + 1]\r\n",
        "    decoded_sentence = decode_sequence(input_seq)\r\n",
        "    print(35 * \"-\")\r\n",
        "    print('입력 문장:', lines.src[seq_index])\r\n",
        "    print('정답 문장:', lines.dst[seq_index][1:len(lines.dst[seq_index])-1]) # '\\t'와 '\\n'을 빼고 출력\r\n",
        "    print('번역기가 번역한 문장:', decoded_sentence[:len(decoded_sentence)-1]) # '\\n'을 빼고 출력"
      ],
      "execution_count": 49,
      "outputs": [
        {
          "output_type": "stream",
          "text": [
            "-----------------------------------\n",
            "입력 문장: Run!\n",
            "정답 문장:  Cours ! \n",
            "번역기가 번역한 문장:  Faites-le ! \n",
            "-----------------------------------\n",
            "입력 문장: I lied.\n",
            "정답 문장:  J'ai menti. \n",
            "번역기가 번역한 문장:  Je l'ai déjà. \n",
            "-----------------------------------\n",
            "입력 문장: Come in.\n",
            "정답 문장:  Entre. \n",
            "번역기가 번역한 문장:  Reviens ! \n",
            "-----------------------------------\n",
            "입력 문장: Hurry up.\n",
            "정답 문장:  Magnez-vous ! \n",
            "번역기가 번역한 문장:  Dépêchez-vous ! \n",
            "-----------------------------------\n",
            "입력 문장: We walked.\n",
            "정답 문장:  Nous sommes allées à pied. \n",
            "번역기가 번역한 문장:  Nous avons attrapée. \n"
          ],
          "name": "stdout"
        }
      ]
    },
    {
      "cell_type": "markdown",
      "metadata": {
        "id": "ie9eRvSwmilS"
      },
      "source": [
        "## 5. seq2seq 기계 번역기 동작시키기\r\n",
        "- Best 모델로"
      ]
    },
    {
      "cell_type": "code",
      "metadata": {
        "id": "xfE5sGIxl-RD"
      },
      "source": [
        "# Best Model 선택\r\n",
        "from keras.models import load_model\r\n",
        "del model\r\n",
        "model = load_model(modelpath)"
      ],
      "execution_count": 50,
      "outputs": []
    },
    {
      "cell_type": "code",
      "metadata": {
        "id": "XukXysNHjoun"
      },
      "source": [
        "decoder_state_input_h = Input(shape=(256,))\r\n",
        "decoder_state_input_c = Input(shape=(256,))\r\n",
        "decoder_states_inputs = [decoder_state_input_h, decoder_state_input_c]\r\n",
        "\r\n",
        "# 문장의 다음 단어를 예측하기 위해서 초기 상태를 이전 상태로 사용\r\n",
        "decoder_outputs, state_h, state_c = decoder_lstm(decoder_inputs, initial_state=decoder_states_inputs)\r\n",
        "\r\n",
        "# 이번에는 훈련 과정에서와 달리 은닉 상태와 셀 상태인 state_h와 state_c를 버리지 않음.\r\n",
        "decoder_states = [state_h, state_c]\r\n",
        "decoder_outputs = decoder_softmax_layer(decoder_outputs)\r\n",
        "decoder_model = Model(inputs=[decoder_inputs] + decoder_states_inputs, outputs=[decoder_outputs] + decoder_states)"
      ],
      "execution_count": 51,
      "outputs": []
    },
    {
      "cell_type": "code",
      "metadata": {
        "colab": {
          "base_uri": "https://localhost:8080/"
        },
        "id": "IFJRDPwwnNcr",
        "outputId": "0b970a35-bfed-4d81-ca30-912283ffbb98"
      },
      "source": [
        "for seq_index in [3,50,100,300,1001]: # 입력 문장의 인덱스\r\n",
        "    input_seq = encoder_input[seq_index: seq_index + 1]\r\n",
        "    decoded_sentence = decode_sequence(input_seq)\r\n",
        "    print(35 * \"-\")\r\n",
        "    print('입력 문장:', lines.src[seq_index])\r\n",
        "    print('정답 문장:', lines.dst[seq_index][1:len(lines.dst[seq_index])-1]) # '\\t'와 '\\n'을 빼고 출력\r\n",
        "    print('번역기가 번역한 문장:', decoded_sentence[:len(decoded_sentence)-1]) # '\\n'을 빼고 출력"
      ],
      "execution_count": 52,
      "outputs": [
        {
          "output_type": "stream",
          "text": [
            "-----------------------------------\n",
            "입력 문장: Run!\n",
            "정답 문장:  Cours ! \n",
            "번역기가 번역한 문장:  Faites-le ! \n",
            "-----------------------------------\n",
            "입력 문장: I lied.\n",
            "정답 문장:  J'ai menti. \n",
            "번역기가 번역한 문장:  Je l'ai déjà. \n",
            "-----------------------------------\n",
            "입력 문장: Come in.\n",
            "정답 문장:  Entre. \n",
            "번역기가 번역한 문장:  Reviens ! \n",
            "-----------------------------------\n",
            "입력 문장: Hurry up.\n",
            "정답 문장:  Magnez-vous ! \n",
            "번역기가 번역한 문장:  Dépêchez-vous ! \n",
            "-----------------------------------\n",
            "입력 문장: We walked.\n",
            "정답 문장:  Nous sommes allées à pied. \n",
            "번역기가 번역한 문장:  Nous avons attrapée. \n"
          ],
          "name": "stdout"
        }
      ]
    },
    {
      "cell_type": "markdown",
      "metadata": {
        "id": "q8hbPbtntiMr"
      },
      "source": [
        "### 학습과정 시각화"
      ]
    },
    {
      "cell_type": "code",
      "metadata": {
        "id": "1SRqbawPtlfq"
      },
      "source": [
        "# 테스트셋\r\n",
        "y_vloss = history.history['val_loss']\r\n",
        "# 학습셋\r\n",
        "y_loss = history.history['loss']"
      ],
      "execution_count": 54,
      "outputs": []
    },
    {
      "cell_type": "code",
      "metadata": {
        "colab": {
          "base_uri": "https://localhost:8080/",
          "height": 498
        },
        "id": "-XvWi8H4tyYr",
        "outputId": "08b79d94-a86f-40ba-8547-7a5ca27e78d2"
      },
      "source": [
        "import matplotlib.pyplot as plt\r\n",
        "%matplotlib inline\r\n",
        "\r\n",
        "x_len = np.arange(1, len(y_loss)+1)\r\n",
        "plt.figure(figsize=(10,8))\r\n",
        "plt.plot(x_len, y_loss, c=\"blue\", label='train set loss')\r\n",
        "plt.plot(x_len, y_vloss, c=\"red\", label='val set loss')\r\n",
        "plt.ylabel('loss')\r\n",
        "plt.xlabel('epoch')\r\n",
        "plt.legend()\r\n",
        "plt.grid()\r\n",
        "plt.show()"
      ],
      "execution_count": 57,
      "outputs": [
        {
          "output_type": "display_data",
          "data": {
            "image/png": "[encoded data removed]",
            "text/plain": [
              "<Figure size 720x576 with 1 Axes>"
            ]
          },
          "metadata": {
            "tags": [],
            "needs_background": "light"
          }
        }
      ]
    },
    {
      "cell_type": "code",
      "metadata": {
        "id": "1rH-9DF7uVTQ"
      },
      "source": [
        ""
      ],
      "execution_count": null,
      "outputs": []
    }
  ]
}