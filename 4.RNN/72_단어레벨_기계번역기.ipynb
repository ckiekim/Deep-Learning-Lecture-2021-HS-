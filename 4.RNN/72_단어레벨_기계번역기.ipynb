{
  "nbformat": 4,
  "nbformat_minor": 0,
  "metadata": {
    "colab": {
      "name": "62_단어레벨_기계번역기.ipynb",
      "provenance": [],
      "collapsed_sections": []
    },
    "kernelspec": {
      "name": "python3",
      "display_name": "Python 3"
    },
    "accelerator": "GPU"
  },
  "cells": [
    {
      "cell_type": "markdown",
      "metadata": {
        "id": "ZLsBmrJ0dhcR"
      },
      "source": [
        "# 단어 레벨 기계번역기\r\n"
      ]
    },
    {
      "cell_type": "code",
      "metadata": {
        "id": "1CjYVW69eJjO"
      },
      "source": [
        "import numpy as np\r\n",
        "import tensorflow as tf\r\n",
        "\r\n",
        "seed = 2021\r\n",
        "np.random.seed(seed)\r\n",
        "tf.random.set_seed(seed)"
      ],
      "execution_count": 1,
      "outputs": []
    },
    {
      "cell_type": "markdown",
      "metadata": {
        "id": "NQcEcnhsduKT"
      },
      "source": [
        "## 1. 데이터 로드 및 전처리"
      ]
    },
    {
      "cell_type": "code",
      "metadata": {
        "id": "uhHwEBrWd8AS"
      },
      "source": [
        "import pandas as pd\r\n",
        "import re, shutil, os, unicodedata, urllib3, zipfile\r\n",
        "from tensorflow.keras.preprocessing.text import Tokenizer\r\n",
        "from tensorflow.keras.preprocessing.sequence import pad_sequences"
      ],
      "execution_count": 2,
      "outputs": []
    },
    {
      "cell_type": "code",
      "metadata": {
        "id": "rw-05g33ditD"
      },
      "source": [
        "http = urllib3.PoolManager()\r\n",
        "url ='http://www.manythings.org/anki/fra-eng.zip'\r\n",
        "filename = 'fra-eng.zip'\r\n",
        "path = os.getcwd()\r\n",
        "zipfilename = os.path.join(path, filename)\r\n",
        "with http.request('GET', url, preload_content=False) as r, open(zipfilename, 'wb') as out_file:       \r\n",
        "    shutil.copyfileobj(r, out_file)\r\n",
        "\r\n",
        "with zipfile.ZipFile(zipfilename, 'r') as zip_ref:\r\n",
        "    zip_ref.extractall(path)"
      ],
      "execution_count": 3,
      "outputs": []
    },
    {
      "cell_type": "code",
      "metadata": {
        "colab": {
          "base_uri": "https://localhost:8080/"
        },
        "id": "gRnTaFf3dLO0",
        "outputId": "8c264979-f793-4183-affe-a6b05dd032df"
      },
      "source": [
        "!ls -l"
      ],
      "execution_count": 4,
      "outputs": [
        {
          "output_type": "stream",
          "text": [
            "total 33496\n",
            "-rw-r--r-- 1 root root     1441 Feb 23 06:42 _about.txt\n",
            "-rw-r--r-- 1 root root  6281268 Feb 23 06:42 fra-eng.zip\n",
            "-rw-r--r-- 1 root root 28006157 Feb 23 06:42 fra.txt\n",
            "drwxr-xr-x 1 root root     4096 Feb 16 16:35 sample_data\n"
          ],
          "name": "stdout"
        }
      ]
    },
    {
      "cell_type": "code",
      "metadata": {
        "id": "3Qwj3AmygHTy"
      },
      "source": [
        "# 총 33,000개의 샘플만 가지고 기계 번역기를 구축\r\n",
        "num_samples = 33000"
      ],
      "execution_count": 5,
      "outputs": []
    },
    {
      "cell_type": "code",
      "metadata": {
        "id": "I2Mt6f_xgNpZ"
      },
      "source": [
        "def unicode_to_ascii(s):\r\n",
        "  return ''.join(c for c in unicodedata.normalize('NFD', s)\r\n",
        "      if unicodedata.category(c) != 'Mn')"
      ],
      "execution_count": 6,
      "outputs": []
    },
    {
      "cell_type": "code",
      "metadata": {
        "id": "OPKgf8UEgNlf"
      },
      "source": [
        "def preprocess_sentence(sent):\r\n",
        "    # 위에서 구현한 함수를 내부적으로 호출\r\n",
        "    sent = unicode_to_ascii(sent.lower())\r\n",
        "\r\n",
        "    # 단어와 구두점 사이에 공백을 만듭니다.\r\n",
        "    # Ex) \"he is a boy.\" => \"he is a boy .\"\r\n",
        "    sent = re.sub(r\"([?.!,¿])\", r\" \\1\", sent)\r\n",
        "\r\n",
        "    # (a-z, A-Z, \".\", \"?\", \"!\", \",\") 이들을 제외하고는 전부 공백으로 변환합니다.\r\n",
        "    sent = re.sub(r\"[^a-zA-Z!.?]+\", r\" \", sent)\r\n",
        "\r\n",
        "    sent = re.sub(r\"\\s+\", \" \", sent)\r\n",
        "    return sent"
      ],
      "execution_count": 7,
      "outputs": []
    },
    {
      "cell_type": "code",
      "metadata": {
        "id": "p3P0piIVgNhC",
        "colab": {
          "base_uri": "https://localhost:8080/"
        },
        "outputId": "673c7183-c891-4054-a80b-dfb4066c5169"
      },
      "source": [
        "# 전처리 테스트\r\n",
        "en_sent = u\"Have you had dinner?\"\r\n",
        "fr_sent = u\"Avez-vous déjà diné?\"\r\n",
        "print(preprocess_sentence(en_sent))\r\n",
        "print(preprocess_sentence(fr_sent).encode('utf-8'))"
      ],
      "execution_count": 8,
      "outputs": [
        {
          "output_type": "stream",
          "text": [
            "have you had dinner ?\n",
            "b'avez vous deja dine ?'\n"
          ],
          "name": "stdout"
        }
      ]
    },
    {
      "cell_type": "code",
      "metadata": {
        "id": "C6OeZdkEgNbg"
      },
      "source": [
        "def load_preprocessed_data():\r\n",
        "    encoder_input, decoder_input, decoder_target = [], [], []\r\n",
        "\r\n",
        "    with open(\"fra.txt\", \"r\") as lines:\r\n",
        "        for i, line in enumerate(lines):\r\n",
        "\r\n",
        "            # source 데이터와 target 데이터 분리\r\n",
        "            src_line, tar_line, _ = line.strip().split('\\t')\r\n",
        "\r\n",
        "            # source 데이터 전처리\r\n",
        "            src_line_input = [w for w in preprocess_sentence(src_line).split()]\r\n",
        "\r\n",
        "            # target 데이터 전처리\r\n",
        "            tar_line = preprocess_sentence(tar_line)\r\n",
        "            tar_line_input = [w for w in (\"<sos> \" + tar_line).split()]\r\n",
        "            tar_line_target = [w for w in (tar_line + \" <eos>\").split()]\r\n",
        "\r\n",
        "            encoder_input.append(src_line_input)\r\n",
        "            decoder_input.append(tar_line_input)\r\n",
        "            decoder_target.append(tar_line_target)\r\n",
        "\r\n",
        "            if i == num_samples - 1:\r\n",
        "                break\r\n",
        "\r\n",
        "    return encoder_input, decoder_input, decoder_target"
      ],
      "execution_count": 9,
      "outputs": []
    },
    {
      "cell_type": "code",
      "metadata": {
        "colab": {
          "base_uri": "https://localhost:8080/"
        },
        "id": "UIFMAEG2gNUy",
        "outputId": "b672a9ac-59d7-4357-9007-9cd8dea79b9d"
      },
      "source": [
        "sents_en_in, sents_fra_in, sents_fra_out = load_preprocessed_data()\r\n",
        "print(sents_en_in[:5])\r\n",
        "print(sents_fra_in[:5])\r\n",
        "print(sents_fra_out[:5])"
      ],
      "execution_count": 10,
      "outputs": [
        {
          "output_type": "stream",
          "text": [
            "[['go', '.'], ['go', '.'], ['go', '.'], ['hi', '.'], ['hi', '.']]\n",
            "[['<sos>', 'va', '!'], ['<sos>', 'marche', '.'], ['<sos>', 'bouge', '!'], ['<sos>', 'salut', '!'], ['<sos>', 'salut', '.']]\n",
            "[['va', '!', '<eos>'], ['marche', '.', '<eos>'], ['bouge', '!', '<eos>'], ['salut', '!', '<eos>'], ['salut', '.', '<eos>']]\n"
          ],
          "name": "stdout"
        }
      ]
    },
    {
      "cell_type": "code",
      "metadata": {
        "id": "-kWdK8eogNIQ"
      },
      "source": [
        "tokenizer_en = Tokenizer(filters=\"\", lower=False)\r\n",
        "tokenizer_en.fit_on_texts(sents_en_in)\r\n",
        "encoder_input = tokenizer_en.texts_to_sequences(sents_en_in)\r\n",
        "\r\n",
        "tokenizer_fra = Tokenizer(filters=\"\", lower=False)\r\n",
        "tokenizer_fra.fit_on_texts(sents_fra_in)\r\n",
        "tokenizer_fra.fit_on_texts(sents_fra_out)\r\n",
        "decoder_input = tokenizer_fra.texts_to_sequences(sents_fra_in)\r\n",
        "decoder_target = tokenizer_fra.texts_to_sequences(sents_fra_out)"
      ],
      "execution_count": 11,
      "outputs": []
    },
    {
      "cell_type": "code",
      "metadata": {
        "colab": {
          "base_uri": "https://localhost:8080/"
        },
        "id": "0pn76A85im1Q",
        "outputId": "053aa441-262e-47af-d8d3-883552341560"
      },
      "source": [
        "encoder_input = pad_sequences(encoder_input, padding=\"post\")\r\n",
        "decoder_input = pad_sequences(decoder_input, padding=\"post\")\r\n",
        "decoder_target = pad_sequences(decoder_target, padding=\"post\")\r\n",
        "encoder_input.shape, decoder_input.shape, decoder_target.shape"
      ],
      "execution_count": 12,
      "outputs": [
        {
          "output_type": "execute_result",
          "data": {
            "text/plain": [
              "((33000, 8), (33000, 16), (33000, 16))"
            ]
          },
          "metadata": {
            "tags": []
          },
          "execution_count": 12
        }
      ]
    },
    {
      "cell_type": "code",
      "metadata": {
        "colab": {
          "base_uri": "https://localhost:8080/"
        },
        "id": "GJjoHevTirqo",
        "outputId": "5be3baec-6da2-48d5-94a3-583d1209f66b"
      },
      "source": [
        "src_vocab_size = len(tokenizer_en.word_index) + 1\r\n",
        "tar_vocab_size = len(tokenizer_fra.word_index) + 1\r\n",
        "print(f\"영어 단어 집합의 크기 : {src_vocab_size:d}\\n프랑스어 단어 집합의 크기 : {tar_vocab_size:d}\")"
      ],
      "execution_count": 13,
      "outputs": [
        {
          "output_type": "stream",
          "text": [
            "영어 단어 집합의 크기 : 4571\n",
            "프랑스어 단어 집합의 크기 : 8090\n"
          ],
          "name": "stdout"
        }
      ]
    },
    {
      "cell_type": "code",
      "metadata": {
        "id": "CT46WgTBivCe"
      },
      "source": [
        "src_to_index = tokenizer_en.word_index\r\n",
        "index_to_src = tokenizer_en.index_word  # 훈련 후 결과 비교할 때 사용\r\n",
        "\r\n",
        "tar_to_index = tokenizer_fra.word_index # 훈련 후 예측 과정에서 사용\r\n",
        "index_to_tar = tokenizer_fra.index_word # 훈련 후 결과 비교할 때 사용"
      ],
      "execution_count": 14,
      "outputs": []
    },
    {
      "cell_type": "code",
      "metadata": {
        "colab": {
          "base_uri": "https://localhost:8080/"
        },
        "id": "EruI7_-3iu0z",
        "outputId": "761074b0-d059-4a3f-aebd-2e2c645f9100"
      },
      "source": [
        "# 테스트 데이터를 분리하기 위한 작업\r\n",
        "indices = np.arange(encoder_input.shape[0])\r\n",
        "np.random.shuffle(indices)\r\n",
        "print(indices)"
      ],
      "execution_count": 15,
      "outputs": [
        {
          "output_type": "stream",
          "text": [
            "[31541 10064   420 ...  6201 27989 25716]\n"
          ],
          "name": "stdout"
        }
      ]
    },
    {
      "cell_type": "code",
      "metadata": {
        "id": "XIVF8PK-iunx"
      },
      "source": [
        "encoder_input = encoder_input[indices]\r\n",
        "decoder_input = decoder_input[indices]\r\n",
        "decoder_target = decoder_target[indices]"
      ],
      "execution_count": 16,
      "outputs": []
    },
    {
      "cell_type": "code",
      "metadata": {
        "id": "fc_nCBhCiuY3",
        "colab": {
          "base_uri": "https://localhost:8080/"
        },
        "outputId": "436b07e1-2735-405c-b3a1-9052a6b57d83"
      },
      "source": [
        "# 임의로 30,997번째 샘플을 출력\r\n",
        "print(encoder_input[30997])\r\n",
        "print(decoder_input[30997])\r\n",
        "print(decoder_target[30997])"
      ],
      "execution_count": 17,
      "outputs": [
        {
          "output_type": "stream",
          "text": [
            "[  16    9 2202    1    0    0    0    0]\n",
            "[   2   20    5 3018    1    0    0    0    0    0    0    0    0    0\n",
            "    0    0]\n",
            "[  20    5 3018    1    3    0    0    0    0    0    0    0    0    0\n",
            "    0    0]\n"
          ],
          "name": "stdout"
        }
      ]
    },
    {
      "cell_type": "code",
      "metadata": {
        "id": "MdxEOX61iuNq"
      },
      "source": [
        "# 훈련 데이터의 10%를 테스트 데이터로 분리\r\n",
        "n_of_val = int(33000*0.1)\r\n",
        "\r\n",
        "encoder_input_train = encoder_input[:-n_of_val]\r\n",
        "decoder_input_train = decoder_input[:-n_of_val]\r\n",
        "decoder_target_train = decoder_target[:-n_of_val]\r\n",
        "\r\n",
        "encoder_input_test = encoder_input[-n_of_val:]\r\n",
        "decoder_input_test = decoder_input[-n_of_val:]\r\n",
        "decoder_target_test = decoder_target[-n_of_val:]"
      ],
      "execution_count": 18,
      "outputs": []
    },
    {
      "cell_type": "code",
      "metadata": {
        "id": "pr272lN7iuB7",
        "colab": {
          "base_uri": "https://localhost:8080/"
        },
        "outputId": "4b22d34a-4336-4928-a2ec-e418572c69a3"
      },
      "source": [
        "print(encoder_input_train.shape, decoder_input_train.shape, decoder_target_train.shape)\r\n",
        "print(encoder_input_test.shape, decoder_input_test.shape, decoder_target_test.shape)"
      ],
      "execution_count": 19,
      "outputs": [
        {
          "output_type": "stream",
          "text": [
            "(29700, 8) (29700, 16) (29700, 16)\n",
            "(3300, 8) (3300, 16) (3300, 16)\n"
          ],
          "name": "stdout"
        }
      ]
    },
    {
      "cell_type": "markdown",
      "metadata": {
        "id": "2wMnkzu2jeZ9"
      },
      "source": [
        "## 2. seq2seq 기계 번역기 만들기"
      ]
    },
    {
      "cell_type": "code",
      "metadata": {
        "id": "AG7HjePjjkXC"
      },
      "source": [
        "from tensorflow.keras.layers import Input, LSTM, Embedding, Dense, Masking\r\n",
        "from tensorflow.keras.models import Model"
      ],
      "execution_count": 20,
      "outputs": []
    },
    {
      "cell_type": "code",
      "metadata": {
        "id": "FzAEXmWKjptY"
      },
      "source": [
        "latent_dim = 50"
      ],
      "execution_count": 21,
      "outputs": []
    },
    {
      "cell_type": "code",
      "metadata": {
        "id": "MXqDpbePjpqY"
      },
      "source": [
        "# 인코더\r\n",
        "encoder_inputs = Input(shape=(None,))\r\n",
        "enc_emb =  Embedding(src_vocab_size, latent_dim)(encoder_inputs)    # 임베딩 층\r\n",
        "enc_masking = Masking(mask_value=0.0)(enc_emb)      # 패딩 0은 연산에서 제외\r\n",
        "encoder_lstm = LSTM(latent_dim, return_state=True)  # 상태값 리턴을 위해 return_state는 True\r\n",
        "encoder_outputs, state_h, state_c = encoder_lstm(enc_masking)   # 은닉 상태와 셀 상태를 리턴\r\n",
        "encoder_states = [state_h, state_c]     # 인코더의 은닉 상태와 셀 상태를 저장"
      ],
      "execution_count": 22,
      "outputs": []
    },
    {
      "cell_type": "code",
      "metadata": {
        "id": "pT5Tiwjrjpmq"
      },
      "source": [
        "# 디코더\r\n",
        "decoder_inputs = Input(shape=(None,))\r\n",
        "dec_emb_layer = Embedding(tar_vocab_size, latent_dim)   # 임베딩 층\r\n",
        "dec_emb = dec_emb_layer(decoder_inputs)     # 패딩 0은 연산에서 제외\r\n",
        "dec_masking = Masking(mask_value=0.0)(dec_emb)\r\n",
        "\r\n",
        "# 상태값 리턴을 위해 return_state는 True, 모든 시점에 대해서 단어를 예측하기 위해 return_sequences는 True\r\n",
        "decoder_lstm = LSTM(latent_dim, return_sequences=True, return_state=True) \r\n",
        "\r\n",
        "# 인코더의 은닉 상태를 초기 은닉 상태(initial_state)로 사용\r\n",
        "decoder_outputs, _, _ = decoder_lstm(dec_masking,\r\n",
        "                                     initial_state=encoder_states)\r\n",
        "\r\n",
        "# 모든 시점의 결과에 대해서 소프트맥스 함수를 사용한 출력층을 통해 단어 예측\r\n",
        "decoder_dense = Dense(tar_vocab_size, activation='softmax')\r\n",
        "decoder_outputs = decoder_dense(decoder_outputs)"
      ],
      "execution_count": 23,
      "outputs": []
    },
    {
      "cell_type": "code",
      "metadata": {
        "colab": {
          "base_uri": "https://localhost:8080/"
        },
        "id": "6w47SZbtlglF",
        "outputId": "b3e59981-24f2-4d90-a4e2-603377e38fb9"
      },
      "source": [
        "model = Model([encoder_inputs, decoder_inputs], decoder_outputs)\r\n",
        "model.summary()"
      ],
      "execution_count": 24,
      "outputs": [
        {
          "output_type": "stream",
          "text": [
            "Model: \"model\"\n",
            "__________________________________________________________________________________________________\n",
            "Layer (type)                    Output Shape         Param #     Connected to                     \n",
            "==================================================================================================\n",
            "input_1 (InputLayer)            [(None, None)]       0                                            \n",
            "__________________________________________________________________________________________________\n",
            "input_2 (InputLayer)            [(None, None)]       0                                            \n",
            "__________________________________________________________________________________________________\n",
            "embedding (Embedding)           (None, None, 50)     228550      input_1[0][0]                    \n",
            "__________________________________________________________________________________________________\n",
            "embedding_1 (Embedding)         (None, None, 50)     404500      input_2[0][0]                    \n",
            "__________________________________________________________________________________________________\n",
            "masking (Masking)               (None, None, 50)     0           embedding[0][0]                  \n",
            "__________________________________________________________________________________________________\n",
            "masking_1 (Masking)             (None, None, 50)     0           embedding_1[0][0]                \n",
            "__________________________________________________________________________________________________\n",
            "lstm (LSTM)                     [(None, 50), (None,  20200       masking[0][0]                    \n",
            "__________________________________________________________________________________________________\n",
            "lstm_1 (LSTM)                   [(None, None, 50), ( 20200       masking_1[0][0]                  \n",
            "                                                                 lstm[0][1]                       \n",
            "                                                                 lstm[0][2]                       \n",
            "__________________________________________________________________________________________________\n",
            "dense (Dense)                   (None, None, 8090)   412590      lstm_1[0][0]                     \n",
            "==================================================================================================\n",
            "Total params: 1,086,040\n",
            "Trainable params: 1,086,040\n",
            "Non-trainable params: 0\n",
            "__________________________________________________________________________________________________\n"
          ],
          "name": "stdout"
        }
      ]
    },
    {
      "cell_type": "code",
      "metadata": {
        "colab": {
          "base_uri": "https://localhost:8080/",
          "height": 564
        },
        "id": "nKh5rIVqjpjl",
        "outputId": "feab1227-9a2d-4f6e-92e0-9ec5e4006c40"
      },
      "source": [
        "from tensorflow.keras.utils import plot_model\r\n",
        "plot_model(model)"
      ],
      "execution_count": 25,
      "outputs": [
        {
          "output_type": "execute_result",
          "data": {
            "image/png": "[encoded data removed]",
            "text/plain": [
              "<IPython.core.display.Image object>"
            ]
          },
          "metadata": {
            "tags": []
          },
          "execution_count": 25
        }
      ]
    },
    {
      "cell_type": "code",
      "metadata": {
        "id": "Yaw1A78Djpga"
      },
      "source": [
        "model.compile(loss=\"sparse_categorical_crossentropy\",\r\n",
        "              optimizer='rmsprop', metrics=['accuracy'])"
      ],
      "execution_count": 26,
      "outputs": []
    },
    {
      "cell_type": "code",
      "metadata": {
        "colab": {
          "base_uri": "https://localhost:8080/"
        },
        "id": "ZMoa5GE2jpaE",
        "outputId": "4397418a-b4ef-44a9-9fbd-43868822bd25"
      },
      "source": [
        "history = model.fit(x = [encoder_input_train, decoder_input_train], \r\n",
        "                    y = decoder_target_train, \r\n",
        "                    validation_data = ([encoder_input_test, decoder_input_test], decoder_target_test),\r\n",
        "                    batch_size = 128, epochs = 50)"
      ],
      "execution_count": 29,
      "outputs": [
        {
          "output_type": "stream",
          "text": [
            "Epoch 1/50\n",
            "233/233 [==============================] - 22s 40ms/step - loss: 4.8180 - accuracy: 0.5993 - val_loss: 1.8824 - val_accuracy: 0.6599\n",
            "Epoch 2/50\n",
            "233/233 [==============================] - 7s 31ms/step - loss: 1.7449 - accuracy: 0.7276 - val_loss: 1.5995 - val_accuracy: 0.7446\n",
            "Epoch 3/50\n",
            "233/233 [==============================] - 7s 30ms/step - loss: 1.5277 - accuracy: 0.7523 - val_loss: 1.4940 - val_accuracy: 0.7542\n",
            "Epoch 4/50\n",
            "233/233 [==============================] - 7s 30ms/step - loss: 1.4328 - accuracy: 0.7626 - val_loss: 1.4280 - val_accuracy: 0.7689\n",
            "Epoch 5/50\n",
            "233/233 [==============================] - 7s 31ms/step - loss: 1.3400 - accuracy: 0.7796 - val_loss: 1.3351 - val_accuracy: 0.7863\n",
            "Epoch 6/50\n",
            "233/233 [==============================] - 7s 30ms/step - loss: 1.2673 - accuracy: 0.7941 - val_loss: 1.2804 - val_accuracy: 0.7964\n",
            "Epoch 7/50\n",
            "233/233 [==============================] - 7s 31ms/step - loss: 1.2072 - accuracy: 0.8037 - val_loss: 1.2276 - val_accuracy: 0.8039\n",
            "Epoch 8/50\n",
            "233/233 [==============================] - 7s 30ms/step - loss: 1.1540 - accuracy: 0.8110 - val_loss: 1.2009 - val_accuracy: 0.8073\n",
            "Epoch 9/50\n",
            "233/233 [==============================] - 7s 30ms/step - loss: 1.1124 - accuracy: 0.8176 - val_loss: 1.1579 - val_accuracy: 0.8145\n",
            "Epoch 10/50\n",
            "233/233 [==============================] - 7s 31ms/step - loss: 1.0826 - accuracy: 0.8222 - val_loss: 1.1382 - val_accuracy: 0.8172\n",
            "Epoch 11/50\n",
            "233/233 [==============================] - 7s 30ms/step - loss: 1.0484 - accuracy: 0.8271 - val_loss: 1.1150 - val_accuracy: 0.8202\n",
            "Epoch 12/50\n",
            "233/233 [==============================] - 7s 30ms/step - loss: 1.0213 - accuracy: 0.8306 - val_loss: 1.0968 - val_accuracy: 0.8241\n",
            "Epoch 13/50\n",
            "233/233 [==============================] - 7s 31ms/step - loss: 0.9986 - accuracy: 0.8330 - val_loss: 1.0888 - val_accuracy: 0.8227\n",
            "Epoch 14/50\n",
            "233/233 [==============================] - 7s 30ms/step - loss: 0.9727 - accuracy: 0.8373 - val_loss: 1.0589 - val_accuracy: 0.8287\n",
            "Epoch 15/50\n",
            "233/233 [==============================] - 7s 32ms/step - loss: 0.9535 - accuracy: 0.8390 - val_loss: 1.0362 - val_accuracy: 0.8316\n",
            "Epoch 16/50\n",
            "233/233 [==============================] - 7s 32ms/step - loss: 0.9305 - accuracy: 0.8417 - val_loss: 1.0253 - val_accuracy: 0.8326\n",
            "Epoch 17/50\n",
            "233/233 [==============================] - 7s 31ms/step - loss: 0.9101 - accuracy: 0.8448 - val_loss: 1.0105 - val_accuracy: 0.8348\n",
            "Epoch 18/50\n",
            "233/233 [==============================] - 7s 31ms/step - loss: 0.8974 - accuracy: 0.8469 - val_loss: 1.0071 - val_accuracy: 0.8348\n",
            "Epoch 19/50\n",
            "233/233 [==============================] - 7s 30ms/step - loss: 0.8784 - accuracy: 0.8491 - val_loss: 1.0030 - val_accuracy: 0.8358\n",
            "Epoch 20/50\n",
            "233/233 [==============================] - 7s 31ms/step - loss: 0.8706 - accuracy: 0.8503 - val_loss: 0.9876 - val_accuracy: 0.8376\n",
            "Epoch 21/50\n",
            "233/233 [==============================] - 7s 30ms/step - loss: 0.8575 - accuracy: 0.8520 - val_loss: 0.9849 - val_accuracy: 0.8393\n",
            "Epoch 22/50\n",
            "233/233 [==============================] - 7s 30ms/step - loss: 0.8415 - accuracy: 0.8547 - val_loss: 0.9653 - val_accuracy: 0.8424\n",
            "Epoch 23/50\n",
            "233/233 [==============================] - 7s 30ms/step - loss: 0.8252 - accuracy: 0.8573 - val_loss: 0.9638 - val_accuracy: 0.8415\n",
            "Epoch 24/50\n",
            "233/233 [==============================] - 7s 30ms/step - loss: 0.8158 - accuracy: 0.8587 - val_loss: 0.9537 - val_accuracy: 0.8433\n",
            "Epoch 25/50\n",
            "233/233 [==============================] - 7s 30ms/step - loss: 0.8096 - accuracy: 0.8597 - val_loss: 0.9472 - val_accuracy: 0.8441\n",
            "Epoch 26/50\n",
            "233/233 [==============================] - 7s 30ms/step - loss: 0.7956 - accuracy: 0.8616 - val_loss: 0.9395 - val_accuracy: 0.8446\n",
            "Epoch 27/50\n",
            "233/233 [==============================] - 7s 31ms/step - loss: 0.7792 - accuracy: 0.8644 - val_loss: 0.9363 - val_accuracy: 0.8455\n",
            "Epoch 28/50\n",
            "233/233 [==============================] - 7s 31ms/step - loss: 0.7711 - accuracy: 0.8656 - val_loss: 0.9340 - val_accuracy: 0.8463\n",
            "Epoch 29/50\n",
            "233/233 [==============================] - 7s 29ms/step - loss: 0.7645 - accuracy: 0.8665 - val_loss: 0.9214 - val_accuracy: 0.8464\n",
            "Epoch 30/50\n",
            "233/233 [==============================] - 7s 30ms/step - loss: 0.7552 - accuracy: 0.8682 - val_loss: 0.9114 - val_accuracy: 0.8488\n",
            "Epoch 31/50\n",
            "233/233 [==============================] - 7s 31ms/step - loss: 0.7405 - accuracy: 0.8702 - val_loss: 0.9128 - val_accuracy: 0.8488\n",
            "Epoch 32/50\n",
            "233/233 [==============================] - 7s 30ms/step - loss: 0.7367 - accuracy: 0.8714 - val_loss: 0.9195 - val_accuracy: 0.8480\n",
            "Epoch 33/50\n",
            "233/233 [==============================] - 7s 30ms/step - loss: 0.7301 - accuracy: 0.8727 - val_loss: 0.9056 - val_accuracy: 0.8499\n",
            "Epoch 34/50\n",
            "233/233 [==============================] - 7s 31ms/step - loss: 0.7184 - accuracy: 0.8749 - val_loss: 0.9080 - val_accuracy: 0.8506\n",
            "Epoch 35/50\n",
            "233/233 [==============================] - 7s 30ms/step - loss: 0.7118 - accuracy: 0.8758 - val_loss: 0.9018 - val_accuracy: 0.8504\n",
            "Epoch 36/50\n",
            "233/233 [==============================] - 7s 30ms/step - loss: 0.7076 - accuracy: 0.8773 - val_loss: 0.9056 - val_accuracy: 0.8501\n",
            "Epoch 37/50\n",
            "233/233 [==============================] - 7s 30ms/step - loss: 0.7023 - accuracy: 0.8775 - val_loss: 0.8857 - val_accuracy: 0.8530\n",
            "Epoch 38/50\n",
            "233/233 [==============================] - 7s 30ms/step - loss: 0.6950 - accuracy: 0.8795 - val_loss: 0.8976 - val_accuracy: 0.8505\n",
            "Epoch 39/50\n",
            "233/233 [==============================] - 7s 31ms/step - loss: 0.6876 - accuracy: 0.8806 - val_loss: 0.8959 - val_accuracy: 0.8513\n",
            "Epoch 40/50\n",
            "233/233 [==============================] - 7s 31ms/step - loss: 0.6849 - accuracy: 0.8811 - val_loss: 0.8901 - val_accuracy: 0.8531\n",
            "Epoch 41/50\n",
            "233/233 [==============================] - 7s 31ms/step - loss: 0.6763 - accuracy: 0.8825 - val_loss: 0.8931 - val_accuracy: 0.8526\n",
            "Epoch 42/50\n",
            "233/233 [==============================] - 7s 31ms/step - loss: 0.6702 - accuracy: 0.8838 - val_loss: 0.8742 - val_accuracy: 0.8554\n",
            "Epoch 43/50\n",
            "233/233 [==============================] - 7s 31ms/step - loss: 0.6684 - accuracy: 0.8843 - val_loss: 0.8752 - val_accuracy: 0.8560\n",
            "Epoch 44/50\n",
            "233/233 [==============================] - 7s 30ms/step - loss: 0.6607 - accuracy: 0.8853 - val_loss: 0.8725 - val_accuracy: 0.8557\n",
            "Epoch 45/50\n",
            "233/233 [==============================] - 7s 31ms/step - loss: 0.6517 - accuracy: 0.8873 - val_loss: 0.8734 - val_accuracy: 0.8571\n",
            "Epoch 46/50\n",
            "233/233 [==============================] - 7s 30ms/step - loss: 0.6525 - accuracy: 0.8875 - val_loss: 0.8704 - val_accuracy: 0.8574\n",
            "Epoch 47/50\n",
            "233/233 [==============================] - 7s 31ms/step - loss: 0.6443 - accuracy: 0.8889 - val_loss: 0.8775 - val_accuracy: 0.8561\n",
            "Epoch 48/50\n",
            "233/233 [==============================] - 7s 31ms/step - loss: 0.6392 - accuracy: 0.8891 - val_loss: 0.8789 - val_accuracy: 0.8559\n",
            "Epoch 49/50\n",
            "233/233 [==============================] - 7s 30ms/step - loss: 0.6343 - accuracy: 0.8902 - val_loss: 0.8742 - val_accuracy: 0.8563\n",
            "Epoch 50/50\n",
            "233/233 [==============================] - 7s 31ms/step - loss: 0.6228 - accuracy: 0.8921 - val_loss: 0.8654 - val_accuracy: 0.8584\n"
          ],
          "name": "stdout"
        }
      ]
    },
    {
      "cell_type": "markdown",
      "metadata": {
        "id": "XQJNH4dTl6PD"
      },
      "source": [
        "## 3. seq2seq 기계 번역기 동작시키기\r\n",
        "- seq2seq는 훈련 과정과 테스트 과정에서의 동작 방식이 상이함.\r\n",
        "- 테스트 과정을 위해 모델을 다시 설계해주어야 함."
      ]
    },
    {
      "cell_type": "code",
      "metadata": {
        "id": "LhJL4_TUl-r-"
      },
      "source": [
        "# 인코더\r\n",
        "encoder_model = Model(inputs=encoder_inputs, outputs=encoder_states)"
      ],
      "execution_count": 30,
      "outputs": []
    },
    {
      "cell_type": "code",
      "metadata": {
        "id": "nFsNihZ6l-oF"
      },
      "source": [
        "# 디코더\r\n",
        "# 이전 시점의 상태를 보관할 텐서\r\n",
        "decoder_state_input_h = Input(shape=(latent_dim,))\r\n",
        "decoder_state_input_c = Input(shape=(latent_dim,))\r\n",
        "decoder_states_inputs = [decoder_state_input_h, decoder_state_input_c]\r\n",
        "\r\n",
        "# 훈련 때 사용했던 임베딩 층을 재사용\r\n",
        "dec_emb2= dec_emb_layer(decoder_inputs)\r\n",
        "\r\n",
        "# 다음 단어 예측을 위해 이전 시점의 상태를 현 시점의 초기 상태로 사용\r\n",
        "decoder_outputs2, state_h2, state_c2 = decoder_lstm(dec_emb2, initial_state=decoder_states_inputs)\r\n",
        "decoder_states2 = [state_h2, state_c2]\r\n",
        "\r\n",
        "# 모든 시점에 대해서 단어 예측\r\n",
        "decoder_outputs2 = decoder_dense(decoder_outputs2)"
      ],
      "execution_count": 31,
      "outputs": []
    },
    {
      "cell_type": "code",
      "metadata": {
        "id": "NWOF5woul-i9"
      },
      "source": [
        "decoder_model = Model(\r\n",
        "    [decoder_inputs] + decoder_states_inputs,\r\n",
        "    [decoder_outputs2] + decoder_states2)"
      ],
      "execution_count": 32,
      "outputs": []
    },
    {
      "cell_type": "code",
      "metadata": {
        "id": "nzHTVB_kl-ff"
      },
      "source": [
        "def decode_sequence(input_seq):\r\n",
        "    # 입력으로부터 인코더의 상태를 얻음\r\n",
        "    states_value = encoder_model.predict(input_seq)\r\n",
        "\r\n",
        "    # <SOS>에 해당하는 정수 생성\r\n",
        "    target_seq = np.zeros((1,1))\r\n",
        "    target_seq[0, 0] = tar_to_index['<sos>']\r\n",
        "\r\n",
        "    stop_condition = False\r\n",
        "    decoded_sentence = ''\r\n",
        "\r\n",
        "    # stop_condition이 True가 될 때까지 루프 반복\r\n",
        "    # 구현의 간소화를 위해서 이 함수는 배치 크기를 1로 가정합니다.\r\n",
        "    while not stop_condition:\r\n",
        "        # 이점 시점의 상태 states_value를 현 시점의 초기 상태로 사용\r\n",
        "        output_tokens, h, c = decoder_model.predict([target_seq] + states_value)\r\n",
        "\r\n",
        "        # 예측 결과를 단어로 변환\r\n",
        "        sampled_token_index = np.argmax(output_tokens[0, -1, :])\r\n",
        "        sampled_char = index_to_tar[sampled_token_index]\r\n",
        "\r\n",
        "         # 현재 시점의 예측 단어를 예측 문장에 추가\r\n",
        "        decoded_sentence += ' '+sampled_char\r\n",
        "\r\n",
        "        # <eos>에 도달하거나 정해진 길이를 넘으면 중단.\r\n",
        "        if (sampled_char == '<eos>' or\r\n",
        "           len(decoded_sentence) > 50):\r\n",
        "            stop_condition = True\r\n",
        "\r\n",
        "        # 현재 시점의 예측 결과를 다음 시점의 입력으로 사용하기 위해 저장\r\n",
        "        target_seq = np.zeros((1,1))\r\n",
        "        target_seq[0, 0] = sampled_token_index\r\n",
        "\r\n",
        "        # 현재 시점의 상태를 다음 시점의 상태로 사용하기 위해 저장\r\n",
        "        states_value = [h, c]\r\n",
        "\r\n",
        "    return decoded_sentence"
      ],
      "execution_count": 33,
      "outputs": []
    },
    {
      "cell_type": "code",
      "metadata": {
        "id": "tC-ZXE9ol-bb"
      },
      "source": [
        "# 원문의 정수 시퀀스를 텍스트 시퀀스로 변환\r\n",
        "def seq2src(input_seq):\r\n",
        "    temp=''\r\n",
        "    for i in input_seq:\r\n",
        "        if(i!=0):\r\n",
        "            temp = temp + index_to_src[i]+' '\r\n",
        "    return temp\r\n",
        "\r\n",
        "# 번역문의 정수 시퀀스를 텍스트 시퀀스로 변환\r\n",
        "def seq2tar(input_seq):\r\n",
        "    temp=''\r\n",
        "    for i in input_seq:\r\n",
        "        if((i!=0 and i!=tar_to_index['<sos>']) and i!=tar_to_index['<eos>']):\r\n",
        "            temp = temp + index_to_tar[i] + ' '\r\n",
        "    return temp"
      ],
      "execution_count": 34,
      "outputs": []
    },
    {
      "cell_type": "code",
      "metadata": {
        "id": "xfE5sGIxl-RD",
        "colab": {
          "base_uri": "https://localhost:8080/"
        },
        "outputId": "522e363d-0b66-4dc7-ffb9-2c9345b665d2"
      },
      "source": [
        "# 훈련 데이터에 대해서 임의로 선택한 인덱스\r\n",
        "for seq_index in [3,50,100,300,1001]:\r\n",
        "  input_seq = encoder_input_train[seq_index: seq_index + 1]\r\n",
        "  decoded_sentence = decode_sequence(input_seq)\r\n",
        "\r\n",
        "  print(\"원문 : \", seq2src(encoder_input_train[seq_index]))\r\n",
        "  print(\"번역문 :\", seq2tar(decoder_input_train[seq_index]))\r\n",
        "  print(\"예측문 :\", decoded_sentence[:-5])\r\n",
        "  print(\"\\n\")"
      ],
      "execution_count": 35,
      "outputs": [
        {
          "output_type": "stream",
          "text": [
            "원문 :  i work alone . \n",
            "번역문 : je travaille seul . \n",
            "예측문 :  je travaille seul . \n",
            "\n",
            "\n",
            "원문 :  they have come . \n",
            "번역문 : elles sont arrivees . \n",
            "예측문 :  ils sont libres . \n",
            "\n",
            "\n",
            "원문 :  we re both right . \n",
            "번역문 : nous avons toutes deux raison . \n",
            "예측문 :  nous nous sommes deux . \n",
            "\n",
            "\n",
            "원문 :  how interesting ! \n",
            "번역문 : comme c est interessant ! \n",
            "예측문 :  comme c est interessant ! \n",
            "\n",
            "\n",
            "원문 :  everyone is drunk . \n",
            "번역문 : tout le monde est saoul . \n",
            "예측문 :  tout le monde est vrai . \n",
            "\n",
            "\n"
          ],
          "name": "stdout"
        }
      ]
    },
    {
      "cell_type": "code",
      "metadata": {
        "id": "XukXysNHjoun",
        "colab": {
          "base_uri": "https://localhost:8080/"
        },
        "outputId": "10bc9d37-d8ec-45bc-d228-9e3c7be162aa"
      },
      "source": [
        "# 테스트 데이터에 대해서 임의로 선택한 인덱스\r\n",
        "for seq_index in [3,50,100,300,1001]:\r\n",
        "  input_seq = encoder_input_test[seq_index: seq_index + 1]\r\n",
        "  decoded_sentence = decode_sequence(input_seq)\r\n",
        "\r\n",
        "  print(\"원문 : \", seq2src(encoder_input_test[seq_index]))\r\n",
        "  print(\"번역문 :\", seq2tar(decoder_input_test[seq_index]))\r\n",
        "  print(\"예측문 :\", decoded_sentence[:-5])\r\n",
        "  print(\"\\n\")"
      ],
      "execution_count": 36,
      "outputs": [
        {
          "output_type": "stream",
          "text": [
            "원문 :  i never worry . \n",
            "번역문 : je ne me fais jamais de souci . \n",
            "예측문 :  je ne vous ai jamais fait . \n",
            "\n",
            "\n",
            "원문 :  is anybody there ? \n",
            "번역문 : quiconque s y trouve t il ? \n",
            "예측문 :  quiconque est il la ? \n",
            "\n",
            "\n",
            "원문 :  i went on reading . \n",
            "번역문 : j ai continue a lire . \n",
            "예측문 :  je suis devenu fou . \n",
            "\n",
            "\n",
            "원문 :  you had better go . \n",
            "번역문 : vous feriez mieux de partir . \n",
            "예측문 :  tu es au amie . \n",
            "\n",
            "\n",
            "원문 :  they spoke briefly . \n",
            "번역문 : ils ont brievement parle . \n",
            "예측문 :  ils sont nerveux . \n",
            "\n",
            "\n"
          ],
          "name": "stdout"
        }
      ]
    },
    {
      "cell_type": "code",
      "metadata": {
        "colab": {
          "base_uri": "https://localhost:8080/"
        },
        "id": "IFJRDPwwnNcr",
        "outputId": "0b970a35-bfed-4d81-ca30-912283ffbb98"
      },
      "source": [
        "for seq_index in [3,50,100,300,1001]: # 입력 문장의 인덱스\r\n",
        "    input_seq = encoder_input[seq_index: seq_index + 1]\r\n",
        "    decoded_sentence = decode_sequence(input_seq)\r\n",
        "    print(35 * \"-\")\r\n",
        "    print('입력 문장:', lines.src[seq_index])\r\n",
        "    print('정답 문장:', lines.dst[seq_index][1:len(lines.dst[seq_index])-1]) # '\\t'와 '\\n'을 빼고 출력\r\n",
        "    print('번역기가 번역한 문장:', decoded_sentence[:len(decoded_sentence)-1]) # '\\n'을 빼고 출력"
      ],
      "execution_count": null,
      "outputs": [
        {
          "output_type": "stream",
          "text": [
            "-----------------------------------\n",
            "입력 문장: Run!\n",
            "정답 문장:  Cours ! \n",
            "번역기가 번역한 문장:  Faites-le ! \n",
            "-----------------------------------\n",
            "입력 문장: I lied.\n",
            "정답 문장:  J'ai menti. \n",
            "번역기가 번역한 문장:  Je l'ai déjà. \n",
            "-----------------------------------\n",
            "입력 문장: Come in.\n",
            "정답 문장:  Entre. \n",
            "번역기가 번역한 문장:  Reviens ! \n",
            "-----------------------------------\n",
            "입력 문장: Hurry up.\n",
            "정답 문장:  Magnez-vous ! \n",
            "번역기가 번역한 문장:  Dépêchez-vous ! \n",
            "-----------------------------------\n",
            "입력 문장: We walked.\n",
            "정답 문장:  Nous sommes allées à pied. \n",
            "번역기가 번역한 문장:  Nous avons attrapée. \n"
          ],
          "name": "stdout"
        }
      ]
    },
    {
      "cell_type": "code",
      "metadata": {
        "id": "1rH-9DF7uVTQ"
      },
      "source": [
        ""
      ],
      "execution_count": null,
      "outputs": []
    }
  ]
}