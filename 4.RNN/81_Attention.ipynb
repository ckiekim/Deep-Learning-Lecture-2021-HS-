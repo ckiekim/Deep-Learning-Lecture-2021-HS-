{
  "nbformat": 4,
  "nbformat_minor": 0,
  "metadata": {
    "colab": {
      "name": "81_Attention.ipynb",
      "provenance": [],
      "collapsed_sections": []
    },
    "kernelspec": {
      "name": "python3",
      "display_name": "Python 3"
    },
    "accelerator": "GPU"
  },
  "cells": [
    {
      "cell_type": "markdown",
      "metadata": {
        "id": "r0bbTarG8Dr-"
      },
      "source": [
        "# Attention Mechanism\r\n",
        "- Q = Query : t 시점의 디코더 셀에서의 은닉 상태\r\n",
        "- K = Keys : 모든 시점의 인코더 셀의 은닉 상태들\r\n",
        "- V = Values : 모든 시점의 인코더 셀의 은닉 상태들"
      ]
    },
    {
      "cell_type": "markdown",
      "metadata": {
        "id": "Xdiyl-jT9CQv"
      },
      "source": [
        "## 닷-프로덕트 어텐션(Dot-Product Attention)\r\n",
        "- 어텐션 스코어(Attention Score)를 구한다.\r\n",
        "- 소프트맥스(softmax) 함수를 통해 어텐션 분포(Attention Distribution)를 구한다.\r\n",
        "- 각 인코더의 어텐션 가중치와 은닉 상태를 가중합하여 어텐션 값(Attention Value)을 구한다.\r\n",
        "- 어텐션 값과 디코더의 t 시점의 은닉 상태를 연결한다.(Concatenate)\r\n",
        "- 출력층 연산의 입력이 되는 s~t를 계산한다.\r\n",
        "- s~t 를 출력층의 입력으로 사용한다."
      ]
    },
    {
      "cell_type": "markdown",
      "metadata": {
        "id": "CnrXcCpN-u5E"
      },
      "source": [
        "# 양방향 LSTM과 어텐션 메커니즘(BiLSTM with Attention mechanism)"
      ]
    },
    {
      "cell_type": "markdown",
      "metadata": {
        "id": "M5Zr7FSw_AVk"
      },
      "source": [
        "## 1. IMDB 리뷰 데이터 전처리하기\r\n",
        "- Test data 25,000건중 10,000건은 Validation data로 활용"
      ]
    },
    {
      "cell_type": "code",
      "metadata": {
        "id": "US_HPn8z8Hbi"
      },
      "source": [
        "import numpy as np\r\n",
        "import tensorflow as tf\r\n",
        "seed = 2021\r\n",
        "np.random.seed(seed)\r\n",
        "tf.random.set_seed(seed)"
      ],
      "execution_count": 1,
      "outputs": []
    },
    {
      "cell_type": "code",
      "metadata": {
        "id": "fGocJ8zbACAc"
      },
      "source": [
        "import warnings\r\n",
        "warnings.filterwarnings(\"ignore\", category=np.VisibleDeprecationWarning) "
      ],
      "execution_count": 2,
      "outputs": []
    },
    {
      "cell_type": "code",
      "metadata": {
        "id": "t6a_I-B2_rWN"
      },
      "source": [
        "from tensorflow.keras.datasets import imdb\r\n",
        "from tensorflow.keras.utils import to_categorical\r\n",
        "from tensorflow.keras.preprocessing.sequence import pad_sequences"
      ],
      "execution_count": 3,
      "outputs": []
    },
    {
      "cell_type": "code",
      "metadata": {
        "colab": {
          "base_uri": "https://localhost:8080/"
        },
        "id": "GMEJDgGj_yHz",
        "outputId": "a0b05bd2-76f4-460f-f54d-8d5eb9fa8d0a"
      },
      "source": [
        "vocab_size = 10000\r\n",
        "(X_train, y_train), (X_test, y_test) = imdb.load_data(num_words = vocab_size)"
      ],
      "execution_count": 4,
      "outputs": [
        {
          "output_type": "stream",
          "text": [
            "Downloading data from https://storage.googleapis.com/tensorflow/tf-keras-datasets/imdb.npz\n",
            "17465344/17464789 [==============================] - 0s 0us/step\n"
          ],
          "name": "stdout"
        }
      ]
    },
    {
      "cell_type": "code",
      "metadata": {
        "colab": {
          "base_uri": "https://localhost:8080/"
        },
        "id": "Ir34-6JP_5Tk",
        "outputId": "86240dca-2a8b-4012-a876-fc078379d4c1"
      },
      "source": [
        "print('리뷰의 최대 길이 : {}'.format(max(len(l) for l in X_train)))\r\n",
        "print('리뷰의 평균 길이 : {}'.format(sum(map(len, X_train))/len(X_train)))"
      ],
      "execution_count": 5,
      "outputs": [
        {
          "output_type": "stream",
          "text": [
            "리뷰의 최대 길이 : 2494\n",
            "리뷰의 평균 길이 : 238.71364\n"
          ],
          "name": "stdout"
        }
      ]
    },
    {
      "cell_type": "code",
      "metadata": {
        "id": "f-jr8BdWAONL"
      },
      "source": [
        "max_len = 500\r\n",
        "X_train = pad_sequences(X_train, maxlen=max_len)\r\n",
        "X_test = pad_sequences(X_test, maxlen=max_len)"
      ],
      "execution_count": 6,
      "outputs": []
    },
    {
      "cell_type": "markdown",
      "metadata": {
        "id": "CCEnMHXKZHjz"
      },
      "source": [
        "- Test data set을 검증 셋과 테스트 셋으로 분리"
      ]
    },
    {
      "cell_type": "code",
      "metadata": {
        "id": "fEVJVVBzZIXx"
      },
      "source": [
        "from sklearn.model_selection import train_test_split\r\n",
        "X_val, X_test, y_val, y_test = train_test_split(\r\n",
        "    X_test, y_test, stratify=y_test, test_size=.6, random_state=seed\r\n",
        ")"
      ],
      "execution_count": 7,
      "outputs": []
    },
    {
      "cell_type": "markdown",
      "metadata": {
        "id": "qgN_9z5xAi0m"
      },
      "source": [
        "## 2. 바다나우 어텐션(Bahdanau Attention)"
      ]
    },
    {
      "cell_type": "code",
      "metadata": {
        "id": "4V5pUOOeASqD"
      },
      "source": [
        "class BahdanauAttention(tf.keras.Model):\r\n",
        "  def __init__(self, units):\r\n",
        "    super(BahdanauAttention, self).__init__()\r\n",
        "    self.W1 = Dense(units)\r\n",
        "    self.W2 = Dense(units)\r\n",
        "    self.V = Dense(1)\r\n",
        "\r\n",
        "  def call(self, values, query): # 단, key와 value는 같음\r\n",
        "    # query shape == (batch_size, hidden size)\r\n",
        "    # hidden_with_time_axis shape == (batch_size, 1, hidden size)\r\n",
        "    # score 계산을 위해 뒤에서 할 덧셈을 위해서 차원을 변경해 줌\r\n",
        "    hidden_with_time_axis = tf.expand_dims(query, 1)\r\n",
        "\r\n",
        "    # score shape == (batch_size, max_length, 1)\r\n",
        "    # we get 1 at the last axis because we are applying score to self.V\r\n",
        "    # the shape of the tensor before applying self.V is (batch_size, max_length, units)\r\n",
        "    score = self.V(tf.nn.tanh(\r\n",
        "        self.W1(values) + self.W2(hidden_with_time_axis)))\r\n",
        "\r\n",
        "    # attention_weights shape == (batch_size, max_length, 1)\r\n",
        "    attention_weights = tf.nn.softmax(score, axis=1)\r\n",
        "\r\n",
        "    # context_vector shape after sum == (batch_size, hidden_size)\r\n",
        "    context_vector = attention_weights * values\r\n",
        "    context_vector = tf.reduce_sum(context_vector, axis=1)\r\n",
        "\r\n",
        "    return context_vector, attention_weights"
      ],
      "execution_count": 8,
      "outputs": []
    },
    {
      "cell_type": "markdown",
      "metadata": {
        "id": "fCCC9McbBQvQ"
      },
      "source": [
        "## 3. 양방향 LSTM + 어텐션 메커니즘(BiLSTM with Attention Mechanism)"
      ]
    },
    {
      "cell_type": "code",
      "metadata": {
        "id": "-5CagF1JBPFc"
      },
      "source": [
        "from tensorflow.keras.layers import Dense, Embedding, Bidirectional, LSTM, Concatenate, Dropout\r\n",
        "from tensorflow.keras import Input, Model\r\n",
        "from tensorflow.keras import optimizers\r\n",
        "import os"
      ],
      "execution_count": 9,
      "outputs": []
    },
    {
      "cell_type": "code",
      "metadata": {
        "id": "NbzDeI5FBcVN"
      },
      "source": [
        "sequence_input = Input(shape=(max_len,), dtype='int32')\r\n",
        "embedded_sequences = Embedding(vocab_size, 128, input_length=max_len, mask_zero = True)(sequence_input)"
      ],
      "execution_count": 10,
      "outputs": []
    },
    {
      "cell_type": "code",
      "metadata": {
        "id": "HcIgWKOEBsts"
      },
      "source": [
        "lstm = Bidirectional(LSTM(64, dropout=0.5, return_sequences = True))(embedded_sequences)"
      ],
      "execution_count": 11,
      "outputs": []
    },
    {
      "cell_type": "code",
      "metadata": {
        "id": "EZEvYGK0B4kC"
      },
      "source": [
        "lstm, forward_h, forward_c, backward_h, backward_c = Bidirectional \\\r\n",
        "  (LSTM(64, dropout=0.5, return_sequences=True, return_state=True))(lstm)"
      ],
      "execution_count": 12,
      "outputs": []
    },
    {
      "cell_type": "code",
      "metadata": {
        "colab": {
          "base_uri": "https://localhost:8080/"
        },
        "id": "ppRnNJ5pCBNr",
        "outputId": "b900a111-b5e0-405e-fd98-d9782d72f4d7"
      },
      "source": [
        "lstm.shape, forward_h.shape, forward_c.shape, backward_h.shape, backward_c.shape"
      ],
      "execution_count": 13,
      "outputs": [
        {
          "output_type": "execute_result",
          "data": {
            "text/plain": [
              "(TensorShape([None, 500, 128]),\n",
              " TensorShape([None, 64]),\n",
              " TensorShape([None, 64]),\n",
              " TensorShape([None, 64]),\n",
              " TensorShape([None, 64]))"
            ]
          },
          "metadata": {
            "tags": []
          },
          "execution_count": 13
        }
      ]
    },
    {
      "cell_type": "code",
      "metadata": {
        "id": "nS_Uy1WjCGvD"
      },
      "source": [
        "state_h = Concatenate()([forward_h, backward_h]) # 은닉 상태\r\n",
        "state_c = Concatenate()([forward_c, backward_c]) # 셀 상태"
      ],
      "execution_count": 14,
      "outputs": []
    },
    {
      "cell_type": "code",
      "metadata": {
        "id": "G74e8cAICYFc"
      },
      "source": [
        "attention = BahdanauAttention(64) # 가중치 크기 정의\r\n",
        "context_vector, attention_weights = attention(lstm, state_h)"
      ],
      "execution_count": 15,
      "outputs": []
    },
    {
      "cell_type": "code",
      "metadata": {
        "colab": {
          "base_uri": "https://localhost:8080/"
        },
        "id": "UlHLZHUTCn2r",
        "outputId": "67d8c1a3-cde1-441f-b6c5-8c9a00feb39c"
      },
      "source": [
        "dense1 = Dense(20, activation=\"relu\")(context_vector)\r\n",
        "dropout = Dropout(0.5)(dense1)\r\n",
        "output = Dense(1, activation=\"sigmoid\")(dropout)\r\n",
        "model = Model(inputs=sequence_input, outputs=output)\r\n",
        "model.summary()"
      ],
      "execution_count": 16,
      "outputs": [
        {
          "output_type": "stream",
          "text": [
            "Model: \"model\"\n",
            "__________________________________________________________________________________________________\n",
            "Layer (type)                    Output Shape         Param #     Connected to                     \n",
            "==================================================================================================\n",
            "input_1 (InputLayer)            [(None, 500)]        0                                            \n",
            "__________________________________________________________________________________________________\n",
            "embedding (Embedding)           (None, 500, 128)     1280000     input_1[0][0]                    \n",
            "__________________________________________________________________________________________________\n",
            "bidirectional (Bidirectional)   (None, 500, 128)     98816       embedding[0][0]                  \n",
            "__________________________________________________________________________________________________\n",
            "bidirectional_1 (Bidirectional) [(None, 500, 128), ( 98816       bidirectional[0][0]              \n",
            "__________________________________________________________________________________________________\n",
            "concatenate (Concatenate)       (None, 128)          0           bidirectional_1[0][1]            \n",
            "                                                                 bidirectional_1[0][3]            \n",
            "__________________________________________________________________________________________________\n",
            "bahdanau_attention (BahdanauAtt ((None, 128), (None, 16577       bidirectional_1[0][0]            \n",
            "                                                                 concatenate[0][0]                \n",
            "__________________________________________________________________________________________________\n",
            "dense_3 (Dense)                 (None, 20)           2580        bahdanau_attention[0][0]         \n",
            "__________________________________________________________________________________________________\n",
            "dropout (Dropout)               (None, 20)           0           dense_3[0][0]                    \n",
            "__________________________________________________________________________________________________\n",
            "dense_4 (Dense)                 (None, 1)            21          dropout[0][0]                    \n",
            "==================================================================================================\n",
            "Total params: 1,496,810\n",
            "Trainable params: 1,496,810\n",
            "Non-trainable params: 0\n",
            "__________________________________________________________________________________________________\n"
          ],
          "name": "stdout"
        }
      ]
    },
    {
      "cell_type": "code",
      "metadata": {
        "colab": {
          "base_uri": "https://localhost:8080/",
          "height": 758
        },
        "id": "XSlyF-vGDDXe",
        "outputId": "dce931e6-3144-4036-b040-59139b17f5d0"
      },
      "source": [
        "from tensorflow.keras.utils import plot_model\r\n",
        "plot_model(model)"
      ],
      "execution_count": 17,
      "outputs": [
        {
          "output_type": "execute_result",
          "data": {
            "image/png": "[encoded data removed]",
            "text/plain": [
              "<IPython.core.display.Image object>"
            ]
          },
          "metadata": {
            "tags": []
          },
          "execution_count": 17
        }
      ]
    },
    {
      "cell_type": "code",
      "metadata": {
        "id": "ShvMM3K4M678"
      },
      "source": [
        "model.compile(loss='binary_crossentropy', optimizer='adam', metrics=['accuracy'])"
      ],
      "execution_count": 18,
      "outputs": []
    },
    {
      "cell_type": "code",
      "metadata": {
        "colab": {
          "base_uri": "https://localhost:8080/"
        },
        "id": "Y3VXQcESNDGy",
        "outputId": "2de9af18-a5eb-4962-bb14-f9193abb4b5d"
      },
      "source": [
        "history = model.fit(X_train, y_train, epochs=5, batch_size=256, \r\n",
        "                    validation_data=(X_val, y_val), verbose=1)"
      ],
      "execution_count": 19,
      "outputs": [
        {
          "output_type": "stream",
          "text": [
            "Epoch 1/5\n",
            "98/98 [==============================] - 404s 4s/step - loss: 0.5812 - accuracy: 0.6707 - val_loss: 0.2825 - val_accuracy: 0.8833\n",
            "Epoch 2/5\n",
            "98/98 [==============================] - 385s 4s/step - loss: 0.2452 - accuracy: 0.9143 - val_loss: 0.2838 - val_accuracy: 0.8854\n",
            "Epoch 3/5\n",
            "98/98 [==============================] - 381s 4s/step - loss: 0.1744 - accuracy: 0.9425 - val_loss: 0.3002 - val_accuracy: 0.8766\n",
            "Epoch 4/5\n",
            "98/98 [==============================] - 383s 4s/step - loss: 0.1390 - accuracy: 0.9568 - val_loss: 0.3903 - val_accuracy: 0.8507\n",
            "Epoch 5/5\n",
            "98/98 [==============================] - 385s 4s/step - loss: 0.1259 - accuracy: 0.9603 - val_loss: 0.4081 - val_accuracy: 0.8646\n"
          ],
          "name": "stdout"
        }
      ]
    },
    {
      "cell_type": "code",
      "metadata": {
        "colab": {
          "base_uri": "https://localhost:8080/"
        },
        "id": "cSDfOkTHNLnC",
        "outputId": "16e6923f-e329-480f-e388-9031eb43e76f"
      },
      "source": [
        "print(\"\\n 테스트 정확도: %.4f\" % (model.evaluate(X_test, y_test)[1]))"
      ],
      "execution_count": 20,
      "outputs": [
        {
          "output_type": "stream",
          "text": [
            "469/469 [==============================] - 178s 380ms/step - loss: 0.4123 - accuracy: 0.8651\n",
            "\n",
            " 테스트 정확도: 0.8651\n"
          ],
          "name": "stdout"
        }
      ]
    },
    {
      "cell_type": "code",
      "metadata": {
        "id": "ehXYzV8kX6kq"
      },
      "source": [
        ""
      ],
      "execution_count": null,
      "outputs": []
    }
  ]
}