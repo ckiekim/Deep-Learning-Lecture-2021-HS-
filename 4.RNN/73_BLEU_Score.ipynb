{
  "nbformat": 4,
  "nbformat_minor": 0,
  "metadata": {
    "colab": {
      "name": "73_BLEU_Score.ipynb",
      "provenance": [],
      "collapsed_sections": []
    },
    "kernelspec": {
      "name": "python3",
      "display_name": "Python 3"
    }
  },
  "cells": [
    {
      "cell_type": "markdown",
      "metadata": {
        "id": "P0YNzRHa2dNx"
      },
      "source": [
        "# BLEU(Bilingual Evaluation Understudy) Score"
      ]
    },
    {
      "cell_type": "code",
      "metadata": {
        "id": "eOTgUOn52mF0"
      },
      "source": [
        "from collections import Counter\r\n",
        "import numpy as np\r\n",
        "from nltk import ngrams"
      ],
      "execution_count": 1,
      "outputs": []
    },
    {
      "cell_type": "markdown",
      "metadata": {
        "id": "g9_RwBa_6pU5"
      },
      "source": [
        "## 1. BLEU(Bilingual Evaluation Understudy) 직접 만들기"
      ]
    },
    {
      "cell_type": "code",
      "metadata": {
        "id": "pfZ-qTCH3gKL"
      },
      "source": [
        "# 단순 카운트 함수\r\n",
        "def simple_count(tokens, n):    # 토큰화 된 candidate 문장, n-gram에서의 n 이 두 가지를 인자로 받음.\r\n",
        "    return Counter(ngrams(tokens, n))   #문장에서 n-gram을 카운트"
      ],
      "execution_count": 2,
      "outputs": []
    },
    {
      "cell_type": "code",
      "metadata": {
        "colab": {
          "base_uri": "https://localhost:8080/"
        },
        "id": "0YLzWaON3itE",
        "outputId": "c3e893ff-313b-457f-c4a1-8060cee4a785"
      },
      "source": [
        "candidate = \"It is a guide to action which ensures that the military always obeys the commands of the party.\"\r\n",
        "tokens = candidate.split()  #단어 토큰화\r\n",
        "result = simple_count(tokens, 1)    #토큰화 된 문장, 유니그램의 개수를 구하고자 한다면 n=1\r\n",
        "print(result)"
      ],
      "execution_count": 3,
      "outputs": [
        {
          "output_type": "stream",
          "text": [
            "Counter({('the',): 3, ('It',): 1, ('is',): 1, ('a',): 1, ('guide',): 1, ('to',): 1, ('action',): 1, ('which',): 1, ('ensures',): 1, ('that',): 1, ('military',): 1, ('always',): 1, ('obeys',): 1, ('commands',): 1, ('of',): 1, ('party.',): 1})\n"
          ],
          "name": "stdout"
        }
      ]
    },
    {
      "cell_type": "code",
      "metadata": {
        "colab": {
          "base_uri": "https://localhost:8080/"
        },
        "id": "jFH9A03U3uB5",
        "outputId": "5c9da422-07bd-42ad-f495-f25527076bbb"
      },
      "source": [
        "candidate = 'the the the the the the the'\r\n",
        "tokens = candidate.split() #단어 토큰화\r\n",
        "result = simple_count(tokens, 1)\r\n",
        "print(result)"
      ],
      "execution_count": 4,
      "outputs": [
        {
          "output_type": "stream",
          "text": [
            "Counter({('the',): 7})\n"
          ],
          "name": "stdout"
        }
      ]
    },
    {
      "cell_type": "code",
      "metadata": {
        "id": "Vy53oFuh33Tn"
      },
      "source": [
        "# 유니그램인 경우 n=1\r\n",
        "def count_clip(candidate, reference_list, n):\r\n",
        "    cnt_ca = simple_count(candidate, n)\r\n",
        "    # Ca 문장에서 n-gram 카운트\r\n",
        "    temp = dict()\r\n",
        "\r\n",
        "    for ref in reference_list: # 다수의 Ref 문장에 대해서 이하 반복\r\n",
        "        cnt_ref = simple_count(ref, n)\r\n",
        "        # Ref 문장에서 n-gram 카운트\r\n",
        "\r\n",
        "        for n_gram in cnt_ref: # 모든 Ref에 대해서 비교하여 특정 n-gram이 하나의 Ref에 가장 많이 등장한 횟수를 저장\r\n",
        "            if n_gram in temp:\r\n",
        "                temp[n_gram] = max(cnt_ref[n_gram], temp[n_gram]) # max_ref_count\r\n",
        "            else:\r\n",
        "                temp[n_gram] = cnt_ref[n_gram]\r\n",
        "\r\n",
        "    return {\r\n",
        "        n_gram: min(cnt_ca.get(n_gram, 0), temp.get(n_gram, 0)) for n_gram in cnt_ca\r\n",
        "        # count_clip=min(count, max_ref_count)\r\n",
        "        # 위의 get은 찾고자 하는 n-gram이 없으면 0을 반환한다.\r\n",
        "     }"
      ],
      "execution_count": 5,
      "outputs": []
    },
    {
      "cell_type": "code",
      "metadata": {
        "colab": {
          "base_uri": "https://localhost:8080/"
        },
        "id": "ng1mzo9N4DUQ",
        "outputId": "91d133aa-2252-463c-e713-5328ce75ae46"
      },
      "source": [
        "candidate = 'the the the the the the the'\r\n",
        "references = [\r\n",
        "    'the cat is on the mat',\r\n",
        "    'there is a cat on the mat'\r\n",
        "]\r\n",
        "result = count_clip(candidate.split(), list(map(lambda ref: ref.split(), references)), 1)\r\n",
        "print(result)"
      ],
      "execution_count": 6,
      "outputs": [
        {
          "output_type": "stream",
          "text": [
            "{('the',): 2}\n"
          ],
          "name": "stdout"
        }
      ]
    },
    {
      "cell_type": "code",
      "metadata": {
        "id": "hcHCA15U4DPb"
      },
      "source": [
        "def modified_precision(candidate, reference_list, n):\r\n",
        "    clip = count_clip(candidate, reference_list, n) \r\n",
        "    total_clip = sum(clip.values()) # 분자\r\n",
        "\r\n",
        "    ct = simple_count(candidate, n)\r\n",
        "    total_ct = sum(ct.values()) #분모\r\n",
        "\r\n",
        "    if total_ct==0: # n-gram의 n이 커졌을 때 분모가 0이 되는 것을 방지\r\n",
        "      total_ct=1\r\n",
        "\r\n",
        "    return (total_clip / total_ct) # 보정된 정밀도\r\n",
        "    # count_clip의 합을 분자로 하고 단순 count의 합을 분모로 하면 보정된 정밀도"
      ],
      "execution_count": 7,
      "outputs": []
    },
    {
      "cell_type": "code",
      "metadata": {
        "colab": {
          "base_uri": "https://localhost:8080/"
        },
        "id": "v6lvyxiq4DMV",
        "outputId": "cd6af576-3853-4f1e-a5da-ebde655180bf"
      },
      "source": [
        "result=modified_precision(candidate.split(), list(map(lambda ref: ref.split(), references)), 1) \r\n",
        "print(result)"
      ],
      "execution_count": 8,
      "outputs": [
        {
          "output_type": "stream",
          "text": [
            "0.2857142857142857\n"
          ],
          "name": "stdout"
        }
      ]
    },
    {
      "cell_type": "code",
      "metadata": {
        "id": "We9urr6i4DIk"
      },
      "source": [
        "def closest_ref_length(candidate, reference_list): # Ca 길이와 가장 근접한 Ref의 길이를 리턴하는 함수\r\n",
        "    ca_len = len(candidate) # ca 길이\r\n",
        "    ref_lens = (len(ref) for ref in reference_list) # Ref들의 길이\r\n",
        "    closest_ref_len = min(ref_lens, key=lambda ref_len: (abs(ref_len - ca_len), ref_len))\r\n",
        "    # 길이 차이를 최소화하는 Ref를 찾아서 Ref의 길이를 리턴\r\n",
        "    return closest_ref_len"
      ],
      "execution_count": 9,
      "outputs": []
    },
    {
      "cell_type": "code",
      "metadata": {
        "id": "uoDt24Yt4DEB"
      },
      "source": [
        "def brevity_penalty(candidate, reference_list):\r\n",
        "    ca_len = len(candidate)\r\n",
        "    ref_len = closest_ref_length(candidate, reference_list)\r\n",
        "\r\n",
        "    if ca_len > ref_len:\r\n",
        "        return 1\r\n",
        "    elif ca_len == 0 :\r\n",
        "    # candidate가 비어있다면 BP = 0 → BLEU = 0.0\r\n",
        "        return 0\r\n",
        "    else:\r\n",
        "        return np.exp(1 - ref_len/ca_len)"
      ],
      "execution_count": 10,
      "outputs": []
    },
    {
      "cell_type": "code",
      "metadata": {
        "id": "1X_j39Lu4DAP"
      },
      "source": [
        "def bleu_score(candidate, reference_list, weights=[0.25, 0.25, 0.25, 0.25]):\r\n",
        "    bp = brevity_penalty(candidate, reference_list) # 브레버티 패널티, BP\r\n",
        "\r\n",
        "    p_n = [modified_precision(candidate, reference_list, n=n) for n, _ in enumerate(weights,start=1)] \r\n",
        "    #p1, p2, p3, ..., pn\r\n",
        "    score = np.sum([w_i * np.log(p_i) if p_i != 0 else 0 for w_i, p_i in zip(weights, p_n)])\r\n",
        "    return bp * np.exp(score)"
      ],
      "execution_count": 11,
      "outputs": []
    },
    {
      "cell_type": "markdown",
      "metadata": {
        "id": "n2L09ikD58gA"
      },
      "source": [
        "## 2. NLTK를 사용한 BLEU 측정하기"
      ]
    },
    {
      "cell_type": "code",
      "metadata": {
        "id": "AogYSLWq5ppe"
      },
      "source": [
        "import nltk.translate.bleu_score as bleu\r\n",
        "\r\n",
        "candidate = 'It is a guide to action which ensures that the military always obeys the commands of the party'\r\n",
        "references = [\r\n",
        "    'It is a guide to action that ensures that the military will forever heed Party commands',\r\n",
        "    'It is the guiding principle which guarantees the military forces always being under the command of the Party',\r\n",
        "    'It is the practical guide for the army always to heed the directions of the party'\r\n",
        "]"
      ],
      "execution_count": 12,
      "outputs": []
    },
    {
      "cell_type": "code",
      "metadata": {
        "colab": {
          "base_uri": "https://localhost:8080/"
        },
        "id": "Byn8Ins45pho",
        "outputId": "bf103ec6-ee41-4e7a-c0a3-fa604a92d0a5"
      },
      "source": [
        "# 위에서 구현한 코드로 계산한 BLEU 점수\r\n",
        "bleu_score(candidate.split(),list(map(lambda ref: ref.split(), references)))"
      ],
      "execution_count": 13,
      "outputs": [
        {
          "output_type": "execute_result",
          "data": {
            "text/plain": [
              "0.5045666840058485"
            ]
          },
          "metadata": {
            "tags": []
          },
          "execution_count": 13
        }
      ]
    },
    {
      "cell_type": "code",
      "metadata": {
        "colab": {
          "base_uri": "https://localhost:8080/"
        },
        "id": "T5Uctsbf5pbU",
        "outputId": "7214f924-7a5c-4e75-8607-79a300397d57"
      },
      "source": [
        "# NLTK 패키지 구현되어져 있는 코드로 계산한 BLEU 점수\r\n",
        "bleu.sentence_bleu(list(map(lambda ref: ref.split(), references)),candidate.split())"
      ],
      "execution_count": 14,
      "outputs": [
        {
          "output_type": "execute_result",
          "data": {
            "text/plain": [
              "0.5045666840058485"
            ]
          },
          "metadata": {
            "tags": []
          },
          "execution_count": 14
        }
      ]
    },
    {
      "cell_type": "code",
      "metadata": {
        "id": "sBlZGE5E5pXw"
      },
      "source": [
        ""
      ],
      "execution_count": null,
      "outputs": []
    }
  ]
}