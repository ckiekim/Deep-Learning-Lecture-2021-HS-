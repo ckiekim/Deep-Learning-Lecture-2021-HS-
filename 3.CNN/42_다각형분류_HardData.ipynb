{
  "nbformat": 4,
  "nbformat_minor": 0,
  "metadata": {
    "colab": {
      "name": "42_다각형분류_HardData.ipynb",
      "provenance": [],
      "collapsed_sections": []
    },
    "kernelspec": {
      "name": "python3",
      "display_name": "Python 3"
    }
  },
  "cells": [
    {
      "cell_type": "markdown",
      "metadata": {
        "id": "qK0Tr1jfcGYT"
      },
      "source": [
        "# 원, 삼각형, 사각형 구분하기\r\n"
      ]
    },
    {
      "cell_type": "markdown",
      "metadata": {
        "id": "JF27vzIvdNYx"
      },
      "source": [
        "## 2. 어려운 테스트 문제를 기존 CNN 모델로 푸는 경우"
      ]
    },
    {
      "cell_type": "code",
      "metadata": {
        "id": "2IhICsDOc3tA"
      },
      "source": [
        "import numpy as np\r\n",
        "import tensorflow as tf\r\n",
        "from tensorflow.keras.models import Sequential\r\n",
        "from tensorflow.keras.layers import Dense, Flatten, Conv2D, MaxPooling2D\r\n",
        "from tensorflow.keras.preprocessing.image import ImageDataGenerator"
      ],
      "execution_count": 1,
      "outputs": []
    },
    {
      "cell_type": "code",
      "metadata": {
        "id": "HkZwdl8KdeHT"
      },
      "source": [
        "# seed 값 설정\r\n",
        "seed = 2021\r\n",
        "np.random.seed(seed)\r\n",
        "tf.random.set_seed(seed)"
      ],
      "execution_count": 2,
      "outputs": []
    },
    {
      "cell_type": "markdown",
      "metadata": {
        "id": "MFt0hNhNd0F6"
      },
      "source": [
        "### 데이터셋 생성하기"
      ]
    },
    {
      "cell_type": "code",
      "metadata": {
        "colab": {
          "base_uri": "https://localhost:8080/"
        },
        "id": "Bfbsgu-KdlnJ",
        "outputId": "6063a5d3-b27d-4ea6-da39-cd3e713fc3d4"
      },
      "source": [
        "train_datagen = ImageDataGenerator(rescale=1./255)\r\n",
        "train_generator = train_datagen.flow_from_directory(\r\n",
        "    'hard_handwriting_shape/train',\r\n",
        "    target_size=(24,24),\r\n",
        "    batch_size=3,\r\n",
        "    class_mode='categorical'\r\n",
        ")"
      ],
      "execution_count": 3,
      "outputs": [
        {
          "output_type": "stream",
          "text": [
            "Found 45 images belonging to 3 classes.\n"
          ],
          "name": "stdout"
        }
      ]
    },
    {
      "cell_type": "code",
      "metadata": {
        "colab": {
          "base_uri": "https://localhost:8080/"
        },
        "id": "s6QtY3b2efTa",
        "outputId": "e439aa60-9584-47aa-8971-9163405b7092"
      },
      "source": [
        "test_datagen = ImageDataGenerator(rescale=1./255)\r\n",
        "test_generator = test_datagen.flow_from_directory(\r\n",
        "    'hard_handwriting_shape/test',\r\n",
        "    target_size=(24,24),\r\n",
        "    batch_size=3,\r\n",
        "    class_mode='categorical'\r\n",
        ")"
      ],
      "execution_count": 4,
      "outputs": [
        {
          "output_type": "stream",
          "text": [
            "Found 15 images belonging to 3 classes.\n"
          ],
          "name": "stdout"
        }
      ]
    },
    {
      "cell_type": "markdown",
      "metadata": {
        "id": "FfNlyK7qfIGx"
      },
      "source": [
        "### 모델 정의/설정/학습"
      ]
    },
    {
      "cell_type": "code",
      "metadata": {
        "colab": {
          "base_uri": "https://localhost:8080/"
        },
        "id": "NbCIBwPSe7_B",
        "outputId": "65557527-318a-4444-b0f7-c37bedf8e304"
      },
      "source": [
        "model = Sequential()\r\n",
        "model.add(Conv2D(32, kernel_size=(3, 3),\r\n",
        "                 activation='relu', input_shape=(24,24,3)))\r\n",
        "model.add(Conv2D(64, (3, 3), activation='relu'))\r\n",
        "model.add(MaxPooling2D(pool_size=(2, 2)))\r\n",
        "model.add(Flatten())\r\n",
        "model.add(Dense(128, activation='relu'))\r\n",
        "model.add(Dense(3, activation='softmax'))\r\n",
        "model.summary()"
      ],
      "execution_count": 9,
      "outputs": [
        {
          "output_type": "stream",
          "text": [
            "Model: \"sequential_1\"\n",
            "_________________________________________________________________\n",
            "Layer (type)                 Output Shape              Param #   \n",
            "=================================================================\n",
            "conv2d_2 (Conv2D)            (None, 22, 22, 32)        896       \n",
            "_________________________________________________________________\n",
            "conv2d_3 (Conv2D)            (None, 20, 20, 64)        18496     \n",
            "_________________________________________________________________\n",
            "max_pooling2d_1 (MaxPooling2 (None, 10, 10, 64)        0         \n",
            "_________________________________________________________________\n",
            "flatten_1 (Flatten)          (None, 6400)              0         \n",
            "_________________________________________________________________\n",
            "dense_2 (Dense)              (None, 128)               819328    \n",
            "_________________________________________________________________\n",
            "dense_3 (Dense)              (None, 3)                 387       \n",
            "=================================================================\n",
            "Total params: 839,107\n",
            "Trainable params: 839,107\n",
            "Non-trainable params: 0\n",
            "_________________________________________________________________\n"
          ],
          "name": "stdout"
        }
      ]
    },
    {
      "cell_type": "code",
      "metadata": {
        "id": "WPRTyAuFfYJL"
      },
      "source": [
        "model.compile(loss='categorical_crossentropy', \r\n",
        "              optimizer='adam', metrics=['accuracy'])"
      ],
      "execution_count": 10,
      "outputs": []
    },
    {
      "cell_type": "markdown",
      "metadata": {
        "id": "p2wYImRdgh4R"
      },
      "source": [
        "### 모델 학습시키기\r\n",
        "- 첫번째 인자 : 훈련데이터셋을 제공할 제네레이터를 지정. 본 예제에서는 앞서 생성한 train_generator으로 지정.\r\n",
        "- steps_per_epoch : 한 epoch에 사용한 스텝 수를 지정. 총 45개의 훈련 샘플이 있고 배치사이즈가 3이므로 15 스텝으로 지정.\r\n",
        "- epochs : 전체 훈련 데이터셋에 대해 학습 반복 횟수를 지정. 200번을 반복적으로 학습.\r\n",
        "- validation_data : 검증데이터셋을 제공할 제네레이터를 지정. 본 예제에서는 앞서 생성한 test_generator으로 지정.\r\n",
        "- validation_steps : 한 epoch 종료 시 마다 검증할 때 사용되는 검증 스텝 수를 지정. 총 15개의 검증 샘플이 있고 배치사이즈가 3이므로 5 스텝으로 지정."
      ]
    },
    {
      "cell_type": "code",
      "metadata": {
        "colab": {
          "base_uri": "https://localhost:8080/"
        },
        "id": "Iff-6Pf-gfk6",
        "outputId": "27049722-22af-4f23-897c-d74aec3bb873"
      },
      "source": [
        "model.fit_generator(\r\n",
        "        train_generator,\r\n",
        "        steps_per_epoch=15,\r\n",
        "        epochs=200,\r\n",
        "        validation_data=test_generator,\r\n",
        "        validation_steps=5)"
      ],
      "execution_count": 11,
      "outputs": [
        {
          "output_type": "stream",
          "text": [
            "/usr/local/lib/python3.6/dist-packages/tensorflow/python/keras/engine/training.py:1844: UserWarning: `Model.fit_generator` is deprecated and will be removed in a future version. Please use `Model.fit`, which supports generators.\n",
            "  warnings.warn('`Model.fit_generator` is deprecated and '\n"
          ],
          "name": "stderr"
        },
        {
          "output_type": "stream",
          "text": [
            "Epoch 1/200\n",
            "15/15 [==============================] - 1s 32ms/step - loss: 1.5372 - accuracy: 0.3185 - val_loss: 1.1970 - val_accuracy: 0.3333\n",
            "Epoch 2/200\n",
            "15/15 [==============================] - 0s 22ms/step - loss: 0.5145 - accuracy: 0.9627 - val_loss: 1.9754 - val_accuracy: 0.3333\n",
            "Epoch 3/200\n",
            "15/15 [==============================] - 0s 22ms/step - loss: 0.1568 - accuracy: 0.9503 - val_loss: 2.9249 - val_accuracy: 0.3333\n",
            "Epoch 4/200\n",
            "15/15 [==============================] - 0s 22ms/step - loss: 0.0311 - accuracy: 1.0000 - val_loss: 3.3755 - val_accuracy: 0.3333\n",
            "Epoch 5/200\n",
            "15/15 [==============================] - 0s 21ms/step - loss: 0.0036 - accuracy: 1.0000 - val_loss: 3.8436 - val_accuracy: 0.3333\n",
            "Epoch 6/200\n",
            "15/15 [==============================] - 0s 27ms/step - loss: 0.0028 - accuracy: 1.0000 - val_loss: 4.0612 - val_accuracy: 0.3333\n",
            "Epoch 7/200\n",
            "15/15 [==============================] - 0s 27ms/step - loss: 0.0014 - accuracy: 1.0000 - val_loss: 4.2184 - val_accuracy: 0.3333\n",
            "Epoch 8/200\n",
            "15/15 [==============================] - 0s 27ms/step - loss: 6.5664e-04 - accuracy: 1.0000 - val_loss: 4.3166 - val_accuracy: 0.3333\n",
            "Epoch 9/200\n",
            "15/15 [==============================] - 0s 33ms/step - loss: 4.4613e-04 - accuracy: 1.0000 - val_loss: 4.3781 - val_accuracy: 0.3333\n",
            "Epoch 10/200\n",
            "15/15 [==============================] - 0s 21ms/step - loss: 4.4282e-04 - accuracy: 1.0000 - val_loss: 4.4054 - val_accuracy: 0.3333\n",
            "Epoch 11/200\n",
            "15/15 [==============================] - 0s 22ms/step - loss: 3.1424e-04 - accuracy: 1.0000 - val_loss: 4.4318 - val_accuracy: 0.3333\n",
            "Epoch 12/200\n",
            "15/15 [==============================] - 0s 22ms/step - loss: 2.7851e-04 - accuracy: 1.0000 - val_loss: 4.4659 - val_accuracy: 0.3333\n",
            "Epoch 13/200\n",
            "15/15 [==============================] - 0s 21ms/step - loss: 2.0057e-04 - accuracy: 1.0000 - val_loss: 4.4875 - val_accuracy: 0.3333\n",
            "Epoch 14/200\n",
            "15/15 [==============================] - 0s 21ms/step - loss: 2.0880e-04 - accuracy: 1.0000 - val_loss: 4.5223 - val_accuracy: 0.3333\n",
            "Epoch 15/200\n",
            "15/15 [==============================] - 0s 22ms/step - loss: 1.6365e-04 - accuracy: 1.0000 - val_loss: 4.5334 - val_accuracy: 0.3333\n",
            "Epoch 16/200\n",
            "15/15 [==============================] - 0s 22ms/step - loss: 2.5985e-04 - accuracy: 1.0000 - val_loss: 4.5376 - val_accuracy: 0.3333\n",
            "Epoch 17/200\n",
            "15/15 [==============================] - 0s 22ms/step - loss: 1.5369e-04 - accuracy: 1.0000 - val_loss: 4.5629 - val_accuracy: 0.3333\n",
            "Epoch 18/200\n",
            "15/15 [==============================] - 0s 22ms/step - loss: 1.4112e-04 - accuracy: 1.0000 - val_loss: 4.5982 - val_accuracy: 0.3333\n",
            "Epoch 19/200\n",
            "15/15 [==============================] - 0s 22ms/step - loss: 1.7077e-04 - accuracy: 1.0000 - val_loss: 4.6035 - val_accuracy: 0.3333\n",
            "Epoch 20/200\n",
            "15/15 [==============================] - 0s 28ms/step - loss: 1.4625e-04 - accuracy: 1.0000 - val_loss: 4.6331 - val_accuracy: 0.3333\n",
            "Epoch 21/200\n",
            "15/15 [==============================] - 0s 27ms/step - loss: 1.4214e-04 - accuracy: 1.0000 - val_loss: 4.6501 - val_accuracy: 0.3333\n",
            "Epoch 22/200\n",
            "15/15 [==============================] - 0s 25ms/step - loss: 1.2442e-04 - accuracy: 1.0000 - val_loss: 4.6734 - val_accuracy: 0.3333\n",
            "Epoch 23/200\n",
            "15/15 [==============================] - 0s 21ms/step - loss: 1.1594e-04 - accuracy: 1.0000 - val_loss: 4.7070 - val_accuracy: 0.3333\n",
            "Epoch 24/200\n",
            "15/15 [==============================] - 0s 21ms/step - loss: 7.1656e-05 - accuracy: 1.0000 - val_loss: 4.7560 - val_accuracy: 0.3333\n",
            "Epoch 25/200\n",
            "15/15 [==============================] - 0s 28ms/step - loss: 1.0382e-04 - accuracy: 1.0000 - val_loss: 4.7943 - val_accuracy: 0.3333\n",
            "Epoch 26/200\n",
            "15/15 [==============================] - 0s 28ms/step - loss: 5.4045e-05 - accuracy: 1.0000 - val_loss: 4.8503 - val_accuracy: 0.3333\n",
            "Epoch 27/200\n",
            "15/15 [==============================] - 0s 26ms/step - loss: 4.6377e-05 - accuracy: 1.0000 - val_loss: 4.8702 - val_accuracy: 0.3333\n",
            "Epoch 28/200\n",
            "15/15 [==============================] - 0s 22ms/step - loss: 6.7399e-05 - accuracy: 1.0000 - val_loss: 4.9138 - val_accuracy: 0.3333\n",
            "Epoch 29/200\n",
            "15/15 [==============================] - 0s 21ms/step - loss: 3.3811e-05 - accuracy: 1.0000 - val_loss: 4.9689 - val_accuracy: 0.3333\n",
            "Epoch 30/200\n",
            "15/15 [==============================] - 0s 22ms/step - loss: 3.9542e-05 - accuracy: 1.0000 - val_loss: 5.0197 - val_accuracy: 0.3333\n",
            "Epoch 31/200\n",
            "15/15 [==============================] - 0s 22ms/step - loss: 3.0187e-05 - accuracy: 1.0000 - val_loss: 5.0811 - val_accuracy: 0.3333\n",
            "Epoch 32/200\n",
            "15/15 [==============================] - 0s 22ms/step - loss: 3.2501e-05 - accuracy: 1.0000 - val_loss: 5.0999 - val_accuracy: 0.3333\n",
            "Epoch 33/200\n",
            "15/15 [==============================] - 0s 22ms/step - loss: 3.0378e-05 - accuracy: 1.0000 - val_loss: 5.1587 - val_accuracy: 0.3333\n",
            "Epoch 34/200\n",
            "15/15 [==============================] - 0s 22ms/step - loss: 3.6176e-05 - accuracy: 1.0000 - val_loss: 5.2188 - val_accuracy: 0.3333\n",
            "Epoch 35/200\n",
            "15/15 [==============================] - 0s 21ms/step - loss: 2.5029e-05 - accuracy: 1.0000 - val_loss: 5.2523 - val_accuracy: 0.3333\n",
            "Epoch 36/200\n",
            "15/15 [==============================] - 0s 22ms/step - loss: 3.1916e-05 - accuracy: 1.0000 - val_loss: 5.3117 - val_accuracy: 0.3333\n",
            "Epoch 37/200\n",
            "15/15 [==============================] - 0s 23ms/step - loss: 1.6706e-05 - accuracy: 1.0000 - val_loss: 5.3647 - val_accuracy: 0.3333\n",
            "Epoch 38/200\n",
            "15/15 [==============================] - 0s 22ms/step - loss: 1.7456e-05 - accuracy: 1.0000 - val_loss: 5.3797 - val_accuracy: 0.3333\n",
            "Epoch 39/200\n",
            "15/15 [==============================] - 0s 27ms/step - loss: 1.4516e-05 - accuracy: 1.0000 - val_loss: 5.4561 - val_accuracy: 0.3333\n",
            "Epoch 40/200\n",
            "15/15 [==============================] - 0s 27ms/step - loss: 1.7015e-05 - accuracy: 1.0000 - val_loss: 5.4866 - val_accuracy: 0.3333\n",
            "Epoch 41/200\n",
            "15/15 [==============================] - 0s 25ms/step - loss: 1.3524e-05 - accuracy: 1.0000 - val_loss: 5.5271 - val_accuracy: 0.3333\n",
            "Epoch 42/200\n",
            "15/15 [==============================] - 0s 23ms/step - loss: 2.1357e-05 - accuracy: 1.0000 - val_loss: 5.5672 - val_accuracy: 0.3333\n",
            "Epoch 43/200\n",
            "15/15 [==============================] - 0s 22ms/step - loss: 1.7249e-05 - accuracy: 1.0000 - val_loss: 5.5925 - val_accuracy: 0.3333\n",
            "Epoch 44/200\n",
            "15/15 [==============================] - 0s 25ms/step - loss: 8.0153e-06 - accuracy: 1.0000 - val_loss: 5.6300 - val_accuracy: 0.3333\n",
            "Epoch 45/200\n",
            "15/15 [==============================] - 0s 27ms/step - loss: 1.1294e-05 - accuracy: 1.0000 - val_loss: 5.6576 - val_accuracy: 0.3333\n",
            "Epoch 46/200\n",
            "15/15 [==============================] - 0s 27ms/step - loss: 1.1924e-05 - accuracy: 1.0000 - val_loss: 5.6925 - val_accuracy: 0.3333\n",
            "Epoch 47/200\n",
            "15/15 [==============================] - 0s 22ms/step - loss: 8.9783e-06 - accuracy: 1.0000 - val_loss: 5.7360 - val_accuracy: 0.3333\n",
            "Epoch 48/200\n",
            "15/15 [==============================] - 0s 21ms/step - loss: 1.1106e-05 - accuracy: 1.0000 - val_loss: 5.7557 - val_accuracy: 0.3333\n",
            "Epoch 49/200\n",
            "15/15 [==============================] - 1s 36ms/step - loss: 8.2631e-06 - accuracy: 1.0000 - val_loss: 5.8009 - val_accuracy: 0.3333\n",
            "Epoch 50/200\n",
            "15/15 [==============================] - 0s 27ms/step - loss: 8.9985e-06 - accuracy: 1.0000 - val_loss: 5.8260 - val_accuracy: 0.3333\n",
            "Epoch 51/200\n",
            "15/15 [==============================] - 0s 29ms/step - loss: 7.7550e-06 - accuracy: 1.0000 - val_loss: 5.8650 - val_accuracy: 0.3333\n",
            "Epoch 52/200\n",
            "15/15 [==============================] - 0s 27ms/step - loss: 9.1113e-06 - accuracy: 1.0000 - val_loss: 5.8800 - val_accuracy: 0.3333\n",
            "Epoch 53/200\n",
            "15/15 [==============================] - 0s 28ms/step - loss: 7.2818e-06 - accuracy: 1.0000 - val_loss: 5.9268 - val_accuracy: 0.3333\n",
            "Epoch 54/200\n",
            "15/15 [==============================] - 0s 28ms/step - loss: 5.5499e-06 - accuracy: 1.0000 - val_loss: 5.9699 - val_accuracy: 0.3333\n",
            "Epoch 55/200\n",
            "15/15 [==============================] - 0s 29ms/step - loss: 6.7275e-06 - accuracy: 1.0000 - val_loss: 5.9894 - val_accuracy: 0.3333\n",
            "Epoch 56/200\n",
            "15/15 [==============================] - 0s 24ms/step - loss: 5.2518e-06 - accuracy: 1.0000 - val_loss: 6.0162 - val_accuracy: 0.3333\n",
            "Epoch 57/200\n",
            "15/15 [==============================] - 0s 23ms/step - loss: 4.2679e-06 - accuracy: 1.0000 - val_loss: 6.0603 - val_accuracy: 0.3333\n",
            "Epoch 58/200\n",
            "15/15 [==============================] - 0s 23ms/step - loss: 5.7416e-06 - accuracy: 1.0000 - val_loss: 6.1002 - val_accuracy: 0.3333\n",
            "Epoch 59/200\n",
            "15/15 [==============================] - 0s 23ms/step - loss: 4.7324e-06 - accuracy: 1.0000 - val_loss: 6.1225 - val_accuracy: 0.3333\n",
            "Epoch 60/200\n",
            "15/15 [==============================] - 0s 22ms/step - loss: 4.9840e-06 - accuracy: 1.0000 - val_loss: 6.1504 - val_accuracy: 0.3333\n",
            "Epoch 61/200\n",
            "15/15 [==============================] - 0s 22ms/step - loss: 5.0815e-06 - accuracy: 1.0000 - val_loss: 6.1598 - val_accuracy: 0.3333\n",
            "Epoch 62/200\n",
            "15/15 [==============================] - 0s 30ms/step - loss: 4.7724e-06 - accuracy: 1.0000 - val_loss: 6.1946 - val_accuracy: 0.3333\n",
            "Epoch 63/200\n",
            "15/15 [==============================] - 0s 29ms/step - loss: 3.9571e-06 - accuracy: 1.0000 - val_loss: 6.2323 - val_accuracy: 0.3333\n",
            "Epoch 64/200\n",
            "15/15 [==============================] - 0s 27ms/step - loss: 3.3183e-06 - accuracy: 1.0000 - val_loss: 6.2546 - val_accuracy: 0.3333\n",
            "Epoch 65/200\n",
            "15/15 [==============================] - 0s 28ms/step - loss: 4.4550e-06 - accuracy: 1.0000 - val_loss: 6.2666 - val_accuracy: 0.3333\n",
            "Epoch 66/200\n",
            "15/15 [==============================] - 0s 26ms/step - loss: 3.9135e-06 - accuracy: 1.0000 - val_loss: 6.3180 - val_accuracy: 0.3333\n",
            "Epoch 67/200\n",
            "15/15 [==============================] - 0s 22ms/step - loss: 4.2674e-06 - accuracy: 1.0000 - val_loss: 6.3368 - val_accuracy: 0.3333\n",
            "Epoch 68/200\n",
            "15/15 [==============================] - 0s 22ms/step - loss: 3.1088e-06 - accuracy: 1.0000 - val_loss: 6.3803 - val_accuracy: 0.3333\n",
            "Epoch 69/200\n",
            "15/15 [==============================] - 0s 22ms/step - loss: 3.0420e-06 - accuracy: 1.0000 - val_loss: 6.4104 - val_accuracy: 0.3333\n",
            "Epoch 70/200\n",
            "15/15 [==============================] - 0s 22ms/step - loss: 3.2945e-06 - accuracy: 1.0000 - val_loss: 6.4382 - val_accuracy: 0.3333\n",
            "Epoch 71/200\n",
            "15/15 [==============================] - 0s 22ms/step - loss: 2.3390e-06 - accuracy: 1.0000 - val_loss: 6.4762 - val_accuracy: 0.3333\n",
            "Epoch 72/200\n",
            "15/15 [==============================] - 0s 25ms/step - loss: 2.6815e-06 - accuracy: 1.0000 - val_loss: 6.5003 - val_accuracy: 0.3333\n",
            "Epoch 73/200\n",
            "15/15 [==============================] - 0s 27ms/step - loss: 2.7074e-06 - accuracy: 1.0000 - val_loss: 6.5259 - val_accuracy: 0.3333\n",
            "Epoch 74/200\n",
            "15/15 [==============================] - 0s 26ms/step - loss: 2.6861e-06 - accuracy: 1.0000 - val_loss: 6.5656 - val_accuracy: 0.3333\n",
            "Epoch 75/200\n",
            "15/15 [==============================] - 0s 22ms/step - loss: 1.6466e-06 - accuracy: 1.0000 - val_loss: 6.5820 - val_accuracy: 0.3333\n",
            "Epoch 76/200\n",
            "15/15 [==============================] - 0s 23ms/step - loss: 2.3141e-06 - accuracy: 1.0000 - val_loss: 6.5967 - val_accuracy: 0.3333\n",
            "Epoch 77/200\n",
            "15/15 [==============================] - 0s 23ms/step - loss: 2.1534e-06 - accuracy: 1.0000 - val_loss: 6.6019 - val_accuracy: 0.3333\n",
            "Epoch 78/200\n",
            "15/15 [==============================] - 0s 22ms/step - loss: 2.4628e-06 - accuracy: 1.0000 - val_loss: 6.6091 - val_accuracy: 0.3333\n",
            "Epoch 79/200\n",
            "15/15 [==============================] - 0s 23ms/step - loss: 1.9568e-06 - accuracy: 1.0000 - val_loss: 6.6257 - val_accuracy: 0.3333\n",
            "Epoch 80/200\n",
            "15/15 [==============================] - 0s 23ms/step - loss: 1.5842e-06 - accuracy: 1.0000 - val_loss: 6.6476 - val_accuracy: 0.3333\n",
            "Epoch 81/200\n",
            "15/15 [==============================] - 0s 24ms/step - loss: 2.0299e-06 - accuracy: 1.0000 - val_loss: 6.6527 - val_accuracy: 0.3333\n",
            "Epoch 82/200\n",
            "15/15 [==============================] - 0s 22ms/step - loss: 1.6467e-06 - accuracy: 1.0000 - val_loss: 6.6796 - val_accuracy: 0.3333\n",
            "Epoch 83/200\n",
            "15/15 [==============================] - 0s 21ms/step - loss: 1.5407e-06 - accuracy: 1.0000 - val_loss: 6.6976 - val_accuracy: 0.3333\n",
            "Epoch 84/200\n",
            "15/15 [==============================] - 0s 23ms/step - loss: 1.9585e-06 - accuracy: 1.0000 - val_loss: 6.7155 - val_accuracy: 0.3333\n",
            "Epoch 85/200\n",
            "15/15 [==============================] - 0s 22ms/step - loss: 1.5209e-06 - accuracy: 1.0000 - val_loss: 6.7366 - val_accuracy: 0.3333\n",
            "Epoch 86/200\n",
            "15/15 [==============================] - 0s 22ms/step - loss: 1.3837e-06 - accuracy: 1.0000 - val_loss: 6.7450 - val_accuracy: 0.3333\n",
            "Epoch 87/200\n",
            "15/15 [==============================] - 0s 23ms/step - loss: 1.6896e-06 - accuracy: 1.0000 - val_loss: 6.7715 - val_accuracy: 0.3333\n",
            "Epoch 88/200\n",
            "15/15 [==============================] - 0s 24ms/step - loss: 1.5904e-06 - accuracy: 1.0000 - val_loss: 6.7907 - val_accuracy: 0.3333\n",
            "Epoch 89/200\n",
            "15/15 [==============================] - 0s 29ms/step - loss: 2.0043e-06 - accuracy: 1.0000 - val_loss: 6.8010 - val_accuracy: 0.3333\n",
            "Epoch 90/200\n",
            "15/15 [==============================] - 0s 29ms/step - loss: 1.5339e-06 - accuracy: 1.0000 - val_loss: 6.8135 - val_accuracy: 0.3333\n",
            "Epoch 91/200\n",
            "15/15 [==============================] - 0s 23ms/step - loss: 1.3133e-06 - accuracy: 1.0000 - val_loss: 6.8326 - val_accuracy: 0.3333\n",
            "Epoch 92/200\n",
            "15/15 [==============================] - 0s 22ms/step - loss: 1.4323e-06 - accuracy: 1.0000 - val_loss: 6.8405 - val_accuracy: 0.3333\n",
            "Epoch 93/200\n",
            "15/15 [==============================] - 0s 23ms/step - loss: 1.1090e-06 - accuracy: 1.0000 - val_loss: 6.8575 - val_accuracy: 0.3333\n",
            "Epoch 94/200\n",
            "15/15 [==============================] - 0s 27ms/step - loss: 1.1948e-06 - accuracy: 1.0000 - val_loss: 6.8806 - val_accuracy: 0.3333\n",
            "Epoch 95/200\n",
            "15/15 [==============================] - 0s 27ms/step - loss: 1.4957e-06 - accuracy: 1.0000 - val_loss: 6.8739 - val_accuracy: 0.3333\n",
            "Epoch 96/200\n",
            "15/15 [==============================] - 0s 29ms/step - loss: 1.3563e-06 - accuracy: 1.0000 - val_loss: 6.9037 - val_accuracy: 0.3333\n",
            "Epoch 97/200\n",
            "15/15 [==============================] - 0s 28ms/step - loss: 1.1225e-06 - accuracy: 1.0000 - val_loss: 6.9222 - val_accuracy: 0.3333\n",
            "Epoch 98/200\n",
            "15/15 [==============================] - 0s 28ms/step - loss: 9.8361e-07 - accuracy: 1.0000 - val_loss: 6.9252 - val_accuracy: 0.3333\n",
            "Epoch 99/200\n",
            "15/15 [==============================] - 0s 32ms/step - loss: 8.2015e-07 - accuracy: 1.0000 - val_loss: 6.9527 - val_accuracy: 0.3333\n",
            "Epoch 100/200\n",
            "15/15 [==============================] - 0s 23ms/step - loss: 8.7519e-07 - accuracy: 1.0000 - val_loss: 6.9761 - val_accuracy: 0.3333\n",
            "Epoch 101/200\n",
            "15/15 [==============================] - 0s 23ms/step - loss: 1.1781e-06 - accuracy: 1.0000 - val_loss: 6.9722 - val_accuracy: 0.3333\n",
            "Epoch 102/200\n",
            "15/15 [==============================] - 0s 22ms/step - loss: 7.9101e-07 - accuracy: 1.0000 - val_loss: 6.9919 - val_accuracy: 0.3333\n",
            "Epoch 103/200\n",
            "15/15 [==============================] - 0s 23ms/step - loss: 1.0165e-06 - accuracy: 1.0000 - val_loss: 7.0049 - val_accuracy: 0.3333\n",
            "Epoch 104/200\n",
            "15/15 [==============================] - 0s 24ms/step - loss: 9.0316e-07 - accuracy: 1.0000 - val_loss: 7.0222 - val_accuracy: 0.3333\n",
            "Epoch 105/200\n",
            "15/15 [==============================] - 0s 22ms/step - loss: 8.9815e-07 - accuracy: 1.0000 - val_loss: 7.0338 - val_accuracy: 0.3333\n",
            "Epoch 106/200\n",
            "15/15 [==============================] - 0s 22ms/step - loss: 1.1357e-06 - accuracy: 1.0000 - val_loss: 7.0475 - val_accuracy: 0.3333\n",
            "Epoch 107/200\n",
            "15/15 [==============================] - 0s 28ms/step - loss: 7.8956e-07 - accuracy: 1.0000 - val_loss: 7.0757 - val_accuracy: 0.3333\n",
            "Epoch 108/200\n",
            "15/15 [==============================] - 0s 27ms/step - loss: 9.0257e-07 - accuracy: 1.0000 - val_loss: 7.0825 - val_accuracy: 0.3333\n",
            "Epoch 109/200\n",
            "15/15 [==============================] - 0s 24ms/step - loss: 7.4325e-07 - accuracy: 1.0000 - val_loss: 7.0967 - val_accuracy: 0.3333\n",
            "Epoch 110/200\n",
            "15/15 [==============================] - 0s 23ms/step - loss: 5.9197e-07 - accuracy: 1.0000 - val_loss: 7.1144 - val_accuracy: 0.3333\n",
            "Epoch 111/200\n",
            "15/15 [==============================] - 0s 22ms/step - loss: 1.1669e-06 - accuracy: 1.0000 - val_loss: 7.1159 - val_accuracy: 0.3333\n",
            "Epoch 112/200\n",
            "15/15 [==============================] - 0s 22ms/step - loss: 7.5678e-07 - accuracy: 1.0000 - val_loss: 7.1187 - val_accuracy: 0.3333\n",
            "Epoch 113/200\n",
            "15/15 [==============================] - 0s 23ms/step - loss: 1.0466e-06 - accuracy: 1.0000 - val_loss: 7.1284 - val_accuracy: 0.3333\n",
            "Epoch 114/200\n",
            "15/15 [==============================] - 0s 23ms/step - loss: 6.4253e-07 - accuracy: 1.0000 - val_loss: 7.1482 - val_accuracy: 0.3333\n",
            "Epoch 115/200\n",
            "15/15 [==============================] - 0s 22ms/step - loss: 6.0821e-07 - accuracy: 1.0000 - val_loss: 7.1806 - val_accuracy: 0.3333\n",
            "Epoch 116/200\n",
            "15/15 [==============================] - 0s 24ms/step - loss: 6.0204e-07 - accuracy: 1.0000 - val_loss: 7.1839 - val_accuracy: 0.3333\n",
            "Epoch 117/200\n",
            "15/15 [==============================] - 0s 24ms/step - loss: 9.0924e-07 - accuracy: 1.0000 - val_loss: 7.1794 - val_accuracy: 0.3333\n",
            "Epoch 118/200\n",
            "15/15 [==============================] - 0s 30ms/step - loss: 4.6368e-07 - accuracy: 1.0000 - val_loss: 7.1965 - val_accuracy: 0.3333\n",
            "Epoch 119/200\n",
            "15/15 [==============================] - 0s 28ms/step - loss: 7.0361e-07 - accuracy: 1.0000 - val_loss: 7.2114 - val_accuracy: 0.3333\n",
            "Epoch 120/200\n",
            "15/15 [==============================] - 0s 23ms/step - loss: 4.9209e-07 - accuracy: 1.0000 - val_loss: 7.2233 - val_accuracy: 0.3333\n",
            "Epoch 121/200\n",
            "15/15 [==============================] - 0s 24ms/step - loss: 5.7955e-07 - accuracy: 1.0000 - val_loss: 7.2250 - val_accuracy: 0.3333\n",
            "Epoch 122/200\n",
            "15/15 [==============================] - 0s 22ms/step - loss: 5.5669e-07 - accuracy: 1.0000 - val_loss: 7.2383 - val_accuracy: 0.3333\n",
            "Epoch 123/200\n",
            "15/15 [==============================] - 0s 23ms/step - loss: 6.8218e-07 - accuracy: 1.0000 - val_loss: 7.2627 - val_accuracy: 0.3333\n",
            "Epoch 124/200\n",
            "15/15 [==============================] - 0s 22ms/step - loss: 4.4670e-07 - accuracy: 1.0000 - val_loss: 7.2704 - val_accuracy: 0.3333\n",
            "Epoch 125/200\n",
            "15/15 [==============================] - 0s 23ms/step - loss: 6.3037e-07 - accuracy: 1.0000 - val_loss: 7.2794 - val_accuracy: 0.3333\n",
            "Epoch 126/200\n",
            "15/15 [==============================] - 0s 22ms/step - loss: 3.8853e-07 - accuracy: 1.0000 - val_loss: 7.2948 - val_accuracy: 0.3333\n",
            "Epoch 127/200\n",
            "15/15 [==============================] - 0s 24ms/step - loss: 5.5007e-07 - accuracy: 1.0000 - val_loss: 7.3007 - val_accuracy: 0.3333\n",
            "Epoch 128/200\n",
            "15/15 [==============================] - 0s 26ms/step - loss: 2.8960e-07 - accuracy: 1.0000 - val_loss: 7.3190 - val_accuracy: 0.3333\n",
            "Epoch 129/200\n",
            "15/15 [==============================] - 0s 28ms/step - loss: 6.2364e-07 - accuracy: 1.0000 - val_loss: 7.3275 - val_accuracy: 0.3333\n",
            "Epoch 130/200\n",
            "15/15 [==============================] - 0s 25ms/step - loss: 4.3863e-07 - accuracy: 1.0000 - val_loss: 7.3348 - val_accuracy: 0.3333\n",
            "Epoch 131/200\n",
            "15/15 [==============================] - 0s 22ms/step - loss: 5.5987e-07 - accuracy: 1.0000 - val_loss: 7.3500 - val_accuracy: 0.3333\n",
            "Epoch 132/200\n",
            "15/15 [==============================] - 0s 24ms/step - loss: 6.8840e-07 - accuracy: 1.0000 - val_loss: 7.3647 - val_accuracy: 0.3333\n",
            "Epoch 133/200\n",
            "15/15 [==============================] - 0s 26ms/step - loss: 4.2975e-07 - accuracy: 1.0000 - val_loss: 7.3720 - val_accuracy: 0.3333\n",
            "Epoch 134/200\n",
            "15/15 [==============================] - 0s 28ms/step - loss: 4.8681e-07 - accuracy: 1.0000 - val_loss: 7.3723 - val_accuracy: 0.3333\n",
            "Epoch 135/200\n",
            "15/15 [==============================] - 0s 27ms/step - loss: 4.3726e-07 - accuracy: 1.0000 - val_loss: 7.3904 - val_accuracy: 0.3333\n",
            "Epoch 136/200\n",
            "15/15 [==============================] - 0s 29ms/step - loss: 3.3776e-07 - accuracy: 1.0000 - val_loss: 7.4089 - val_accuracy: 0.3333\n",
            "Epoch 137/200\n",
            "15/15 [==============================] - 0s 29ms/step - loss: 4.2865e-07 - accuracy: 1.0000 - val_loss: 7.4082 - val_accuracy: 0.3333\n",
            "Epoch 138/200\n",
            "15/15 [==============================] - 0s 27ms/step - loss: 3.2958e-07 - accuracy: 1.0000 - val_loss: 7.4187 - val_accuracy: 0.3333\n",
            "Epoch 139/200\n",
            "15/15 [==============================] - 0s 29ms/step - loss: 2.9871e-07 - accuracy: 1.0000 - val_loss: 7.4287 - val_accuracy: 0.3333\n",
            "Epoch 140/200\n",
            "15/15 [==============================] - 1s 40ms/step - loss: 5.2502e-07 - accuracy: 1.0000 - val_loss: 7.4472 - val_accuracy: 0.3333\n",
            "Epoch 141/200\n",
            "15/15 [==============================] - 0s 30ms/step - loss: 4.4121e-07 - accuracy: 1.0000 - val_loss: 7.4470 - val_accuracy: 0.3333\n",
            "Epoch 142/200\n",
            "15/15 [==============================] - 0s 24ms/step - loss: 3.0071e-07 - accuracy: 1.0000 - val_loss: 7.4720 - val_accuracy: 0.3333\n",
            "Epoch 143/200\n",
            "15/15 [==============================] - 0s 22ms/step - loss: 3.7978e-07 - accuracy: 1.0000 - val_loss: 7.4670 - val_accuracy: 0.3333\n",
            "Epoch 144/200\n",
            "15/15 [==============================] - 0s 23ms/step - loss: 3.4655e-07 - accuracy: 1.0000 - val_loss: 7.4797 - val_accuracy: 0.3333\n",
            "Epoch 145/200\n",
            "15/15 [==============================] - 0s 23ms/step - loss: 5.1725e-07 - accuracy: 1.0000 - val_loss: 7.4950 - val_accuracy: 0.3333\n",
            "Epoch 146/200\n",
            "15/15 [==============================] - 0s 23ms/step - loss: 5.3231e-07 - accuracy: 1.0000 - val_loss: 7.5045 - val_accuracy: 0.3333\n",
            "Epoch 147/200\n",
            "15/15 [==============================] - 0s 23ms/step - loss: 2.8741e-07 - accuracy: 1.0000 - val_loss: 7.5102 - val_accuracy: 0.3333\n",
            "Epoch 148/200\n",
            "15/15 [==============================] - 0s 28ms/step - loss: 3.0529e-07 - accuracy: 1.0000 - val_loss: 7.5228 - val_accuracy: 0.3333\n",
            "Epoch 149/200\n",
            "15/15 [==============================] - 0s 30ms/step - loss: 2.9383e-07 - accuracy: 1.0000 - val_loss: 7.5340 - val_accuracy: 0.3333\n",
            "Epoch 150/200\n",
            "15/15 [==============================] - 0s 22ms/step - loss: 4.5760e-07 - accuracy: 1.0000 - val_loss: 7.5404 - val_accuracy: 0.3333\n",
            "Epoch 151/200\n",
            "15/15 [==============================] - 0s 23ms/step - loss: 3.0263e-07 - accuracy: 1.0000 - val_loss: 7.5504 - val_accuracy: 0.3333\n",
            "Epoch 152/200\n",
            "15/15 [==============================] - 0s 23ms/step - loss: 3.4085e-07 - accuracy: 1.0000 - val_loss: 7.5618 - val_accuracy: 0.3333\n",
            "Epoch 153/200\n",
            "15/15 [==============================] - 0s 29ms/step - loss: 3.1185e-07 - accuracy: 1.0000 - val_loss: 7.5784 - val_accuracy: 0.3333\n",
            "Epoch 154/200\n",
            "15/15 [==============================] - 0s 30ms/step - loss: 3.5081e-07 - accuracy: 1.0000 - val_loss: 7.5801 - val_accuracy: 0.3333\n",
            "Epoch 155/200\n",
            "15/15 [==============================] - 0s 28ms/step - loss: 3.1268e-07 - accuracy: 1.0000 - val_loss: 7.5929 - val_accuracy: 0.3333\n",
            "Epoch 156/200\n",
            "15/15 [==============================] - 0s 29ms/step - loss: 3.5361e-07 - accuracy: 1.0000 - val_loss: 7.6058 - val_accuracy: 0.3333\n",
            "Epoch 157/200\n",
            "15/15 [==============================] - 0s 29ms/step - loss: 5.2249e-07 - accuracy: 1.0000 - val_loss: 7.6155 - val_accuracy: 0.3333\n",
            "Epoch 158/200\n",
            "15/15 [==============================] - 0s 30ms/step - loss: 2.3322e-07 - accuracy: 1.0000 - val_loss: 7.6327 - val_accuracy: 0.3333\n",
            "Epoch 159/200\n",
            "15/15 [==============================] - 0s 29ms/step - loss: 3.0242e-07 - accuracy: 1.0000 - val_loss: 7.6412 - val_accuracy: 0.3333\n",
            "Epoch 160/200\n",
            "15/15 [==============================] - 0s 30ms/step - loss: 2.2760e-07 - accuracy: 1.0000 - val_loss: 7.6480 - val_accuracy: 0.3333\n",
            "Epoch 161/200\n",
            "15/15 [==============================] - 0s 28ms/step - loss: 3.1582e-07 - accuracy: 1.0000 - val_loss: 7.6624 - val_accuracy: 0.3333\n",
            "Epoch 162/200\n",
            "15/15 [==============================] - 0s 23ms/step - loss: 2.1994e-07 - accuracy: 1.0000 - val_loss: 7.6692 - val_accuracy: 0.3333\n",
            "Epoch 163/200\n",
            "15/15 [==============================] - 0s 23ms/step - loss: 3.3490e-07 - accuracy: 1.0000 - val_loss: 7.6771 - val_accuracy: 0.3333\n",
            "Epoch 164/200\n",
            "15/15 [==============================] - 0s 23ms/step - loss: 2.7092e-07 - accuracy: 1.0000 - val_loss: 7.6888 - val_accuracy: 0.3333\n",
            "Epoch 165/200\n",
            "15/15 [==============================] - 0s 22ms/step - loss: 2.2316e-07 - accuracy: 1.0000 - val_loss: 7.7014 - val_accuracy: 0.3333\n",
            "Epoch 166/200\n",
            "15/15 [==============================] - 0s 25ms/step - loss: 3.5520e-07 - accuracy: 1.0000 - val_loss: 7.7088 - val_accuracy: 0.3333\n",
            "Epoch 167/200\n",
            "15/15 [==============================] - 0s 23ms/step - loss: 2.8909e-07 - accuracy: 1.0000 - val_loss: 7.7196 - val_accuracy: 0.3333\n",
            "Epoch 168/200\n",
            "15/15 [==============================] - 0s 24ms/step - loss: 3.0322e-07 - accuracy: 1.0000 - val_loss: 7.7250 - val_accuracy: 0.3333\n",
            "Epoch 169/200\n",
            "15/15 [==============================] - 0s 23ms/step - loss: 3.8719e-07 - accuracy: 1.0000 - val_loss: 7.7358 - val_accuracy: 0.3333\n",
            "Epoch 170/200\n",
            "15/15 [==============================] - 0s 23ms/step - loss: 2.1402e-07 - accuracy: 1.0000 - val_loss: 7.7456 - val_accuracy: 0.3333\n",
            "Epoch 171/200\n",
            "15/15 [==============================] - 0s 23ms/step - loss: 2.3066e-07 - accuracy: 1.0000 - val_loss: 7.7503 - val_accuracy: 0.3333\n",
            "Epoch 172/200\n",
            "15/15 [==============================] - 0s 24ms/step - loss: 3.1201e-07 - accuracy: 1.0000 - val_loss: 7.7600 - val_accuracy: 0.3333\n",
            "Epoch 173/200\n",
            "15/15 [==============================] - 0s 24ms/step - loss: 1.9902e-07 - accuracy: 1.0000 - val_loss: 7.7724 - val_accuracy: 0.3333\n",
            "Epoch 174/200\n",
            "15/15 [==============================] - 0s 23ms/step - loss: 2.0010e-07 - accuracy: 1.0000 - val_loss: 7.7765 - val_accuracy: 0.3333\n",
            "Epoch 175/200\n",
            "15/15 [==============================] - 0s 23ms/step - loss: 3.0578e-07 - accuracy: 1.0000 - val_loss: 7.7854 - val_accuracy: 0.3333\n",
            "Epoch 176/200\n",
            "15/15 [==============================] - 0s 22ms/step - loss: 2.2933e-07 - accuracy: 1.0000 - val_loss: 7.7937 - val_accuracy: 0.3333\n",
            "Epoch 177/200\n",
            "15/15 [==============================] - 0s 23ms/step - loss: 1.7505e-07 - accuracy: 1.0000 - val_loss: 7.8035 - val_accuracy: 0.3333\n",
            "Epoch 178/200\n",
            "15/15 [==============================] - 0s 23ms/step - loss: 1.9191e-07 - accuracy: 1.0000 - val_loss: 7.8085 - val_accuracy: 0.3333\n",
            "Epoch 179/200\n",
            "15/15 [==============================] - 0s 22ms/step - loss: 1.7140e-07 - accuracy: 1.0000 - val_loss: 7.8176 - val_accuracy: 0.3333\n",
            "Epoch 180/200\n",
            "15/15 [==============================] - 0s 23ms/step - loss: 1.8516e-07 - accuracy: 1.0000 - val_loss: 7.8325 - val_accuracy: 0.3333\n",
            "Epoch 181/200\n",
            "15/15 [==============================] - 0s 23ms/step - loss: 2.8169e-07 - accuracy: 1.0000 - val_loss: 7.8344 - val_accuracy: 0.3333\n",
            "Epoch 182/200\n",
            "15/15 [==============================] - 0s 24ms/step - loss: 2.3519e-07 - accuracy: 1.0000 - val_loss: 7.8382 - val_accuracy: 0.3333\n",
            "Epoch 183/200\n",
            "15/15 [==============================] - 0s 22ms/step - loss: 2.1059e-07 - accuracy: 1.0000 - val_loss: 7.8627 - val_accuracy: 0.3333\n",
            "Epoch 184/200\n",
            "15/15 [==============================] - 0s 30ms/step - loss: 2.9380e-07 - accuracy: 1.0000 - val_loss: 7.8654 - val_accuracy: 0.3333\n",
            "Epoch 185/200\n",
            "15/15 [==============================] - 0s 29ms/step - loss: 2.6816e-07 - accuracy: 1.0000 - val_loss: 7.8700 - val_accuracy: 0.3333\n",
            "Epoch 186/200\n",
            "15/15 [==============================] - 0s 25ms/step - loss: 2.3281e-07 - accuracy: 1.0000 - val_loss: 7.8830 - val_accuracy: 0.3333\n",
            "Epoch 187/200\n",
            "15/15 [==============================] - 0s 23ms/step - loss: 1.7175e-07 - accuracy: 1.0000 - val_loss: 7.8914 - val_accuracy: 0.3333\n",
            "Epoch 188/200\n",
            "15/15 [==============================] - 0s 22ms/step - loss: 1.8555e-07 - accuracy: 1.0000 - val_loss: 7.8990 - val_accuracy: 0.3333\n",
            "Epoch 189/200\n",
            "15/15 [==============================] - 0s 23ms/step - loss: 1.6554e-07 - accuracy: 1.0000 - val_loss: 7.9046 - val_accuracy: 0.3333\n",
            "Epoch 190/200\n",
            "15/15 [==============================] - 0s 24ms/step - loss: 2.1529e-07 - accuracy: 1.0000 - val_loss: 7.9185 - val_accuracy: 0.3333\n",
            "Epoch 191/200\n",
            "15/15 [==============================] - 0s 22ms/step - loss: 1.3508e-07 - accuracy: 1.0000 - val_loss: 7.9280 - val_accuracy: 0.3333\n",
            "Epoch 192/200\n",
            "15/15 [==============================] - 0s 23ms/step - loss: 1.3728e-07 - accuracy: 1.0000 - val_loss: 7.9360 - val_accuracy: 0.3333\n",
            "Epoch 193/200\n",
            "15/15 [==============================] - 0s 24ms/step - loss: 2.1210e-07 - accuracy: 1.0000 - val_loss: 7.9452 - val_accuracy: 0.3333\n",
            "Epoch 194/200\n",
            "15/15 [==============================] - 0s 32ms/step - loss: 1.1033e-07 - accuracy: 1.0000 - val_loss: 7.9625 - val_accuracy: 0.3333\n",
            "Epoch 195/200\n",
            "15/15 [==============================] - 0s 23ms/step - loss: 1.5765e-07 - accuracy: 1.0000 - val_loss: 7.9574 - val_accuracy: 0.3333\n",
            "Epoch 196/200\n",
            "15/15 [==============================] - 0s 24ms/step - loss: 7.4792e-08 - accuracy: 1.0000 - val_loss: 7.9742 - val_accuracy: 0.3333\n",
            "Epoch 197/200\n",
            "15/15 [==============================] - 0s 23ms/step - loss: 1.4041e-07 - accuracy: 1.0000 - val_loss: 7.9860 - val_accuracy: 0.3333\n",
            "Epoch 198/200\n",
            "15/15 [==============================] - 0s 23ms/step - loss: 1.2659e-07 - accuracy: 1.0000 - val_loss: 7.9926 - val_accuracy: 0.3333\n",
            "Epoch 199/200\n",
            "15/15 [==============================] - 0s 23ms/step - loss: 1.3768e-07 - accuracy: 1.0000 - val_loss: 7.9955 - val_accuracy: 0.3333\n",
            "Epoch 200/200\n",
            "15/15 [==============================] - 0s 24ms/step - loss: 1.0570e-07 - accuracy: 1.0000 - val_loss: 8.0036 - val_accuracy: 0.3333\n"
          ],
          "name": "stdout"
        },
        {
          "output_type": "execute_result",
          "data": {
            "text/plain": [
              "<tensorflow.python.keras.callbacks.History at 0x7f3b851c40f0>"
            ]
          },
          "metadata": {
            "tags": []
          },
          "execution_count": 11
        }
      ]
    },
    {
      "cell_type": "markdown",
      "metadata": {
        "id": "br7O6uFihZxZ"
      },
      "source": [
        "### 모델 평가"
      ]
    },
    {
      "cell_type": "code",
      "metadata": {
        "colab": {
          "base_uri": "https://localhost:8080/"
        },
        "id": "KgeESAA8hP2a",
        "outputId": "f8fec9cd-383e-4560-e9e8-535736859084"
      },
      "source": [
        "print(\"-- Evaluate --\")\r\n",
        "scores = model.evaluate_generator(test_generator, steps=5)\r\n",
        "print(\"%s: %.2f%%\" %(model.metrics_names[1], scores[1]*100))"
      ],
      "execution_count": 12,
      "outputs": [
        {
          "output_type": "stream",
          "text": [
            "-- Evaluate --\n",
            "accuracy: 33.33%\n"
          ],
          "name": "stdout"
        },
        {
          "output_type": "stream",
          "text": [
            "/usr/local/lib/python3.6/dist-packages/tensorflow/python/keras/engine/training.py:1877: UserWarning: `Model.evaluate_generator` is deprecated and will be removed in a future version. Please use `Model.evaluate`, which supports generators.\n",
            "  warnings.warn('`Model.evaluate_generator` is deprecated and '\n"
          ],
          "name": "stderr"
        }
      ]
    }
  ]
}