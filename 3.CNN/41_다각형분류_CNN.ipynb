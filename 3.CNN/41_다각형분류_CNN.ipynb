{
  "nbformat": 4,
  "nbformat_minor": 0,
  "metadata": {
    "colab": {
      "name": "41_다각형분류_CNN.ipynb",
      "provenance": [],
      "collapsed_sections": []
    },
    "kernelspec": {
      "name": "python3",
      "display_name": "Python 3"
    }
  },
  "cells": [
    {
      "cell_type": "markdown",
      "metadata": {
        "id": "qK0Tr1jfcGYT"
      },
      "source": [
        "# 원, 삼각형, 사각형 구분하기\r\n"
      ]
    },
    {
      "cell_type": "code",
      "metadata": {
        "colab": {
          "base_uri": "https://localhost:8080/"
        },
        "id": "13T0Z9rEcHbS",
        "outputId": "2d64f6a1-7350-4a2a-83d7-ab225e066a5a"
      },
      "source": [
        "!unzip -qq handwriting_shape.zip -d handwriting_shape"
      ],
      "execution_count": 3,
      "outputs": [
        {
          "output_type": "stream",
          "text": [
            "replace handwriting_shape/test/circle/circle016.png? [y]es, [n]o, [A]ll, [N]one, [r]ename: A\n"
          ],
          "name": "stdout"
        }
      ]
    },
    {
      "cell_type": "code",
      "metadata": {
        "id": "SZFriCf_cWjg"
      },
      "source": [
        "!unzip -qq hard_handwriting_shape.zip -d hard_handwriting_shape"
      ],
      "execution_count": 4,
      "outputs": []
    },
    {
      "cell_type": "markdown",
      "metadata": {
        "id": "JF27vzIvdNYx"
      },
      "source": [
        "## 1. CNN 모델"
      ]
    },
    {
      "cell_type": "code",
      "metadata": {
        "id": "2IhICsDOc3tA"
      },
      "source": [
        "import numpy as np\r\n",
        "import tensorflow as tf\r\n",
        "from tensorflow.keras.models import Sequential\r\n",
        "from tensorflow.keras.layers import Dense, Flatten, Conv2D, MaxPooling2D\r\n",
        "from tensorflow.keras.preprocessing.image import ImageDataGenerator"
      ],
      "execution_count": 5,
      "outputs": []
    },
    {
      "cell_type": "code",
      "metadata": {
        "id": "HkZwdl8KdeHT"
      },
      "source": [
        "# seed 값 설정\r\n",
        "seed = 2021\r\n",
        "np.random.seed(seed)\r\n",
        "tf.random.set_seed(seed)"
      ],
      "execution_count": 6,
      "outputs": []
    },
    {
      "cell_type": "markdown",
      "metadata": {
        "id": "MFt0hNhNd0F6"
      },
      "source": [
        "### 데이터셋 생성하기"
      ]
    },
    {
      "cell_type": "code",
      "metadata": {
        "colab": {
          "base_uri": "https://localhost:8080/"
        },
        "id": "Bfbsgu-KdlnJ",
        "outputId": "b78afdec-76f3-4fd7-9b80-bb9ba9a8b996"
      },
      "source": [
        "train_datagen = ImageDataGenerator(rescale=1./255)\r\n",
        "train_generator = train_datagen.flow_from_directory(\r\n",
        "    'handwriting_shape/train',\r\n",
        "    target_size=(24,24),\r\n",
        "    batch_size=3,\r\n",
        "    class_mode='categorical'\r\n",
        ")"
      ],
      "execution_count": 7,
      "outputs": [
        {
          "output_type": "stream",
          "text": [
            "Found 45 images belonging to 3 classes.\n"
          ],
          "name": "stdout"
        }
      ]
    },
    {
      "cell_type": "code",
      "metadata": {
        "colab": {
          "base_uri": "https://localhost:8080/"
        },
        "id": "Ah3JG-2Pea6M",
        "outputId": "61cc8b97-c2a9-4144-dfce-43ff1c8f613c"
      },
      "source": [
        "!ls handwriting_shape/train"
      ],
      "execution_count": 8,
      "outputs": [
        {
          "output_type": "stream",
          "text": [
            "circle\trectangle  triangle\n"
          ],
          "name": "stdout"
        }
      ]
    },
    {
      "cell_type": "code",
      "metadata": {
        "colab": {
          "base_uri": "https://localhost:8080/"
        },
        "id": "s6QtY3b2efTa",
        "outputId": "76ab177f-3868-43c7-84ae-7e58363a6a7b"
      },
      "source": [
        "test_datagen = ImageDataGenerator(rescale=1./255)\r\n",
        "test_generator = test_datagen.flow_from_directory(\r\n",
        "    'handwriting_shape/test',\r\n",
        "    target_size=(24,24),\r\n",
        "    batch_size=3,\r\n",
        "    class_mode='categorical'\r\n",
        ")"
      ],
      "execution_count": 9,
      "outputs": [
        {
          "output_type": "stream",
          "text": [
            "Found 15 images belonging to 3 classes.\n"
          ],
          "name": "stdout"
        }
      ]
    },
    {
      "cell_type": "code",
      "metadata": {
        "colab": {
          "base_uri": "https://localhost:8080/"
        },
        "id": "Zysp1gQzerpp",
        "outputId": "b1545b2b-18b7-48e8-c1c8-24cd84505c30"
      },
      "source": [
        "train_generator.labels"
      ],
      "execution_count": 10,
      "outputs": [
        {
          "output_type": "execute_result",
          "data": {
            "text/plain": [
              "array([0, 0, 0, 0, 0, 0, 0, 0, 0, 0, 0, 0, 0, 0, 0, 1, 1, 1, 1, 1, 1, 1,\n",
              "       1, 1, 1, 1, 1, 1, 1, 1, 2, 2, 2, 2, 2, 2, 2, 2, 2, 2, 2, 2, 2, 2,\n",
              "       2], dtype=int32)"
            ]
          },
          "metadata": {
            "tags": []
          },
          "execution_count": 10
        }
      ]
    },
    {
      "cell_type": "code",
      "metadata": {
        "colab": {
          "base_uri": "https://localhost:8080/",
          "height": 36
        },
        "id": "ibUzXP4RezNA",
        "outputId": "75a5619a-aebf-41a5-c8b6-88b760d1146f"
      },
      "source": [
        "train_generator.filenames[0]"
      ],
      "execution_count": 11,
      "outputs": [
        {
          "output_type": "execute_result",
          "data": {
            "application/vnd.google.colaboratory.intrinsic+json": {
              "type": "string"
            },
            "text/plain": [
              "'circle/circle001.png'"
            ]
          },
          "metadata": {
            "tags": []
          },
          "execution_count": 11
        }
      ]
    },
    {
      "cell_type": "markdown",
      "metadata": {
        "id": "FfNlyK7qfIGx"
      },
      "source": [
        "### 모델 정의/설정/학습"
      ]
    },
    {
      "cell_type": "code",
      "metadata": {
        "colab": {
          "base_uri": "https://localhost:8080/"
        },
        "id": "NbCIBwPSe7_B",
        "outputId": "e2f29efc-aa69-47bd-f339-be000922d98b"
      },
      "source": [
        "model = Sequential()\r\n",
        "model.add(Conv2D(32, kernel_size=(3, 3),\r\n",
        "                 activation='relu', input_shape=(24,24,3)))\r\n",
        "model.add(Conv2D(64, (3, 3), activation='relu'))\r\n",
        "model.add(MaxPooling2D(pool_size=(2, 2)))\r\n",
        "model.add(Flatten())\r\n",
        "model.add(Dense(128, activation='relu'))\r\n",
        "model.add(Dense(3, activation='softmax'))\r\n",
        "model.summary()"
      ],
      "execution_count": 12,
      "outputs": [
        {
          "output_type": "stream",
          "text": [
            "Model: \"sequential\"\n",
            "_________________________________________________________________\n",
            "Layer (type)                 Output Shape              Param #   \n",
            "=================================================================\n",
            "conv2d (Conv2D)              (None, 22, 22, 32)        896       \n",
            "_________________________________________________________________\n",
            "conv2d_1 (Conv2D)            (None, 20, 20, 64)        18496     \n",
            "_________________________________________________________________\n",
            "max_pooling2d (MaxPooling2D) (None, 10, 10, 64)        0         \n",
            "_________________________________________________________________\n",
            "flatten (Flatten)            (None, 6400)              0         \n",
            "_________________________________________________________________\n",
            "dense (Dense)                (None, 128)               819328    \n",
            "_________________________________________________________________\n",
            "dense_1 (Dense)              (None, 3)                 387       \n",
            "=================================================================\n",
            "Total params: 839,107\n",
            "Trainable params: 839,107\n",
            "Non-trainable params: 0\n",
            "_________________________________________________________________\n"
          ],
          "name": "stdout"
        }
      ]
    },
    {
      "cell_type": "code",
      "metadata": {
        "id": "WPRTyAuFfYJL"
      },
      "source": [
        "model.compile(loss='categorical_crossentropy', \r\n",
        "              optimizer='adam', metrics=['accuracy'])"
      ],
      "execution_count": 13,
      "outputs": []
    },
    {
      "cell_type": "markdown",
      "metadata": {
        "id": "p2wYImRdgh4R"
      },
      "source": [
        "### 모델 학습시키기\r\n",
        "- 첫번째 인자 : 훈련데이터셋을 제공할 제네레이터를 지정. 본 예제에서는 앞서 생성한 train_generator으로 지정.\r\n",
        "- steps_per_epoch : 한 epoch에 사용한 스텝 수를 지정. 총 45개의 훈련 샘플이 있고 배치사이즈가 3이므로 15 스텝으로 지정.\r\n",
        "- epochs : 전체 훈련 데이터셋에 대해 학습 반복 횟수를 지정. 50번을 반복적으로 학습.\r\n",
        "- validation_data : 검증데이터셋을 제공할 제네레이터를 지정. 본 예제에서는 앞서 생성한 test_generator으로 지정.\r\n",
        "- validation_steps : 한 epoch 종료 시 마다 검증할 때 사용되는 검증 스텝 수를 지정. 총 15개의 검증 샘플이 있고 배치사이즈가 3이므로 5 스텝으로 지정."
      ]
    },
    {
      "cell_type": "code",
      "metadata": {
        "colab": {
          "base_uri": "https://localhost:8080/"
        },
        "id": "Iff-6Pf-gfk6",
        "outputId": "e82cd389-c613-437e-8f18-2cae2aba80f0"
      },
      "source": [
        "model.fit_generator(\r\n",
        "        train_generator,\r\n",
        "        steps_per_epoch=15,\r\n",
        "        epochs=50,\r\n",
        "        validation_data=test_generator,\r\n",
        "        validation_steps=5)"
      ],
      "execution_count": 14,
      "outputs": [
        {
          "output_type": "stream",
          "text": [
            "/usr/local/lib/python3.6/dist-packages/tensorflow/python/keras/engine/training.py:1844: UserWarning: `Model.fit_generator` is deprecated and will be removed in a future version. Please use `Model.fit`, which supports generators.\n",
            "  warnings.warn('`Model.fit_generator` is deprecated and '\n"
          ],
          "name": "stderr"
        },
        {
          "output_type": "stream",
          "text": [
            "Epoch 1/50\n",
            "15/15 [==============================] - 2s 59ms/step - loss: 1.0748 - accuracy: 0.5291 - val_loss: 0.3950 - val_accuracy: 1.0000\n",
            "Epoch 2/50\n",
            "15/15 [==============================] - 0s 23ms/step - loss: 0.1741 - accuracy: 1.0000 - val_loss: 0.0409 - val_accuracy: 1.0000\n",
            "Epoch 3/50\n",
            "15/15 [==============================] - 0s 22ms/step - loss: 0.0073 - accuracy: 1.0000 - val_loss: 0.0206 - val_accuracy: 1.0000\n",
            "Epoch 4/50\n",
            "15/15 [==============================] - 0s 21ms/step - loss: 0.0016 - accuracy: 1.0000 - val_loss: 0.0072 - val_accuracy: 1.0000\n",
            "Epoch 5/50\n",
            "15/15 [==============================] - 0s 22ms/step - loss: 0.0013 - accuracy: 1.0000 - val_loss: 0.0093 - val_accuracy: 1.0000\n",
            "Epoch 6/50\n",
            "15/15 [==============================] - 0s 21ms/step - loss: 5.2316e-04 - accuracy: 1.0000 - val_loss: 0.0107 - val_accuracy: 1.0000\n",
            "Epoch 7/50\n",
            "15/15 [==============================] - 0s 21ms/step - loss: 3.7450e-04 - accuracy: 1.0000 - val_loss: 0.0088 - val_accuracy: 1.0000\n",
            "Epoch 8/50\n",
            "15/15 [==============================] - 0s 22ms/step - loss: 1.4886e-04 - accuracy: 1.0000 - val_loss: 0.0072 - val_accuracy: 1.0000\n",
            "Epoch 9/50\n",
            "15/15 [==============================] - 0s 21ms/step - loss: 1.3285e-04 - accuracy: 1.0000 - val_loss: 0.0060 - val_accuracy: 1.0000\n",
            "Epoch 10/50\n",
            "15/15 [==============================] - 0s 21ms/step - loss: 1.4613e-04 - accuracy: 1.0000 - val_loss: 0.0054 - val_accuracy: 1.0000\n",
            "Epoch 11/50\n",
            "15/15 [==============================] - 0s 22ms/step - loss: 1.2535e-04 - accuracy: 1.0000 - val_loss: 0.0053 - val_accuracy: 1.0000\n",
            "Epoch 12/50\n",
            "15/15 [==============================] - 0s 21ms/step - loss: 1.0603e-04 - accuracy: 1.0000 - val_loss: 0.0050 - val_accuracy: 1.0000\n",
            "Epoch 13/50\n",
            "15/15 [==============================] - 0s 22ms/step - loss: 1.1426e-04 - accuracy: 1.0000 - val_loss: 0.0047 - val_accuracy: 1.0000\n",
            "Epoch 14/50\n",
            "15/15 [==============================] - 0s 23ms/step - loss: 8.2652e-05 - accuracy: 1.0000 - val_loss: 0.0045 - val_accuracy: 1.0000\n",
            "Epoch 15/50\n",
            "15/15 [==============================] - 0s 21ms/step - loss: 8.2931e-05 - accuracy: 1.0000 - val_loss: 0.0044 - val_accuracy: 1.0000\n",
            "Epoch 16/50\n",
            "15/15 [==============================] - 0s 22ms/step - loss: 7.7029e-05 - accuracy: 1.0000 - val_loss: 0.0044 - val_accuracy: 1.0000\n",
            "Epoch 17/50\n",
            "15/15 [==============================] - 0s 23ms/step - loss: 4.6793e-05 - accuracy: 1.0000 - val_loss: 0.0043 - val_accuracy: 1.0000\n",
            "Epoch 18/50\n",
            "15/15 [==============================] - 0s 31ms/step - loss: 6.6656e-05 - accuracy: 1.0000 - val_loss: 0.0040 - val_accuracy: 1.0000\n",
            "Epoch 19/50\n",
            "15/15 [==============================] - 0s 25ms/step - loss: 5.0751e-05 - accuracy: 1.0000 - val_loss: 0.0039 - val_accuracy: 1.0000\n",
            "Epoch 20/50\n",
            "15/15 [==============================] - 0s 29ms/step - loss: 3.7670e-05 - accuracy: 1.0000 - val_loss: 0.0039 - val_accuracy: 1.0000\n",
            "Epoch 21/50\n",
            "15/15 [==============================] - 0s 27ms/step - loss: 3.5685e-05 - accuracy: 1.0000 - val_loss: 0.0037 - val_accuracy: 1.0000\n",
            "Epoch 22/50\n",
            "15/15 [==============================] - 0s 22ms/step - loss: 3.4348e-05 - accuracy: 1.0000 - val_loss: 0.0037 - val_accuracy: 1.0000\n",
            "Epoch 23/50\n",
            "15/15 [==============================] - 0s 22ms/step - loss: 4.3949e-05 - accuracy: 1.0000 - val_loss: 0.0035 - val_accuracy: 1.0000\n",
            "Epoch 24/50\n",
            "15/15 [==============================] - 0s 23ms/step - loss: 4.5718e-05 - accuracy: 1.0000 - val_loss: 0.0034 - val_accuracy: 1.0000\n",
            "Epoch 25/50\n",
            "15/15 [==============================] - 0s 22ms/step - loss: 3.1804e-05 - accuracy: 1.0000 - val_loss: 0.0033 - val_accuracy: 1.0000\n",
            "Epoch 26/50\n",
            "15/15 [==============================] - 0s 21ms/step - loss: 2.8964e-05 - accuracy: 1.0000 - val_loss: 0.0033 - val_accuracy: 1.0000\n",
            "Epoch 27/50\n",
            "15/15 [==============================] - 0s 26ms/step - loss: 3.6629e-05 - accuracy: 1.0000 - val_loss: 0.0032 - val_accuracy: 1.0000\n",
            "Epoch 28/50\n",
            "15/15 [==============================] - 0s 28ms/step - loss: 3.0818e-05 - accuracy: 1.0000 - val_loss: 0.0031 - val_accuracy: 1.0000\n",
            "Epoch 29/50\n",
            "15/15 [==============================] - 0s 27ms/step - loss: 3.9076e-05 - accuracy: 1.0000 - val_loss: 0.0030 - val_accuracy: 1.0000\n",
            "Epoch 30/50\n",
            "15/15 [==============================] - 0s 27ms/step - loss: 2.0219e-05 - accuracy: 1.0000 - val_loss: 0.0029 - val_accuracy: 1.0000\n",
            "Epoch 31/50\n",
            "15/15 [==============================] - 0s 26ms/step - loss: 2.3818e-05 - accuracy: 1.0000 - val_loss: 0.0025 - val_accuracy: 1.0000\n",
            "Epoch 32/50\n",
            "15/15 [==============================] - 0s 24ms/step - loss: 2.6452e-05 - accuracy: 1.0000 - val_loss: 0.0026 - val_accuracy: 1.0000\n",
            "Epoch 33/50\n",
            "15/15 [==============================] - 0s 22ms/step - loss: 2.5207e-05 - accuracy: 1.0000 - val_loss: 0.0027 - val_accuracy: 1.0000\n",
            "Epoch 34/50\n",
            "15/15 [==============================] - 0s 23ms/step - loss: 1.9290e-05 - accuracy: 1.0000 - val_loss: 0.0026 - val_accuracy: 1.0000\n",
            "Epoch 35/50\n",
            "15/15 [==============================] - 0s 23ms/step - loss: 1.8110e-05 - accuracy: 1.0000 - val_loss: 0.0025 - val_accuracy: 1.0000\n",
            "Epoch 36/50\n",
            "15/15 [==============================] - 0s 22ms/step - loss: 1.4348e-05 - accuracy: 1.0000 - val_loss: 0.0025 - val_accuracy: 1.0000\n",
            "Epoch 37/50\n",
            "15/15 [==============================] - 0s 22ms/step - loss: 1.0098e-05 - accuracy: 1.0000 - val_loss: 0.0025 - val_accuracy: 1.0000\n",
            "Epoch 38/50\n",
            "15/15 [==============================] - 0s 21ms/step - loss: 1.2660e-05 - accuracy: 1.0000 - val_loss: 0.0024 - val_accuracy: 1.0000\n",
            "Epoch 39/50\n",
            "15/15 [==============================] - 0s 21ms/step - loss: 1.5698e-05 - accuracy: 1.0000 - val_loss: 0.0024 - val_accuracy: 1.0000\n",
            "Epoch 40/50\n",
            "15/15 [==============================] - 0s 22ms/step - loss: 1.0591e-05 - accuracy: 1.0000 - val_loss: 0.0025 - val_accuracy: 1.0000\n",
            "Epoch 41/50\n",
            "15/15 [==============================] - 0s 22ms/step - loss: 9.4042e-06 - accuracy: 1.0000 - val_loss: 0.0024 - val_accuracy: 1.0000\n",
            "Epoch 42/50\n",
            "15/15 [==============================] - 0s 21ms/step - loss: 1.5861e-05 - accuracy: 1.0000 - val_loss: 0.0024 - val_accuracy: 1.0000\n",
            "Epoch 43/50\n",
            "15/15 [==============================] - 0s 22ms/step - loss: 9.6400e-06 - accuracy: 1.0000 - val_loss: 0.0023 - val_accuracy: 1.0000\n",
            "Epoch 44/50\n",
            "15/15 [==============================] - 0s 21ms/step - loss: 1.0313e-05 - accuracy: 1.0000 - val_loss: 0.0024 - val_accuracy: 1.0000\n",
            "Epoch 45/50\n",
            "15/15 [==============================] - 0s 22ms/step - loss: 7.8648e-06 - accuracy: 1.0000 - val_loss: 0.0023 - val_accuracy: 1.0000\n",
            "Epoch 46/50\n",
            "15/15 [==============================] - 0s 21ms/step - loss: 9.3901e-06 - accuracy: 1.0000 - val_loss: 0.0023 - val_accuracy: 1.0000\n",
            "Epoch 47/50\n",
            "15/15 [==============================] - 0s 22ms/step - loss: 6.6573e-06 - accuracy: 1.0000 - val_loss: 0.0023 - val_accuracy: 1.0000\n",
            "Epoch 48/50\n",
            "15/15 [==============================] - 0s 21ms/step - loss: 8.4352e-06 - accuracy: 1.0000 - val_loss: 0.0023 - val_accuracy: 1.0000\n",
            "Epoch 49/50\n",
            "15/15 [==============================] - 0s 21ms/step - loss: 1.1433e-05 - accuracy: 1.0000 - val_loss: 0.0023 - val_accuracy: 1.0000\n",
            "Epoch 50/50\n",
            "15/15 [==============================] - 0s 22ms/step - loss: 8.9509e-06 - accuracy: 1.0000 - val_loss: 0.0023 - val_accuracy: 1.0000\n"
          ],
          "name": "stdout"
        },
        {
          "output_type": "execute_result",
          "data": {
            "text/plain": [
              "<tensorflow.python.keras.callbacks.History at 0x7f6b12f78080>"
            ]
          },
          "metadata": {
            "tags": []
          },
          "execution_count": 14
        }
      ]
    },
    {
      "cell_type": "markdown",
      "metadata": {
        "id": "br7O6uFihZxZ"
      },
      "source": [
        "### 모델 평가"
      ]
    },
    {
      "cell_type": "code",
      "metadata": {
        "colab": {
          "base_uri": "https://localhost:8080/"
        },
        "id": "KgeESAA8hP2a",
        "outputId": "36c560f7-43b2-4c10-9939-0da43403b582"
      },
      "source": [
        "print(\"-- Evaluate --\")\r\n",
        "scores = model.evaluate_generator(test_generator, steps=5)\r\n",
        "print(\"%s: %.2f%%\" %(model.metrics_names[1], scores[1]*100))"
      ],
      "execution_count": 15,
      "outputs": [
        {
          "output_type": "stream",
          "text": [
            "-- Evaluate --\n",
            "accuracy: 100.00%\n"
          ],
          "name": "stdout"
        },
        {
          "output_type": "stream",
          "text": [
            "/usr/local/lib/python3.6/dist-packages/tensorflow/python/keras/engine/training.py:1877: UserWarning: `Model.evaluate_generator` is deprecated and will be removed in a future version. Please use `Model.evaluate`, which supports generators.\n",
            "  warnings.warn('`Model.evaluate_generator` is deprecated and '\n"
          ],
          "name": "stderr"
        }
      ]
    }
  ]
}