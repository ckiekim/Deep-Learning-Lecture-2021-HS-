{
  "nbformat": 4,
  "nbformat_minor": 0,
  "metadata": {
    "colab": {
      "name": "43_다각형분류_DataAugmentation.ipynb",
      "provenance": [],
      "collapsed_sections": []
    },
    "kernelspec": {
      "name": "python3",
      "display_name": "Python 3"
    }
  },
  "cells": [
    {
      "cell_type": "markdown",
      "metadata": {
        "id": "qK0Tr1jfcGYT"
      },
      "source": [
        "# 원, 삼각형, 사각형 구분하기\r\n"
      ]
    },
    {
      "cell_type": "markdown",
      "metadata": {
        "id": "JF27vzIvdNYx"
      },
      "source": [
        "## 3. Data Augmentation을 사용한 CNN 모델"
      ]
    },
    {
      "cell_type": "code",
      "metadata": {
        "id": "2IhICsDOc3tA"
      },
      "source": [
        "import numpy as np\r\n",
        "import tensorflow as tf\r\n",
        "from tensorflow.keras.models import Sequential\r\n",
        "from tensorflow.keras.layers import Dense, Flatten, Conv2D, MaxPooling2D\r\n",
        "from tensorflow.keras.preprocessing.image import ImageDataGenerator"
      ],
      "execution_count": 1,
      "outputs": []
    },
    {
      "cell_type": "code",
      "metadata": {
        "id": "HkZwdl8KdeHT"
      },
      "source": [
        "# seed 값 설정\r\n",
        "seed = 2021\r\n",
        "np.random.seed(seed)\r\n",
        "tf.random.set_seed(seed)"
      ],
      "execution_count": 2,
      "outputs": []
    },
    {
      "cell_type": "markdown",
      "metadata": {
        "id": "jPV1c5gonuig"
      },
      "source": [
        "### 데이터 부풀리기(Augmentation)"
      ]
    },
    {
      "cell_type": "code",
      "metadata": {
        "id": "OwGmkLJIn17x"
      },
      "source": [
        "from tensorflow.keras.preprocessing.image import array_to_img, img_to_array, load_img"
      ],
      "execution_count": 3,
      "outputs": []
    },
    {
      "cell_type": "code",
      "metadata": {
        "id": "MTdqKwoZn14J"
      },
      "source": [
        "# 데이터 부풀리기를 적용한 훈련 데이터 제너레이터\r\n",
        "train_datagen = ImageDataGenerator(rescale=1./255, \r\n",
        "                                   rotation_range=15,\r\n",
        "                                   width_shift_range=0.1,\r\n",
        "                                   height_shift_range=0.1,\r\n",
        "                                   shear_range=0.5,\r\n",
        "                                   zoom_range=[0.8, 2.0],\r\n",
        "                                   horizontal_flip=True,\r\n",
        "                                   vertical_flip=True,\r\n",
        "                                   fill_mode='nearest')"
      ],
      "execution_count": 4,
      "outputs": []
    },
    {
      "cell_type": "code",
      "metadata": {
        "id": "GsSo7d_spinZ"
      },
      "source": [
        "!mkdir preview"
      ],
      "execution_count": 6,
      "outputs": []
    },
    {
      "cell_type": "code",
      "metadata": {
        "id": "kF4joefJn10o"
      },
      "source": [
        "img = load_img('hard_handwriting_shape/train/triangle/triangle001.png')\r\n",
        "x = img_to_array(img)\r\n",
        "x = x.reshape((1,) + x.shape)\r\n",
        "\r\n",
        "i = 0\r\n",
        "\r\n",
        "# 무한 for loop이니 주의!!!\r\n",
        "for batch in train_datagen.flow(x, batch_size=1, save_to_dir='preview', \r\n",
        "                                save_prefix='tri', save_format='png'):\r\n",
        "    i += 1\r\n",
        "    if i > 30: \r\n",
        "        break"
      ],
      "execution_count": 7,
      "outputs": []
    },
    {
      "cell_type": "code",
      "metadata": {
        "colab": {
          "base_uri": "https://localhost:8080/"
        },
        "id": "krZb71LHn1rL",
        "outputId": "c70663ee-115e-46d1-bbf6-ceed37773226"
      },
      "source": [
        "!ls preview"
      ],
      "execution_count": 8,
      "outputs": [
        {
          "output_type": "stream",
          "text": [
            "tri_0_1270.png\ttri_0_3759.png\ttri_0_5798.png\ttri_0_8211.png\ttri_0_9797.png\n",
            "tri_0_1302.png\ttri_0_3825.png\ttri_0_5881.png\ttri_0_8288.png\ttri_0_9854.png\n",
            "tri_0_1585.png\ttri_0_403.png\ttri_0_6416.png\ttri_0_8923.png\ttri_0_9972.png\n",
            "tri_0_2407.png\ttri_0_4949.png\ttri_0_6427.png\ttri_0_9089.png\n",
            "tri_0_2997.png\ttri_0_5158.png\ttri_0_7259.png\ttri_0_928.png\n",
            "tri_0_3418.png\ttri_0_519.png\ttri_0_7282.png\ttri_0_9495.png\n",
            "tri_0_3503.png\ttri_0_5672.png\ttri_0_7897.png\ttri_0_9575.png\n"
          ],
          "name": "stdout"
        }
      ]
    },
    {
      "cell_type": "markdown",
      "metadata": {
        "id": "MFt0hNhNd0F6"
      },
      "source": [
        "### 데이터셋 생성하기"
      ]
    },
    {
      "cell_type": "code",
      "metadata": {
        "colab": {
          "base_uri": "https://localhost:8080/"
        },
        "id": "Bfbsgu-KdlnJ",
        "outputId": "538516d9-421e-4d58-a7e2-bad8fce044db"
      },
      "source": [
        "train_generator = train_datagen.flow_from_directory(\r\n",
        "    'hard_handwriting_shape/train',\r\n",
        "    target_size=(24,24),\r\n",
        "    batch_size=3,\r\n",
        "    class_mode='categorical'\r\n",
        ")"
      ],
      "execution_count": 9,
      "outputs": [
        {
          "output_type": "stream",
          "text": [
            "Found 45 images belonging to 3 classes.\n"
          ],
          "name": "stdout"
        }
      ]
    },
    {
      "cell_type": "code",
      "metadata": {
        "colab": {
          "base_uri": "https://localhost:8080/"
        },
        "id": "s6QtY3b2efTa",
        "outputId": "29461dc7-dab1-459f-e6be-3f14a6c0e3a7"
      },
      "source": [
        "test_datagen = ImageDataGenerator(rescale=1./255)\r\n",
        "test_generator = test_datagen.flow_from_directory(\r\n",
        "    'hard_handwriting_shape/test',\r\n",
        "    target_size=(24,24),\r\n",
        "    batch_size=3,\r\n",
        "    class_mode='categorical'\r\n",
        ")"
      ],
      "execution_count": 10,
      "outputs": [
        {
          "output_type": "stream",
          "text": [
            "Found 15 images belonging to 3 classes.\n"
          ],
          "name": "stdout"
        }
      ]
    },
    {
      "cell_type": "markdown",
      "metadata": {
        "id": "FfNlyK7qfIGx"
      },
      "source": [
        "### 모델 정의/설정/학습"
      ]
    },
    {
      "cell_type": "code",
      "metadata": {
        "colab": {
          "base_uri": "https://localhost:8080/"
        },
        "id": "NbCIBwPSe7_B",
        "outputId": "0a01c325-f00b-411b-dd40-f073fd9a0174"
      },
      "source": [
        "model = Sequential()\r\n",
        "model.add(Conv2D(32, kernel_size=(3, 3),\r\n",
        "                 activation='relu', input_shape=(24,24,3)))\r\n",
        "model.add(Conv2D(64, (3, 3), activation='relu'))\r\n",
        "model.add(MaxPooling2D(pool_size=(2, 2)))\r\n",
        "model.add(Flatten())\r\n",
        "model.add(Dense(128, activation='relu'))\r\n",
        "model.add(Dense(3, activation='softmax'))\r\n",
        "model.summary()"
      ],
      "execution_count": 11,
      "outputs": [
        {
          "output_type": "stream",
          "text": [
            "Model: \"sequential\"\n",
            "_________________________________________________________________\n",
            "Layer (type)                 Output Shape              Param #   \n",
            "=================================================================\n",
            "conv2d (Conv2D)              (None, 22, 22, 32)        896       \n",
            "_________________________________________________________________\n",
            "conv2d_1 (Conv2D)            (None, 20, 20, 64)        18496     \n",
            "_________________________________________________________________\n",
            "max_pooling2d (MaxPooling2D) (None, 10, 10, 64)        0         \n",
            "_________________________________________________________________\n",
            "flatten (Flatten)            (None, 6400)              0         \n",
            "_________________________________________________________________\n",
            "dense (Dense)                (None, 128)               819328    \n",
            "_________________________________________________________________\n",
            "dense_1 (Dense)              (None, 3)                 387       \n",
            "=================================================================\n",
            "Total params: 839,107\n",
            "Trainable params: 839,107\n",
            "Non-trainable params: 0\n",
            "_________________________________________________________________\n"
          ],
          "name": "stdout"
        }
      ]
    },
    {
      "cell_type": "code",
      "metadata": {
        "id": "WPRTyAuFfYJL"
      },
      "source": [
        "model.compile(loss='categorical_crossentropy', \r\n",
        "              optimizer='adam', metrics=['accuracy'])"
      ],
      "execution_count": 12,
      "outputs": []
    },
    {
      "cell_type": "markdown",
      "metadata": {
        "id": "p2wYImRdgh4R"
      },
      "source": [
        "### 모델 학습시키기\r\n",
        "- 첫번째 인자 : 훈련데이터셋을 제공할 제네레이터를 지정. 본 예제에서는 앞서 생성한 train_generator으로 지정.\r\n",
        "- steps_per_epoch : 한 epoch에 사용한 스텝 수를 지정. 총 45개의 훈련 샘플이 있고 배치사이즈가 3이므로 15 스텝으로 지정.\r\n",
        "- epochs : 전체 훈련 데이터셋에 대해 학습 반복 횟수를 지정. 200번을 반복적으로 학습.\r\n",
        "- validation_data : 검증데이터셋을 제공할 제네레이터를 지정. 본 예제에서는 앞서 생성한 test_generator으로 지정.\r\n",
        "- validation_steps : 한 epoch 종료 시 마다 검증할 때 사용되는 검증 스텝 수를 지정. 총 15개의 검증 샘플이 있고 배치사이즈가 3이므로 5 스텝으로 지정."
      ]
    },
    {
      "cell_type": "code",
      "metadata": {
        "colab": {
          "base_uri": "https://localhost:8080/"
        },
        "id": "Iff-6Pf-gfk6",
        "outputId": "a7100d92-6610-4c6e-d2b8-192b74b0e587"
      },
      "source": [
        "model.fit_generator(\r\n",
        "        train_generator,\r\n",
        "        steps_per_epoch=15,\r\n",
        "        epochs=200,\r\n",
        "        validation_data=test_generator,\r\n",
        "        validation_steps=5)"
      ],
      "execution_count": 13,
      "outputs": [
        {
          "output_type": "stream",
          "text": [
            "/usr/local/lib/python3.6/dist-packages/tensorflow/python/keras/engine/training.py:1844: UserWarning: `Model.fit_generator` is deprecated and will be removed in a future version. Please use `Model.fit`, which supports generators.\n",
            "  warnings.warn('`Model.fit_generator` is deprecated and '\n"
          ],
          "name": "stderr"
        },
        {
          "output_type": "stream",
          "text": [
            "Epoch 1/200\n",
            "15/15 [==============================] - 1s 43ms/step - loss: 1.3706 - accuracy: 0.1995 - val_loss: 1.0970 - val_accuracy: 0.3333\n",
            "Epoch 2/200\n",
            "15/15 [==============================] - 0s 28ms/step - loss: 1.0683 - accuracy: 0.4268 - val_loss: 1.0885 - val_accuracy: 0.3333\n",
            "Epoch 3/200\n",
            "15/15 [==============================] - 0s 27ms/step - loss: 0.9964 - accuracy: 0.5627 - val_loss: 1.0061 - val_accuracy: 0.6000\n",
            "Epoch 4/200\n",
            "15/15 [==============================] - 0s 23ms/step - loss: 0.8780 - accuracy: 0.5761 - val_loss: 1.2060 - val_accuracy: 0.3333\n",
            "Epoch 5/200\n",
            "15/15 [==============================] - 0s 22ms/step - loss: 0.5349 - accuracy: 0.8439 - val_loss: 1.4630 - val_accuracy: 0.4000\n",
            "Epoch 6/200\n",
            "15/15 [==============================] - 0s 22ms/step - loss: 0.6120 - accuracy: 0.6956 - val_loss: 1.3636 - val_accuracy: 0.4667\n",
            "Epoch 7/200\n",
            "15/15 [==============================] - 0s 23ms/step - loss: 0.3773 - accuracy: 0.8670 - val_loss: 1.7614 - val_accuracy: 0.5333\n",
            "Epoch 8/200\n",
            "15/15 [==============================] - 0s 23ms/step - loss: 0.4964 - accuracy: 0.8014 - val_loss: 1.1239 - val_accuracy: 0.4667\n",
            "Epoch 9/200\n",
            "15/15 [==============================] - 0s 23ms/step - loss: 0.3561 - accuracy: 0.8321 - val_loss: 1.4195 - val_accuracy: 0.5333\n",
            "Epoch 10/200\n",
            "15/15 [==============================] - 0s 22ms/step - loss: 0.4567 - accuracy: 0.8420 - val_loss: 1.5591 - val_accuracy: 0.5333\n",
            "Epoch 11/200\n",
            "15/15 [==============================] - 0s 22ms/step - loss: 0.4485 - accuracy: 0.8843 - val_loss: 2.2992 - val_accuracy: 0.5333\n",
            "Epoch 12/200\n",
            "15/15 [==============================] - 0s 25ms/step - loss: 0.2244 - accuracy: 0.9024 - val_loss: 1.4040 - val_accuracy: 0.5333\n",
            "Epoch 13/200\n",
            "15/15 [==============================] - 0s 29ms/step - loss: 0.1753 - accuracy: 0.9786 - val_loss: 2.0733 - val_accuracy: 0.4667\n",
            "Epoch 14/200\n",
            "15/15 [==============================] - 0s 29ms/step - loss: 0.2389 - accuracy: 0.9310 - val_loss: 2.2544 - val_accuracy: 0.4667\n",
            "Epoch 15/200\n",
            "15/15 [==============================] - 0s 29ms/step - loss: 0.4421 - accuracy: 0.8308 - val_loss: 1.3740 - val_accuracy: 0.6667\n",
            "Epoch 16/200\n",
            "15/15 [==============================] - 0s 27ms/step - loss: 0.2488 - accuracy: 0.9324 - val_loss: 2.0237 - val_accuracy: 0.5333\n",
            "Epoch 17/200\n",
            "15/15 [==============================] - 0s 24ms/step - loss: 0.0742 - accuracy: 0.9763 - val_loss: 1.6742 - val_accuracy: 0.6000\n",
            "Epoch 18/200\n",
            "15/15 [==============================] - 0s 23ms/step - loss: 0.0971 - accuracy: 0.9474 - val_loss: 2.4453 - val_accuracy: 0.6000\n",
            "Epoch 19/200\n",
            "15/15 [==============================] - 0s 23ms/step - loss: 0.1170 - accuracy: 0.9512 - val_loss: 1.7227 - val_accuracy: 0.7333\n",
            "Epoch 20/200\n",
            "15/15 [==============================] - 0s 28ms/step - loss: 0.0755 - accuracy: 1.0000 - val_loss: 2.3400 - val_accuracy: 0.6667\n",
            "Epoch 21/200\n",
            "15/15 [==============================] - 0s 28ms/step - loss: 0.0382 - accuracy: 0.9941 - val_loss: 2.4261 - val_accuracy: 0.7333\n",
            "Epoch 22/200\n",
            "15/15 [==============================] - 0s 28ms/step - loss: 0.0897 - accuracy: 0.9835 - val_loss: 1.9824 - val_accuracy: 0.7333\n",
            "Epoch 23/200\n",
            "15/15 [==============================] - 0s 29ms/step - loss: 0.4650 - accuracy: 0.8964 - val_loss: 2.9399 - val_accuracy: 0.6000\n",
            "Epoch 24/200\n",
            "15/15 [==============================] - 0s 26ms/step - loss: 0.0391 - accuracy: 1.0000 - val_loss: 2.5528 - val_accuracy: 0.6000\n",
            "Epoch 25/200\n",
            "15/15 [==============================] - 0s 31ms/step - loss: 0.0193 - accuracy: 1.0000 - val_loss: 2.4774 - val_accuracy: 0.6000\n",
            "Epoch 26/200\n",
            "15/15 [==============================] - 0s 22ms/step - loss: 0.0447 - accuracy: 1.0000 - val_loss: 2.5458 - val_accuracy: 0.6000\n",
            "Epoch 27/200\n",
            "15/15 [==============================] - 0s 30ms/step - loss: 0.0259 - accuracy: 0.9957 - val_loss: 2.9058 - val_accuracy: 0.6000\n",
            "Epoch 28/200\n",
            "15/15 [==============================] - 0s 28ms/step - loss: 0.0350 - accuracy: 1.0000 - val_loss: 3.6394 - val_accuracy: 0.6000\n",
            "Epoch 29/200\n",
            "15/15 [==============================] - 0s 29ms/step - loss: 0.2851 - accuracy: 0.9180 - val_loss: 2.1377 - val_accuracy: 0.6667\n",
            "Epoch 30/200\n",
            "15/15 [==============================] - 0s 29ms/step - loss: 0.2164 - accuracy: 0.9612 - val_loss: 1.2420 - val_accuracy: 0.7333\n",
            "Epoch 31/200\n",
            "15/15 [==============================] - 0s 29ms/step - loss: 0.1584 - accuracy: 0.9304 - val_loss: 2.3261 - val_accuracy: 0.6000\n",
            "Epoch 32/200\n",
            "15/15 [==============================] - 0s 29ms/step - loss: 0.0428 - accuracy: 1.0000 - val_loss: 1.8384 - val_accuracy: 0.8000\n",
            "Epoch 33/200\n",
            "15/15 [==============================] - 0s 27ms/step - loss: 0.0862 - accuracy: 0.9354 - val_loss: 2.3338 - val_accuracy: 0.6000\n",
            "Epoch 34/200\n",
            "15/15 [==============================] - 0s 23ms/step - loss: 0.0119 - accuracy: 0.9957 - val_loss: 2.8209 - val_accuracy: 0.5333\n",
            "Epoch 35/200\n",
            "15/15 [==============================] - 0s 23ms/step - loss: 0.1370 - accuracy: 0.9518 - val_loss: 2.5950 - val_accuracy: 0.6667\n",
            "Epoch 36/200\n",
            "15/15 [==============================] - 0s 27ms/step - loss: 0.0124 - accuracy: 1.0000 - val_loss: 2.3530 - val_accuracy: 0.6667\n",
            "Epoch 37/200\n",
            "15/15 [==============================] - 0s 28ms/step - loss: 0.0812 - accuracy: 0.9805 - val_loss: 2.2580 - val_accuracy: 0.6667\n",
            "Epoch 38/200\n",
            "15/15 [==============================] - 0s 28ms/step - loss: 0.0272 - accuracy: 0.9905 - val_loss: 2.2238 - val_accuracy: 0.6667\n",
            "Epoch 39/200\n",
            "15/15 [==============================] - 0s 22ms/step - loss: 0.0104 - accuracy: 1.0000 - val_loss: 2.3163 - val_accuracy: 0.6667\n",
            "Epoch 40/200\n",
            "15/15 [==============================] - 0s 23ms/step - loss: 0.0064 - accuracy: 1.0000 - val_loss: 2.9541 - val_accuracy: 0.6000\n",
            "Epoch 41/200\n",
            "15/15 [==============================] - 0s 26ms/step - loss: 0.1625 - accuracy: 0.9676 - val_loss: 1.9692 - val_accuracy: 0.7333\n",
            "Epoch 42/200\n",
            "15/15 [==============================] - 0s 28ms/step - loss: 0.0302 - accuracy: 0.9930 - val_loss: 2.3680 - val_accuracy: 0.6667\n",
            "Epoch 43/200\n",
            "15/15 [==============================] - 0s 27ms/step - loss: 0.0523 - accuracy: 0.9696 - val_loss: 3.3029 - val_accuracy: 0.6000\n",
            "Epoch 44/200\n",
            "15/15 [==============================] - 0s 23ms/step - loss: 0.1899 - accuracy: 0.9601 - val_loss: 1.5842 - val_accuracy: 0.6667\n",
            "Epoch 45/200\n",
            "15/15 [==============================] - 0s 23ms/step - loss: 0.0690 - accuracy: 0.9802 - val_loss: 2.5054 - val_accuracy: 0.6000\n",
            "Epoch 46/200\n",
            "15/15 [==============================] - 0s 23ms/step - loss: 0.0305 - accuracy: 0.9972 - val_loss: 1.6941 - val_accuracy: 0.7333\n",
            "Epoch 47/200\n",
            "15/15 [==============================] - 0s 23ms/step - loss: 0.0799 - accuracy: 0.9941 - val_loss: 2.3099 - val_accuracy: 0.6667\n",
            "Epoch 48/200\n",
            "15/15 [==============================] - 0s 23ms/step - loss: 0.0193 - accuracy: 0.9972 - val_loss: 1.4930 - val_accuracy: 0.7333\n",
            "Epoch 49/200\n",
            "15/15 [==============================] - 0s 24ms/step - loss: 0.0507 - accuracy: 0.9905 - val_loss: 1.6829 - val_accuracy: 0.7333\n",
            "Epoch 50/200\n",
            "15/15 [==============================] - 0s 23ms/step - loss: 0.0261 - accuracy: 1.0000 - val_loss: 1.8807 - val_accuracy: 0.7333\n",
            "Epoch 51/200\n",
            "15/15 [==============================] - 0s 23ms/step - loss: 0.0367 - accuracy: 1.0000 - val_loss: 1.5976 - val_accuracy: 0.8000\n",
            "Epoch 52/200\n",
            "15/15 [==============================] - 0s 29ms/step - loss: 0.0211 - accuracy: 0.9941 - val_loss: 2.0071 - val_accuracy: 0.7333\n",
            "Epoch 53/200\n",
            "15/15 [==============================] - 0s 29ms/step - loss: 0.0335 - accuracy: 0.9957 - val_loss: 2.9874 - val_accuracy: 0.6000\n",
            "Epoch 54/200\n",
            "15/15 [==============================] - 0s 29ms/step - loss: 0.0112 - accuracy: 1.0000 - val_loss: 1.6027 - val_accuracy: 0.8000\n",
            "Epoch 55/200\n",
            "15/15 [==============================] - 0s 28ms/step - loss: 0.0921 - accuracy: 0.9835 - val_loss: 2.2191 - val_accuracy: 0.6667\n",
            "Epoch 56/200\n",
            "15/15 [==============================] - 0s 31ms/step - loss: 0.0052 - accuracy: 1.0000 - val_loss: 3.0464 - val_accuracy: 0.5333\n",
            "Epoch 57/200\n",
            "15/15 [==============================] - 0s 28ms/step - loss: 0.0524 - accuracy: 1.0000 - val_loss: 2.6808 - val_accuracy: 0.6667\n",
            "Epoch 58/200\n",
            "15/15 [==============================] - 0s 29ms/step - loss: 0.0102 - accuracy: 1.0000 - val_loss: 2.1930 - val_accuracy: 0.7333\n",
            "Epoch 59/200\n",
            "15/15 [==============================] - 0s 27ms/step - loss: 0.0236 - accuracy: 1.0000 - val_loss: 2.3739 - val_accuracy: 0.7333\n",
            "Epoch 60/200\n",
            "15/15 [==============================] - 0s 29ms/step - loss: 0.0086 - accuracy: 1.0000 - val_loss: 2.8485 - val_accuracy: 0.6667\n",
            "Epoch 61/200\n",
            "15/15 [==============================] - 0s 29ms/step - loss: 0.0074 - accuracy: 1.0000 - val_loss: 2.5454 - val_accuracy: 0.7333\n",
            "Epoch 62/200\n",
            "15/15 [==============================] - 0s 29ms/step - loss: 0.0080 - accuracy: 1.0000 - val_loss: 2.0383 - val_accuracy: 0.8000\n",
            "Epoch 63/200\n",
            "15/15 [==============================] - 0s 26ms/step - loss: 0.0243 - accuracy: 1.0000 - val_loss: 2.6819 - val_accuracy: 0.6667\n",
            "Epoch 64/200\n",
            "15/15 [==============================] - 0s 24ms/step - loss: 0.0711 - accuracy: 0.9704 - val_loss: 1.8880 - val_accuracy: 0.8000\n",
            "Epoch 65/200\n",
            "15/15 [==============================] - 0s 23ms/step - loss: 0.2138 - accuracy: 0.9607 - val_loss: 2.0294 - val_accuracy: 0.6667\n",
            "Epoch 66/200\n",
            "15/15 [==============================] - 0s 23ms/step - loss: 0.1320 - accuracy: 0.9636 - val_loss: 2.6030 - val_accuracy: 0.6000\n",
            "Epoch 67/200\n",
            "15/15 [==============================] - 0s 23ms/step - loss: 0.1248 - accuracy: 0.9284 - val_loss: 1.5395 - val_accuracy: 0.8000\n",
            "Epoch 68/200\n",
            "15/15 [==============================] - 0s 24ms/step - loss: 0.0344 - accuracy: 1.0000 - val_loss: 1.5706 - val_accuracy: 0.8000\n",
            "Epoch 69/200\n",
            "15/15 [==============================] - 0s 29ms/step - loss: 0.0423 - accuracy: 1.0000 - val_loss: 1.5668 - val_accuracy: 0.8000\n",
            "Epoch 70/200\n",
            "15/15 [==============================] - 0s 28ms/step - loss: 0.0137 - accuracy: 1.0000 - val_loss: 1.8515 - val_accuracy: 0.8000\n",
            "Epoch 71/200\n",
            "15/15 [==============================] - 0s 23ms/step - loss: 0.0445 - accuracy: 0.9677 - val_loss: 1.7533 - val_accuracy: 0.8000\n",
            "Epoch 72/200\n",
            "15/15 [==============================] - 0s 23ms/step - loss: 0.0086 - accuracy: 1.0000 - val_loss: 1.9248 - val_accuracy: 0.8000\n",
            "Epoch 73/200\n",
            "15/15 [==============================] - 0s 25ms/step - loss: 0.0302 - accuracy: 0.9924 - val_loss: 2.0775 - val_accuracy: 0.8000\n",
            "Epoch 74/200\n",
            "15/15 [==============================] - 0s 27ms/step - loss: 0.0554 - accuracy: 0.9729 - val_loss: 2.0224 - val_accuracy: 0.8000\n",
            "Epoch 75/200\n",
            "15/15 [==============================] - 0s 27ms/step - loss: 0.2789 - accuracy: 0.9193 - val_loss: 2.2508 - val_accuracy: 0.8000\n",
            "Epoch 76/200\n",
            "15/15 [==============================] - 0s 30ms/step - loss: 0.0787 - accuracy: 0.9512 - val_loss: 1.4494 - val_accuracy: 0.8000\n",
            "Epoch 77/200\n",
            "15/15 [==============================] - 1s 40ms/step - loss: 0.0595 - accuracy: 0.9618 - val_loss: 1.4199 - val_accuracy: 0.8000\n",
            "Epoch 78/200\n",
            "15/15 [==============================] - 0s 28ms/step - loss: 0.0858 - accuracy: 0.9861 - val_loss: 1.6532 - val_accuracy: 0.8000\n",
            "Epoch 79/200\n",
            "15/15 [==============================] - 0s 29ms/step - loss: 0.0371 - accuracy: 0.9728 - val_loss: 1.6132 - val_accuracy: 0.8000\n",
            "Epoch 80/200\n",
            "15/15 [==============================] - 0s 29ms/step - loss: 0.1078 - accuracy: 0.9590 - val_loss: 2.1279 - val_accuracy: 0.7333\n",
            "Epoch 81/200\n",
            "15/15 [==============================] - 0s 29ms/step - loss: 0.0067 - accuracy: 1.0000 - val_loss: 2.6191 - val_accuracy: 0.7333\n",
            "Epoch 82/200\n",
            "15/15 [==============================] - 0s 29ms/step - loss: 0.2611 - accuracy: 0.9295 - val_loss: 2.0451 - val_accuracy: 0.6667\n",
            "Epoch 83/200\n",
            "15/15 [==============================] - 0s 27ms/step - loss: 0.1087 - accuracy: 0.9283 - val_loss: 1.2665 - val_accuracy: 0.8000\n",
            "Epoch 84/200\n",
            "15/15 [==============================] - 0s 30ms/step - loss: 0.1398 - accuracy: 0.9295 - val_loss: 1.3180 - val_accuracy: 0.8667\n",
            "Epoch 85/200\n",
            "15/15 [==============================] - 0s 30ms/step - loss: 0.0370 - accuracy: 0.9763 - val_loss: 1.2979 - val_accuracy: 0.8000\n",
            "Epoch 86/200\n",
            "15/15 [==============================] - 0s 28ms/step - loss: 0.1698 - accuracy: 0.9295 - val_loss: 1.3506 - val_accuracy: 0.8000\n",
            "Epoch 87/200\n",
            "15/15 [==============================] - 0s 23ms/step - loss: 0.0696 - accuracy: 0.9729 - val_loss: 1.8689 - val_accuracy: 0.7333\n",
            "Epoch 88/200\n",
            "15/15 [==============================] - 0s 25ms/step - loss: 0.0564 - accuracy: 0.9771 - val_loss: 2.7308 - val_accuracy: 0.6667\n",
            "Epoch 89/200\n",
            "15/15 [==============================] - 0s 25ms/step - loss: 0.1912 - accuracy: 0.8798 - val_loss: 2.9063 - val_accuracy: 0.8000\n",
            "Epoch 90/200\n",
            "15/15 [==============================] - 0s 28ms/step - loss: 0.1115 - accuracy: 0.9884 - val_loss: 1.7499 - val_accuracy: 0.8000\n",
            "Epoch 91/200\n",
            "15/15 [==============================] - 0s 29ms/step - loss: 0.0444 - accuracy: 1.0000 - val_loss: 2.0434 - val_accuracy: 0.8000\n",
            "Epoch 92/200\n",
            "15/15 [==============================] - 0s 29ms/step - loss: 0.0698 - accuracy: 0.9408 - val_loss: 3.5824 - val_accuracy: 0.6000\n",
            "Epoch 93/200\n",
            "15/15 [==============================] - 0s 29ms/step - loss: 0.0080 - accuracy: 1.0000 - val_loss: 3.2220 - val_accuracy: 0.6667\n",
            "Epoch 94/200\n",
            "15/15 [==============================] - 0s 28ms/step - loss: 0.0430 - accuracy: 0.9771 - val_loss: 2.3165 - val_accuracy: 0.8000\n",
            "Epoch 95/200\n",
            "15/15 [==============================] - 0s 29ms/step - loss: 0.3027 - accuracy: 0.8902 - val_loss: 1.9771 - val_accuracy: 0.7333\n",
            "Epoch 96/200\n",
            "15/15 [==============================] - 0s 27ms/step - loss: 0.0173 - accuracy: 1.0000 - val_loss: 2.0015 - val_accuracy: 0.7333\n",
            "Epoch 97/200\n",
            "15/15 [==============================] - 0s 23ms/step - loss: 0.0423 - accuracy: 0.9743 - val_loss: 1.9757 - val_accuracy: 0.8000\n",
            "Epoch 98/200\n",
            "15/15 [==============================] - 0s 23ms/step - loss: 0.0241 - accuracy: 0.9972 - val_loss: 2.9874 - val_accuracy: 0.6000\n",
            "Epoch 99/200\n",
            "15/15 [==============================] - 0s 23ms/step - loss: 0.1763 - accuracy: 0.9686 - val_loss: 1.9395 - val_accuracy: 0.8000\n",
            "Epoch 100/200\n",
            "15/15 [==============================] - 0s 23ms/step - loss: 0.0072 - accuracy: 1.0000 - val_loss: 2.4065 - val_accuracy: 0.7333\n",
            "Epoch 101/200\n",
            "15/15 [==============================] - 0s 24ms/step - loss: 0.0089 - accuracy: 1.0000 - val_loss: 2.6944 - val_accuracy: 0.7333\n",
            "Epoch 102/200\n",
            "15/15 [==============================] - 0s 23ms/step - loss: 0.0052 - accuracy: 1.0000 - val_loss: 2.8281 - val_accuracy: 0.7333\n",
            "Epoch 103/200\n",
            "15/15 [==============================] - 0s 23ms/step - loss: 0.0041 - accuracy: 1.0000 - val_loss: 2.9272 - val_accuracy: 0.6667\n",
            "Epoch 104/200\n",
            "15/15 [==============================] - 0s 24ms/step - loss: 0.0113 - accuracy: 1.0000 - val_loss: 3.3142 - val_accuracy: 0.5333\n",
            "Epoch 105/200\n",
            "15/15 [==============================] - 0s 22ms/step - loss: 0.0046 - accuracy: 1.0000 - val_loss: 3.5866 - val_accuracy: 0.5333\n",
            "Epoch 106/200\n",
            "15/15 [==============================] - 0s 23ms/step - loss: 0.0249 - accuracy: 0.9835 - val_loss: 3.7314 - val_accuracy: 0.6000\n",
            "Epoch 107/200\n",
            "15/15 [==============================] - 0s 24ms/step - loss: 0.0046 - accuracy: 1.0000 - val_loss: 3.6405 - val_accuracy: 0.6667\n",
            "Epoch 108/200\n",
            "15/15 [==============================] - 0s 22ms/step - loss: 0.0099 - accuracy: 1.0000 - val_loss: 3.6269 - val_accuracy: 0.5333\n",
            "Epoch 109/200\n",
            "15/15 [==============================] - 0s 23ms/step - loss: 0.0211 - accuracy: 0.9884 - val_loss: 3.1490 - val_accuracy: 0.7333\n",
            "Epoch 110/200\n",
            "15/15 [==============================] - 0s 24ms/step - loss: 6.5149e-04 - accuracy: 1.0000 - val_loss: 2.9948 - val_accuracy: 0.7333\n",
            "Epoch 111/200\n",
            "15/15 [==============================] - 0s 23ms/step - loss: 0.0239 - accuracy: 0.9924 - val_loss: 4.1559 - val_accuracy: 0.5333\n",
            "Epoch 112/200\n",
            "15/15 [==============================] - 0s 24ms/step - loss: 0.0054 - accuracy: 1.0000 - val_loss: 5.7285 - val_accuracy: 0.5333\n",
            "Epoch 113/200\n",
            "15/15 [==============================] - 0s 25ms/step - loss: 0.0943 - accuracy: 0.9884 - val_loss: 3.5078 - val_accuracy: 0.6000\n",
            "Epoch 114/200\n",
            "15/15 [==============================] - 0s 23ms/step - loss: 0.0077 - accuracy: 1.0000 - val_loss: 2.5146 - val_accuracy: 0.6667\n",
            "Epoch 115/200\n",
            "15/15 [==============================] - 0s 24ms/step - loss: 0.0275 - accuracy: 1.0000 - val_loss: 3.2692 - val_accuracy: 0.6000\n",
            "Epoch 116/200\n",
            "15/15 [==============================] - 0s 24ms/step - loss: 0.0292 - accuracy: 1.0000 - val_loss: 4.7612 - val_accuracy: 0.4667\n",
            "Epoch 117/200\n",
            "15/15 [==============================] - 0s 24ms/step - loss: 0.0056 - accuracy: 1.0000 - val_loss: 4.4814 - val_accuracy: 0.5333\n",
            "Epoch 118/200\n",
            "15/15 [==============================] - 0s 24ms/step - loss: 0.0253 - accuracy: 1.0000 - val_loss: 3.4304 - val_accuracy: 0.6667\n",
            "Epoch 119/200\n",
            "15/15 [==============================] - 0s 33ms/step - loss: 0.0011 - accuracy: 1.0000 - val_loss: 3.1073 - val_accuracy: 0.6667\n",
            "Epoch 120/200\n",
            "15/15 [==============================] - 0s 24ms/step - loss: 0.0146 - accuracy: 1.0000 - val_loss: 3.0787 - val_accuracy: 0.6667\n",
            "Epoch 121/200\n",
            "15/15 [==============================] - 0s 24ms/step - loss: 0.0014 - accuracy: 1.0000 - val_loss: 3.2004 - val_accuracy: 0.6667\n",
            "Epoch 122/200\n",
            "15/15 [==============================] - 0s 25ms/step - loss: 0.0022 - accuracy: 1.0000 - val_loss: 3.2680 - val_accuracy: 0.6667\n",
            "Epoch 123/200\n",
            "15/15 [==============================] - 0s 24ms/step - loss: 0.0011 - accuracy: 1.0000 - val_loss: 3.3811 - val_accuracy: 0.6667\n",
            "Epoch 124/200\n",
            "15/15 [==============================] - 0s 24ms/step - loss: 4.9972e-04 - accuracy: 1.0000 - val_loss: 3.4717 - val_accuracy: 0.6667\n",
            "Epoch 125/200\n",
            "15/15 [==============================] - 0s 25ms/step - loss: 0.0026 - accuracy: 1.0000 - val_loss: 3.4763 - val_accuracy: 0.6667\n",
            "Epoch 126/200\n",
            "15/15 [==============================] - 0s 30ms/step - loss: 0.0098 - accuracy: 1.0000 - val_loss: 3.7568 - val_accuracy: 0.6667\n",
            "Epoch 127/200\n",
            "15/15 [==============================] - 0s 30ms/step - loss: 0.0021 - accuracy: 1.0000 - val_loss: 3.9667 - val_accuracy: 0.6667\n",
            "Epoch 128/200\n",
            "15/15 [==============================] - 0s 30ms/step - loss: 0.0059 - accuracy: 1.0000 - val_loss: 2.9976 - val_accuracy: 0.7333\n",
            "Epoch 129/200\n",
            "15/15 [==============================] - 0s 30ms/step - loss: 0.0084 - accuracy: 1.0000 - val_loss: 2.7376 - val_accuracy: 0.7333\n",
            "Epoch 130/200\n",
            "15/15 [==============================] - 0s 30ms/step - loss: 0.0113 - accuracy: 1.0000 - val_loss: 2.7520 - val_accuracy: 0.7333\n",
            "Epoch 131/200\n",
            "15/15 [==============================] - 0s 30ms/step - loss: 0.0529 - accuracy: 0.9677 - val_loss: 4.2555 - val_accuracy: 0.6000\n",
            "Epoch 132/200\n",
            "15/15 [==============================] - 0s 29ms/step - loss: 0.0261 - accuracy: 1.0000 - val_loss: 4.1006 - val_accuracy: 0.6667\n",
            "Epoch 133/200\n",
            "15/15 [==============================] - 0s 30ms/step - loss: 9.5475e-04 - accuracy: 1.0000 - val_loss: 3.5308 - val_accuracy: 0.6667\n",
            "Epoch 134/200\n",
            "15/15 [==============================] - 0s 31ms/step - loss: 0.0225 - accuracy: 1.0000 - val_loss: 2.6778 - val_accuracy: 0.7333\n",
            "Epoch 135/200\n",
            "15/15 [==============================] - 0s 29ms/step - loss: 0.0109 - accuracy: 1.0000 - val_loss: 2.5194 - val_accuracy: 0.7333\n",
            "Epoch 136/200\n",
            "15/15 [==============================] - 0s 31ms/step - loss: 0.0051 - accuracy: 1.0000 - val_loss: 2.6674 - val_accuracy: 0.7333\n",
            "Epoch 137/200\n",
            "15/15 [==============================] - 0s 30ms/step - loss: 0.0067 - accuracy: 1.0000 - val_loss: 2.7025 - val_accuracy: 0.7333\n",
            "Epoch 138/200\n",
            "15/15 [==============================] - 0s 29ms/step - loss: 0.0092 - accuracy: 1.0000 - val_loss: 2.8262 - val_accuracy: 0.7333\n",
            "Epoch 139/200\n",
            "15/15 [==============================] - 0s 23ms/step - loss: 0.0123 - accuracy: 1.0000 - val_loss: 3.8279 - val_accuracy: 0.6667\n",
            "Epoch 140/200\n",
            "15/15 [==============================] - 0s 23ms/step - loss: 0.0058 - accuracy: 1.0000 - val_loss: 3.8317 - val_accuracy: 0.6667\n",
            "Epoch 141/200\n",
            "15/15 [==============================] - 0s 23ms/step - loss: 2.5503e-04 - accuracy: 1.0000 - val_loss: 3.6505 - val_accuracy: 0.6667\n",
            "Epoch 142/200\n",
            "15/15 [==============================] - 0s 23ms/step - loss: 6.4369e-04 - accuracy: 1.0000 - val_loss: 3.5778 - val_accuracy: 0.6667\n",
            "Epoch 143/200\n",
            "15/15 [==============================] - 0s 24ms/step - loss: 0.0047 - accuracy: 1.0000 - val_loss: 3.2847 - val_accuracy: 0.6667\n",
            "Epoch 144/200\n",
            "15/15 [==============================] - 0s 23ms/step - loss: 3.9835e-04 - accuracy: 1.0000 - val_loss: 3.2921 - val_accuracy: 0.7333\n",
            "Epoch 145/200\n",
            "15/15 [==============================] - 0s 24ms/step - loss: 0.0037 - accuracy: 1.0000 - val_loss: 3.3226 - val_accuracy: 0.6667\n",
            "Epoch 146/200\n",
            "15/15 [==============================] - 0s 24ms/step - loss: 0.0227 - accuracy: 0.9924 - val_loss: 2.9315 - val_accuracy: 0.7333\n",
            "Epoch 147/200\n",
            "15/15 [==============================] - 0s 23ms/step - loss: 0.0056 - accuracy: 1.0000 - val_loss: 2.9853 - val_accuracy: 0.7333\n",
            "Epoch 148/200\n",
            "15/15 [==============================] - 0s 23ms/step - loss: 0.3420 - accuracy: 0.9503 - val_loss: 2.8131 - val_accuracy: 0.7333\n",
            "Epoch 149/200\n",
            "15/15 [==============================] - 0s 26ms/step - loss: 0.0108 - accuracy: 0.9972 - val_loss: 2.2648 - val_accuracy: 0.7333\n",
            "Epoch 150/200\n",
            "15/15 [==============================] - 0s 30ms/step - loss: 0.2937 - accuracy: 0.9382 - val_loss: 5.7753 - val_accuracy: 0.5333\n",
            "Epoch 151/200\n",
            "15/15 [==============================] - 0s 30ms/step - loss: 0.3620 - accuracy: 0.8794 - val_loss: 1.8592 - val_accuracy: 0.8667\n",
            "Epoch 152/200\n",
            "15/15 [==============================] - 0s 24ms/step - loss: 0.0273 - accuracy: 0.9905 - val_loss: 1.4677 - val_accuracy: 0.8667\n",
            "Epoch 153/200\n",
            "15/15 [==============================] - 0s 24ms/step - loss: 0.0093 - accuracy: 1.0000 - val_loss: 1.5450 - val_accuracy: 0.8667\n",
            "Epoch 154/200\n",
            "15/15 [==============================] - 0s 26ms/step - loss: 0.1010 - accuracy: 0.9284 - val_loss: 3.1084 - val_accuracy: 0.6667\n",
            "Epoch 155/200\n",
            "15/15 [==============================] - 0s 28ms/step - loss: 0.1189 - accuracy: 0.9835 - val_loss: 2.0487 - val_accuracy: 0.7333\n",
            "Epoch 156/200\n",
            "15/15 [==============================] - 0s 30ms/step - loss: 0.0467 - accuracy: 0.9835 - val_loss: 1.9702 - val_accuracy: 0.7333\n",
            "Epoch 157/200\n",
            "15/15 [==============================] - 0s 29ms/step - loss: 0.0069 - accuracy: 1.0000 - val_loss: 2.1764 - val_accuracy: 0.7333\n",
            "Epoch 158/200\n",
            "15/15 [==============================] - 0s 29ms/step - loss: 0.0100 - accuracy: 1.0000 - val_loss: 2.6564 - val_accuracy: 0.6667\n",
            "Epoch 159/200\n",
            "15/15 [==============================] - 0s 24ms/step - loss: 7.2127e-04 - accuracy: 1.0000 - val_loss: 3.1883 - val_accuracy: 0.6667\n",
            "Epoch 160/200\n",
            "15/15 [==============================] - 0s 24ms/step - loss: 0.3043 - accuracy: 0.8935 - val_loss: 1.3229 - val_accuracy: 0.8000\n",
            "Epoch 161/200\n",
            "15/15 [==============================] - 0s 27ms/step - loss: 0.0337 - accuracy: 1.0000 - val_loss: 1.6674 - val_accuracy: 0.7333\n",
            "Epoch 162/200\n",
            "15/15 [==============================] - 0s 29ms/step - loss: 0.0319 - accuracy: 1.0000 - val_loss: 1.8559 - val_accuracy: 0.7333\n",
            "Epoch 163/200\n",
            "15/15 [==============================] - 0s 28ms/step - loss: 0.0654 - accuracy: 0.9861 - val_loss: 1.8258 - val_accuracy: 0.7333\n",
            "Epoch 164/200\n",
            "15/15 [==============================] - 0s 30ms/step - loss: 0.0850 - accuracy: 0.9835 - val_loss: 1.6476 - val_accuracy: 0.7333\n",
            "Epoch 165/200\n",
            "15/15 [==============================] - 0s 29ms/step - loss: 0.0476 - accuracy: 0.9607 - val_loss: 2.1399 - val_accuracy: 0.6667\n",
            "Epoch 166/200\n",
            "15/15 [==============================] - 0s 28ms/step - loss: 0.0210 - accuracy: 0.9957 - val_loss: 2.7635 - val_accuracy: 0.6667\n",
            "Epoch 167/200\n",
            "15/15 [==============================] - 1s 41ms/step - loss: 0.0399 - accuracy: 1.0000 - val_loss: 2.3002 - val_accuracy: 0.7333\n",
            "Epoch 168/200\n",
            "15/15 [==============================] - 0s 24ms/step - loss: 0.0836 - accuracy: 0.9503 - val_loss: 2.4780 - val_accuracy: 0.6667\n",
            "Epoch 169/200\n",
            "15/15 [==============================] - 0s 23ms/step - loss: 0.0014 - accuracy: 1.0000 - val_loss: 2.5658 - val_accuracy: 0.6667\n",
            "Epoch 170/200\n",
            "15/15 [==============================] - 0s 24ms/step - loss: 0.0072 - accuracy: 1.0000 - val_loss: 2.5887 - val_accuracy: 0.6667\n",
            "Epoch 171/200\n",
            "15/15 [==============================] - 0s 24ms/step - loss: 0.0944 - accuracy: 0.9576 - val_loss: 2.6487 - val_accuracy: 0.7333\n",
            "Epoch 172/200\n",
            "15/15 [==============================] - 0s 25ms/step - loss: 0.0212 - accuracy: 0.9884 - val_loss: 2.8535 - val_accuracy: 0.6667\n",
            "Epoch 173/200\n",
            "15/15 [==============================] - 0s 23ms/step - loss: 0.1294 - accuracy: 0.9503 - val_loss: 3.6923 - val_accuracy: 0.6667\n",
            "Epoch 174/200\n",
            "15/15 [==============================] - 0s 24ms/step - loss: 0.0175 - accuracy: 1.0000 - val_loss: 4.4308 - val_accuracy: 0.6000\n",
            "Epoch 175/200\n",
            "15/15 [==============================] - 0s 23ms/step - loss: 0.0042 - accuracy: 1.0000 - val_loss: 4.7999 - val_accuracy: 0.5333\n",
            "Epoch 176/200\n",
            "15/15 [==============================] - 0s 24ms/step - loss: 0.0038 - accuracy: 1.0000 - val_loss: 4.5362 - val_accuracy: 0.6000\n",
            "Epoch 177/200\n",
            "15/15 [==============================] - 0s 24ms/step - loss: 0.0014 - accuracy: 1.0000 - val_loss: 3.3962 - val_accuracy: 0.6667\n",
            "Epoch 178/200\n",
            "15/15 [==============================] - 0s 24ms/step - loss: 0.0054 - accuracy: 1.0000 - val_loss: 4.0619 - val_accuracy: 0.6000\n",
            "Epoch 179/200\n",
            "15/15 [==============================] - 0s 24ms/step - loss: 6.5638e-04 - accuracy: 1.0000 - val_loss: 4.0633 - val_accuracy: 0.6000\n",
            "Epoch 180/200\n",
            "15/15 [==============================] - 0s 24ms/step - loss: 0.0058 - accuracy: 1.0000 - val_loss: 4.1787 - val_accuracy: 0.6000\n",
            "Epoch 181/200\n",
            "15/15 [==============================] - 0s 24ms/step - loss: 0.0016 - accuracy: 1.0000 - val_loss: 4.2123 - val_accuracy: 0.6667\n",
            "Epoch 182/200\n",
            "15/15 [==============================] - 0s 24ms/step - loss: 0.0034 - accuracy: 1.0000 - val_loss: 4.2164 - val_accuracy: 0.6000\n",
            "Epoch 183/200\n",
            "15/15 [==============================] - 0s 24ms/step - loss: 0.0037 - accuracy: 1.0000 - val_loss: 3.5307 - val_accuracy: 0.6000\n",
            "Epoch 184/200\n",
            "15/15 [==============================] - 0s 24ms/step - loss: 0.0126 - accuracy: 0.9972 - val_loss: 2.7996 - val_accuracy: 0.7333\n",
            "Epoch 185/200\n",
            "15/15 [==============================] - 0s 24ms/step - loss: 0.1284 - accuracy: 0.9295 - val_loss: 2.5592 - val_accuracy: 0.7333\n",
            "Epoch 186/200\n",
            "15/15 [==============================] - 0s 26ms/step - loss: 0.0123 - accuracy: 1.0000 - val_loss: 2.7507 - val_accuracy: 0.6667\n",
            "Epoch 187/200\n",
            "15/15 [==============================] - 0s 30ms/step - loss: 0.0103 - accuracy: 1.0000 - val_loss: 2.9250 - val_accuracy: 0.6667\n",
            "Epoch 188/200\n",
            "15/15 [==============================] - 0s 31ms/step - loss: 0.0057 - accuracy: 1.0000 - val_loss: 3.0331 - val_accuracy: 0.6667\n",
            "Epoch 189/200\n",
            "15/15 [==============================] - 0s 24ms/step - loss: 0.1802 - accuracy: 0.9634 - val_loss: 3.0151 - val_accuracy: 0.6667\n",
            "Epoch 190/200\n",
            "15/15 [==============================] - 0s 23ms/step - loss: 0.0123 - accuracy: 1.0000 - val_loss: 3.3311 - val_accuracy: 0.6667\n",
            "Epoch 191/200\n",
            "15/15 [==============================] - 0s 25ms/step - loss: 8.4072e-04 - accuracy: 1.0000 - val_loss: 3.6144 - val_accuracy: 0.6667\n",
            "Epoch 192/200\n",
            "15/15 [==============================] - 0s 23ms/step - loss: 0.0092 - accuracy: 0.9972 - val_loss: 3.3067 - val_accuracy: 0.6667\n",
            "Epoch 193/200\n",
            "15/15 [==============================] - 0s 23ms/step - loss: 0.0931 - accuracy: 0.9835 - val_loss: 1.4823 - val_accuracy: 0.8000\n",
            "Epoch 194/200\n",
            "15/15 [==============================] - 0s 24ms/step - loss: 0.0208 - accuracy: 1.0000 - val_loss: 1.5159 - val_accuracy: 0.8000\n",
            "Epoch 195/200\n",
            "15/15 [==============================] - 0s 24ms/step - loss: 0.0070 - accuracy: 1.0000 - val_loss: 1.6106 - val_accuracy: 0.8000\n",
            "Epoch 196/200\n",
            "15/15 [==============================] - 0s 25ms/step - loss: 0.0098 - accuracy: 1.0000 - val_loss: 1.7117 - val_accuracy: 0.8000\n",
            "Epoch 197/200\n",
            "15/15 [==============================] - 0s 29ms/step - loss: 0.0087 - accuracy: 1.0000 - val_loss: 1.8619 - val_accuracy: 0.8000\n",
            "Epoch 198/200\n",
            "15/15 [==============================] - 0s 30ms/step - loss: 0.0090 - accuracy: 1.0000 - val_loss: 1.9698 - val_accuracy: 0.8000\n",
            "Epoch 199/200\n",
            "15/15 [==============================] - 0s 29ms/step - loss: 0.0841 - accuracy: 0.9771 - val_loss: 3.5895 - val_accuracy: 0.6667\n",
            "Epoch 200/200\n",
            "15/15 [==============================] - 0s 29ms/step - loss: 0.0201 - accuracy: 1.0000 - val_loss: 3.7218 - val_accuracy: 0.6667\n"
          ],
          "name": "stdout"
        },
        {
          "output_type": "execute_result",
          "data": {
            "text/plain": [
              "<tensorflow.python.keras.callbacks.History at 0x7f08a9119f98>"
            ]
          },
          "metadata": {
            "tags": []
          },
          "execution_count": 13
        }
      ]
    },
    {
      "cell_type": "markdown",
      "metadata": {
        "id": "br7O6uFihZxZ"
      },
      "source": [
        "### 모델 평가"
      ]
    },
    {
      "cell_type": "code",
      "metadata": {
        "colab": {
          "base_uri": "https://localhost:8080/"
        },
        "id": "KgeESAA8hP2a",
        "outputId": "2c496a33-5f94-4a4b-be8c-8737a526ed63"
      },
      "source": [
        "print(\"-- Evaluate --\")\r\n",
        "scores = model.evaluate_generator(test_generator, steps=5)\r\n",
        "print(\"%s: %.2f%%\" %(model.metrics_names[1], scores[1]*100))"
      ],
      "execution_count": 14,
      "outputs": [
        {
          "output_type": "stream",
          "text": [
            "-- Evaluate --\n",
            "accuracy: 66.67%\n"
          ],
          "name": "stdout"
        },
        {
          "output_type": "stream",
          "text": [
            "/usr/local/lib/python3.6/dist-packages/tensorflow/python/keras/engine/training.py:1877: UserWarning: `Model.evaluate_generator` is deprecated and will be removed in a future version. Please use `Model.evaluate`, which supports generators.\n",
            "  warnings.warn('`Model.evaluate_generator` is deprecated and '\n"
          ],
          "name": "stderr"
        }
      ]
    }
  ]
}