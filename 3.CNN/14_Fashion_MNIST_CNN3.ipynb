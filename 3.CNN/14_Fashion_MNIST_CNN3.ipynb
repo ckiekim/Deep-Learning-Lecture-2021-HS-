{
  "nbformat": 4,
  "nbformat_minor": 0,
  "metadata": {
    "colab": {
      "name": "14_Fashion_MNIST_CNN3.ipynb",
      "provenance": [],
      "collapsed_sections": []
    },
    "kernelspec": {
      "name": "python3",
      "display_name": "Python 3"
    },
    "accelerator": "GPU"
  },
  "cells": [
    {
      "cell_type": "markdown",
      "metadata": {
        "id": "omPv6HUOL5rE"
      },
      "source": [
        "# Fashion MNIST - Convolutional Neural Network ver.3\r\n",
        "- Conv2D 2개\r\n",
        "- MaxPooling 1개\r\n",
        "- Dropout 2개"
      ]
    },
    {
      "cell_type": "code",
      "metadata": {
        "id": "FQcgGrouMBu0"
      },
      "source": [
        "import numpy as np\r\n",
        "import tensorflow as tf"
      ],
      "execution_count": 1,
      "outputs": []
    },
    {
      "cell_type": "code",
      "metadata": {
        "id": "mOsIn-I0MREl"
      },
      "source": [
        "# 실행할 때마다 같은 결과를 출력하기 위한 seed 값 설정\r\n",
        "seed = 2021\r\n",
        "np.random.seed(seed)\r\n",
        "tf.random.set_seed(seed)"
      ],
      "execution_count": 2,
      "outputs": []
    },
    {
      "cell_type": "markdown",
      "metadata": {
        "id": "zenXqEdqMXTr"
      },
      "source": [
        "### 데이터 전처리"
      ]
    },
    {
      "cell_type": "code",
      "metadata": {
        "id": "k0SbwGi7MURE",
        "colab": {
          "base_uri": "https://localhost:8080/"
        },
        "outputId": "46e2a33f-7fe5-450d-9dc4-a691410b4864"
      },
      "source": [
        "from tensorflow.keras.datasets import fashion_mnist\r\n",
        "(X_train, Y_class_train), (X_test, Y_class_test) = fashion_mnist.load_data()"
      ],
      "execution_count": 3,
      "outputs": [
        {
          "output_type": "stream",
          "text": [
            "Downloading data from https://storage.googleapis.com/tensorflow/tf-keras-datasets/train-labels-idx1-ubyte.gz\n",
            "32768/29515 [=================================] - 0s 0us/step\n",
            "Downloading data from https://storage.googleapis.com/tensorflow/tf-keras-datasets/train-images-idx3-ubyte.gz\n",
            "26427392/26421880 [==============================] - 0s 0us/step\n",
            "Downloading data from https://storage.googleapis.com/tensorflow/tf-keras-datasets/t10k-labels-idx1-ubyte.gz\n",
            "8192/5148 [===============================================] - 0s 0us/step\n",
            "Downloading data from https://storage.googleapis.com/tensorflow/tf-keras-datasets/t10k-images-idx3-ubyte.gz\n",
            "4423680/4422102 [==============================] - 0s 0us/step\n"
          ],
          "name": "stdout"
        }
      ]
    },
    {
      "cell_type": "code",
      "metadata": {
        "colab": {
          "base_uri": "https://localhost:8080/"
        },
        "id": "MWH1wy_vM2l3",
        "outputId": "3fbe2f22-5973-40a9-9e78-58ab59356df9"
      },
      "source": [
        "X_train = X_train.reshape(-1, 28, 28, 1)\r\n",
        "X_test = X_test.reshape(-1, 28, 28, 1)\r\n",
        "X_train.shape, X_test.shape"
      ],
      "execution_count": 4,
      "outputs": [
        {
          "output_type": "execute_result",
          "data": {
            "text/plain": [
              "((60000, 28, 28, 1), (10000, 28, 28, 1))"
            ]
          },
          "metadata": {
            "tags": []
          },
          "execution_count": 4
        }
      ]
    },
    {
      "cell_type": "code",
      "metadata": {
        "id": "w4maNn1sNqie"
      },
      "source": [
        "# 0 ~ 1 사이의 값으로 정규화\r\n",
        "X_train = X_train / 255.0\r\n",
        "X_test = X_test / 255.0"
      ],
      "execution_count": 5,
      "outputs": []
    },
    {
      "cell_type": "code",
      "metadata": {
        "colab": {
          "base_uri": "https://localhost:8080/"
        },
        "id": "5K0rcDkVO9s_",
        "outputId": "97a709db-a5e5-4c42-e6dd-0071c610f769"
      },
      "source": [
        "# One hot encoding\r\n",
        "from tensorflow.keras.utils import to_categorical\r\n",
        "Y_train = to_categorical(Y_class_train, 10)\r\n",
        "Y_test = to_categorical(Y_class_test, 10)\r\n",
        "Y_train[0]"
      ],
      "execution_count": 6,
      "outputs": [
        {
          "output_type": "execute_result",
          "data": {
            "text/plain": [
              "array([0., 0., 0., 0., 0., 0., 0., 0., 0., 1.], dtype=float32)"
            ]
          },
          "metadata": {
            "tags": []
          },
          "execution_count": 6
        }
      ]
    },
    {
      "cell_type": "markdown",
      "metadata": {
        "id": "ZfQAIDjXPvd8"
      },
      "source": [
        "### 모델 정의, 설정, 학습"
      ]
    },
    {
      "cell_type": "code",
      "metadata": {
        "id": "yiilX6_cPRzT"
      },
      "source": [
        "from tensorflow.keras.models import Sequential\r\n",
        "from tensorflow.keras.layers import Dense, Flatten, Conv2D, MaxPooling2D, Dropout\r\n",
        "import os\r\n",
        "MODEL_DIR = './model/'\r\n",
        "if not os.path.exists(MODEL_DIR):\r\n",
        "    os.mkdir(MODEL_DIR)"
      ],
      "execution_count": 7,
      "outputs": []
    },
    {
      "cell_type": "code",
      "metadata": {
        "colab": {
          "base_uri": "https://localhost:8080/"
        },
        "id": "6Lq1cPNmQEri",
        "outputId": "c252fa96-1486-4477-ff26-5176e8bc30ba"
      },
      "source": [
        "model = Sequential([\r\n",
        "    Conv2D(32, kernel_size=(3,3), input_shape=(28,28,1), activation='relu'),\r\n",
        "    Conv2D(64, (3,3), activation='relu'),\r\n",
        "    MaxPooling2D(pool_size=2),\r\n",
        "    Dropout(0.25),\r\n",
        "    Flatten(),             \r\n",
        "    Dense(512, activation='relu'),\r\n",
        "    Dropout(0.5),\r\n",
        "    Dense(10, activation='softmax')\r\n",
        "])\r\n",
        "model.summary()"
      ],
      "execution_count": 8,
      "outputs": [
        {
          "output_type": "stream",
          "text": [
            "Model: \"sequential\"\n",
            "_________________________________________________________________\n",
            "Layer (type)                 Output Shape              Param #   \n",
            "=================================================================\n",
            "conv2d (Conv2D)              (None, 26, 26, 32)        320       \n",
            "_________________________________________________________________\n",
            "conv2d_1 (Conv2D)            (None, 24, 24, 64)        18496     \n",
            "_________________________________________________________________\n",
            "max_pooling2d (MaxPooling2D) (None, 12, 12, 64)        0         \n",
            "_________________________________________________________________\n",
            "dropout (Dropout)            (None, 12, 12, 64)        0         \n",
            "_________________________________________________________________\n",
            "flatten (Flatten)            (None, 9216)              0         \n",
            "_________________________________________________________________\n",
            "dense (Dense)                (None, 512)               4719104   \n",
            "_________________________________________________________________\n",
            "dropout_1 (Dropout)          (None, 512)               0         \n",
            "_________________________________________________________________\n",
            "dense_1 (Dense)              (None, 10)                5130      \n",
            "=================================================================\n",
            "Total params: 4,743,050\n",
            "Trainable params: 4,743,050\n",
            "Non-trainable params: 0\n",
            "_________________________________________________________________\n"
          ],
          "name": "stdout"
        }
      ]
    },
    {
      "cell_type": "code",
      "metadata": {
        "id": "del41lJ5Rcre"
      },
      "source": [
        "# 모델 실행환경 설정\r\n",
        "model.compile(loss='categorical_crossentropy', optimizer='adam', metrics=['accuracy'])"
      ],
      "execution_count": 9,
      "outputs": []
    },
    {
      "cell_type": "code",
      "metadata": {
        "id": "1VrgaD_6Ue2f"
      },
      "source": [
        "# 모델 저장 조건 설정\r\n",
        "modelpath = MODEL_DIR + \"best{epoch:03d}-{val_loss:.4f}.hdf5\""
      ],
      "execution_count": 10,
      "outputs": []
    },
    {
      "cell_type": "code",
      "metadata": {
        "id": "gZhBEIUfUmW9"
      },
      "source": [
        "# 모델 최적화 설정\r\n",
        "from tensorflow.keras.callbacks import ModelCheckpoint, EarlyStopping\r\n",
        "checkpointer = ModelCheckpoint(filepath=modelpath, monitor='val_loss', \r\n",
        "                               verbose=1, save_best_only=True)\r\n",
        "early_stopping = EarlyStopping(monitor='val_loss', patience=10)"
      ],
      "execution_count": 11,
      "outputs": []
    },
    {
      "cell_type": "code",
      "metadata": {
        "colab": {
          "base_uri": "https://localhost:8080/"
        },
        "id": "GebN9T4BU4OE",
        "outputId": "a6abbd78-6b6b-4e52-bb34-7a61cac948c6"
      },
      "source": [
        "# 모델 실행\r\n",
        "history = model.fit(X_train, Y_train, validation_split=0.2,\r\n",
        "                    epochs=30, batch_size=200, verbose=0,\r\n",
        "                    callbacks=[checkpointer, early_stopping])"
      ],
      "execution_count": 12,
      "outputs": [
        {
          "output_type": "stream",
          "text": [
            "\n",
            "Epoch 00001: val_loss improved from inf to 0.31700, saving model to ./model/best001-0.3170.hdf5\n",
            "\n",
            "Epoch 00002: val_loss improved from 0.31700 to 0.27141, saving model to ./model/best002-0.2714.hdf5\n",
            "\n",
            "Epoch 00003: val_loss improved from 0.27141 to 0.24471, saving model to ./model/best003-0.2447.hdf5\n",
            "\n",
            "Epoch 00004: val_loss improved from 0.24471 to 0.22698, saving model to ./model/best004-0.2270.hdf5\n",
            "\n",
            "Epoch 00005: val_loss did not improve from 0.22698\n",
            "\n",
            "Epoch 00006: val_loss improved from 0.22698 to 0.21165, saving model to ./model/best006-0.2117.hdf5\n",
            "\n",
            "Epoch 00007: val_loss improved from 0.21165 to 0.20195, saving model to ./model/best007-0.2019.hdf5\n",
            "\n",
            "Epoch 00008: val_loss did not improve from 0.20195\n",
            "\n",
            "Epoch 00009: val_loss did not improve from 0.20195\n",
            "\n",
            "Epoch 00010: val_loss did not improve from 0.20195\n",
            "\n",
            "Epoch 00011: val_loss did not improve from 0.20195\n",
            "\n",
            "Epoch 00012: val_loss did not improve from 0.20195\n",
            "\n",
            "Epoch 00013: val_loss did not improve from 0.20195\n",
            "\n",
            "Epoch 00014: val_loss did not improve from 0.20195\n",
            "\n",
            "Epoch 00015: val_loss did not improve from 0.20195\n",
            "\n",
            "Epoch 00016: val_loss did not improve from 0.20195\n",
            "\n",
            "Epoch 00017: val_loss did not improve from 0.20195\n"
          ],
          "name": "stdout"
        }
      ]
    },
    {
      "cell_type": "code",
      "metadata": {
        "id": "IDSfTdDBVjou"
      },
      "source": [
        "from tensorflow.keras.models import load_model\r\n",
        "best_model = load_model('./model/best007-0.2019.hdf5')"
      ],
      "execution_count": 13,
      "outputs": []
    },
    {
      "cell_type": "code",
      "metadata": {
        "colab": {
          "base_uri": "https://localhost:8080/"
        },
        "id": "UXIzmZeoWAhA",
        "outputId": "0311f267-28f8-4f87-a483-1fed0ac65668"
      },
      "source": [
        "# 테스트 정확도 출력 \r\n",
        "acc = model.evaluate(X_test, Y_test, verbose=2)[1]\r\n",
        "print(f\"\\n Test Accuracy: {acc:.4f}\")"
      ],
      "execution_count": 14,
      "outputs": [
        {
          "output_type": "stream",
          "text": [
            "313/313 - 1s - loss: 0.2683 - accuracy: 0.9261\n",
            "\n",
            " Test Accuracy: 0.9261\n"
          ],
          "name": "stdout"
        }
      ]
    },
    {
      "cell_type": "markdown",
      "metadata": {
        "id": "kV5YHxN4Word"
      },
      "source": [
        "### 훈련 과정 시각화"
      ]
    },
    {
      "cell_type": "code",
      "metadata": {
        "id": "q1sFt_wmWrni"
      },
      "source": [
        "# 검증셋의 오차\r\n",
        "y_vloss = history.history['val_loss']\r\n",
        "\r\n",
        "# 학습셋의 오차\r\n",
        "y_loss = history.history['loss']"
      ],
      "execution_count": 15,
      "outputs": []
    },
    {
      "cell_type": "code",
      "metadata": {
        "colab": {
          "base_uri": "https://localhost:8080/",
          "height": 388
        },
        "id": "VtXhLrZjWzX0",
        "outputId": "a10115a5-bdcb-4d9d-96f2-3472bdc3aff1"
      },
      "source": [
        "# 그래프로 표현\r\n",
        "import matplotlib.pyplot as plt\r\n",
        "%matplotlib inline\r\n",
        "x_len = np.arange(1, len(y_loss)+1)\r\n",
        "plt.figure(figsize=(8,6))\r\n",
        "plt.plot(x_len, y_vloss, marker='.', c=\"red\", label='Validationset_loss')\r\n",
        "plt.plot(x_len, y_loss, marker='.', c=\"blue\", label='Trainset_loss')\r\n",
        "\r\n",
        "# 그래프에 그리드를 주고 레이블을 표시\r\n",
        "plt.legend(loc='upper right')\r\n",
        "plt.grid()\r\n",
        "plt.xlabel('epoch')\r\n",
        "plt.ylabel('loss')\r\n",
        "plt.show()"
      ],
      "execution_count": 16,
      "outputs": [
        {
          "output_type": "display_data",
          "data": {
            "image/png": "[encoded data removed]",
            "text/plain": [
              "<Figure size 576x432 with 1 Axes>"
            ]
          },
          "metadata": {
            "tags": [],
            "needs_background": "light"
          }
        }
      ]
    },
    {
      "cell_type": "code",
      "metadata": {
        "id": "re5ixbQVo4qP"
      },
      "source": [
        ""
      ],
      "execution_count": null,
      "outputs": []
    }
  ]
}