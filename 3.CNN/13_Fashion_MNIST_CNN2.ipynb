{
  "nbformat": 4,
  "nbformat_minor": 0,
  "metadata": {
    "colab": {
      "name": "13_Fashion_MNIST_CNN2.ipynb",
      "provenance": [],
      "collapsed_sections": []
    },
    "kernelspec": {
      "name": "python3",
      "display_name": "Python 3"
    },
    "accelerator": "GPU"
  },
  "cells": [
    {
      "cell_type": "markdown",
      "metadata": {
        "id": "omPv6HUOL5rE"
      },
      "source": [
        "# Fashion MNIST - Convolutional Neural Network ver.2\r\n",
        "- Conv2D 2개\r\n",
        "- MaxPooling 1개"
      ]
    },
    {
      "cell_type": "code",
      "metadata": {
        "id": "FQcgGrouMBu0"
      },
      "source": [
        "import numpy as np\r\n",
        "import tensorflow as tf"
      ],
      "execution_count": 1,
      "outputs": []
    },
    {
      "cell_type": "code",
      "metadata": {
        "id": "mOsIn-I0MREl"
      },
      "source": [
        "# 실행할 때마다 같은 결과를 출력하기 위한 seed 값 설정\r\n",
        "seed = 2021\r\n",
        "np.random.seed(seed)\r\n",
        "tf.random.set_seed(seed)"
      ],
      "execution_count": 2,
      "outputs": []
    },
    {
      "cell_type": "markdown",
      "metadata": {
        "id": "zenXqEdqMXTr"
      },
      "source": [
        "### 데이터 전처리"
      ]
    },
    {
      "cell_type": "code",
      "metadata": {
        "id": "k0SbwGi7MURE",
        "colab": {
          "base_uri": "https://localhost:8080/"
        },
        "outputId": "d41cc1dd-21fd-427a-e3cd-051d1ec48693"
      },
      "source": [
        "from tensorflow.keras.datasets import fashion_mnist\r\n",
        "(X_train, Y_class_train), (X_test, Y_class_test) = fashion_mnist.load_data()"
      ],
      "execution_count": 3,
      "outputs": [
        {
          "output_type": "stream",
          "text": [
            "Downloading data from https://storage.googleapis.com/tensorflow/tf-keras-datasets/train-labels-idx1-ubyte.gz\n",
            "32768/29515 [=================================] - 0s 0us/step\n",
            "Downloading data from https://storage.googleapis.com/tensorflow/tf-keras-datasets/train-images-idx3-ubyte.gz\n",
            "26427392/26421880 [==============================] - 0s 0us/step\n",
            "Downloading data from https://storage.googleapis.com/tensorflow/tf-keras-datasets/t10k-labels-idx1-ubyte.gz\n",
            "8192/5148 [===============================================] - 0s 0us/step\n",
            "Downloading data from https://storage.googleapis.com/tensorflow/tf-keras-datasets/t10k-images-idx3-ubyte.gz\n",
            "4423680/4422102 [==============================] - 0s 0us/step\n"
          ],
          "name": "stdout"
        }
      ]
    },
    {
      "cell_type": "code",
      "metadata": {
        "colab": {
          "base_uri": "https://localhost:8080/"
        },
        "id": "MWH1wy_vM2l3",
        "outputId": "9e62d66f-92ee-40b2-85a4-3955efb321ae"
      },
      "source": [
        "X_train = X_train.reshape(-1, 28, 28, 1)\r\n",
        "X_test = X_test.reshape(-1, 28, 28, 1)\r\n",
        "X_train.shape, X_test.shape"
      ],
      "execution_count": 4,
      "outputs": [
        {
          "output_type": "execute_result",
          "data": {
            "text/plain": [
              "((60000, 28, 28, 1), (10000, 28, 28, 1))"
            ]
          },
          "metadata": {
            "tags": []
          },
          "execution_count": 4
        }
      ]
    },
    {
      "cell_type": "code",
      "metadata": {
        "id": "w4maNn1sNqie"
      },
      "source": [
        "# 0 ~ 1 사이의 값으로 정규화\r\n",
        "X_train = X_train / 255.0\r\n",
        "X_test = X_test / 255.0"
      ],
      "execution_count": 5,
      "outputs": []
    },
    {
      "cell_type": "code",
      "metadata": {
        "colab": {
          "base_uri": "https://localhost:8080/"
        },
        "id": "5K0rcDkVO9s_",
        "outputId": "6493191e-4966-4dc3-ad58-d51e41e0657b"
      },
      "source": [
        "# One hot encoding\r\n",
        "from tensorflow.keras.utils import to_categorical\r\n",
        "Y_train = to_categorical(Y_class_train, 10)\r\n",
        "Y_test = to_categorical(Y_class_test, 10)\r\n",
        "Y_train[0]"
      ],
      "execution_count": 6,
      "outputs": [
        {
          "output_type": "execute_result",
          "data": {
            "text/plain": [
              "array([0., 0., 0., 0., 0., 0., 0., 0., 0., 1.], dtype=float32)"
            ]
          },
          "metadata": {
            "tags": []
          },
          "execution_count": 6
        }
      ]
    },
    {
      "cell_type": "markdown",
      "metadata": {
        "id": "ZfQAIDjXPvd8"
      },
      "source": [
        "### 모델 정의, 설정, 학습"
      ]
    },
    {
      "cell_type": "code",
      "metadata": {
        "id": "yiilX6_cPRzT"
      },
      "source": [
        "from tensorflow.keras.models import Sequential\r\n",
        "from tensorflow.keras.layers import Dense, Flatten, Conv2D, MaxPooling2D\r\n",
        "import os\r\n",
        "MODEL_DIR = './model/'\r\n",
        "if not os.path.exists(MODEL_DIR):\r\n",
        "    os.mkdir(MODEL_DIR)"
      ],
      "execution_count": 7,
      "outputs": []
    },
    {
      "cell_type": "code",
      "metadata": {
        "colab": {
          "base_uri": "https://localhost:8080/"
        },
        "id": "6Lq1cPNmQEri",
        "outputId": "86caacda-fe52-45d1-fe6c-6588297cd0bd"
      },
      "source": [
        "model = Sequential([\r\n",
        "    Conv2D(32, kernel_size=(3,3), input_shape=(28,28,1), activation='relu'),\r\n",
        "    Conv2D(64, (3,3), activation='relu'),\r\n",
        "    MaxPooling2D(pool_size=2),\r\n",
        "    Flatten(),             \r\n",
        "    Dense(512, activation='relu'),\r\n",
        "    Dense(10, activation='softmax')\r\n",
        "])\r\n",
        "model.summary()"
      ],
      "execution_count": 8,
      "outputs": [
        {
          "output_type": "stream",
          "text": [
            "Model: \"sequential\"\n",
            "_________________________________________________________________\n",
            "Layer (type)                 Output Shape              Param #   \n",
            "=================================================================\n",
            "conv2d (Conv2D)              (None, 26, 26, 32)        320       \n",
            "_________________________________________________________________\n",
            "conv2d_1 (Conv2D)            (None, 24, 24, 64)        18496     \n",
            "_________________________________________________________________\n",
            "max_pooling2d (MaxPooling2D) (None, 12, 12, 64)        0         \n",
            "_________________________________________________________________\n",
            "flatten (Flatten)            (None, 9216)              0         \n",
            "_________________________________________________________________\n",
            "dense (Dense)                (None, 512)               4719104   \n",
            "_________________________________________________________________\n",
            "dense_1 (Dense)              (None, 10)                5130      \n",
            "=================================================================\n",
            "Total params: 4,743,050\n",
            "Trainable params: 4,743,050\n",
            "Non-trainable params: 0\n",
            "_________________________________________________________________\n"
          ],
          "name": "stdout"
        }
      ]
    },
    {
      "cell_type": "code",
      "metadata": {
        "id": "del41lJ5Rcre"
      },
      "source": [
        "# 모델 실행환경 설정\r\n",
        "model.compile(loss='categorical_crossentropy', optimizer='adam', metrics=['accuracy'])"
      ],
      "execution_count": 9,
      "outputs": []
    },
    {
      "cell_type": "code",
      "metadata": {
        "id": "1VrgaD_6Ue2f"
      },
      "source": [
        "# 모델 저장 조건 설정\r\n",
        "modelpath = MODEL_DIR + \"best{epoch:03d}-{val_loss:.4f}.hdf5\""
      ],
      "execution_count": 10,
      "outputs": []
    },
    {
      "cell_type": "code",
      "metadata": {
        "id": "gZhBEIUfUmW9"
      },
      "source": [
        "# 모델 최적화 설정\r\n",
        "from tensorflow.keras.callbacks import ModelCheckpoint, EarlyStopping\r\n",
        "checkpointer = ModelCheckpoint(filepath=modelpath, monitor='val_loss', \r\n",
        "                               verbose=1, save_best_only=True)\r\n",
        "early_stopping = EarlyStopping(monitor='val_loss', patience=10)"
      ],
      "execution_count": 11,
      "outputs": []
    },
    {
      "cell_type": "code",
      "metadata": {
        "colab": {
          "base_uri": "https://localhost:8080/"
        },
        "id": "GebN9T4BU4OE",
        "outputId": "78e7b09a-0401-417c-f664-f92115f196bf"
      },
      "source": [
        "# 모델 실행\r\n",
        "history = model.fit(X_train, Y_train, validation_split=0.2,\r\n",
        "                    epochs=30, batch_size=200, verbose=0,\r\n",
        "                    callbacks=[checkpointer, early_stopping])"
      ],
      "execution_count": 12,
      "outputs": [
        {
          "output_type": "stream",
          "text": [
            "\n",
            "Epoch 00001: val_loss improved from inf to 0.31563, saving model to ./model/best001-0.3156.hdf5\n",
            "\n",
            "Epoch 00002: val_loss improved from 0.31563 to 0.26699, saving model to ./model/best002-0.2670.hdf5\n",
            "\n",
            "Epoch 00003: val_loss improved from 0.26699 to 0.24311, saving model to ./model/best003-0.2431.hdf5\n",
            "\n",
            "Epoch 00004: val_loss improved from 0.24311 to 0.22511, saving model to ./model/best004-0.2251.hdf5\n",
            "\n",
            "Epoch 00005: val_loss improved from 0.22511 to 0.22495, saving model to ./model/best005-0.2250.hdf5\n",
            "\n",
            "Epoch 00006: val_loss did not improve from 0.22495\n",
            "\n",
            "Epoch 00007: val_loss did not improve from 0.22495\n",
            "\n",
            "Epoch 00008: val_loss did not improve from 0.22495\n",
            "\n",
            "Epoch 00009: val_loss did not improve from 0.22495\n",
            "\n",
            "Epoch 00010: val_loss did not improve from 0.22495\n",
            "\n",
            "Epoch 00011: val_loss did not improve from 0.22495\n",
            "\n",
            "Epoch 00012: val_loss did not improve from 0.22495\n",
            "\n",
            "Epoch 00013: val_loss did not improve from 0.22495\n",
            "\n",
            "Epoch 00014: val_loss did not improve from 0.22495\n",
            "\n",
            "Epoch 00015: val_loss did not improve from 0.22495\n"
          ],
          "name": "stdout"
        }
      ]
    },
    {
      "cell_type": "code",
      "metadata": {
        "id": "IDSfTdDBVjou"
      },
      "source": [
        "from tensorflow.keras.models import load_model\r\n",
        "best_model = load_model('./model/best005-0.2250.hdf5')"
      ],
      "execution_count": 13,
      "outputs": []
    },
    {
      "cell_type": "code",
      "metadata": {
        "colab": {
          "base_uri": "https://localhost:8080/"
        },
        "id": "UXIzmZeoWAhA",
        "outputId": "99d09263-6ee2-484e-d0ce-1cd86af29c6c"
      },
      "source": [
        "# 테스트 정확도 출력 \r\n",
        "acc = model.evaluate(X_test, Y_test, verbose=2)[1]\r\n",
        "print(f\"\\n Test Accuracy: {acc:.4f}\")"
      ],
      "execution_count": 14,
      "outputs": [
        {
          "output_type": "stream",
          "text": [
            "313/313 - 1s - loss: 0.4201 - accuracy: 0.9159\n",
            "\n",
            " Test Accuracy: 0.9159\n"
          ],
          "name": "stdout"
        }
      ]
    },
    {
      "cell_type": "markdown",
      "metadata": {
        "id": "kV5YHxN4Word"
      },
      "source": [
        "### 훈련 과정 시각화"
      ]
    },
    {
      "cell_type": "code",
      "metadata": {
        "id": "q1sFt_wmWrni"
      },
      "source": [
        "# 검증셋의 오차\r\n",
        "y_vloss = history.history['val_loss']\r\n",
        "\r\n",
        "# 학습셋의 오차\r\n",
        "y_loss = history.history['loss']"
      ],
      "execution_count": 15,
      "outputs": []
    },
    {
      "cell_type": "code",
      "metadata": {
        "colab": {
          "base_uri": "https://localhost:8080/",
          "height": 388
        },
        "id": "VtXhLrZjWzX0",
        "outputId": "64d3ba20-aa27-486f-d6e1-cd96c1e12d53"
      },
      "source": [
        "# 그래프로 표현\r\n",
        "import matplotlib.pyplot as plt\r\n",
        "%matplotlib inline\r\n",
        "x_len = np.arange(1, len(y_loss)+1)\r\n",
        "plt.figure(figsize=(8,6))\r\n",
        "plt.plot(x_len, y_vloss, marker='.', c=\"red\", label='Validationset_loss')\r\n",
        "plt.plot(x_len, y_loss, marker='.', c=\"blue\", label='Trainset_loss')\r\n",
        "\r\n",
        "# 그래프에 그리드를 주고 레이블을 표시\r\n",
        "plt.legend(loc='upper right')\r\n",
        "plt.grid()\r\n",
        "plt.xlabel('epoch')\r\n",
        "plt.ylabel('loss')\r\n",
        "plt.show()"
      ],
      "execution_count": 16,
      "outputs": [
        {
          "output_type": "display_data",
          "data": {
            "image/png": "[encoded data removed]",
            "text/plain": [
              "<Figure size 576x432 with 1 Axes>"
            ]
          },
          "metadata": {
            "tags": [],
            "needs_background": "light"
          }
        }
      ]
    },
    {
      "cell_type": "code",
      "metadata": {
        "id": "re5ixbQVo4qP"
      },
      "source": [
        ""
      ],
      "execution_count": null,
      "outputs": []
    }
  ]
}